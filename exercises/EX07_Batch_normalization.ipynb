{
  "cells": [
    {
      "cell_type": "markdown",
      "metadata": {
        "id": "bjfGzIxUc55U"
      },
      "source": [
        "*Суммарное время выполнения блокнота на GPU ~ 10 мин."
      ]
    },
    {
      "cell_type": "markdown",
      "metadata": {
        "jp-MarkdownHeadingCollapsed": true,
        "id": "shSDEL6kc55W"
      },
      "source": [
        "# Задание 1. Hooks для анализа активаций слоев\n",
        "\n",
        "Требуется разобраться с механизмом hooks в PyTorch\n",
        "\n"
      ]
    },
    {
      "cell_type": "markdown",
      "metadata": {
        "id": "YUceKO5wc55X"
      },
      "source": [
        "Загрузка датасета MNIST"
      ]
    },
    {
      "cell_type": "code",
      "execution_count": null,
      "metadata": {
        "id": "O9axr1Igc55X",
        "colab": {
          "base_uri": "https://localhost:8080/"
        },
        "outputId": "ce25298d-4d96-4d9e-8488-f068d41471f2"
      },
      "outputs": [
        {
          "output_type": "stream",
          "name": "stdout",
          "text": [
            "Downloading http://yann.lecun.com/exdb/mnist/train-images-idx3-ubyte.gz\n",
            "Downloading http://yann.lecun.com/exdb/mnist/train-images-idx3-ubyte.gz to MNIST/MNIST/raw/train-images-idx3-ubyte.gz\n"
          ]
        },
        {
          "output_type": "stream",
          "name": "stderr",
          "text": [
            "100%|██████████| 9912422/9912422 [00:00<00:00, 94402072.71it/s]\n"
          ]
        },
        {
          "output_type": "stream",
          "name": "stdout",
          "text": [
            "Extracting MNIST/MNIST/raw/train-images-idx3-ubyte.gz to MNIST/MNIST/raw\n",
            "\n",
            "Downloading http://yann.lecun.com/exdb/mnist/train-labels-idx1-ubyte.gz\n",
            "Downloading http://yann.lecun.com/exdb/mnist/train-labels-idx1-ubyte.gz to MNIST/MNIST/raw/train-labels-idx1-ubyte.gz\n"
          ]
        },
        {
          "output_type": "stream",
          "name": "stderr",
          "text": [
            "100%|██████████| 28881/28881 [00:00<00:00, 88162804.82it/s]\n"
          ]
        },
        {
          "output_type": "stream",
          "name": "stdout",
          "text": [
            "Extracting MNIST/MNIST/raw/train-labels-idx1-ubyte.gz to MNIST/MNIST/raw\n",
            "\n",
            "Downloading http://yann.lecun.com/exdb/mnist/t10k-images-idx3-ubyte.gz\n",
            "Downloading http://yann.lecun.com/exdb/mnist/t10k-images-idx3-ubyte.gz to MNIST/MNIST/raw/t10k-images-idx3-ubyte.gz\n"
          ]
        },
        {
          "output_type": "stream",
          "name": "stderr",
          "text": [
            "100%|██████████| 1648877/1648877 [00:00<00:00, 65527386.22it/s]"
          ]
        },
        {
          "output_type": "stream",
          "name": "stdout",
          "text": [
            "Extracting MNIST/MNIST/raw/t10k-images-idx3-ubyte.gz to MNIST/MNIST/raw\n",
            "\n",
            "Downloading http://yann.lecun.com/exdb/mnist/t10k-labels-idx1-ubyte.gz\n"
          ]
        },
        {
          "output_type": "stream",
          "name": "stderr",
          "text": [
            "\n"
          ]
        },
        {
          "output_type": "stream",
          "name": "stdout",
          "text": [
            "Downloading http://yann.lecun.com/exdb/mnist/t10k-labels-idx1-ubyte.gz to MNIST/MNIST/raw/t10k-labels-idx1-ubyte.gz\n"
          ]
        },
        {
          "output_type": "stream",
          "name": "stderr",
          "text": [
            "100%|██████████| 4542/4542 [00:00<00:00, 21772032.88it/s]\n"
          ]
        },
        {
          "output_type": "stream",
          "name": "stdout",
          "text": [
            "Extracting MNIST/MNIST/raw/t10k-labels-idx1-ubyte.gz to MNIST/MNIST/raw\n",
            "\n"
          ]
        }
      ],
      "source": [
        "from torchvision import transforms, datasets\n",
        "from torch.utils.data import DataLoader, random_split\n",
        "\n",
        "transform = transforms.Compose(\n",
        "    [transforms.ToTensor(), transforms.Normalize((0.1307), (0.3081))]\n",
        ")\n",
        "\n",
        "mnist = datasets.MNIST(\"MNIST\", train=True, download=True, transform=transform)\n",
        "mnist_test = datasets.MNIST(\"MNIST\", train=False, download=True, transform=transform)\n",
        "\n",
        "train_set, val_set, _ = random_split(mnist, [16000, 4000, 40000])\n",
        "\n",
        "train_loader = DataLoader(train_set, batch_size=256, shuffle=True, num_workers=2)\n",
        "val_loader = DataLoader(val_set, batch_size=256, shuffle=False, num_workers=2)\n",
        "test_loader = DataLoader(mnist_test, batch_size=256, shuffle=False, num_workers=2)"
      ]
    },
    {
      "cell_type": "markdown",
      "metadata": {
        "id": "U4E5tADqc55Y"
      },
      "source": [
        "Фиксируем seed для воспроизводимости результатов."
      ]
    },
    {
      "cell_type": "code",
      "execution_count": null,
      "metadata": {
        "id": "IzvoJeBlc55Z"
      },
      "outputs": [],
      "source": [
        "import random\n",
        "import torch\n",
        "import numpy as np\n",
        "\n",
        "\n",
        "def set_random_seed(seed):\n",
        "    torch.manual_seed(seed)\n",
        "    torch.cuda.manual_seed(seed)\n",
        "    np.random.seed(seed)\n",
        "    random.seed(seed)\n",
        "\n",
        "\n",
        "set_random_seed(42)"
      ]
    },
    {
      "cell_type": "markdown",
      "metadata": {
        "id": "7AzQLsXkc55Z"
      },
      "source": [
        "В качестве модели используйте LeNet."
      ]
    },
    {
      "cell_type": "code",
      "execution_count": null,
      "metadata": {
        "id": "_KxvIp6Vc55Z"
      },
      "outputs": [],
      "source": [
        "import torch\n",
        "import torch.nn as nn\n",
        "\n",
        "\n",
        "class LeNet(nn.Module):\n",
        "    def __init__(self):\n",
        "        super().__init__()\n",
        "        self.activation = nn.ReLU()\n",
        "        self.conv1 = nn.Conv2d(1, 6, 5)\n",
        "        self.pool = nn.MaxPool2d(2)\n",
        "        self.conv2 = nn.Conv2d(6, 16, 5)\n",
        "        self.fc1 = nn.Linear(16 * 4 * 4, 120)  # 5*5 from image dimension\n",
        "        self.fc2 = nn.Linear(120, 84)\n",
        "        self.fc3 = nn.Linear(84, 10)\n",
        "\n",
        "    def forward(self, x):  # input [batch, 1, 28, 28]\n",
        "        x = self.activation(self.pool(self.conv1(x)))\n",
        "        x = self.activation(self.pool(self.conv2(x)))\n",
        "        x = self.activation(self.fc1(x.flatten(start_dim=1)))\n",
        "        x = self.activation(self.fc2(x))\n",
        "        x = self.fc3(x)\n",
        "        return x"
      ]
    },
    {
      "cell_type": "code",
      "execution_count": null,
      "metadata": {
        "id": "0CDsVijXc55a",
        "colab": {
          "base_uri": "https://localhost:8080/"
        },
        "outputId": "460cd6ac-2234-4a16-d15d-e50a24ac95be"
      },
      "outputs": [
        {
          "output_type": "execute_result",
          "data": {
            "text/plain": [
              "LeNet(\n",
              "  (activation): ReLU()\n",
              "  (conv1): Conv2d(1, 6, kernel_size=(5, 5), stride=(1, 1))\n",
              "  (pool): MaxPool2d(kernel_size=2, stride=2, padding=0, dilation=1, ceil_mode=False)\n",
              "  (conv2): Conv2d(6, 16, kernel_size=(5, 5), stride=(1, 1))\n",
              "  (fc1): Linear(in_features=256, out_features=120, bias=True)\n",
              "  (fc2): Linear(in_features=120, out_features=84, bias=True)\n",
              "  (fc3): Linear(in_features=84, out_features=10, bias=True)\n",
              ")"
            ]
          },
          "metadata": {},
          "execution_count": 6
        }
      ],
      "source": [
        "model = LeNet()\n",
        "model"
      ]
    },
    {
      "cell_type": "markdown",
      "metadata": {
        "id": "02MXCAuVc55a"
      },
      "source": [
        "## Задание\n",
        "\n",
        "Добавьте код для отображения гистограмм активаций для всех слоев в одних осях.\n",
        "\n",
        "Можно использовать любой из инструментов: [Matplotlib](https://matplotlib.org/), [Tensorboard](https://pytorch.org/docs/stable/tensorboard.html), [W&B](https://wandb.ai/site)  \n",
        "\n",
        "Для визуализации подайте на вход модели шум, сэмплированный из нормального распределения.\n",
        "\n",
        "Совет: при генерации шума обратите внимание на то, что сверточные слои ожидают на вход четырехмерный тензор."
      ]
    },
    {
      "cell_type": "code",
      "execution_count": null,
      "metadata": {
        "id": "w2bl5oLCKqRe"
      },
      "outputs": [],
      "source": [
        "from collections import defaultdict\n",
        "import torch.optim as optim\n",
        "\n",
        "def get_forward_hook(history_dict, key):\n",
        "    def forward_hook(self, input_, output):\n",
        "        history_dict[key] = input_[0].cpu().detach().numpy().flatten()\n",
        "    return forward_hook\n",
        "\n",
        "def register_model_hooks(model):\n",
        "    hooks_data_history = defaultdict(list)\n",
        "\n",
        "    forward_hook = get_forward_hook(hooks_data_history, f\"ReLU_conv2\")\n",
        "    model.conv2.register_forward_hook(forward_hook)\n",
        "\n",
        "    #backward_hook = get_backward_hook(hooks_data_history, f\"ReLU_conv2\")\n",
        "    #model.conv2.register_backward_hook(backward_hook)\n",
        "\n",
        "\n",
        "    forward_hook = get_forward_hook(hooks_data_history, f\"ReLU_fc1\")\n",
        "    model.fc1.register_forward_hook(forward_hook)\n",
        "\n",
        "    forward_hook = get_forward_hook(hooks_data_history, f\"ReLU_fc2\")\n",
        "    model.fc2.register_forward_hook(forward_hook)\n",
        "\n",
        "    forward_hook = get_forward_hook(hooks_data_history, f\"ReLU_fc3\")\n",
        "    model.fc3.register_forward_hook(forward_hook)\n",
        "    return hooks_data_history\n"
      ]
    },
    {
      "cell_type": "code",
      "source": [
        "noise = torch.Tensor(np.ones((1, 1, 28, 28)))\n",
        "hooks_data_history = register_model_hooks(model)\n",
        "output = model(noise)\n",
        "hooks_data_history"
      ],
      "metadata": {
        "colab": {
          "base_uri": "https://localhost:8080/"
        },
        "id": "LZKZOCOFqGuV",
        "outputId": "7d9d1d74-3ba5-4f45-880a-f88721945d7d"
      },
      "execution_count": null,
      "outputs": [
        {
          "output_type": "execute_result",
          "data": {
            "text/plain": [
              "defaultdict(list,\n",
              "            {'ReLU_conv2': array([0.925952 , 0.925952 , 0.925952 , 0.925952 , 0.925952 , 0.925952 ,\n",
              "                    0.925952 , 0.925952 , 0.925952 , 0.925952 , 0.925952 , 0.925952 ,\n",
              "                    0.925952 , 0.925952 , 0.925952 , 0.925952 , 0.925952 , 0.925952 ,\n",
              "                    0.925952 , 0.925952 , 0.925952 , 0.925952 , 0.925952 , 0.925952 ,\n",
              "                    0.925952 , 0.925952 , 0.925952 , 0.925952 , 0.925952 , 0.925952 ,\n",
              "                    0.925952 , 0.925952 , 0.925952 , 0.925952 , 0.925952 , 0.925952 ,\n",
              "                    0.925952 , 0.925952 , 0.925952 , 0.925952 , 0.925952 , 0.925952 ,\n",
              "                    0.925952 , 0.925952 , 0.925952 , 0.925952 , 0.925952 , 0.925952 ,\n",
              "                    0.925952 , 0.925952 , 0.925952 , 0.925952 , 0.925952 , 0.925952 ,\n",
              "                    0.925952 , 0.925952 , 0.925952 , 0.925952 , 0.925952 , 0.925952 ,\n",
              "                    0.925952 , 0.925952 , 0.925952 , 0.925952 , 0.925952 , 0.925952 ,\n",
              "                    0.925952 , 0.925952 , 0.925952 , 0.925952 , 0.925952 , 0.925952 ,\n",
              "                    0.925952 , 0.925952 , 0.925952 , 0.925952 , 0.925952 , 0.925952 ,\n",
              "                    0.925952 , 0.925952 , 0.925952 , 0.925952 , 0.925952 , 0.925952 ,\n",
              "                    0.925952 , 0.925952 , 0.925952 , 0.925952 , 0.925952 , 0.925952 ,\n",
              "                    0.925952 , 0.925952 , 0.925952 , 0.925952 , 0.925952 , 0.925952 ,\n",
              "                    0.925952 , 0.925952 , 0.925952 , 0.925952 , 0.925952 , 0.925952 ,\n",
              "                    0.925952 , 0.925952 , 0.925952 , 0.925952 , 0.925952 , 0.925952 ,\n",
              "                    0.925952 , 0.925952 , 0.925952 , 0.925952 , 0.925952 , 0.925952 ,\n",
              "                    0.925952 , 0.925952 , 0.925952 , 0.925952 , 0.925952 , 0.925952 ,\n",
              "                    0.925952 , 0.925952 , 0.925952 , 0.925952 , 0.925952 , 0.925952 ,\n",
              "                    0.925952 , 0.925952 , 0.925952 , 0.925952 , 0.925952 , 0.925952 ,\n",
              "                    0.925952 , 0.925952 , 0.925952 , 0.925952 , 0.925952 , 0.925952 ,\n",
              "                    0.925952 , 0.925952 , 0.925952 , 0.925952 , 0.925952 , 0.925952 ,\n",
              "                    0.2963211, 0.2963211, 0.2963211, 0.2963211, 0.2963211, 0.2963211,\n",
              "                    0.2963211, 0.2963211, 0.2963211, 0.2963211, 0.2963211, 0.2963211,\n",
              "                    0.2963211, 0.2963211, 0.2963211, 0.2963211, 0.2963211, 0.2963211,\n",
              "                    0.2963211, 0.2963211, 0.2963211, 0.2963211, 0.2963211, 0.2963211,\n",
              "                    0.2963211, 0.2963211, 0.2963211, 0.2963211, 0.2963211, 0.2963211,\n",
              "                    0.2963211, 0.2963211, 0.2963211, 0.2963211, 0.2963211, 0.2963211,\n",
              "                    0.2963211, 0.2963211, 0.2963211, 0.2963211, 0.2963211, 0.2963211,\n",
              "                    0.2963211, 0.2963211, 0.2963211, 0.2963211, 0.2963211, 0.2963211,\n",
              "                    0.2963211, 0.2963211, 0.2963211, 0.2963211, 0.2963211, 0.2963211,\n",
              "                    0.2963211, 0.2963211, 0.2963211, 0.2963211, 0.2963211, 0.2963211,\n",
              "                    0.2963211, 0.2963211, 0.2963211, 0.2963211, 0.2963211, 0.2963211,\n",
              "                    0.2963211, 0.2963211, 0.2963211, 0.2963211, 0.2963211, 0.2963211,\n",
              "                    0.2963211, 0.2963211, 0.2963211, 0.2963211, 0.2963211, 0.2963211,\n",
              "                    0.2963211, 0.2963211, 0.2963211, 0.2963211, 0.2963211, 0.2963211,\n",
              "                    0.2963211, 0.2963211, 0.2963211, 0.2963211, 0.2963211, 0.2963211,\n",
              "                    0.2963211, 0.2963211, 0.2963211, 0.2963211, 0.2963211, 0.2963211,\n",
              "                    0.2963211, 0.2963211, 0.2963211, 0.2963211, 0.2963211, 0.2963211,\n",
              "                    0.2963211, 0.2963211, 0.2963211, 0.2963211, 0.2963211, 0.2963211,\n",
              "                    0.2963211, 0.2963211, 0.2963211, 0.2963211, 0.2963211, 0.2963211,\n",
              "                    0.2963211, 0.2963211, 0.2963211, 0.2963211, 0.2963211, 0.2963211,\n",
              "                    0.2963211, 0.2963211, 0.2963211, 0.2963211, 0.2963211, 0.2963211,\n",
              "                    0.2963211, 0.2963211, 0.2963211, 0.2963211, 0.2963211, 0.2963211,\n",
              "                    0.2963211, 0.2963211, 0.2963211, 0.2963211, 0.2963211, 0.2963211,\n",
              "                    0.2963211, 0.2963211, 0.2963211, 0.2963211, 0.2963211, 0.2963211,\n",
              "                    0.       , 0.       , 0.       , 0.       , 0.       , 0.       ,\n",
              "                    0.       , 0.       , 0.       , 0.       , 0.       , 0.       ,\n",
              "                    0.       , 0.       , 0.       , 0.       , 0.       , 0.       ,\n",
              "                    0.       , 0.       , 0.       , 0.       , 0.       , 0.       ,\n",
              "                    0.       , 0.       , 0.       , 0.       , 0.       , 0.       ,\n",
              "                    0.       , 0.       , 0.       , 0.       , 0.       , 0.       ,\n",
              "                    0.       , 0.       , 0.       , 0.       , 0.       , 0.       ,\n",
              "                    0.       , 0.       , 0.       , 0.       , 0.       , 0.       ,\n",
              "                    0.       , 0.       , 0.       , 0.       , 0.       , 0.       ,\n",
              "                    0.       , 0.       , 0.       , 0.       , 0.       , 0.       ,\n",
              "                    0.       , 0.       , 0.       , 0.       , 0.       , 0.       ,\n",
              "                    0.       , 0.       , 0.       , 0.       , 0.       , 0.       ,\n",
              "                    0.       , 0.       , 0.       , 0.       , 0.       , 0.       ,\n",
              "                    0.       , 0.       , 0.       , 0.       , 0.       , 0.       ,\n",
              "                    0.       , 0.       , 0.       , 0.       , 0.       , 0.       ,\n",
              "                    0.       , 0.       , 0.       , 0.       , 0.       , 0.       ,\n",
              "                    0.       , 0.       , 0.       , 0.       , 0.       , 0.       ,\n",
              "                    0.       , 0.       , 0.       , 0.       , 0.       , 0.       ,\n",
              "                    0.       , 0.       , 0.       , 0.       , 0.       , 0.       ,\n",
              "                    0.       , 0.       , 0.       , 0.       , 0.       , 0.       ,\n",
              "                    0.       , 0.       , 0.       , 0.       , 0.       , 0.       ,\n",
              "                    0.       , 0.       , 0.       , 0.       , 0.       , 0.       ,\n",
              "                    0.       , 0.       , 0.       , 0.       , 0.       , 0.       ,\n",
              "                    0.       , 0.       , 0.       , 0.       , 0.       , 0.       ,\n",
              "                    0.       , 0.       , 0.       , 0.       , 0.       , 0.       ,\n",
              "                    0.       , 0.       , 0.       , 0.       , 0.       , 0.       ,\n",
              "                    0.       , 0.       , 0.       , 0.       , 0.       , 0.       ,\n",
              "                    0.       , 0.       , 0.       , 0.       , 0.       , 0.       ,\n",
              "                    0.       , 0.       , 0.       , 0.       , 0.       , 0.       ,\n",
              "                    0.       , 0.       , 0.       , 0.       , 0.       , 0.       ,\n",
              "                    0.       , 0.       , 0.       , 0.       , 0.       , 0.       ,\n",
              "                    0.       , 0.       , 0.       , 0.       , 0.       , 0.       ,\n",
              "                    0.       , 0.       , 0.       , 0.       , 0.       , 0.       ,\n",
              "                    0.       , 0.       , 0.       , 0.       , 0.       , 0.       ,\n",
              "                    0.       , 0.       , 0.       , 0.       , 0.       , 0.       ,\n",
              "                    0.       , 0.       , 0.       , 0.       , 0.       , 0.       ,\n",
              "                    0.       , 0.       , 0.       , 0.       , 0.       , 0.       ,\n",
              "                    0.       , 0.       , 0.       , 0.       , 0.       , 0.       ,\n",
              "                    0.       , 0.       , 0.       , 0.       , 0.       , 0.       ,\n",
              "                    0.       , 0.       , 0.       , 0.       , 0.       , 0.       ,\n",
              "                    0.       , 0.       , 0.       , 0.       , 0.       , 0.       ,\n",
              "                    0.       , 0.       , 0.       , 0.       , 0.       , 0.       ,\n",
              "                    0.       , 0.       , 0.       , 0.       , 0.       , 0.       ,\n",
              "                    0.       , 0.       , 0.       , 0.       , 0.       , 0.       ,\n",
              "                    0.       , 0.       , 0.       , 0.       , 0.       , 0.       ,\n",
              "                    0.       , 0.       , 0.       , 0.       , 0.       , 0.       ,\n",
              "                    0.       , 0.       , 0.       , 0.       , 0.       , 0.       ,\n",
              "                    0.       , 0.       , 0.       , 0.       , 0.       , 0.       ,\n",
              "                    0.       , 0.       , 0.       , 0.       , 0.       , 0.       ,\n",
              "                    0.       , 0.       , 0.       , 0.       , 0.       , 0.       ,\n",
              "                    0.       , 0.       , 0.       , 0.       , 0.       , 0.       ,\n",
              "                    0.       , 0.       , 0.       , 0.       , 0.       , 0.       ,\n",
              "                    0.       , 0.       , 0.       , 0.       , 0.       , 0.       ,\n",
              "                    0.       , 0.       , 0.       , 0.       , 0.       , 0.       ,\n",
              "                    0.       , 0.       , 0.       , 0.       , 0.       , 0.       ,\n",
              "                    0.       , 0.       , 0.       , 0.       , 0.       , 0.       ,\n",
              "                    0.       , 0.       , 0.       , 0.       , 0.       , 0.       ,\n",
              "                    0.       , 0.       , 0.       , 0.       , 0.       , 0.       ,\n",
              "                    0.       , 0.       , 0.       , 0.       , 0.       , 0.       ,\n",
              "                    0.       , 0.       , 0.       , 0.       , 0.       , 0.       ,\n",
              "                    0.       , 0.       , 0.       , 0.       , 0.       , 0.       ,\n",
              "                    0.       , 0.       , 0.       , 0.       , 0.       , 0.       ,\n",
              "                    0.       , 0.       , 0.       , 0.       , 0.       , 0.       ,\n",
              "                    0.       , 0.       , 0.       , 0.       , 0.       , 0.       ,\n",
              "                    0.       , 0.       , 0.       , 0.       , 0.       , 0.       ,\n",
              "                    0.       , 0.       , 0.       , 0.       , 0.       , 0.       ,\n",
              "                    0.       , 0.       , 0.       , 0.       , 0.       , 0.       ,\n",
              "                    0.       , 0.       , 0.       , 0.       , 0.       , 0.       ,\n",
              "                    0.       , 0.       , 0.       , 0.       , 0.       , 0.       ,\n",
              "                    0.       , 0.       , 0.       , 0.       , 0.       , 0.       ,\n",
              "                    0.       , 0.       , 0.       , 0.       , 0.       , 0.       ,\n",
              "                    0.       , 0.       , 0.       , 0.       , 0.       , 0.       ,\n",
              "                    0.       , 0.       , 0.       , 0.       , 0.       , 0.       ,\n",
              "                    0.       , 0.       , 0.       , 0.       , 0.       , 0.       ,\n",
              "                    0.       , 0.       , 0.       , 0.       , 0.       , 0.       ,\n",
              "                    0.       , 0.       , 0.       , 0.       , 0.       , 0.       ,\n",
              "                    0.       , 0.       , 0.       , 0.       , 0.       , 0.       ,\n",
              "                    0.       , 0.       , 0.       , 0.       , 0.       , 0.       ,\n",
              "                    0.       , 0.       , 0.       , 0.       , 0.       , 0.       ,\n",
              "                    0.       , 0.       , 0.       , 0.       , 0.       , 0.       ,\n",
              "                    0.       , 0.       , 0.       , 0.       , 0.       , 0.       ,\n",
              "                    0.       , 0.       , 0.       , 0.       , 0.       , 0.       ,\n",
              "                    0.       , 0.       , 0.       , 0.       , 0.       , 0.       ,\n",
              "                    0.       , 0.       , 0.       , 0.       , 0.       , 0.       ,\n",
              "                    0.       , 0.       , 0.       , 0.       , 0.       , 0.       ,\n",
              "                    0.       , 0.       , 0.       , 0.       , 0.       , 0.       ,\n",
              "                    0.       , 0.       , 0.       , 0.       , 0.       , 0.       ,\n",
              "                    0.       , 0.       , 0.       , 0.       , 0.       , 0.       ,\n",
              "                    0.       , 0.       , 0.       , 0.       , 0.       , 0.       ,\n",
              "                    0.       , 0.       , 0.       , 0.       , 0.       , 0.       ,\n",
              "                    0.       , 0.       , 0.       , 0.       , 0.       , 0.       ,\n",
              "                    0.       , 0.       , 0.       , 0.       , 0.       , 0.       ,\n",
              "                    0.       , 0.       , 0.       , 0.       , 0.       , 0.       ,\n",
              "                    0.       , 0.       , 0.       , 0.       , 0.       , 0.       ,\n",
              "                    0.       , 0.       , 0.       , 0.       , 0.       , 0.       ,\n",
              "                    0.       , 0.       , 0.       , 0.       , 0.       , 0.       ],\n",
              "                   dtype=float32),\n",
              "             'ReLU_fc1': array([0.03491362, 0.03491362, 0.03491362, 0.03491362, 0.03491362,\n",
              "                    0.03491362, 0.03491362, 0.03491362, 0.03491362, 0.03491362,\n",
              "                    0.03491362, 0.03491362, 0.03491362, 0.03491362, 0.03491362,\n",
              "                    0.03491362, 0.        , 0.        , 0.        , 0.        ,\n",
              "                    0.        , 0.        , 0.        , 0.        , 0.        ,\n",
              "                    0.        , 0.        , 0.        , 0.        , 0.        ,\n",
              "                    0.        , 0.        , 0.22984724, 0.22984724, 0.22984724,\n",
              "                    0.22984724, 0.22984724, 0.22984724, 0.22984724, 0.22984724,\n",
              "                    0.22984724, 0.22984724, 0.22984724, 0.22984724, 0.22984724,\n",
              "                    0.22984724, 0.22984724, 0.22984724, 0.        , 0.        ,\n",
              "                    0.        , 0.        , 0.        , 0.        , 0.        ,\n",
              "                    0.        , 0.        , 0.        , 0.        , 0.        ,\n",
              "                    0.        , 0.        , 0.        , 0.        , 0.        ,\n",
              "                    0.        , 0.        , 0.        , 0.        , 0.        ,\n",
              "                    0.        , 0.        , 0.        , 0.        , 0.        ,\n",
              "                    0.        , 0.        , 0.        , 0.        , 0.        ,\n",
              "                    0.        , 0.        , 0.        , 0.        , 0.        ,\n",
              "                    0.        , 0.        , 0.        , 0.        , 0.        ,\n",
              "                    0.        , 0.        , 0.        , 0.        , 0.        ,\n",
              "                    0.        , 0.18564238, 0.18564238, 0.18564238, 0.18564238,\n",
              "                    0.18564238, 0.18564238, 0.18564238, 0.18564238, 0.18564238,\n",
              "                    0.18564238, 0.18564238, 0.18564238, 0.18564238, 0.18564238,\n",
              "                    0.18564238, 0.18564238, 0.4192891 , 0.4192891 , 0.4192891 ,\n",
              "                    0.4192891 , 0.4192891 , 0.4192891 , 0.4192891 , 0.4192891 ,\n",
              "                    0.4192891 , 0.4192891 , 0.4192891 , 0.4192891 , 0.4192891 ,\n",
              "                    0.4192891 , 0.4192891 , 0.4192891 , 0.0114222 , 0.0114222 ,\n",
              "                    0.0114222 , 0.0114222 , 0.0114222 , 0.0114222 , 0.0114222 ,\n",
              "                    0.0114222 , 0.0114222 , 0.0114222 , 0.0114222 , 0.0114222 ,\n",
              "                    0.0114222 , 0.0114222 , 0.0114222 , 0.0114222 , 0.69402725,\n",
              "                    0.69402725, 0.69402725, 0.69402725, 0.69402725, 0.69402725,\n",
              "                    0.69402725, 0.69402725, 0.69402725, 0.69402725, 0.69402725,\n",
              "                    0.69402725, 0.69402725, 0.69402725, 0.69402725, 0.69402725,\n",
              "                    0.05322027, 0.05322027, 0.05322027, 0.05322027, 0.05322027,\n",
              "                    0.05322027, 0.05322027, 0.05322027, 0.05322027, 0.05322027,\n",
              "                    0.05322027, 0.05322027, 0.05322027, 0.05322027, 0.05322027,\n",
              "                    0.05322027, 0.23075525, 0.23075525, 0.23075525, 0.23075525,\n",
              "                    0.23075525, 0.23075525, 0.23075525, 0.23075525, 0.23075525,\n",
              "                    0.23075525, 0.23075525, 0.23075525, 0.23075525, 0.23075525,\n",
              "                    0.23075525, 0.23075525, 0.        , 0.        , 0.        ,\n",
              "                    0.        , 0.        , 0.        , 0.        , 0.        ,\n",
              "                    0.        , 0.        , 0.        , 0.        , 0.        ,\n",
              "                    0.        , 0.        , 0.        , 0.7230457 , 0.7230457 ,\n",
              "                    0.7230457 , 0.7230457 , 0.7230457 , 0.7230457 , 0.7230457 ,\n",
              "                    0.7230457 , 0.7230457 , 0.7230457 , 0.7230457 , 0.7230457 ,\n",
              "                    0.7230457 , 0.7230457 , 0.7230457 , 0.7230457 , 0.        ,\n",
              "                    0.        , 0.        , 0.        , 0.        , 0.        ,\n",
              "                    0.        , 0.        , 0.        , 0.        , 0.        ,\n",
              "                    0.        , 0.        , 0.        , 0.        , 0.        ,\n",
              "                    0.0166563 , 0.0166563 , 0.0166563 , 0.0166563 , 0.0166563 ,\n",
              "                    0.0166563 , 0.0166563 , 0.0166563 , 0.0166563 , 0.0166563 ,\n",
              "                    0.0166563 , 0.0166563 , 0.0166563 , 0.0166563 , 0.0166563 ,\n",
              "                    0.0166563 ], dtype=float32),\n",
              "             'ReLU_fc2': array([0.10565227, 0.11259951, 0.03531213, 0.        , 0.00325279,\n",
              "                    0.2513884 , 0.10657831, 0.        , 0.02745818, 0.1750769 ,\n",
              "                    0.22966145, 0.4269172 , 0.        , 0.        , 0.15618673,\n",
              "                    0.24233806, 0.        , 0.        , 0.10726543, 0.        ,\n",
              "                    0.        , 0.        , 0.06753841, 0.        , 0.        ,\n",
              "                    0.00057114, 0.        , 0.16346899, 0.        , 0.        ,\n",
              "                    0.        , 0.        , 0.05498947, 0.        , 0.17070556,\n",
              "                    0.09065659, 0.        , 0.        , 0.        , 0.        ,\n",
              "                    0.11825807, 0.        , 0.04223027, 0.28668466, 0.41112465,\n",
              "                    0.        , 0.        , 0.        , 0.08109505, 0.09303181,\n",
              "                    0.05611853, 0.        , 0.37617436, 0.        , 0.        ,\n",
              "                    0.        , 0.08593374, 0.        , 0.        , 0.        ,\n",
              "                    0.1387217 , 0.        , 0.        , 0.        , 0.07208242,\n",
              "                    0.02551757, 0.        , 0.        , 0.        , 0.        ,\n",
              "                    0.        , 0.11314604, 0.        , 0.06123297, 0.00723205,\n",
              "                    0.11767256, 0.21137121, 0.16750321, 0.        , 0.07097981,\n",
              "                    0.        , 0.0109065 , 0.06050968, 0.19393711, 0.        ,\n",
              "                    0.        , 0.19700736, 0.        , 0.        , 0.20985565,\n",
              "                    0.07403452, 0.        , 0.        , 0.0188672 , 0.        ,\n",
              "                    0.        , 0.07952977, 0.        , 0.17222926, 0.        ,\n",
              "                    0.        , 0.01245587, 0.01761246, 0.14643846, 0.        ,\n",
              "                    0.04429091, 0.20007798, 0.        , 0.171794  , 0.21882316,\n",
              "                    0.        , 0.        , 0.        , 0.        , 0.00344037,\n",
              "                    0.02700335, 0.        , 0.16319585, 0.01902494, 0.        ],\n",
              "                   dtype=float32),\n",
              "             'ReLU_fc3': array([0.03111099, 0.11403976, 0.07003796, 0.08877564, 0.        ,\n",
              "                    0.        , 0.07226565, 0.        , 0.04528962, 0.14943165,\n",
              "                    0.        , 0.        , 0.        , 0.07954652, 0.        ,\n",
              "                    0.        , 0.        , 0.        , 0.        , 0.03705735,\n",
              "                    0.12289016, 0.04451814, 0.18347268, 0.        , 0.        ,\n",
              "                    0.        , 0.        , 0.        , 0.02930595, 0.        ,\n",
              "                    0.        , 0.        , 0.08805353, 0.        , 0.11482176,\n",
              "                    0.02245832, 0.10203185, 0.        , 0.10487717, 0.0027615 ,\n",
              "                    0.        , 0.03546127, 0.        , 0.        , 0.        ,\n",
              "                    0.01075862, 0.        , 0.        , 0.        , 0.03097316,\n",
              "                    0.        , 0.        , 0.        , 0.        , 0.16796261,\n",
              "                    0.        , 0.        , 0.        , 0.        , 0.03826208,\n",
              "                    0.16339913, 0.04269622, 0.0161165 , 0.0997675 , 0.04730104,\n",
              "                    0.05181461, 0.13363153, 0.        , 0.05835741, 0.        ,\n",
              "                    0.        , 0.02025583, 0.02776899, 0.        , 0.        ,\n",
              "                    0.        , 0.10688429, 0.00327839, 0.        , 0.        ,\n",
              "                    0.01730691, 0.        , 0.10323551, 0.06936114], dtype=float32)})"
            ]
          },
          "metadata": {},
          "execution_count": 8
        }
      ]
    },
    {
      "cell_type": "code",
      "source": [
        "print(*model.children())"
      ],
      "metadata": {
        "colab": {
          "base_uri": "https://localhost:8080/"
        },
        "id": "gurajB56mHtF",
        "outputId": "eafd8946-dd53-47e3-921f-0c7b7ada33b1"
      },
      "execution_count": null,
      "outputs": [
        {
          "output_type": "stream",
          "name": "stdout",
          "text": [
            "ReLU() Conv2d(1, 6, kernel_size=(5, 5), stride=(1, 1)) MaxPool2d(kernel_size=2, stride=2, padding=0, dilation=1, ceil_mode=False) Conv2d(6, 16, kernel_size=(5, 5), stride=(1, 1)) Linear(in_features=256, out_features=120, bias=True) Linear(in_features=120, out_features=84, bias=True) Linear(in_features=84, out_features=10, bias=True)\n"
          ]
        }
      ]
    },
    {
      "cell_type": "code",
      "execution_count": null,
      "metadata": {
        "id": "6ot5HT2OLkP-"
      },
      "outputs": [],
      "source": [
        "import matplotlib.pyplot as plt\n",
        "\n",
        "def plot_hooks_data(hooks_data_history):\n",
        "    keys = hooks_data_history.keys()\n",
        "    n_layers = len(keys) // 2\n",
        "\n",
        "    activation_names = [\"ReLU_conv2\", \"ReLU_fc1\", \"ReLU_fc2\", \"ReLU_fc3\"]\n",
        "    activations_on_layers = [\n",
        "        hooks_data_history[activation] for activation in activation_names\n",
        "    ]\n",
        "\n",
        "\n",
        "    for plot_name, values, labels in zip(\n",
        "        [\"activations\"],\n",
        "        [activations_on_layers],\n",
        "        [activation_names],\n",
        "    ):\n",
        "        plt.hist(activations_on_layers)\n",
        "        plt.legend(activation_names)\n",
        "        plt.show()"
      ]
    },
    {
      "cell_type": "code",
      "source": [
        "plot_hooks_data(hooks_data_history)"
      ],
      "metadata": {
        "colab": {
          "base_uri": "https://localhost:8080/",
          "height": 432
        },
        "id": "4fqUtzm8jL1H",
        "outputId": "989809ce-c357-4c26-b83a-d0b764b14dec"
      },
      "execution_count": null,
      "outputs": [
        {
          "output_type": "display_data",
          "data": {
            "text/plain": [
              "<Figure size 640x480 with 1 Axes>"
            ],
            "image/png": "[encoded data removed]"
          },
          "metadata": {}
        }
      ]
    },
    {
      "cell_type": "markdown",
      "metadata": {
        "id": "LJq51T0cc55a"
      },
      "source": [
        "## Формат результата\n",
        "\n",
        "* Гистограмма модулей активаций для каждого слоя\n",
        "\n",
        "Пример графика:\n",
        "\n",
        "\n",
        "\n"
      ]
    },
    {
      "cell_type": "markdown",
      "metadata": {
        "id": "XN5ZwjQBc55a"
      },
      "source": [
        "<img src =\"https://edunet.kea.su/repo/EduNet-web_dependencies/Exercises/EX07/result_1_task_1_ex07_v1_fix.png\" width=\"500\">"
      ]
    },
    {
      "cell_type": "markdown",
      "metadata": {
        "jp-MarkdownHeadingCollapsed": true,
        "id": "3HMDiEXoc55a"
      },
      "source": [
        "# Задание 2. Переобучение нейронной сети"
      ]
    },
    {
      "cell_type": "markdown",
      "metadata": {
        "id": "0XN_LoA8c55a"
      },
      "source": [
        "Иногда задачу, которая выглядит как задача классификации, лучше решать как задачу регрессии. Это происходит в случае, когда метки классов имеют естественный порядок: например, при диагностике рака намного адекватнее получить результат между 2-й и 3-й стадией, чем между отсутствием и 4-й.\n",
        "\n",
        "До этого мы всегда боролись с переобучением. В этом задании нужно наоборот, полностью переобучить сеть. Задача регрессии, 16 объектов с 20 признаками (сгенерированы случайно).\n",
        "\n",
        "Не допускается менять тип задачи с регрессии на классификацию (менять criterion или количество выходов), а также использовать условный оператор или округлять значения. Можно использовать пред и пост обработку данных (без переходов к булевой алгебре и изменений типов данных), менять  архитектуру сети, увеличивать количество эпох, менять алгоритм оптимизации."
      ]
    },
    {
      "cell_type": "code",
      "source": [
        "# нужно переобучить (нормализация)"
      ],
      "metadata": {
        "id": "28DMWiEfdthK"
      },
      "execution_count": null,
      "outputs": []
    },
    {
      "cell_type": "code",
      "execution_count": null,
      "metadata": {
        "id": "vPugEOs5c55b"
      },
      "outputs": [],
      "source": [
        "import random\n",
        "import torch\n",
        "from torch.utils.data import DataLoader, Dataset\n",
        "import numpy as np\n",
        "\n",
        "np.random.seed(42)\n",
        "data = np.random.randint(0, 504, size=(16, 20))\n",
        "label = np.random.choice([0, 10, 20, 30, 40], 16).reshape(16, 1)\n",
        "\n",
        "\n",
        "class CustomImageDataset(Dataset):\n",
        "    def __init__(self, data, label):\n",
        "        self.data = data\n",
        "        self.label = label\n",
        "\n",
        "    def __len__(self):\n",
        "        return len(self.label)\n",
        "\n",
        "    def __getitem__(self, idx):\n",
        "        label_idx = torch.tensor(self.label[idx])\n",
        "        data_idx = torch.tensor(self.data[idx])\n",
        "\n",
        "        return data_idx.to(torch.float32), label_idx.to(torch.float32)\n",
        "\n",
        "\n",
        "train_data = CustomImageDataset(data, label)\n",
        "train_dataloader = DataLoader(train_data, batch_size=16, shuffle=True)"
      ]
    },
    {
      "cell_type": "markdown",
      "metadata": {
        "id": "JMg6ww5pc55b"
      },
      "source": [
        "Архитектура сети"
      ]
    },
    {
      "cell_type": "code",
      "execution_count": null,
      "metadata": {
        "id": "hJvhpyQqc55b"
      },
      "outputs": [],
      "source": [
        "import torch.nn as nn\n",
        "\n",
        "\n",
        "class Net(nn.Module):\n",
        "    def __init__(self):\n",
        "        super().__init__()\n",
        "\n",
        "        self.fc1 = nn.Linear(20, 128)\n",
        "        self.fc2 = nn.Linear(128, 50)\n",
        "        self.fc3 = nn.Linear(50, 1)  # don't change out size\n",
        "\n",
        "        self.activation = nn.Tanh()\n",
        "\n",
        "    def forward(self, x):\n",
        "        x = self.fc1(x)\n",
        "        x = self.activation(x)\n",
        "        x = self.fc2(x)\n",
        "        x = self.activation(x)\n",
        "        x = self.fc3(x)\n",
        "        return x"
      ]
    },
    {
      "cell_type": "markdown",
      "metadata": {
        "id": "zMDHFXfvc55b"
      },
      "source": [
        "Модель, функция ошибок, оптимизатор"
      ]
    },
    {
      "cell_type": "code",
      "execution_count": null,
      "metadata": {
        "id": "weOYMt9ic55b"
      },
      "outputs": [],
      "source": [
        "model = Net()\n",
        "criterion = nn.MSELoss()  # don't change\n",
        "optimizer = torch.optim.SGD(model.parameters(), lr=0.01)"
      ]
    },
    {
      "cell_type": "markdown",
      "metadata": {
        "id": "wcetPZJIc55b"
      },
      "source": [
        "Код для обучения"
      ]
    },
    {
      "cell_type": "code",
      "execution_count": null,
      "metadata": {
        "id": "RPdYhkfPc55b",
        "colab": {
          "base_uri": "https://localhost:8080/",
          "height": 327,
          "referenced_widgets": [
            "e8673fc419fd42a597d596a7de24560a",
            "22fc727e8fa24f2ab84d46d81c4ea478",
            "922bf3f5e9954b04b25594f3284fdd02",
            "ba56e921f38049d3a094ecf8fcc72fdc",
            "dd0df60f429d4ac99d178927583e79ef",
            "3505613604304aa1b0be5d8cc0f2e4fa",
            "eacd540d5b1a4a7d9170ccb6c7e4e1f5",
            "fa20eb5ca0084a2da4efc7cac3eaa3cc",
            "6fd9e929c9d14f8782c3af8ef74c44fc",
            "c23078de13b146939ba0ea58549d2e0f",
            "43ea051151174f2084f6417b2a845817"
          ]
        },
        "outputId": "1f6d7e4f-315a-4e31-91d5-426ceb9e8288"
      },
      "outputs": [
        {
          "output_type": "display_data",
          "data": {
            "text/plain": [
              "  0%|          | 0/10000 [00:00<?, ?it/s]"
            ],
            "application/vnd.jupyter.widget-view+json": {
              "version_major": 2,
              "version_minor": 0,
              "model_id": "e8673fc419fd42a597d596a7de24560a"
            }
          },
          "metadata": {}
        },
        {
          "output_type": "stream",
          "name": "stdout",
          "text": [
            "Prediction: 20.000070571899414 \t True: 20.0\n",
            "Prediction: 20.00004005432129 \t True: 20.0\n",
            "Prediction: 20.000064849853516 \t True: 20.0\n",
            "Prediction: 30.00006866455078 \t True: 30.0\n",
            "Prediction: 30.000043869018555 \t True: 30.0\n",
            "Prediction: 30.000064849853516 \t True: 30.0\n",
            "Prediction: 20.00006103515625 \t True: 20.0\n",
            "Prediction: 10.000038146972656 \t True: 10.0\n",
            "Prediction: 2.9981136322021484e-05 \t True: 0.0\n",
            "Prediction: 20.00005340576172 \t True: 20.0\n",
            "Prediction: 20.000045776367188 \t True: 20.0\n",
            "Prediction: 30.00006103515625 \t True: 30.0\n",
            "Prediction: 3.5822391510009766e-05 \t True: 0.0\n",
            "Prediction: 30.000064849853516 \t True: 30.0\n",
            "Prediction: 40.000022888183594 \t True: 40.0\n",
            "Prediction: 30.000057220458984 \t True: 30.0\n"
          ]
        }
      ],
      "source": [
        "from tqdm.notebook import trange\n",
        "\n",
        "num_epochs = 10000\n",
        "loss_hist = []\n",
        "epochs = trange(num_epochs)\n",
        "for epoch in epochs:\n",
        "    hist_loss = 0\n",
        "    for i, batch in enumerate(train_dataloader, 0):\n",
        "        data, labels = batch\n",
        "        optimizer.zero_grad()\n",
        "        pred = model(data)\n",
        "        loss = criterion(pred, labels)\n",
        "        loss.backward()\n",
        "        optimizer.step()\n",
        "        hist_loss += loss.item()\n",
        "\n",
        "    loss_hist.append(hist_loss / len(train_dataloader))\n",
        "    epochs.set_description(f\"Epoch={epoch}  loss={loss_hist[epoch]:.4}\")\n",
        "\n",
        "pred = model(data)\n",
        "for i in range(16):\n",
        "    print(f\"Prediction: {pred[i].item()} \\t True: {labels[i].item()}\")"
      ]
    },
    {
      "cell_type": "markdown",
      "source": [
        "**Вывод: увеличение количества эпох на несколько порядков ведет к переобучению модели**"
      ],
      "metadata": {
        "id": "V5GuqhTI69Y0"
      }
    },
    {
      "cell_type": "markdown",
      "metadata": {
        "id": "lXO7phILc55b"
      },
      "source": [
        "## Формат результата\n"
      ]
    },
    {
      "cell_type": "markdown",
      "metadata": {
        "id": "NwXcxZBNc55c"
      },
      "source": [
        "Переобученная сеть, которая дает точный результат на каждом объекте.\n",
        "\n",
        "Например:\n",
        "\n",
        "```\n",
        "Prediction: 10.0 \t True: 10.0\n",
        "Prediction: 20.0 \t True: 20.0\n",
        "Prediction: 30.0 \t True: 30.0\n",
        "Prediction: 30.0 \t True: 30.0\n",
        "Prediction: 20.0 \t True: 20.0\n",
        "Prediction: 0.0 \t  True: 0.0\n",
        "\n",
        "```\n",
        "\n"
      ]
    },
    {
      "cell_type": "markdown",
      "metadata": {
        "jp-MarkdownHeadingCollapsed": true,
        "id": "7JnYhyqfc55c"
      },
      "source": [
        "# Задание 3. Сравнение оптимизаторов"
      ]
    },
    {
      "cell_type": "markdown",
      "metadata": {
        "id": "jig-fMihc55c"
      },
      "source": [
        "В этом задании вам нужно будет обучить модель из прошлого задания двумя способами:\n",
        "- с оптимизатором с моментом,\n",
        "- с адаптивным оптимизатором.\n",
        "\n",
        "Постройте графики Loss и accuracy. Сравните качество и скорость обучения.\n",
        "\n",
        "Посчитайте итоговое значение accuracy на mnist_test."
      ]
    },
    {
      "cell_type": "code",
      "source": [
        "import torch.optim as optim\n",
        "import torch"
      ],
      "metadata": {
        "id": "EyOt5KCAyGYR"
      },
      "execution_count": null,
      "outputs": []
    },
    {
      "cell_type": "code",
      "execution_count": null,
      "metadata": {
        "id": "M_mtHb6cil30"
      },
      "outputs": [],
      "source": [
        "# compute on cpu or gpu\n",
        "device = torch.device(\"cuda\" if torch.cuda.is_available() else \"cpu\")\n",
        "\n",
        "import torch\n",
        "\n",
        "def get_correct_count(pred, labels):\n",
        "  _, predicted = torch.max(pred.data, 1)\n",
        "  return (predicted.cpu() == labels.cpu()).sum().item()\n",
        "\n",
        "@torch.inference_mode()\n",
        "def calculate_accuracy(model, data_loader, criterion, device):\n",
        "    correct, total = 0, 0\n",
        "    loss = 0\n",
        "    for batch in data_loader:\n",
        "        imgs, labels = batch\n",
        "        pred = model(imgs.to(device))\n",
        "        loss += criterion(pred, labels.to(device))\n",
        "        correct += get_correct_count(pred, labels.to(device))\n",
        "        total += labels.size(0)\n",
        "\n",
        "    return correct / total , loss.item() / len(data_loader)\n",
        "\n",
        "def train_epoch(model, optimizer, criterion, train_loader):\n",
        "    loss_history = []\n",
        "    for batch in train_loader:\n",
        "        optimizer.zero_grad()\n",
        "        x_train, y_train = batch  # parse data\n",
        "        x_train, y_train = x_train.to(device), y_train.to(device)  # compute on gpu\n",
        "        y_pred = model(x_train)  # get predictions\n",
        "        loss = criterion(y_pred, y_train)  # compute loss\n",
        "        loss_history.append(loss.cpu().detach().item())  # write loss to log\n",
        "        loss.backward()\n",
        "        optimizer.step()\n",
        "    return loss_history"
      ]
    },
    {
      "cell_type": "code",
      "execution_count": null,
      "metadata": {
        "id": "tEYwyIiFil31"
      },
      "outputs": [],
      "source": [
        "def validate(model, criterion, val_loader):\n",
        "    cumloss = 0\n",
        "    loss_history = []\n",
        "    with torch.no_grad():\n",
        "        for batch in val_loader:\n",
        "            x_train, y_train = batch  # parse data\n",
        "            x_train, y_train = x_train.to(device), y_train.to(device)  # compute on gpu\n",
        "            y_pred = model(x_train)  # get predictions\n",
        "            loss = criterion(y_pred, y_train)  # compute loss\n",
        "            loss_history.append(loss.cpu().detach().item())  # write loss to log\n",
        "            cumloss += loss\n",
        "    return cumloss / len(val_loader), loss_history  # mean loss and history"
      ]
    },
    {
      "cell_type": "code",
      "execution_count": null,
      "metadata": {
        "id": "YxXETecDil31"
      },
      "outputs": [],
      "source": [
        "from tqdm.notebook import tqdm\n",
        "\n",
        "\n",
        "def train_model(model, optimizer, model_name=None, num_epochs=5):\n",
        "    criterion = nn.CrossEntropyLoss().to(device)\n",
        "\n",
        "    train_history = {}\n",
        "    train_history[\"model_name\"] = model_name\n",
        "    train_history[\"epoсhs\"] = num_epochs\n",
        "    train_history[\"loss_on_train\"] = []\n",
        "    train_history[\"loss_on_test\"] = []\n",
        "    train_history[\"accuracy\"] = []\n",
        "\n",
        "    for epoch in tqdm(range(num_epochs)):\n",
        "        loss_on_train = train_epoch(model, optimizer, criterion, train_loader)\n",
        "        _, loss_on_test = validate(model, criterion, test_loader)\n",
        "        train_history[\"loss_on_train\"].extend(loss_on_train)\n",
        "        train_history[\"loss_on_test\"].extend(loss_on_test)\n",
        "        accuracy, loss_val = calculate_accuracy(model, val_loader, criterion, device)\n",
        "        train_history[\"accuracy\"].append(accuracy)\n",
        "    return train_history"
      ]
    },
    {
      "cell_type": "markdown",
      "metadata": {
        "id": "SERA5QVbc55c"
      },
      "source": [
        "## Оптимизатор с моментом"
      ]
    },
    {
      "cell_type": "code",
      "execution_count": null,
      "metadata": {
        "id": "8MgfNSTGc55c",
        "colab": {
          "base_uri": "https://localhost:8080/",
          "height": 49,
          "referenced_widgets": [
            "5e66c465f546488fb13163a555da1ef5",
            "6b2f71c4746a403687bc488e841b5fd4",
            "ba572d647dd6454abf4805bed98456d2",
            "75ed92c9e23443b4acf17665dd53a7b1",
            "9b05dfb431a04a2d81400a5553cf06be",
            "126f45cdb40c415aac02f05c41bdf366",
            "98b052bf3cbe4e25ad3da7cb56e15a6b",
            "782ae605812e4f7c82852e817c4b3c32",
            "7345a80ed4464cea9dde2606692aa842",
            "e9954e4662db4813b1342989a83fe695",
            "f2e348d742c84d1d8881d3a22a652471"
          ]
        },
        "outputId": "26b3a693-b456-4cf7-8566-54e42307119b"
      },
      "outputs": [
        {
          "output_type": "display_data",
          "data": {
            "text/plain": [
              "  0%|          | 0/5 [00:00<?, ?it/s]"
            ],
            "application/vnd.jupyter.widget-view+json": {
              "version_major": 2,
              "version_minor": 0,
              "model_id": "5e66c465f546488fb13163a555da1ef5"
            }
          },
          "metadata": {}
        }
      ],
      "source": [
        "# Your code here\n",
        "model1 = LeNet().to(device)\n",
        "optimizer1 = optim.SGD(model1.parameters(), momentum=0.9, lr=0.001)\n",
        "model_name = \"SGD_momentum\"\n",
        "SGD_model = train_model(model1, optimizer1, model_name=\"SGD_momentum\")"
      ]
    },
    {
      "cell_type": "code",
      "source": [
        "type(SGD_model)"
      ],
      "metadata": {
        "colab": {
          "base_uri": "https://localhost:8080/"
        },
        "id": "30S9GOAu4jZA",
        "outputId": "aac9c4b2-72ec-42a9-c7d2-ad27ec6dd0a5"
      },
      "execution_count": null,
      "outputs": [
        {
          "output_type": "execute_result",
          "data": {
            "text/plain": [
              "dict"
            ]
          },
          "metadata": {},
          "execution_count": 22
        }
      ]
    },
    {
      "cell_type": "markdown",
      "metadata": {
        "id": "9XRQ87T4c55c"
      },
      "source": [
        "## Адаптивный оптимизатор"
      ]
    },
    {
      "cell_type": "code",
      "source": [
        "model2 = LeNet().to(device)\n",
        "optimizer2 = optim.Adam(model2.parameters(), lr=1e-2)\n",
        "model_name = \"Adam\"\n",
        "Adam_model = train_model(model2, optimizer2, model_name=\"Adam\")"
      ],
      "metadata": {
        "colab": {
          "base_uri": "https://localhost:8080/",
          "height": 49,
          "referenced_widgets": [
            "642f93d11db14424adaae7328bea4002",
            "2567c6421fa04b9491ae21fd1588222e",
            "d203ee95afb2493bad986c3a05b26c17",
            "d4892e933e8544e0b4069ec90e9b29a3",
            "f929974335e34e50b1a946c339ad29d1",
            "f442a3944faf4c0082e8c2342658755e",
            "23b9cd60e0a94006acf6fb8150f8a153",
            "62672e7998e84e0d9e2ae16ae6c31a13",
            "8a851eed107444b998ce37b7246e9a21",
            "8bac060c02124fc396d0f913300778fd",
            "316a3042f7d44cc198bddc3066894f45"
          ]
        },
        "id": "ASATyBZkwffX",
        "outputId": "c5f3f1d1-2f7d-4fa7-8d17-21ad51ab84e4"
      },
      "execution_count": null,
      "outputs": [
        {
          "output_type": "display_data",
          "data": {
            "text/plain": [
              "  0%|          | 0/5 [00:00<?, ?it/s]"
            ],
            "application/vnd.jupyter.widget-view+json": {
              "version_major": 2,
              "version_minor": 0,
              "model_id": "642f93d11db14424adaae7328bea4002"
            }
          },
          "metadata": {}
        }
      ]
    },
    {
      "cell_type": "code",
      "source": [
        "type(Adam_model)"
      ],
      "metadata": {
        "colab": {
          "base_uri": "https://localhost:8080/"
        },
        "id": "yye5cWzb-flR",
        "outputId": "1e28f180-b741-460d-c65d-deb4ecd75eb7"
      },
      "execution_count": null,
      "outputs": [
        {
          "output_type": "execute_result",
          "data": {
            "text/plain": [
              "dict"
            ]
          },
          "metadata": {},
          "execution_count": 24
        }
      ]
    },
    {
      "cell_type": "code",
      "execution_count": null,
      "metadata": {
        "id": "mkWqi3ZJ_dy9"
      },
      "outputs": [],
      "source": [
        "from IPython.display import clear_output\n",
        "from collections import defaultdict\n",
        "import matplotlib.pyplot as plt\n",
        "import numpy as np\n",
        "\n",
        "\n",
        "class ProgressPlotter:\n",
        "    \"\"\"\n",
        "    Groups contain a list of variables to output, like [\"loss\", \"accuracy\"]\n",
        "    If group is None all variables will be plotted\n",
        "\n",
        "    Title is expariment_id like \"Relu_Adam_lr003\"\n",
        "    All new collected data binded to current title\n",
        "    \"\"\"\n",
        "\n",
        "    def __init__(self, title=\"default\", groups=None) -> None:\n",
        "        self._history_dict = defaultdict(dict)\n",
        "        self.set_title(title)\n",
        "        self.groups = self.get_groups(groups)\n",
        "\n",
        "    def get_groups(self, groups):\n",
        "        if groups is not None:\n",
        "            return self._history_dict.keys()\n",
        "        if type(groups) is str:\n",
        "            groups = [groups]\n",
        "        return groups\n",
        "\n",
        "    def set_title(self, title):\n",
        "        for g in self._history_dict.keys():\n",
        "            self._history_dict[g][title] = []  # reset data\n",
        "        self.title = title\n",
        "\n",
        "    # group e.g. \"loss_val\" tag e.g. \"experiment_1\"\n",
        "    def add_scalar(self, group: str, value, tag=None) -> None:\n",
        "        tag = self.title if tag is None else tag\n",
        "\n",
        "        if not tag in self._history_dict[group]:\n",
        "            self._history_dict[group][tag] = []\n",
        "        self._history_dict[group][tag].append(value)\n",
        "\n",
        "    def add_row(self, group: str, value, tag=None) -> None:\n",
        "        tag = self.title if tag is None else tag\n",
        "        self._history_dict[group][tag] = value\n",
        "\n",
        "    def display_keys(self, ax, data):\n",
        "        history_len = 0\n",
        "        ax.grid()\n",
        "        for key in data:\n",
        "            ax.plot(data[key], label=key)\n",
        "            history_len = max(history_len, len(data[key]))\n",
        "            if len(data) > 1:\n",
        "                ax.legend(loc=\"upper right\")\n",
        "            if history_len < 50:\n",
        "                ax.set_xlabel(\"step\")\n",
        "                ax.set_xticks(np.arange(history_len))\n",
        "                ax.set_xticklabels(np.arange(history_len))\n",
        "\n",
        "    def display(self, groups=None):\n",
        "        clear_output()\n",
        "        if groups is None:\n",
        "            groups = self.groups\n",
        "        n_groups = len(groups)\n",
        "        fig, ax = plt.subplots(1, n_groups, figsize=(48 // n_groups, 3))\n",
        "        if n_groups == 1:\n",
        "            ax = [ax]\n",
        "        for i, g in enumerate(groups):\n",
        "            ax[i].set_ylabel(g)\n",
        "            self.display_keys(ax[i], self.history_dict[g])\n",
        "        fig.tight_layout()\n",
        "        plt.show()\n",
        "\n",
        "    @property\n",
        "    def history_dict(self):\n",
        "        return dict(self._history_dict)"
      ]
    },
    {
      "cell_type": "code",
      "source": [
        "len(SGD_model['loss_on_train'])"
      ],
      "metadata": {
        "colab": {
          "base_uri": "https://localhost:8080/"
        },
        "id": "1GSc5bldulCL",
        "outputId": "4c27827b-57f7-4e53-c93c-227b77e2cc5b"
      },
      "execution_count": null,
      "outputs": [
        {
          "output_type": "execute_result",
          "data": {
            "text/plain": [
              "315"
            ]
          },
          "metadata": {},
          "execution_count": 26
        }
      ]
    },
    {
      "cell_type": "code",
      "source": [
        "SGD_model['accuracy']"
      ],
      "metadata": {
        "colab": {
          "base_uri": "https://localhost:8080/"
        },
        "id": "48c9b_zVuwCo",
        "outputId": "f35bdc67-c67d-41f9-f6df-59b6d83cd20c"
      },
      "execution_count": null,
      "outputs": [
        {
          "output_type": "execute_result",
          "data": {
            "text/plain": [
              "[0.1635, 0.2075, 0.34075, 0.56475, 0.70525]"
            ]
          },
          "metadata": {},
          "execution_count": 27
        }
      ]
    },
    {
      "cell_type": "code",
      "source": [
        "pplotter = ProgressPlotter()\n",
        "pplotter.set_title('SGD_momentum')\n",
        "for i in range(len(SGD_model['loss_on_train'])):\n",
        "    pplotter.add_scalar('loss/train', SGD_model['loss_on_train'][i])\n",
        "for i in range(len(SGD_model['accuracy'])):\n",
        "    pplotter.add_scalar('accuracy', SGD_model['accuracy'][i])\n",
        "pplotter.set_title('Adam')\n",
        "for i in range(len(Adam_model['loss_on_train'])):\n",
        "    pplotter.add_scalar('loss/train', Adam_model['loss_on_train'][i])\n",
        "for i in range(len(Adam_model['accuracy'])):\n",
        "    pplotter.add_scalar('accuracy', Adam_model['accuracy'][i])\n",
        "pplotter.display(['loss/train', 'accuracy'])"
      ],
      "metadata": {
        "colab": {
          "base_uri": "https://localhost:8080/",
          "height": 146
        },
        "id": "CYKwe_dmz19a",
        "outputId": "d9d43ad1-92ed-4f74-a87a-bc08d95fd7c5"
      },
      "execution_count": null,
      "outputs": [
        {
          "output_type": "display_data",
          "data": {
            "text/plain": [
              "<Figure size 2400x300 with 2 Axes>"
            ],
            "image/png": "[encoded data removed]"
          },
          "metadata": {}
        }
      ]
    },
    {
      "cell_type": "code",
      "source": [
        "print('Accuracy, loss for SGD_momentum')\n",
        "calculate_accuracy(model1, test_loader, nn.CrossEntropyLoss().to(device), device)"
      ],
      "metadata": {
        "colab": {
          "base_uri": "https://localhost:8080/"
        },
        "id": "5p6wKnn5wt5K",
        "outputId": "2c3902f8-f8e4-4e97-d5d8-8ba8f6ca7eb6"
      },
      "execution_count": null,
      "outputs": [
        {
          "output_type": "stream",
          "name": "stdout",
          "text": [
            "Accuracy, loss for SGD_momentum\n"
          ]
        },
        {
          "output_type": "execute_result",
          "data": {
            "text/plain": [
              "(0.7099, 1.4760237693786622)"
            ]
          },
          "metadata": {},
          "execution_count": 32
        }
      ]
    },
    {
      "cell_type": "code",
      "source": [
        "print('Accuracy, loss for Adam')\n",
        "calculate_accuracy(model2, test_loader, nn.CrossEntropyLoss().to(device), device)"
      ],
      "metadata": {
        "colab": {
          "base_uri": "https://localhost:8080/"
        },
        "id": "l-1KXoUW3bp4",
        "outputId": "652531d5-2a51-405f-f833-945c19f40b7f"
      },
      "execution_count": null,
      "outputs": [
        {
          "output_type": "stream",
          "name": "stdout",
          "text": [
            "Accuracy, loss for Adam\n"
          ]
        },
        {
          "output_type": "execute_result",
          "data": {
            "text/plain": [
              "(0.9808, 0.06174294352531433)"
            ]
          },
          "metadata": {},
          "execution_count": 30
        }
      ]
    },
    {
      "cell_type": "markdown",
      "metadata": {
        "id": "tjr36Awqc55c"
      },
      "source": [
        "**Напишите Вывод**:\n",
        "**Адаптивный оптимизатор оказывается намного лучше оптимизатора с моментом, возможно, потому, что SGD не умеет изменять learning rate**\n"
      ]
    },
    {
      "cell_type": "markdown",
      "metadata": {
        "id": "-oVl8DEoc55c"
      },
      "source": [
        "## Формат результата\n",
        "\n",
        "* Графики loss-функции и accuracy, пример графика:\n",
        "\n",
        "<img src =\"https://edunet.kea.su/repo/EduNet-web_dependencies/Exercises/EX07/result_1_task_3_ex07_v1_fix.png\" width=\"1200\" >\n",
        "\n",
        "* значения accuracy на mnist_test\n",
        "\n",
        "* вывод"
      ]
    },
    {
      "cell_type": "markdown",
      "metadata": {
        "jp-MarkdownHeadingCollapsed": true,
        "id": "GLwKDjK2c55c"
      },
      "source": [
        "# Задание 4. Dropout"
      ]
    },
    {
      "cell_type": "markdown",
      "metadata": {
        "id": "hLiNCpRlc55c"
      },
      "source": [
        "Добавьте в вашу нейросеть Dropout на последних слоях.\n",
        "\n",
        "Обучите ее на наборе данных MNIST. После этого, сделайте предсказание на тестовом датасете НЕ ДЕЛАЯ `model.eval()`. Повторите процедуру предсказания 20 раз.\n",
        "Выведите 10 изображений, в классификации которых нейросеть больше всего не уверена (на 20 запусков предсказывала им самые различные классы) и 10 изображений, в классификации которых нейросеть больше всего уверена.\n",
        "\n",
        "Проверьте себя, указав классы, которые предсказывает модель в состоянии  `model.train()` для выбранных картинок, а также истинные метки классов.\n"
      ]
    },
    {
      "cell_type": "code",
      "source": [
        "class LeNet_dropout(nn.Module):\n",
        "    def __init__(self):\n",
        "        super().__init__()\n",
        "        self.activation = nn.ReLU()\n",
        "        self.conv1 = nn.Conv2d(1, 6, 5)\n",
        "        self.pool = nn.MaxPool2d(2)\n",
        "        self.conv2 = nn.Conv2d(6, 16, 5)\n",
        "        self.fc1 = nn.Linear(16 * 4 * 4, 120)  # 5*5 from image dimension\n",
        "        self.dropout1 = nn.Dropout(p=0.5)\n",
        "        self.fc2 = nn.Linear(120, 84)\n",
        "        self.dropout2 = nn.Dropout(p=0.5)\n",
        "        self.fc3 = nn.Linear(84, 10)\n",
        "\n",
        "    def forward(self, x):  # input [batch, 1, 28, 28]\n",
        "        x = self.activation(self.pool(self.conv1(x)))\n",
        "        x = self.activation(self.pool(self.conv2(x)))\n",
        "        x = self.activation(self.fc1(x.flatten(start_dim=1)))\n",
        "        x = self.dropout1(x)\n",
        "        x = self.activation(self.fc2(x))\n",
        "        x = self.dropout2(x)\n",
        "        x = self.fc3(x)\n",
        "        return x"
      ],
      "metadata": {
        "id": "lMhkXhUDRiyH"
      },
      "execution_count": null,
      "outputs": []
    },
    {
      "cell_type": "code",
      "execution_count": null,
      "metadata": {
        "id": "fkZySHZZil4s"
      },
      "outputs": [],
      "source": [
        "model_dropout = LeNet_dropout().to(device)\n",
        "optimizer = optim.Adam(model_dropout.parameters(), lr=0.001)\n",
        "criterion = nn.CrossEntropyLoss()"
      ]
    },
    {
      "cell_type": "code",
      "source": [
        "for epoch in range(10):\n",
        "    running_loss = 0.0\n",
        "    model_dropout.train()  # Switch to training mode\n",
        "    for images, labels in train_loader:\n",
        "        optimizer.zero_grad()\n",
        "        predicted_labels = model_dropout(images.to(device))\n",
        "        loss = criterion(predicted_labels, labels.to(device))\n",
        "        loss.backward()\n",
        "        optimizer.step()\n",
        "        running_loss += loss.item()\n",
        "    print(f'Epoch {epoch + 1}, Loss: {running_loss / len(train_loader):.3f}')"
      ],
      "metadata": {
        "colab": {
          "base_uri": "https://localhost:8080/"
        },
        "id": "kCZWhvhtNFGi",
        "outputId": "0fc23935-c43a-4e64-eb69-16ad0b2976a3"
      },
      "execution_count": null,
      "outputs": [
        {
          "output_type": "stream",
          "name": "stdout",
          "text": [
            "Epoch 1, Loss: 1.543\n",
            "Epoch 2, Loss: 0.580\n",
            "Epoch 3, Loss: 0.360\n",
            "Epoch 4, Loss: 0.279\n",
            "Epoch 5, Loss: 0.232\n",
            "Epoch 6, Loss: 0.201\n",
            "Epoch 7, Loss: 0.181\n",
            "Epoch 8, Loss: 0.160\n",
            "Epoch 9, Loss: 0.149\n",
            "Epoch 10, Loss: 0.135\n"
          ]
        }
      ]
    },
    {
      "cell_type": "code",
      "execution_count": null,
      "metadata": {
        "id": "NNFXv7lI7hO5",
        "colab": {
          "base_uri": "https://localhost:8080/"
        },
        "outputId": "33837d34-bb0d-43b7-d22b-0ee755f6c0a6"
      },
      "outputs": [
        {
          "output_type": "stream",
          "name": "stdout",
          "text": [
            "imgs shape:  torch.Size([256, 1, 28, 28])\n"
          ]
        }
      ],
      "source": [
        "# get batch\n",
        "imgs, labels = next(iter(test_loader))\n",
        "print(\"imgs shape: \", imgs.shape)"
      ]
    },
    {
      "cell_type": "code",
      "source": [
        "prediction_results = []\n",
        "with torch.no_grad():\n",
        "    for _ in range(20):\n",
        "        predictions = model_dropout(imgs.to(device))\n",
        "        prediction_results.append(predictions)"
      ],
      "metadata": {
        "id": "7v8yIrbDhry_"
      },
      "execution_count": null,
      "outputs": []
    },
    {
      "cell_type": "code",
      "source": [
        "prob = []\n",
        "for i in range(20):\n",
        "  prob.append(nn.Softmax(dim=0)(prediction_results[i].detach()))"
      ],
      "metadata": {
        "id": "o1im4VJijcA3"
      },
      "execution_count": null,
      "outputs": []
    },
    {
      "cell_type": "code",
      "source": [
        "prob[0]"
      ],
      "metadata": {
        "colab": {
          "base_uri": "https://localhost:8080/"
        },
        "id": "nY75MymsljVi",
        "outputId": "738a2759-8226-4318-c745-652115ecd4c0"
      },
      "execution_count": null,
      "outputs": [
        {
          "output_type": "execute_result",
          "data": {
            "text/plain": [
              "tensor([[1.6530e-10, 2.7916e-10, 6.7668e-10,  ..., 3.7101e-05, 3.0250e-09,\n",
              "         1.4633e-11],\n",
              "        [5.5350e-10, 7.3377e-12, 7.7301e-04,  ..., 1.7725e-09, 1.9448e-08,\n",
              "         1.2983e-15],\n",
              "        [2.0097e-18, 9.9805e-01, 3.7764e-10,  ..., 2.9204e-11, 5.1927e-09,\n",
              "         2.5988e-12],\n",
              "        ...,\n",
              "        [5.8070e-11, 4.6215e-12, 8.4613e-11,  ..., 7.7462e-13, 1.7783e-06,\n",
              "         8.1942e-10],\n",
              "        [2.3051e-15, 5.1546e-11, 3.6493e-09,  ..., 2.8082e-05, 1.4099e-09,\n",
              "         5.9807e-09],\n",
              "        [7.4032e-15, 8.3095e-09, 1.3591e-07,  ..., 1.5523e-05, 2.7543e-09,\n",
              "         2.5271e-09]], device='cuda:0')"
            ]
          },
          "metadata": {},
          "execution_count": 128
        }
      ]
    },
    {
      "cell_type": "code",
      "execution_count": null,
      "metadata": {
        "id": "FmMWv2l87hO5",
        "colab": {
          "base_uri": "https://localhost:8080/"
        },
        "outputId": "bb89acd0-abfd-4f39-b661-a1531bf463b7"
      },
      "outputs": [
        {
          "output_type": "stream",
          "name": "stdout",
          "text": [
            "imgs shape(after reshape):  torch.Size([256, 28, 28])\n"
          ]
        }
      ],
      "source": [
        "# remove axis\n",
        "imgs = torch.reshape(imgs, (256, 28, 28))\n",
        "print(\"imgs shape(after reshape): \", imgs.shape)"
      ]
    },
    {
      "cell_type": "code",
      "execution_count": null,
      "metadata": {
        "id": "tqIEeHjG7hO5",
        "colab": {
          "base_uri": "https://localhost:8080/"
        },
        "outputId": "c4c53fc4-6e80-4ece-aa19-ddf42611aa5c"
      },
      "outputs": [
        {
          "output_type": "stream",
          "name": "stdout",
          "text": [
            "imgs shape:  torch.Size([10, 28, 28])\n"
          ]
        }
      ],
      "source": [
        "imgs = imgs[:10]\n",
        "print(\"imgs shape: \", imgs.shape)"
      ]
    },
    {
      "cell_type": "code",
      "execution_count": null,
      "metadata": {
        "id": "PGHTtAz_7hO5",
        "colab": {
          "base_uri": "https://localhost:8080/"
        },
        "outputId": "823ed567-58bd-462a-869e-68147efad583"
      },
      "outputs": [
        {
          "output_type": "stream",
          "name": "stdout",
          "text": [
            "Prediction(1 sample):\n",
            " tensor([ -6.3716, -17.8184,   2.3417,  -1.5831, -17.0128,  -6.6724, -31.8841,\n",
            "         29.3408, -18.4821,   7.1308], device='cuda:0')\n",
            "Predicted class:  7\n"
          ]
        }
      ],
      "source": [
        "import numpy as np\n",
        "\n",
        "pred = pred[:10].detach()\n",
        "print(\"Prediction(1 sample):\\n\", pred[0])\n",
        "digits = np.argmax(pred.cpu().numpy(), axis=1)\n",
        "print(\"Predicted class: \", digits[0])"
      ]
    },
    {
      "cell_type": "code",
      "execution_count": null,
      "metadata": {
        "id": "aGjQMu2v7hO6",
        "colab": {
          "base_uri": "https://localhost:8080/",
          "height": 129
        },
        "outputId": "a769f43e-54f2-40f8-8068-2b177f7fe4ec"
      },
      "outputs": [
        {
          "output_type": "display_data",
          "data": {
            "text/plain": [
              "<Figure size 2500x2500 with 10 Axes>"
            ],
            "image/png": "[encoded data removed]"
          },
          "metadata": {}
        }
      ],
      "source": [
        "plt.figure(figsize=(25.0, 25.0))\n",
        "for i in range(10):\n",
        "    img = imgs[i]\n",
        "\n",
        "    plt.subplot(1, 10, i + 1)\n",
        "    plt.title(\n",
        "        \"pred: \" + str(digits[i]) + \" real: \" + str(labels[i].numpy())\n",
        "    )  # predicted and real values\n",
        "    plt.axis(\"off\")\n",
        "    plt.imshow(img.numpy(), cmap=\"gray\")"
      ]
    },
    {
      "cell_type": "code",
      "source": [
        "with torch.no_grad():\n",
        "    all_predicted_labels = model_dropout(torch.cat([images.to(device) for images, _ in train_loader]))"
      ],
      "metadata": {
        "id": "o5g5JMu7OgXz"
      },
      "execution_count": null,
      "outputs": []
    },
    {
      "cell_type": "code",
      "source": [
        "all_predicted_labels"
      ],
      "metadata": {
        "colab": {
          "base_uri": "https://localhost:8080/"
        },
        "id": "1excRTi_TjsM",
        "outputId": "965ff71a-6bcd-41ab-eb7c-648bdb9de3b9"
      },
      "execution_count": null,
      "outputs": [
        {
          "output_type": "execute_result",
          "data": {
            "text/plain": [
              "tensor([[ -3.6515,  -0.2670,   4.3890,  ...,  -2.2980,  -2.9763,  -4.9288],\n",
              "        [  0.5435,  -2.5858,   0.4718,  ..., -11.2909,   1.5965,  -7.7528],\n",
              "        [  6.1110,  -2.5034,   1.7519,  ...,   0.7783,  -0.7120,  -2.8054],\n",
              "        ...,\n",
              "        [ -5.5060,  -3.3701,   1.5815,  ...,  -4.2532,  -1.2668,   1.1876],\n",
              "        [ -4.0110,  -1.2982,  -1.2134,  ...,  -6.6133,  -3.7210,   0.9123],\n",
              "        [ -5.8291,  14.3028,   1.6354,  ...,   0.1313,  -1.5893,  -7.9845]],\n",
              "       device='cuda:0')"
            ]
          },
          "metadata": {},
          "execution_count": 135
        }
      ]
    },
    {
      "cell_type": "code",
      "source": [
        "_, predicted = torch.max(all_predicted_labels, 1)\n",
        "losses = torch.abs(predicted - torch.cat([labels.to(device) for _, labels in train_loader]))\n",
        "sorted_indices = torch.argsort(losses)"
      ],
      "metadata": {
        "id": "yya-Mq-XO7n2"
      },
      "execution_count": null,
      "outputs": []
    },
    {
      "cell_type": "code",
      "source": [
        "predicted"
      ],
      "metadata": {
        "colab": {
          "base_uri": "https://localhost:8080/"
        },
        "id": "_cdSdOj_uNS2",
        "outputId": "bae4ea1f-a78b-4fcb-bc6c-169d60734fbd"
      },
      "execution_count": null,
      "outputs": [
        {
          "output_type": "execute_result",
          "data": {
            "text/plain": [
              "tensor([2, 6, 0,  ..., 4, 4, 1], device='cuda:0')"
            ]
          },
          "metadata": {},
          "execution_count": 137
        }
      ]
    },
    {
      "cell_type": "code",
      "source": [
        "losses"
      ],
      "metadata": {
        "colab": {
          "base_uri": "https://localhost:8080/"
        },
        "id": "8iwGXT0iuPO8",
        "outputId": "4d815b3d-39a3-4f30-fab7-87a2f57d7011"
      },
      "execution_count": null,
      "outputs": [
        {
          "output_type": "execute_result",
          "data": {
            "text/plain": [
              "tensor([2, 1, 8,  ..., 2, 3, 3], device='cuda:0')"
            ]
          },
          "metadata": {},
          "execution_count": 138
        }
      ]
    },
    {
      "cell_type": "code",
      "source": [
        "sorted_indices"
      ],
      "metadata": {
        "colab": {
          "base_uri": "https://localhost:8080/"
        },
        "id": "cnOyBLZhuRqQ",
        "outputId": "098891ef-6c07-4728-e540-45ff2cd79d4b"
      },
      "execution_count": null,
      "outputs": [
        {
          "output_type": "execute_result",
          "data": {
            "text/plain": [
              "tensor([   10,    16,    19,  ..., 15910, 15956, 15960], device='cuda:0')"
            ]
          },
          "metadata": {},
          "execution_count": 139
        }
      ]
    },
    {
      "cell_type": "code",
      "source": [
        "most_learnable_indices = sorted_indices[:10]\n",
        "least_learnable_indices = sorted_indices[-10:]\n",
        "\n",
        "most_learnable_images = torch.cat([images.to(device) for images, _ in train_loader])[most_learnable_indices]\n",
        "least_learnable_images = torch.cat([images.to(device) for images, _ in train_loader])[least_learnable_indices]"
      ],
      "metadata": {
        "id": "AW-jjpgOPD4s"
      },
      "execution_count": null,
      "outputs": []
    },
    {
      "cell_type": "code",
      "source": [
        "import matplotlib.pyplot as plt"
      ],
      "metadata": {
        "id": "PCftjaHXnrsq"
      },
      "execution_count": null,
      "outputs": []
    },
    {
      "cell_type": "code",
      "source": [
        "plt.figure(figsize=(12, 6))\n",
        "\n",
        "for i, (most_image, least_image) in enumerate(zip(most_learnable_images, least_learnable_images)):\n",
        "    ax = plt.subplot(2, 10, i + 1)\n",
        "    ax.imshow(most_image.cpu()[0], cmap=plt.cm.gray)\n",
        "    ax.axis('off')\n",
        "\n",
        "    ax = plt.subplot(2, 10, i + 11)\n",
        "    ax.imshow(least_image.cpu()[0], cmap=plt.cm.gray)\n",
        "    ax.axis('off')\n",
        "\n",
        "plt.show()"
      ],
      "metadata": {
        "colab": {
          "base_uri": "https://localhost:8080/",
          "height": 367
        },
        "id": "Uh0VAMsmPT24",
        "outputId": "f94ef7cc-4a8a-4314-dc46-2e66b79fdd10"
      },
      "execution_count": null,
      "outputs": [
        {
          "output_type": "display_data",
          "data": {
            "text/plain": [
              "<Figure size 1200x600 with 20 Axes>"
            ],
            "image/png": "[encoded data removed]"
          },
          "metadata": {}
        }
      ]
    },
    {
      "cell_type": "markdown",
      "metadata": {
        "id": "FU1K51jCc55d"
      },
      "source": [
        "## Формат результата\n",
        "\n",
        "* Изображения\n",
        "\n",
        "Изображения, в которых модель уверена больше всего:\n",
        "\n",
        "<img src =\"https://edunet.kea.su/repo/EduNet-web_dependencies/Exercises/EX07/result_1_task_4_ex07_v1.png\" width=\"1200\" >\n",
        "\n",
        "\n",
        "Изображения, в которых модель не уверена больше всего:\n",
        "\n",
        "<img src =\"https://edunet.kea.su/repo/EduNet-web_dependencies/Exercises/EX07/result_2_task_4_ex07_v1_fix.png\" width=\"1200\" >\n",
        "\n",
        "* Метки классов, которые предсказывает модель в состоянии  `model.train()` для выбранных картинок, а также истинные метки классов.\n",
        "\n",
        "*Необязательно у вас должны получиться эти же самые картинки."
      ]
    },
    {
      "cell_type": "markdown",
      "metadata": {
        "jp-MarkdownHeadingCollapsed": true,
        "id": "mQXMY56gc55h"
      },
      "source": [
        "# Задание 6*. Влияние инициализации весов\n",
        "\n",
        "Изучите влияние инициализации весов на скорость и качество обучения. Требуется поставить 4 эксперимента.\n",
        "\n",
        "*Если вы решите возспользоваться matplotlib для вывода графиков, можете использовать код из ячейки ниже.*\n",
        "\n",
        "\n",
        "\n"
      ]
    },
    {
      "cell_type": "code",
      "execution_count": null,
      "metadata": {
        "id": "x-I1soCHc55h"
      },
      "outputs": [],
      "source": [
        "from IPython.display import clear_output\n",
        "from collections import defaultdict\n",
        "import matplotlib.pyplot as plt\n",
        "import numpy as np\n",
        "\n",
        "\n",
        "class ProgressPlotter:\n",
        "    \"\"\"\n",
        "    Groups contain a list of variables to output, like [\"loss\", \"accuracy\"]\n",
        "    If group is None all variables will be plotted\n",
        "\n",
        "    Title is expariment_id like \"Relu_Adam_lr003\"\n",
        "    All new collected data binded to current title\n",
        "    \"\"\"\n",
        "\n",
        "    def __init__(self, title=\"default\", groups=None) -> None:\n",
        "        self._history_dict = defaultdict(dict)\n",
        "        self.set_title(title)\n",
        "        self.groups = self.get_groups(groups)\n",
        "\n",
        "    def get_groups(self, groups):\n",
        "        if groups is not None:\n",
        "            return self._history_dict.keys()\n",
        "        if type(groups) is str:\n",
        "            groups = [groups]\n",
        "        return groups\n",
        "\n",
        "    def set_title(self, title):\n",
        "        for g in self._history_dict.keys():\n",
        "            self._history_dict[g][title] = []  # reset data\n",
        "        self.title = title\n",
        "\n",
        "    # group e.g. \"loss_val\" tag e.g. \"experiment_1\"\n",
        "    def add_scalar(self, group: str, value, tag=None) -> None:\n",
        "        tag = self.title if tag is None else tag\n",
        "\n",
        "        if not tag in self._history_dict[group]:\n",
        "            self._history_dict[group][tag] = []\n",
        "        self._history_dict[group][tag].append(value)\n",
        "\n",
        "    def add_row(self, group: str, value, tag=None) -> None:\n",
        "        tag = self.title if tag is None else tag\n",
        "        self._history_dict[group][tag] = value\n",
        "\n",
        "    def display_keys(self, ax, data):\n",
        "        history_len = 0\n",
        "        ax.grid()\n",
        "        for key in data:\n",
        "            ax.plot(data[key], label=key)\n",
        "            history_len = max(history_len, len(data[key]))\n",
        "            if len(data) > 1:\n",
        "                ax.legend(loc=\"upper right\")\n",
        "            if history_len < 50:\n",
        "                ax.set_xlabel(\"step\")\n",
        "                ax.set_xticks(np.arange(history_len))\n",
        "                ax.set_xticklabels(np.arange(history_len))\n",
        "\n",
        "    def display(self, groups=None):\n",
        "        clear_output()\n",
        "        if groups is None:\n",
        "            groups = self.groups\n",
        "        n_groups = len(groups)\n",
        "        fig, ax = plt.subplots(1, n_groups, figsize=(48 // n_groups, 3))\n",
        "        if n_groups == 1:\n",
        "            ax = [ax]\n",
        "        for i, g in enumerate(groups):\n",
        "            ax[i].set_ylabel(g)\n",
        "            self.display_keys(ax[i], self.history_dict[g])\n",
        "        fig.tight_layout()\n",
        "        plt.show()\n",
        "\n",
        "    @property\n",
        "    def history_dict(self):\n",
        "        return dict(self._history_dict)"
      ]
    },
    {
      "cell_type": "markdown",
      "metadata": {
        "id": "LzxZWqFyc55h"
      },
      "source": [
        "Пример работы кода для визуализации:"
      ]
    },
    {
      "cell_type": "code",
      "execution_count": null,
      "metadata": {
        "id": "-l9k0NlIc55h"
      },
      "outputs": [],
      "source": [
        "pp = ProgressPlotter(title=\"model1\")\n",
        "for i in range(1, 5):\n",
        "    pp.add_scalar(\"Loss\", i + 1)\n",
        "    pp.add_scalar(\"acc\", (i + 1) ** 2)\n",
        "pp.set_title(\"model2\")\n",
        "for i in range(1, 5):\n",
        "    pp.add_scalar(\"Loss\", 2 * i - 1)\n",
        "    pp.add_scalar(\"acc\", (2 * i - 1) ** 2)\n",
        "pp.display([\"Loss\", \"acc\"])"
      ]
    },
    {
      "cell_type": "markdown",
      "metadata": {
        "id": "QO5J-4olc55h"
      },
      "source": [
        "Совет: в данном задании используйте lr = 0.03 и 5-6 эпох."
      ]
    },
    {
      "cell_type": "markdown",
      "metadata": {
        "id": "ArWRf2g3c55h"
      },
      "source": [
        "Код для обучения модели. Добавьте код для подсчета accuracy, можно использовать код из прошлых заданий."
      ]
    },
    {
      "cell_type": "code",
      "execution_count": null,
      "metadata": {
        "id": "-5h7Wndr8PLX"
      },
      "outputs": [],
      "source": [
        "import torch\n",
        "import torch.nn as nn\n",
        "\n",
        "\n",
        "class LeNet(nn.Module):\n",
        "    def __init__(self):\n",
        "        super().__init__()\n",
        "        self.activation = nn.ReLU()\n",
        "        self.conv1 = nn.Conv2d(1, 6, 5)\n",
        "        self.pool = nn.MaxPool2d(2)\n",
        "        self.conv2 = nn.Conv2d(6, 16, 5)\n",
        "        self.fc1 = nn.Linear(16 * 4 * 4, 120)  # 5*5 from image dimension\n",
        "        self.fc2 = nn.Linear(120, 84)\n",
        "        self.fc3 = nn.Linear(84, 10)\n",
        "\n",
        "    def forward(self, x):  # input [batch, 1, 28, 28]\n",
        "        x = self.activation(self.pool(self.conv1(x)))\n",
        "        x = self.activation(self.pool(self.conv2(x)))\n",
        "        x = self.activation(self.fc1(x.flatten(start_dim=1)))\n",
        "        x = self.activation(self.fc2(x))\n",
        "        x = self.fc3(x)\n",
        "        return x"
      ]
    },
    {
      "cell_type": "code",
      "execution_count": null,
      "metadata": {
        "id": "A_ZDh8Dd83KT"
      },
      "outputs": [],
      "source": [
        "# compute on cpu or gpu\n",
        "device = torch.device(\"cuda\" if torch.cuda.is_available() else \"cpu\")\n",
        "\n",
        "import torch\n",
        "\n",
        "def get_correct_count(pred, labels):\n",
        "  _, predicted = torch.max(pred.data, 1)\n",
        "  return (predicted.cpu() == labels.cpu()).sum().item()\n",
        "\n",
        "@torch.inference_mode()\n",
        "def calculate_accuracy(model, data_loader, criterion, device):\n",
        "    correct, total = 0, 0\n",
        "    loss = 0\n",
        "    for batch in data_loader:\n",
        "        imgs, labels = batch\n",
        "        pred = model(imgs.to(device))\n",
        "        loss += criterion(pred, labels.to(device))\n",
        "        correct += get_correct_count(pred, labels.to(device))\n",
        "        total += labels.size(0)\n",
        "\n",
        "    return correct / total , loss.item() / len(data_loader)\n",
        "\n",
        "def train_epoch(model, optimizer, criterion, train_loader):\n",
        "    loss_history = []\n",
        "    for batch in train_loader:\n",
        "        optimizer.zero_grad()\n",
        "        x_train, y_train = batch  # parse data\n",
        "        x_train, y_train = x_train.to(device), y_train.to(device)  # compute on gpu\n",
        "        y_pred = model(x_train)  # get predictions\n",
        "        loss = criterion(y_pred, y_train)  # compute loss\n",
        "        loss_history.append(loss.cpu().detach().item())  # write loss to log\n",
        "        loss.backward()\n",
        "        optimizer.step()\n",
        "    return loss_history"
      ]
    },
    {
      "cell_type": "code",
      "execution_count": null,
      "metadata": {
        "id": "QCBvZS8I83KU"
      },
      "outputs": [],
      "source": [
        "def validate(model, criterion, val_loader):\n",
        "    cumloss = 0\n",
        "    loss_history = []\n",
        "    with torch.no_grad():\n",
        "        for batch in val_loader:\n",
        "            x_train, y_train = batch  # parse data\n",
        "            x_train, y_train = x_train.to(device), y_train.to(device)  # compute on gpu\n",
        "            y_pred = model(x_train)  # get predictions\n",
        "            loss = criterion(y_pred, y_train)  # compute loss\n",
        "            loss_history.append(loss.cpu().detach().item())  # write loss to log\n",
        "            cumloss += loss\n",
        "    return cumloss / len(val_loader), loss_history  # mean loss and history"
      ]
    },
    {
      "cell_type": "code",
      "source": [
        "from tqdm.notebook import tqdm\n",
        "\n",
        "\n",
        "def train_model(model, optimizer, model_name=None, num_epochs=6):\n",
        "    criterion = nn.CrossEntropyLoss().to(device)\n",
        "\n",
        "    train_history = {}\n",
        "    train_history[\"model_name\"] = model_name\n",
        "    train_history[\"epoсhs\"] = num_epochs\n",
        "    train_history[\"loss_on_train\"] = []\n",
        "    train_history[\"loss_on_test\"] = []\n",
        "    train_history[\"accuracy\"] = []\n",
        "\n",
        "    for epoch in tqdm(range(num_epochs)):\n",
        "        loss_on_train = train_epoch(model, optimizer, criterion, train_loader)\n",
        "        _, loss_on_test = validate(model, criterion, test_loader)\n",
        "        train_history[\"loss_on_train\"].extend(loss_on_train)\n",
        "        train_history[\"loss_on_test\"].extend(loss_on_test)\n",
        "        accuracy, loss_val = calculate_accuracy(model, val_loader, criterion, device)\n",
        "        train_history[\"accuracy\"].append(accuracy)\n",
        "    return train_history"
      ],
      "metadata": {
        "id": "oYiYllbMmWvL"
      },
      "execution_count": null,
      "outputs": []
    },
    {
      "cell_type": "markdown",
      "metadata": {
        "id": "JQ9xdga6c55i"
      },
      "source": [
        "## ReLU +  инициализация по умолчанию\n",
        "Обучите LeNet на 6-ти эпохах и выведите график Loss. В качестве оптимизатора используйте SGD."
      ]
    },
    {
      "cell_type": "code",
      "execution_count": null,
      "metadata": {
        "id": "w_MF8yFhc55i",
        "colab": {
          "base_uri": "https://localhost:8080/",
          "height": 49,
          "referenced_widgets": [
            "3d85bfda73ea437cbb84a40d4ddde216",
            "170e1d2f7d724a5d88b395fb84f90f94",
            "29447ed2f61444e4af6eddb86c2f7203",
            "0c836f41fd114917875d9b842e03c7e8",
            "5e36da7bc4cc4807b08bf23f9b2f590d",
            "e1de4868a49149cc8b58b63d4466fa2a",
            "e04abd0770df4d6dbbc6671647497916",
            "5d537214b91b43de8680ecd0276f5579",
            "cecb477a143d46d1b81f4d5686d45a8f",
            "3fc7b6d994b0489fb8842f1e92fbc54f",
            "78e59c97e3a447ed9da3866434bbf3a0"
          ]
        },
        "outputId": "d1e00641-284e-4202-fe61-32b1c585b636"
      },
      "outputs": [
        {
          "output_type": "display_data",
          "data": {
            "text/plain": [
              "  0%|          | 0/6 [00:00<?, ?it/s]"
            ],
            "application/vnd.jupyter.widget-view+json": {
              "version_major": 2,
              "version_minor": 0,
              "model_id": "3d85bfda73ea437cbb84a40d4ddde216"
            }
          },
          "metadata": {}
        }
      ],
      "source": [
        "# Your code here\n",
        "model_ReLU_base = LeNet().to(device)\n",
        "optimizer = optim.SGD(model_ReLU_base.parameters(), momentum=0.9, lr=1e-3)\n",
        "model_ReLU_base_train = train_model(model_ReLU_base, optimizer, model_name=\"model_ReLU_base\")"
      ]
    },
    {
      "cell_type": "code",
      "source": [
        "pplotter = ProgressPlotter()\n",
        "pplotter.set_title('ReLU_base')\n",
        "for i in range(len(model_ReLU_base_train['loss_on_train'])):\n",
        "    pplotter.add_scalar('loss/train', model_ReLU_base_train['loss_on_train'][i])\n",
        "for i in range(len(model_ReLU_base_train['accuracy'])):\n",
        "    pplotter.add_scalar('accuracy', model_ReLU_base_train['accuracy'][i])\n",
        "pplotter.display(['loss/train', 'accuracy'])"
      ],
      "metadata": {
        "colab": {
          "base_uri": "https://localhost:8080/",
          "height": 146
        },
        "id": "B5I6IL34922q",
        "outputId": "23302705-75bc-4f5d-ed6c-84d5c617aa8f"
      },
      "execution_count": null,
      "outputs": [
        {
          "output_type": "display_data",
          "data": {
            "text/plain": [
              "<Figure size 2400x300 with 2 Axes>"
            ],
            "image/png": "[encoded data removed]"
          },
          "metadata": {}
        }
      ]
    },
    {
      "cell_type": "code",
      "source": [
        "model_ReLU_base_train['accuracy']"
      ],
      "metadata": {
        "colab": {
          "base_uri": "https://localhost:8080/"
        },
        "id": "PU60t3rp-XUS",
        "outputId": "13fe2475-6e79-48f0-ff05-fea9c682074d"
      },
      "execution_count": null,
      "outputs": [
        {
          "output_type": "execute_result",
          "data": {
            "text/plain": [
              "[0.143, 0.292, 0.34425, 0.37675, 0.5195, 0.75825]"
            ]
          },
          "metadata": {},
          "execution_count": 16
        }
      ]
    },
    {
      "cell_type": "markdown",
      "metadata": {
        "id": "LBdAvSrVc55i"
      },
      "source": [
        "## Tanh\n",
        "Замените функцию активации на `nn.Tanh`. Выведите график loss в тех же осях."
      ]
    },
    {
      "cell_type": "code",
      "execution_count": null,
      "metadata": {
        "id": "8MPlGJs4c55i",
        "colab": {
          "base_uri": "https://localhost:8080/"
        },
        "outputId": "119eef98-a6b4-40f7-d62e-091d96ad3027"
      },
      "outputs": [
        {
          "output_type": "execute_result",
          "data": {
            "text/plain": [
              "LeNet(\n",
              "  (activation): Tanh()\n",
              "  (conv1): Conv2d(1, 6, kernel_size=(5, 5), stride=(1, 1))\n",
              "  (pool): MaxPool2d(kernel_size=2, stride=2, padding=0, dilation=1, ceil_mode=False)\n",
              "  (conv2): Conv2d(6, 16, kernel_size=(5, 5), stride=(1, 1))\n",
              "  (fc1): Linear(in_features=256, out_features=120, bias=True)\n",
              "  (fc2): Linear(in_features=120, out_features=84, bias=True)\n",
              "  (fc3): Linear(in_features=84, out_features=10, bias=True)\n",
              ")"
            ]
          },
          "metadata": {},
          "execution_count": 21
        }
      ],
      "source": [
        "# Your code here\n",
        "model_Tanh = LeNet().to(device)\n",
        "model_Tanh.activation = torch.nn.Tanh()\n",
        "model_Tanh"
      ]
    },
    {
      "cell_type": "code",
      "source": [
        "model_Tanh = LeNet().to(device)\n",
        "optimizer = optim.SGD(model_Tanh.parameters(), momentum=0.9, lr=1e-3)\n",
        "model_Tanh_train = train_model(model_Tanh, optimizer, model_name=\"model_Tanh\")"
      ],
      "metadata": {
        "colab": {
          "base_uri": "https://localhost:8080/",
          "height": 49,
          "referenced_widgets": [
            "eddc02bca47c463997779559b7664071",
            "50b92977429e4bfbb08d218e0b30f323",
            "05cd448b1d1040e6b6cd7f8e940c9679",
            "b288dc03f17642ff9b23c8b21f703b7b",
            "b176c796aa2c4cb28d5ebd35458f030f",
            "e02df9b214b34cf0ab064824d46315e1",
            "f1e6d7e8038d421c88f6a899835461fc",
            "bf68312469c44080bdfaf03bd08d7bf4",
            "944fd796aa264d6e939e6cf2dc229fb9",
            "e6cf1c47ae464292bb9d88de3d9bfd09",
            "259387a061d44edabc433e3b6400f01d"
          ]
        },
        "id": "9N99acR0_Piw",
        "outputId": "1acb1690-58ea-4d99-b525-c41f52720a93"
      },
      "execution_count": null,
      "outputs": [
        {
          "output_type": "display_data",
          "data": {
            "text/plain": [
              "  0%|          | 0/6 [00:00<?, ?it/s]"
            ],
            "application/vnd.jupyter.widget-view+json": {
              "version_major": 2,
              "version_minor": 0,
              "model_id": "eddc02bca47c463997779559b7664071"
            }
          },
          "metadata": {}
        }
      ]
    },
    {
      "cell_type": "code",
      "source": [
        "pplotter = ProgressPlotter()\n",
        "pplotter.set_title('Tanh')\n",
        "for i in range(len(model_Tanh_train['loss_on_train'])):\n",
        "    pplotter.add_scalar('loss/train', model_Tanh_train['loss_on_train'][i])\n",
        "for i in range(len(model_Tanh_train['accuracy'])):\n",
        "    pplotter.add_scalar('accuracy', model_Tanh_train['accuracy'][i])\n",
        "pplotter.display(['loss/train', 'accuracy'])"
      ],
      "metadata": {
        "colab": {
          "base_uri": "https://localhost:8080/",
          "height": 146
        },
        "id": "yI-jL6qc_ztl",
        "outputId": "5fffab46-68c1-45ff-8abe-a817c882fd99"
      },
      "execution_count": null,
      "outputs": [
        {
          "output_type": "display_data",
          "data": {
            "text/plain": [
              "<Figure size 2400x300 with 2 Axes>"
            ],
            "image/png": "[encoded data removed]"
          },
          "metadata": {}
        }
      ]
    },
    {
      "cell_type": "markdown",
      "metadata": {
        "id": "o9VltwPic55i"
      },
      "source": [
        "## Tanh + Xavier\n",
        "\n",
        "Инициализируйте веса при помощи алгоритма [Xavier](https://pytorch.org/docs/stable/nn.init.html).\n",
        "По прежнему используйте `nn.Tanh`. Выведите график Loss в тех же осях.\n",
        "\n",
        "**Подсказка:** чтобы не менять код класса можете воспользоваться методом [nn.Module.apply](https://pytorch.org/docs/stable/generated/torch.nn.Module.html#torch.nn.Module.apply)"
      ]
    },
    {
      "cell_type": "code",
      "execution_count": null,
      "metadata": {
        "id": "KsMxDhIic55i",
        "colab": {
          "base_uri": "https://localhost:8080/",
          "height": 49,
          "referenced_widgets": [
            "9ea66af1f58f4415b3ca5aa18a6c9bd3",
            "a1a6ed5bbcd744ca96ee32753459866a",
            "0db7f42b4090407f90f87d36e280af4c",
            "375932e22a424160a15e9cb14e161beb",
            "7c5918aec2444d3091c87eef1e96a598",
            "2abe79651abb4fa3a757a49cefdde8a5",
            "ac63180f4f2e4feab08550fe71bb077b",
            "2ce08b3b6c1143c49b29533393f877f5",
            "ce6de2b2a3474d0db477e3df4f00469b",
            "2c436b63288c4cef95a3397f85f398bc",
            "e8cb01905222482ebd73528303aae6c0"
          ]
        },
        "outputId": "0130e702-242c-4ec6-805c-bee62680fc5f"
      },
      "outputs": [
        {
          "output_type": "display_data",
          "data": {
            "text/plain": [
              "  0%|          | 0/6 [00:00<?, ?it/s]"
            ],
            "application/vnd.jupyter.widget-view+json": {
              "version_major": 2,
              "version_minor": 0,
              "model_id": "9ea66af1f58f4415b3ca5aa18a6c9bd3"
            }
          },
          "metadata": {}
        }
      ],
      "source": [
        "# Your code here\n",
        "def init_weights_xavier(m):\n",
        "    if type(m) == nn.Conv2d or type(m) == nn.Linear:\n",
        "        nn.init.xavier_normal_(m.weight, gain=torch.nn.init.calculate_gain(\"tanh\"))\n",
        "model_Tanh_Xavier = LeNet().to(device)\n",
        "model_Tanh_Xavier.activation = torch.nn.Tanh()\n",
        "model_Tanh_Xavier.apply(init_weights_xavier)\n",
        "optimizer = optim.SGD(model_Tanh_Xavier.parameters(), momentum=0.9, lr=1e-3)\n",
        "model_Tanh_Xavier_train = train_model(model_Tanh_Xavier, optimizer, model_name=\"model_Tanh_Xavier\")"
      ]
    },
    {
      "cell_type": "code",
      "source": [
        "pplotter = ProgressPlotter()\n",
        "pplotter.set_title('Tanh_Xavier')\n",
        "for i in range(len(model_Tanh_Xavier_train['loss_on_train'])):\n",
        "    pplotter.add_scalar('loss/train', model_Tanh_Xavier_train['loss_on_train'][i])\n",
        "for i in range(len(model_Tanh_Xavier_train['accuracy'])):\n",
        "    pplotter.add_scalar('accuracy', model_Tanh_Xavier_train['accuracy'][i])\n",
        "pplotter.display(['loss/train', 'accuracy'])"
      ],
      "metadata": {
        "colab": {
          "base_uri": "https://localhost:8080/",
          "height": 146
        },
        "id": "PdB6ePj1CK5u",
        "outputId": "aa3d5769-265b-49c8-e872-bb6363d672c0"
      },
      "execution_count": null,
      "outputs": [
        {
          "output_type": "display_data",
          "data": {
            "text/plain": [
              "<Figure size 2400x300 with 2 Axes>"
            ],
            "image/png": "[encoded data removed]"
          },
          "metadata": {}
        }
      ]
    },
    {
      "cell_type": "markdown",
      "metadata": {
        "id": "rx6tviFnc55i"
      },
      "source": [
        "## ReLU + Kaiming\n",
        "\n",
        "Теперь замените функцию активации на ReLU и инициализируйте веса при помощи алгоритма [Kaiming](https://pytorch.org/docs/stable/nn.init.html).\n",
        "Выведите график Loss в тех же осях.\n"
      ]
    },
    {
      "cell_type": "code",
      "execution_count": null,
      "metadata": {
        "id": "HKgifBrTc55i",
        "colab": {
          "base_uri": "https://localhost:8080/",
          "height": 49,
          "referenced_widgets": [
            "a714c0d4e8c8499cbb9533ab018ef22d",
            "6a74e8865719408cb5646fec0669c986",
            "a73ef79a5a1e4a94ac72e7dc2014b18d",
            "2033a4264ae840de8617d8acdba02d27",
            "8185fa1fcdb8438fb1c2ed5d0b23665f",
            "81591d4033344371b9d44fa94cbbd33c",
            "d30537ff8612488c990bb38fe0d00f79",
            "f07b52b9f0884d6891dc6f0df4b3e043",
            "6e65e5d6575f40aeaa8b5c097ef30ac6",
            "b11edfec8c2e4b51b56f305434ea33fa",
            "96609e2175e84297b607c2fc5c4a9702"
          ]
        },
        "outputId": "c2850f06-3003-4d75-b6a8-9539fdcaa3c9"
      },
      "outputs": [
        {
          "output_type": "display_data",
          "data": {
            "text/plain": [
              "  0%|          | 0/6 [00:00<?, ?it/s]"
            ],
            "application/vnd.jupyter.widget-view+json": {
              "version_major": 2,
              "version_minor": 0,
              "model_id": "a714c0d4e8c8499cbb9533ab018ef22d"
            }
          },
          "metadata": {}
        }
      ],
      "source": [
        "# Your code here\n",
        "def init_weights_kaiming(m):\n",
        "    if type(m) == nn.Conv2d or type(m) == nn.Linear:\n",
        "        nn.init.kaiming_normal_(m.weight, nonlinearity=\"relu\")\n",
        "model_ReLU_Kaiming = LeNet().to(device)\n",
        "model_ReLU_Kaiming.activation = torch.nn.ReLU()\n",
        "model_ReLU_Kaiming.apply(init_weights_kaiming)\n",
        "optimizer = optim.SGD(model_ReLU_Kaiming.parameters(), momentum=0.9, lr=1e-3)\n",
        "model_ReLU_Kaiming_train = train_model(model_ReLU_Kaiming, optimizer, model_name=\"model_ReLU_Kaiming\")"
      ]
    },
    {
      "cell_type": "code",
      "source": [
        "pplotter = ProgressPlotter()\n",
        "pplotter.set_title('ReLU_Kaiming')\n",
        "for i in range(len(model_ReLU_Kaiming_train['loss_on_train'])):\n",
        "    pplotter.add_scalar('loss/train', model_ReLU_Kaiming_train['loss_on_train'][i])\n",
        "for i in range(len(model_ReLU_Kaiming_train['accuracy'])):\n",
        "    pplotter.add_scalar('accuracy', model_ReLU_Kaiming_train['accuracy'][i])\n",
        "pplotter.display(['loss/train', 'accuracy'])"
      ],
      "metadata": {
        "colab": {
          "base_uri": "https://localhost:8080/",
          "height": 146
        },
        "id": "HRgeriGcDc5q",
        "outputId": "5d810939-e853-4878-f9c0-9a6e8f1d1d81"
      },
      "execution_count": null,
      "outputs": [
        {
          "output_type": "display_data",
          "data": {
            "text/plain": [
              "<Figure size 2400x300 with 2 Axes>"
            ],
            "image/png": "[encoded data removed]"
          },
          "metadata": {}
        }
      ]
    },
    {
      "cell_type": "code",
      "source": [
        "pplotter = ProgressPlotter()\n",
        "\n",
        "pplotter.set_title('ReLU_base')\n",
        "for i in range(len(model_ReLU_base_train['loss_on_train'])):\n",
        "    pplotter.add_scalar('loss/train', model_ReLU_base_train['loss_on_train'][i])\n",
        "for i in range(len(model_ReLU_base_train['accuracy'])):\n",
        "    pplotter.add_scalar('accuracy', model_ReLU_base_train['accuracy'][i])\n",
        "\n",
        "pplotter.set_title('Tanh')\n",
        "for i in range(len(model_Tanh_train['loss_on_train'])):\n",
        "    pplotter.add_scalar('loss/train', model_Tanh_train['loss_on_train'][i])\n",
        "for i in range(len(model_Tanh_train['accuracy'])):\n",
        "    pplotter.add_scalar('accuracy', model_Tanh_train['accuracy'][i])\n",
        "\n",
        "pplotter.set_title('Tanh_Xavier')\n",
        "for i in range(len(model_Tanh_Xavier_train['loss_on_train'])):\n",
        "    pplotter.add_scalar('loss/train', model_Tanh_Xavier_train['loss_on_train'][i])\n",
        "for i in range(len(model_Tanh_Xavier_train['accuracy'])):\n",
        "    pplotter.add_scalar('accuracy', model_Tanh_Xavier_train['accuracy'][i])\n",
        "\n",
        "pplotter.set_title('ReLU_Kaiming')\n",
        "for i in range(len(model_ReLU_Kaiming_train['loss_on_train'])):\n",
        "    pplotter.add_scalar('loss/train', model_ReLU_Kaiming_train['loss_on_train'][i])\n",
        "for i in range(len(model_ReLU_Kaiming_train['accuracy'])):\n",
        "    pplotter.add_scalar('accuracy', model_ReLU_Kaiming_train['accuracy'][i])\n",
        "\n",
        "pplotter.display(['loss/train', 'accuracy'])"
      ],
      "metadata": {
        "colab": {
          "base_uri": "https://localhost:8080/",
          "height": 146
        },
        "id": "quzODiUqDy0f",
        "outputId": "435cbf6d-c8df-40dc-ddf9-298c2a403b35"
      },
      "execution_count": null,
      "outputs": [
        {
          "output_type": "display_data",
          "data": {
            "text/plain": [
              "<Figure size 2400x300 with 2 Axes>"
            ],
            "image/png": "[encoded data removed]"
          },
          "metadata": {}
        }
      ]
    },
    {
      "cell_type": "markdown",
      "metadata": {
        "id": "3A8mLyA_c55i"
      },
      "source": [
        "Сравните графики, напишите **выводы**:\n",
        "Выводы\n",
        "\n"
      ]
    },
    {
      "cell_type": "markdown",
      "source": [
        "**Вывод: грамотная инициализация весов позволяет сильно уменьшить значения лосс-функции уже на самых первых эпохах обучения. Модель быстрее сходится. Наиболее эффективным оказалось использование активации ReLU вместе с инициализацией весов Kaiming.**"
      ],
      "metadata": {
        "id": "KzpTk2kIGhWI"
      }
    },
    {
      "cell_type": "markdown",
      "metadata": {
        "jp-MarkdownHeadingCollapsed": true,
        "id": "UGLFETvzc55i"
      },
      "source": [
        "## Формат результата\n",
        "\n",
        "* Графики loss для train и accuracy для val. Можно использовать любой из инструментов: Matplotlib, Tensorboard, W&B, ...\n",
        "\n",
        "Пример графика в matplotlib:\n",
        "\n",
        "<img src =\"https://edunet.kea.su/repo/EduNet-web_dependencies/Exercises/EX07/result_1_task_2_ex07_v1.png\" width=\"1200\" >\n",
        "\n",
        "\n",
        "* Вывод\n"
      ]
    }
  ],
  "metadata": {
    "kernelspec": {
      "display_name": "base",
      "language": "python",
      "name": "base"
    },
    "language_info": {
      "codemirror_mode": {
        "name": "ipython",
        "version": 3
      },
      "file_extension": ".py",
      "mimetype": "text/x-python",
      "name": "python",
      "nbconvert_exporter": "python",
      "pygments_lexer": "ipython3",
      "version": "3.11.4"
    },
    "colab": {
      "provenance": [],
      "toc_visible": true,
      "gpuType": "T4"
    },
    "accelerator": "GPU",
    "widgets": {
      "application/vnd.jupyter.widget-state+json": {
        "e8673fc419fd42a597d596a7de24560a": {
          "model_module": "@jupyter-widgets/controls",
          "model_name": "HBoxModel",
          "model_module_version": "1.5.0",
          "state": {
            "_dom_classes": [],
            "_model_module": "@jupyter-widgets/controls",
            "_model_module_version": "1.5.0",
            "_model_name": "HBoxModel",
            "_view_count": null,
            "_view_module": "@jupyter-widgets/controls",
            "_view_module_version": "1.5.0",
            "_view_name": "HBoxView",
            "box_style": "",
            "children": [
              "IPY_MODEL_22fc727e8fa24f2ab84d46d81c4ea478",
              "IPY_MODEL_922bf3f5e9954b04b25594f3284fdd02",
              "IPY_MODEL_ba56e921f38049d3a094ecf8fcc72fdc"
            ],
            "layout": "IPY_MODEL_dd0df60f429d4ac99d178927583e79ef"
          }
        },
        "22fc727e8fa24f2ab84d46d81c4ea478": {
          "model_module": "@jupyter-widgets/controls",
          "model_name": "HTMLModel",
          "model_module_version": "1.5.0",
          "state": {
            "_dom_classes": [],
            "_model_module": "@jupyter-widgets/controls",
            "_model_module_version": "1.5.0",
            "_model_name": "HTMLModel",
            "_view_count": null,
            "_view_module": "@jupyter-widgets/controls",
            "_view_module_version": "1.5.0",
            "_view_name": "HTMLView",
            "description": "",
            "description_tooltip": null,
            "layout": "IPY_MODEL_3505613604304aa1b0be5d8cc0f2e4fa",
            "placeholder": "​",
            "style": "IPY_MODEL_eacd540d5b1a4a7d9170ccb6c7e4e1f5",
            "value": "Epoch=9999  loss=2.874e-09: 100%"
          }
        },
        "922bf3f5e9954b04b25594f3284fdd02": {
          "model_module": "@jupyter-widgets/controls",
          "model_name": "FloatProgressModel",
          "model_module_version": "1.5.0",
          "state": {
            "_dom_classes": [],
            "_model_module": "@jupyter-widgets/controls",
            "_model_module_version": "1.5.0",
            "_model_name": "FloatProgressModel",
            "_view_count": null,
            "_view_module": "@jupyter-widgets/controls",
            "_view_module_version": "1.5.0",
            "_view_name": "ProgressView",
            "bar_style": "success",
            "description": "",
            "description_tooltip": null,
            "layout": "IPY_MODEL_fa20eb5ca0084a2da4efc7cac3eaa3cc",
            "max": 10000,
            "min": 0,
            "orientation": "horizontal",
            "style": "IPY_MODEL_6fd9e929c9d14f8782c3af8ef74c44fc",
            "value": 10000
          }
        },
        "ba56e921f38049d3a094ecf8fcc72fdc": {
          "model_module": "@jupyter-widgets/controls",
          "model_name": "HTMLModel",
          "model_module_version": "1.5.0",
          "state": {
            "_dom_classes": [],
            "_model_module": "@jupyter-widgets/controls",
            "_model_module_version": "1.5.0",
            "_model_name": "HTMLModel",
            "_view_count": null,
            "_view_module": "@jupyter-widgets/controls",
            "_view_module_version": "1.5.0",
            "_view_name": "HTMLView",
            "description": "",
            "description_tooltip": null,
            "layout": "IPY_MODEL_c23078de13b146939ba0ea58549d2e0f",
            "placeholder": "​",
            "style": "IPY_MODEL_43ea051151174f2084f6417b2a845817",
            "value": " 10000/10000 [00:35&lt;00:00, 286.11it/s]"
          }
        },
        "dd0df60f429d4ac99d178927583e79ef": {
          "model_module": "@jupyter-widgets/base",
          "model_name": "LayoutModel",
          "model_module_version": "1.2.0",
          "state": {
            "_model_module": "@jupyter-widgets/base",
            "_model_module_version": "1.2.0",
            "_model_name": "LayoutModel",
            "_view_count": null,
            "_view_module": "@jupyter-widgets/base",
            "_view_module_version": "1.2.0",
            "_view_name": "LayoutView",
            "align_content": null,
            "align_items": null,
            "align_self": null,
            "border": null,
            "bottom": null,
            "display": null,
            "flex": null,
            "flex_flow": null,
            "grid_area": null,
            "grid_auto_columns": null,
            "grid_auto_flow": null,
            "grid_auto_rows": null,
            "grid_column": null,
            "grid_gap": null,
            "grid_row": null,
            "grid_template_areas": null,
            "grid_template_columns": null,
            "grid_template_rows": null,
            "height": null,
            "justify_content": null,
            "justify_items": null,
            "left": null,
            "margin": null,
            "max_height": null,
            "max_width": null,
            "min_height": null,
            "min_width": null,
            "object_fit": null,
            "object_position": null,
            "order": null,
            "overflow": null,
            "overflow_x": null,
            "overflow_y": null,
            "padding": null,
            "right": null,
            "top": null,
            "visibility": null,
            "width": null
          }
        },
        "3505613604304aa1b0be5d8cc0f2e4fa": {
          "model_module": "@jupyter-widgets/base",
          "model_name": "LayoutModel",
          "model_module_version": "1.2.0",
          "state": {
            "_model_module": "@jupyter-widgets/base",
            "_model_module_version": "1.2.0",
            "_model_name": "LayoutModel",
            "_view_count": null,
            "_view_module": "@jupyter-widgets/base",
            "_view_module_version": "1.2.0",
            "_view_name": "LayoutView",
            "align_content": null,
            "align_items": null,
            "align_self": null,
            "border": null,
            "bottom": null,
            "display": null,
            "flex": null,
            "flex_flow": null,
            "grid_area": null,
            "grid_auto_columns": null,
            "grid_auto_flow": null,
            "grid_auto_rows": null,
            "grid_column": null,
            "grid_gap": null,
            "grid_row": null,
            "grid_template_areas": null,
            "grid_template_columns": null,
            "grid_template_rows": null,
            "height": null,
            "justify_content": null,
            "justify_items": null,
            "left": null,
            "margin": null,
            "max_height": null,
            "max_width": null,
            "min_height": null,
            "min_width": null,
            "object_fit": null,
            "object_position": null,
            "order": null,
            "overflow": null,
            "overflow_x": null,
            "overflow_y": null,
            "padding": null,
            "right": null,
            "top": null,
            "visibility": null,
            "width": null
          }
        },
        "eacd540d5b1a4a7d9170ccb6c7e4e1f5": {
          "model_module": "@jupyter-widgets/controls",
          "model_name": "DescriptionStyleModel",
          "model_module_version": "1.5.0",
          "state": {
            "_model_module": "@jupyter-widgets/controls",
            "_model_module_version": "1.5.0",
            "_model_name": "DescriptionStyleModel",
            "_view_count": null,
            "_view_module": "@jupyter-widgets/base",
            "_view_module_version": "1.2.0",
            "_view_name": "StyleView",
            "description_width": ""
          }
        },
        "fa20eb5ca0084a2da4efc7cac3eaa3cc": {
          "model_module": "@jupyter-widgets/base",
          "model_name": "LayoutModel",
          "model_module_version": "1.2.0",
          "state": {
            "_model_module": "@jupyter-widgets/base",
            "_model_module_version": "1.2.0",
            "_model_name": "LayoutModel",
            "_view_count": null,
            "_view_module": "@jupyter-widgets/base",
            "_view_module_version": "1.2.0",
            "_view_name": "LayoutView",
            "align_content": null,
            "align_items": null,
            "align_self": null,
            "border": null,
            "bottom": null,
            "display": null,
            "flex": null,
            "flex_flow": null,
            "grid_area": null,
            "grid_auto_columns": null,
            "grid_auto_flow": null,
            "grid_auto_rows": null,
            "grid_column": null,
            "grid_gap": null,
            "grid_row": null,
            "grid_template_areas": null,
            "grid_template_columns": null,
            "grid_template_rows": null,
            "height": null,
            "justify_content": null,
            "justify_items": null,
            "left": null,
            "margin": null,
            "max_height": null,
            "max_width": null,
            "min_height": null,
            "min_width": null,
            "object_fit": null,
            "object_position": null,
            "order": null,
            "overflow": null,
            "overflow_x": null,
            "overflow_y": null,
            "padding": null,
            "right": null,
            "top": null,
            "visibility": null,
            "width": null
          }
        },
        "6fd9e929c9d14f8782c3af8ef74c44fc": {
          "model_module": "@jupyter-widgets/controls",
          "model_name": "ProgressStyleModel",
          "model_module_version": "1.5.0",
          "state": {
            "_model_module": "@jupyter-widgets/controls",
            "_model_module_version": "1.5.0",
            "_model_name": "ProgressStyleModel",
            "_view_count": null,
            "_view_module": "@jupyter-widgets/base",
            "_view_module_version": "1.2.0",
            "_view_name": "StyleView",
            "bar_color": null,
            "description_width": ""
          }
        },
        "c23078de13b146939ba0ea58549d2e0f": {
          "model_module": "@jupyter-widgets/base",
          "model_name": "LayoutModel",
          "model_module_version": "1.2.0",
          "state": {
            "_model_module": "@jupyter-widgets/base",
            "_model_module_version": "1.2.0",
            "_model_name": "LayoutModel",
            "_view_count": null,
            "_view_module": "@jupyter-widgets/base",
            "_view_module_version": "1.2.0",
            "_view_name": "LayoutView",
            "align_content": null,
            "align_items": null,
            "align_self": null,
            "border": null,
            "bottom": null,
            "display": null,
            "flex": null,
            "flex_flow": null,
            "grid_area": null,
            "grid_auto_columns": null,
            "grid_auto_flow": null,
            "grid_auto_rows": null,
            "grid_column": null,
            "grid_gap": null,
            "grid_row": null,
            "grid_template_areas": null,
            "grid_template_columns": null,
            "grid_template_rows": null,
            "height": null,
            "justify_content": null,
            "justify_items": null,
            "left": null,
            "margin": null,
            "max_height": null,
            "max_width": null,
            "min_height": null,
            "min_width": null,
            "object_fit": null,
            "object_position": null,
            "order": null,
            "overflow": null,
            "overflow_x": null,
            "overflow_y": null,
            "padding": null,
            "right": null,
            "top": null,
            "visibility": null,
            "width": null
          }
        },
        "43ea051151174f2084f6417b2a845817": {
          "model_module": "@jupyter-widgets/controls",
          "model_name": "DescriptionStyleModel",
          "model_module_version": "1.5.0",
          "state": {
            "_model_module": "@jupyter-widgets/controls",
            "_model_module_version": "1.5.0",
            "_model_name": "DescriptionStyleModel",
            "_view_count": null,
            "_view_module": "@jupyter-widgets/base",
            "_view_module_version": "1.2.0",
            "_view_name": "StyleView",
            "description_width": ""
          }
        },
        "5e66c465f546488fb13163a555da1ef5": {
          "model_module": "@jupyter-widgets/controls",
          "model_name": "HBoxModel",
          "model_module_version": "1.5.0",
          "state": {
            "_dom_classes": [],
            "_model_module": "@jupyter-widgets/controls",
            "_model_module_version": "1.5.0",
            "_model_name": "HBoxModel",
            "_view_count": null,
            "_view_module": "@jupyter-widgets/controls",
            "_view_module_version": "1.5.0",
            "_view_name": "HBoxView",
            "box_style": "",
            "children": [
              "IPY_MODEL_6b2f71c4746a403687bc488e841b5fd4",
              "IPY_MODEL_ba572d647dd6454abf4805bed98456d2",
              "IPY_MODEL_75ed92c9e23443b4acf17665dd53a7b1"
            ],
            "layout": "IPY_MODEL_9b05dfb431a04a2d81400a5553cf06be"
          }
        },
        "6b2f71c4746a403687bc488e841b5fd4": {
          "model_module": "@jupyter-widgets/controls",
          "model_name": "HTMLModel",
          "model_module_version": "1.5.0",
          "state": {
            "_dom_classes": [],
            "_model_module": "@jupyter-widgets/controls",
            "_model_module_version": "1.5.0",
            "_model_name": "HTMLModel",
            "_view_count": null,
            "_view_module": "@jupyter-widgets/controls",
            "_view_module_version": "1.5.0",
            "_view_name": "HTMLView",
            "description": "",
            "description_tooltip": null,
            "layout": "IPY_MODEL_126f45cdb40c415aac02f05c41bdf366",
            "placeholder": "​",
            "style": "IPY_MODEL_98b052bf3cbe4e25ad3da7cb56e15a6b",
            "value": "100%"
          }
        },
        "ba572d647dd6454abf4805bed98456d2": {
          "model_module": "@jupyter-widgets/controls",
          "model_name": "FloatProgressModel",
          "model_module_version": "1.5.0",
          "state": {
            "_dom_classes": [],
            "_model_module": "@jupyter-widgets/controls",
            "_model_module_version": "1.5.0",
            "_model_name": "FloatProgressModel",
            "_view_count": null,
            "_view_module": "@jupyter-widgets/controls",
            "_view_module_version": "1.5.0",
            "_view_name": "ProgressView",
            "bar_style": "success",
            "description": "",
            "description_tooltip": null,
            "layout": "IPY_MODEL_782ae605812e4f7c82852e817c4b3c32",
            "max": 5,
            "min": 0,
            "orientation": "horizontal",
            "style": "IPY_MODEL_7345a80ed4464cea9dde2606692aa842",
            "value": 5
          }
        },
        "75ed92c9e23443b4acf17665dd53a7b1": {
          "model_module": "@jupyter-widgets/controls",
          "model_name": "HTMLModel",
          "model_module_version": "1.5.0",
          "state": {
            "_dom_classes": [],
            "_model_module": "@jupyter-widgets/controls",
            "_model_module_version": "1.5.0",
            "_model_name": "HTMLModel",
            "_view_count": null,
            "_view_module": "@jupyter-widgets/controls",
            "_view_module_version": "1.5.0",
            "_view_name": "HTMLView",
            "description": "",
            "description_tooltip": null,
            "layout": "IPY_MODEL_e9954e4662db4813b1342989a83fe695",
            "placeholder": "​",
            "style": "IPY_MODEL_f2e348d742c84d1d8881d3a22a652471",
            "value": " 5/5 [00:43&lt;00:00,  7.97s/it]"
          }
        },
        "9b05dfb431a04a2d81400a5553cf06be": {
          "model_module": "@jupyter-widgets/base",
          "model_name": "LayoutModel",
          "model_module_version": "1.2.0",
          "state": {
            "_model_module": "@jupyter-widgets/base",
            "_model_module_version": "1.2.0",
            "_model_name": "LayoutModel",
            "_view_count": null,
            "_view_module": "@jupyter-widgets/base",
            "_view_module_version": "1.2.0",
            "_view_name": "LayoutView",
            "align_content": null,
            "align_items": null,
            "align_self": null,
            "border": null,
            "bottom": null,
            "display": null,
            "flex": null,
            "flex_flow": null,
            "grid_area": null,
            "grid_auto_columns": null,
            "grid_auto_flow": null,
            "grid_auto_rows": null,
            "grid_column": null,
            "grid_gap": null,
            "grid_row": null,
            "grid_template_areas": null,
            "grid_template_columns": null,
            "grid_template_rows": null,
            "height": null,
            "justify_content": null,
            "justify_items": null,
            "left": null,
            "margin": null,
            "max_height": null,
            "max_width": null,
            "min_height": null,
            "min_width": null,
            "object_fit": null,
            "object_position": null,
            "order": null,
            "overflow": null,
            "overflow_x": null,
            "overflow_y": null,
            "padding": null,
            "right": null,
            "top": null,
            "visibility": null,
            "width": null
          }
        },
        "126f45cdb40c415aac02f05c41bdf366": {
          "model_module": "@jupyter-widgets/base",
          "model_name": "LayoutModel",
          "model_module_version": "1.2.0",
          "state": {
            "_model_module": "@jupyter-widgets/base",
            "_model_module_version": "1.2.0",
            "_model_name": "LayoutModel",
            "_view_count": null,
            "_view_module": "@jupyter-widgets/base",
            "_view_module_version": "1.2.0",
            "_view_name": "LayoutView",
            "align_content": null,
            "align_items": null,
            "align_self": null,
            "border": null,
            "bottom": null,
            "display": null,
            "flex": null,
            "flex_flow": null,
            "grid_area": null,
            "grid_auto_columns": null,
            "grid_auto_flow": null,
            "grid_auto_rows": null,
            "grid_column": null,
            "grid_gap": null,
            "grid_row": null,
            "grid_template_areas": null,
            "grid_template_columns": null,
            "grid_template_rows": null,
            "height": null,
            "justify_content": null,
            "justify_items": null,
            "left": null,
            "margin": null,
            "max_height": null,
            "max_width": null,
            "min_height": null,
            "min_width": null,
            "object_fit": null,
            "object_position": null,
            "order": null,
            "overflow": null,
            "overflow_x": null,
            "overflow_y": null,
            "padding": null,
            "right": null,
            "top": null,
            "visibility": null,
            "width": null
          }
        },
        "98b052bf3cbe4e25ad3da7cb56e15a6b": {
          "model_module": "@jupyter-widgets/controls",
          "model_name": "DescriptionStyleModel",
          "model_module_version": "1.5.0",
          "state": {
            "_model_module": "@jupyter-widgets/controls",
            "_model_module_version": "1.5.0",
            "_model_name": "DescriptionStyleModel",
            "_view_count": null,
            "_view_module": "@jupyter-widgets/base",
            "_view_module_version": "1.2.0",
            "_view_name": "StyleView",
            "description_width": ""
          }
        },
        "782ae605812e4f7c82852e817c4b3c32": {
          "model_module": "@jupyter-widgets/base",
          "model_name": "LayoutModel",
          "model_module_version": "1.2.0",
          "state": {
            "_model_module": "@jupyter-widgets/base",
            "_model_module_version": "1.2.0",
            "_model_name": "LayoutModel",
            "_view_count": null,
            "_view_module": "@jupyter-widgets/base",
            "_view_module_version": "1.2.0",
            "_view_name": "LayoutView",
            "align_content": null,
            "align_items": null,
            "align_self": null,
            "border": null,
            "bottom": null,
            "display": null,
            "flex": null,
            "flex_flow": null,
            "grid_area": null,
            "grid_auto_columns": null,
            "grid_auto_flow": null,
            "grid_auto_rows": null,
            "grid_column": null,
            "grid_gap": null,
            "grid_row": null,
            "grid_template_areas": null,
            "grid_template_columns": null,
            "grid_template_rows": null,
            "height": null,
            "justify_content": null,
            "justify_items": null,
            "left": null,
            "margin": null,
            "max_height": null,
            "max_width": null,
            "min_height": null,
            "min_width": null,
            "object_fit": null,
            "object_position": null,
            "order": null,
            "overflow": null,
            "overflow_x": null,
            "overflow_y": null,
            "padding": null,
            "right": null,
            "top": null,
            "visibility": null,
            "width": null
          }
        },
        "7345a80ed4464cea9dde2606692aa842": {
          "model_module": "@jupyter-widgets/controls",
          "model_name": "ProgressStyleModel",
          "model_module_version": "1.5.0",
          "state": {
            "_model_module": "@jupyter-widgets/controls",
            "_model_module_version": "1.5.0",
            "_model_name": "ProgressStyleModel",
            "_view_count": null,
            "_view_module": "@jupyter-widgets/base",
            "_view_module_version": "1.2.0",
            "_view_name": "StyleView",
            "bar_color": null,
            "description_width": ""
          }
        },
        "e9954e4662db4813b1342989a83fe695": {
          "model_module": "@jupyter-widgets/base",
          "model_name": "LayoutModel",
          "model_module_version": "1.2.0",
          "state": {
            "_model_module": "@jupyter-widgets/base",
            "_model_module_version": "1.2.0",
            "_model_name": "LayoutModel",
            "_view_count": null,
            "_view_module": "@jupyter-widgets/base",
            "_view_module_version": "1.2.0",
            "_view_name": "LayoutView",
            "align_content": null,
            "align_items": null,
            "align_self": null,
            "border": null,
            "bottom": null,
            "display": null,
            "flex": null,
            "flex_flow": null,
            "grid_area": null,
            "grid_auto_columns": null,
            "grid_auto_flow": null,
            "grid_auto_rows": null,
            "grid_column": null,
            "grid_gap": null,
            "grid_row": null,
            "grid_template_areas": null,
            "grid_template_columns": null,
            "grid_template_rows": null,
            "height": null,
            "justify_content": null,
            "justify_items": null,
            "left": null,
            "margin": null,
            "max_height": null,
            "max_width": null,
            "min_height": null,
            "min_width": null,
            "object_fit": null,
            "object_position": null,
            "order": null,
            "overflow": null,
            "overflow_x": null,
            "overflow_y": null,
            "padding": null,
            "right": null,
            "top": null,
            "visibility": null,
            "width": null
          }
        },
        "f2e348d742c84d1d8881d3a22a652471": {
          "model_module": "@jupyter-widgets/controls",
          "model_name": "DescriptionStyleModel",
          "model_module_version": "1.5.0",
          "state": {
            "_model_module": "@jupyter-widgets/controls",
            "_model_module_version": "1.5.0",
            "_model_name": "DescriptionStyleModel",
            "_view_count": null,
            "_view_module": "@jupyter-widgets/base",
            "_view_module_version": "1.2.0",
            "_view_name": "StyleView",
            "description_width": ""
          }
        },
        "642f93d11db14424adaae7328bea4002": {
          "model_module": "@jupyter-widgets/controls",
          "model_name": "HBoxModel",
          "model_module_version": "1.5.0",
          "state": {
            "_dom_classes": [],
            "_model_module": "@jupyter-widgets/controls",
            "_model_module_version": "1.5.0",
            "_model_name": "HBoxModel",
            "_view_count": null,
            "_view_module": "@jupyter-widgets/controls",
            "_view_module_version": "1.5.0",
            "_view_name": "HBoxView",
            "box_style": "",
            "children": [
              "IPY_MODEL_2567c6421fa04b9491ae21fd1588222e",
              "IPY_MODEL_d203ee95afb2493bad986c3a05b26c17",
              "IPY_MODEL_d4892e933e8544e0b4069ec90e9b29a3"
            ],
            "layout": "IPY_MODEL_f929974335e34e50b1a946c339ad29d1"
          }
        },
        "2567c6421fa04b9491ae21fd1588222e": {
          "model_module": "@jupyter-widgets/controls",
          "model_name": "HTMLModel",
          "model_module_version": "1.5.0",
          "state": {
            "_dom_classes": [],
            "_model_module": "@jupyter-widgets/controls",
            "_model_module_version": "1.5.0",
            "_model_name": "HTMLModel",
            "_view_count": null,
            "_view_module": "@jupyter-widgets/controls",
            "_view_module_version": "1.5.0",
            "_view_name": "HTMLView",
            "description": "",
            "description_tooltip": null,
            "layout": "IPY_MODEL_f442a3944faf4c0082e8c2342658755e",
            "placeholder": "​",
            "style": "IPY_MODEL_23b9cd60e0a94006acf6fb8150f8a153",
            "value": "100%"
          }
        },
        "d203ee95afb2493bad986c3a05b26c17": {
          "model_module": "@jupyter-widgets/controls",
          "model_name": "FloatProgressModel",
          "model_module_version": "1.5.0",
          "state": {
            "_dom_classes": [],
            "_model_module": "@jupyter-widgets/controls",
            "_model_module_version": "1.5.0",
            "_model_name": "FloatProgressModel",
            "_view_count": null,
            "_view_module": "@jupyter-widgets/controls",
            "_view_module_version": "1.5.0",
            "_view_name": "ProgressView",
            "bar_style": "success",
            "description": "",
            "description_tooltip": null,
            "layout": "IPY_MODEL_62672e7998e84e0d9e2ae16ae6c31a13",
            "max": 5,
            "min": 0,
            "orientation": "horizontal",
            "style": "IPY_MODEL_8a851eed107444b998ce37b7246e9a21",
            "value": 5
          }
        },
        "d4892e933e8544e0b4069ec90e9b29a3": {
          "model_module": "@jupyter-widgets/controls",
          "model_name": "HTMLModel",
          "model_module_version": "1.5.0",
          "state": {
            "_dom_classes": [],
            "_model_module": "@jupyter-widgets/controls",
            "_model_module_version": "1.5.0",
            "_model_name": "HTMLModel",
            "_view_count": null,
            "_view_module": "@jupyter-widgets/controls",
            "_view_module_version": "1.5.0",
            "_view_name": "HTMLView",
            "description": "",
            "description_tooltip": null,
            "layout": "IPY_MODEL_8bac060c02124fc396d0f913300778fd",
            "placeholder": "​",
            "style": "IPY_MODEL_316a3042f7d44cc198bddc3066894f45",
            "value": " 5/5 [00:34&lt;00:00,  6.94s/it]"
          }
        },
        "f929974335e34e50b1a946c339ad29d1": {
          "model_module": "@jupyter-widgets/base",
          "model_name": "LayoutModel",
          "model_module_version": "1.2.0",
          "state": {
            "_model_module": "@jupyter-widgets/base",
            "_model_module_version": "1.2.0",
            "_model_name": "LayoutModel",
            "_view_count": null,
            "_view_module": "@jupyter-widgets/base",
            "_view_module_version": "1.2.0",
            "_view_name": "LayoutView",
            "align_content": null,
            "align_items": null,
            "align_self": null,
            "border": null,
            "bottom": null,
            "display": null,
            "flex": null,
            "flex_flow": null,
            "grid_area": null,
            "grid_auto_columns": null,
            "grid_auto_flow": null,
            "grid_auto_rows": null,
            "grid_column": null,
            "grid_gap": null,
            "grid_row": null,
            "grid_template_areas": null,
            "grid_template_columns": null,
            "grid_template_rows": null,
            "height": null,
            "justify_content": null,
            "justify_items": null,
            "left": null,
            "margin": null,
            "max_height": null,
            "max_width": null,
            "min_height": null,
            "min_width": null,
            "object_fit": null,
            "object_position": null,
            "order": null,
            "overflow": null,
            "overflow_x": null,
            "overflow_y": null,
            "padding": null,
            "right": null,
            "top": null,
            "visibility": null,
            "width": null
          }
        },
        "f442a3944faf4c0082e8c2342658755e": {
          "model_module": "@jupyter-widgets/base",
          "model_name": "LayoutModel",
          "model_module_version": "1.2.0",
          "state": {
            "_model_module": "@jupyter-widgets/base",
            "_model_module_version": "1.2.0",
            "_model_name": "LayoutModel",
            "_view_count": null,
            "_view_module": "@jupyter-widgets/base",
            "_view_module_version": "1.2.0",
            "_view_name": "LayoutView",
            "align_content": null,
            "align_items": null,
            "align_self": null,
            "border": null,
            "bottom": null,
            "display": null,
            "flex": null,
            "flex_flow": null,
            "grid_area": null,
            "grid_auto_columns": null,
            "grid_auto_flow": null,
            "grid_auto_rows": null,
            "grid_column": null,
            "grid_gap": null,
            "grid_row": null,
            "grid_template_areas": null,
            "grid_template_columns": null,
            "grid_template_rows": null,
            "height": null,
            "justify_content": null,
            "justify_items": null,
            "left": null,
            "margin": null,
            "max_height": null,
            "max_width": null,
            "min_height": null,
            "min_width": null,
            "object_fit": null,
            "object_position": null,
            "order": null,
            "overflow": null,
            "overflow_x": null,
            "overflow_y": null,
            "padding": null,
            "right": null,
            "top": null,
            "visibility": null,
            "width": null
          }
        },
        "23b9cd60e0a94006acf6fb8150f8a153": {
          "model_module": "@jupyter-widgets/controls",
          "model_name": "DescriptionStyleModel",
          "model_module_version": "1.5.0",
          "state": {
            "_model_module": "@jupyter-widgets/controls",
            "_model_module_version": "1.5.0",
            "_model_name": "DescriptionStyleModel",
            "_view_count": null,
            "_view_module": "@jupyter-widgets/base",
            "_view_module_version": "1.2.0",
            "_view_name": "StyleView",
            "description_width": ""
          }
        },
        "62672e7998e84e0d9e2ae16ae6c31a13": {
          "model_module": "@jupyter-widgets/base",
          "model_name": "LayoutModel",
          "model_module_version": "1.2.0",
          "state": {
            "_model_module": "@jupyter-widgets/base",
            "_model_module_version": "1.2.0",
            "_model_name": "LayoutModel",
            "_view_count": null,
            "_view_module": "@jupyter-widgets/base",
            "_view_module_version": "1.2.0",
            "_view_name": "LayoutView",
            "align_content": null,
            "align_items": null,
            "align_self": null,
            "border": null,
            "bottom": null,
            "display": null,
            "flex": null,
            "flex_flow": null,
            "grid_area": null,
            "grid_auto_columns": null,
            "grid_auto_flow": null,
            "grid_auto_rows": null,
            "grid_column": null,
            "grid_gap": null,
            "grid_row": null,
            "grid_template_areas": null,
            "grid_template_columns": null,
            "grid_template_rows": null,
            "height": null,
            "justify_content": null,
            "justify_items": null,
            "left": null,
            "margin": null,
            "max_height": null,
            "max_width": null,
            "min_height": null,
            "min_width": null,
            "object_fit": null,
            "object_position": null,
            "order": null,
            "overflow": null,
            "overflow_x": null,
            "overflow_y": null,
            "padding": null,
            "right": null,
            "top": null,
            "visibility": null,
            "width": null
          }
        },
        "8a851eed107444b998ce37b7246e9a21": {
          "model_module": "@jupyter-widgets/controls",
          "model_name": "ProgressStyleModel",
          "model_module_version": "1.5.0",
          "state": {
            "_model_module": "@jupyter-widgets/controls",
            "_model_module_version": "1.5.0",
            "_model_name": "ProgressStyleModel",
            "_view_count": null,
            "_view_module": "@jupyter-widgets/base",
            "_view_module_version": "1.2.0",
            "_view_name": "StyleView",
            "bar_color": null,
            "description_width": ""
          }
        },
        "8bac060c02124fc396d0f913300778fd": {
          "model_module": "@jupyter-widgets/base",
          "model_name": "LayoutModel",
          "model_module_version": "1.2.0",
          "state": {
            "_model_module": "@jupyter-widgets/base",
            "_model_module_version": "1.2.0",
            "_model_name": "LayoutModel",
            "_view_count": null,
            "_view_module": "@jupyter-widgets/base",
            "_view_module_version": "1.2.0",
            "_view_name": "LayoutView",
            "align_content": null,
            "align_items": null,
            "align_self": null,
            "border": null,
            "bottom": null,
            "display": null,
            "flex": null,
            "flex_flow": null,
            "grid_area": null,
            "grid_auto_columns": null,
            "grid_auto_flow": null,
            "grid_auto_rows": null,
            "grid_column": null,
            "grid_gap": null,
            "grid_row": null,
            "grid_template_areas": null,
            "grid_template_columns": null,
            "grid_template_rows": null,
            "height": null,
            "justify_content": null,
            "justify_items": null,
            "left": null,
            "margin": null,
            "max_height": null,
            "max_width": null,
            "min_height": null,
            "min_width": null,
            "object_fit": null,
            "object_position": null,
            "order": null,
            "overflow": null,
            "overflow_x": null,
            "overflow_y": null,
            "padding": null,
            "right": null,
            "top": null,
            "visibility": null,
            "width": null
          }
        },
        "316a3042f7d44cc198bddc3066894f45": {
          "model_module": "@jupyter-widgets/controls",
          "model_name": "DescriptionStyleModel",
          "model_module_version": "1.5.0",
          "state": {
            "_model_module": "@jupyter-widgets/controls",
            "_model_module_version": "1.5.0",
            "_model_name": "DescriptionStyleModel",
            "_view_count": null,
            "_view_module": "@jupyter-widgets/base",
            "_view_module_version": "1.2.0",
            "_view_name": "StyleView",
            "description_width": ""
          }
        },
        "3d85bfda73ea437cbb84a40d4ddde216": {
          "model_module": "@jupyter-widgets/controls",
          "model_name": "HBoxModel",
          "model_module_version": "1.5.0",
          "state": {
            "_dom_classes": [],
            "_model_module": "@jupyter-widgets/controls",
            "_model_module_version": "1.5.0",
            "_model_name": "HBoxModel",
            "_view_count": null,
            "_view_module": "@jupyter-widgets/controls",
            "_view_module_version": "1.5.0",
            "_view_name": "HBoxView",
            "box_style": "",
            "children": [
              "IPY_MODEL_170e1d2f7d724a5d88b395fb84f90f94",
              "IPY_MODEL_29447ed2f61444e4af6eddb86c2f7203",
              "IPY_MODEL_0c836f41fd114917875d9b842e03c7e8"
            ],
            "layout": "IPY_MODEL_5e36da7bc4cc4807b08bf23f9b2f590d"
          }
        },
        "170e1d2f7d724a5d88b395fb84f90f94": {
          "model_module": "@jupyter-widgets/controls",
          "model_name": "HTMLModel",
          "model_module_version": "1.5.0",
          "state": {
            "_dom_classes": [],
            "_model_module": "@jupyter-widgets/controls",
            "_model_module_version": "1.5.0",
            "_model_name": "HTMLModel",
            "_view_count": null,
            "_view_module": "@jupyter-widgets/controls",
            "_view_module_version": "1.5.0",
            "_view_name": "HTMLView",
            "description": "",
            "description_tooltip": null,
            "layout": "IPY_MODEL_e1de4868a49149cc8b58b63d4466fa2a",
            "placeholder": "​",
            "style": "IPY_MODEL_e04abd0770df4d6dbbc6671647497916",
            "value": "100%"
          }
        },
        "29447ed2f61444e4af6eddb86c2f7203": {
          "model_module": "@jupyter-widgets/controls",
          "model_name": "FloatProgressModel",
          "model_module_version": "1.5.0",
          "state": {
            "_dom_classes": [],
            "_model_module": "@jupyter-widgets/controls",
            "_model_module_version": "1.5.0",
            "_model_name": "FloatProgressModel",
            "_view_count": null,
            "_view_module": "@jupyter-widgets/controls",
            "_view_module_version": "1.5.0",
            "_view_name": "ProgressView",
            "bar_style": "success",
            "description": "",
            "description_tooltip": null,
            "layout": "IPY_MODEL_5d537214b91b43de8680ecd0276f5579",
            "max": 6,
            "min": 0,
            "orientation": "horizontal",
            "style": "IPY_MODEL_cecb477a143d46d1b81f4d5686d45a8f",
            "value": 6
          }
        },
        "0c836f41fd114917875d9b842e03c7e8": {
          "model_module": "@jupyter-widgets/controls",
          "model_name": "HTMLModel",
          "model_module_version": "1.5.0",
          "state": {
            "_dom_classes": [],
            "_model_module": "@jupyter-widgets/controls",
            "_model_module_version": "1.5.0",
            "_model_name": "HTMLModel",
            "_view_count": null,
            "_view_module": "@jupyter-widgets/controls",
            "_view_module_version": "1.5.0",
            "_view_name": "HTMLView",
            "description": "",
            "description_tooltip": null,
            "layout": "IPY_MODEL_3fc7b6d994b0489fb8842f1e92fbc54f",
            "placeholder": "​",
            "style": "IPY_MODEL_78e59c97e3a447ed9da3866434bbf3a0",
            "value": " 6/6 [00:47&lt;00:00,  7.03s/it]"
          }
        },
        "5e36da7bc4cc4807b08bf23f9b2f590d": {
          "model_module": "@jupyter-widgets/base",
          "model_name": "LayoutModel",
          "model_module_version": "1.2.0",
          "state": {
            "_model_module": "@jupyter-widgets/base",
            "_model_module_version": "1.2.0",
            "_model_name": "LayoutModel",
            "_view_count": null,
            "_view_module": "@jupyter-widgets/base",
            "_view_module_version": "1.2.0",
            "_view_name": "LayoutView",
            "align_content": null,
            "align_items": null,
            "align_self": null,
            "border": null,
            "bottom": null,
            "display": null,
            "flex": null,
            "flex_flow": null,
            "grid_area": null,
            "grid_auto_columns": null,
            "grid_auto_flow": null,
            "grid_auto_rows": null,
            "grid_column": null,
            "grid_gap": null,
            "grid_row": null,
            "grid_template_areas": null,
            "grid_template_columns": null,
            "grid_template_rows": null,
            "height": null,
            "justify_content": null,
            "justify_items": null,
            "left": null,
            "margin": null,
            "max_height": null,
            "max_width": null,
            "min_height": null,
            "min_width": null,
            "object_fit": null,
            "object_position": null,
            "order": null,
            "overflow": null,
            "overflow_x": null,
            "overflow_y": null,
            "padding": null,
            "right": null,
            "top": null,
            "visibility": null,
            "width": null
          }
        },
        "e1de4868a49149cc8b58b63d4466fa2a": {
          "model_module": "@jupyter-widgets/base",
          "model_name": "LayoutModel",
          "model_module_version": "1.2.0",
          "state": {
            "_model_module": "@jupyter-widgets/base",
            "_model_module_version": "1.2.0",
            "_model_name": "LayoutModel",
            "_view_count": null,
            "_view_module": "@jupyter-widgets/base",
            "_view_module_version": "1.2.0",
            "_view_name": "LayoutView",
            "align_content": null,
            "align_items": null,
            "align_self": null,
            "border": null,
            "bottom": null,
            "display": null,
            "flex": null,
            "flex_flow": null,
            "grid_area": null,
            "grid_auto_columns": null,
            "grid_auto_flow": null,
            "grid_auto_rows": null,
            "grid_column": null,
            "grid_gap": null,
            "grid_row": null,
            "grid_template_areas": null,
            "grid_template_columns": null,
            "grid_template_rows": null,
            "height": null,
            "justify_content": null,
            "justify_items": null,
            "left": null,
            "margin": null,
            "max_height": null,
            "max_width": null,
            "min_height": null,
            "min_width": null,
            "object_fit": null,
            "object_position": null,
            "order": null,
            "overflow": null,
            "overflow_x": null,
            "overflow_y": null,
            "padding": null,
            "right": null,
            "top": null,
            "visibility": null,
            "width": null
          }
        },
        "e04abd0770df4d6dbbc6671647497916": {
          "model_module": "@jupyter-widgets/controls",
          "model_name": "DescriptionStyleModel",
          "model_module_version": "1.5.0",
          "state": {
            "_model_module": "@jupyter-widgets/controls",
            "_model_module_version": "1.5.0",
            "_model_name": "DescriptionStyleModel",
            "_view_count": null,
            "_view_module": "@jupyter-widgets/base",
            "_view_module_version": "1.2.0",
            "_view_name": "StyleView",
            "description_width": ""
          }
        },
        "5d537214b91b43de8680ecd0276f5579": {
          "model_module": "@jupyter-widgets/base",
          "model_name": "LayoutModel",
          "model_module_version": "1.2.0",
          "state": {
            "_model_module": "@jupyter-widgets/base",
            "_model_module_version": "1.2.0",
            "_model_name": "LayoutModel",
            "_view_count": null,
            "_view_module": "@jupyter-widgets/base",
            "_view_module_version": "1.2.0",
            "_view_name": "LayoutView",
            "align_content": null,
            "align_items": null,
            "align_self": null,
            "border": null,
            "bottom": null,
            "display": null,
            "flex": null,
            "flex_flow": null,
            "grid_area": null,
            "grid_auto_columns": null,
            "grid_auto_flow": null,
            "grid_auto_rows": null,
            "grid_column": null,
            "grid_gap": null,
            "grid_row": null,
            "grid_template_areas": null,
            "grid_template_columns": null,
            "grid_template_rows": null,
            "height": null,
            "justify_content": null,
            "justify_items": null,
            "left": null,
            "margin": null,
            "max_height": null,
            "max_width": null,
            "min_height": null,
            "min_width": null,
            "object_fit": null,
            "object_position": null,
            "order": null,
            "overflow": null,
            "overflow_x": null,
            "overflow_y": null,
            "padding": null,
            "right": null,
            "top": null,
            "visibility": null,
            "width": null
          }
        },
        "cecb477a143d46d1b81f4d5686d45a8f": {
          "model_module": "@jupyter-widgets/controls",
          "model_name": "ProgressStyleModel",
          "model_module_version": "1.5.0",
          "state": {
            "_model_module": "@jupyter-widgets/controls",
            "_model_module_version": "1.5.0",
            "_model_name": "ProgressStyleModel",
            "_view_count": null,
            "_view_module": "@jupyter-widgets/base",
            "_view_module_version": "1.2.0",
            "_view_name": "StyleView",
            "bar_color": null,
            "description_width": ""
          }
        },
        "3fc7b6d994b0489fb8842f1e92fbc54f": {
          "model_module": "@jupyter-widgets/base",
          "model_name": "LayoutModel",
          "model_module_version": "1.2.0",
          "state": {
            "_model_module": "@jupyter-widgets/base",
            "_model_module_version": "1.2.0",
            "_model_name": "LayoutModel",
            "_view_count": null,
            "_view_module": "@jupyter-widgets/base",
            "_view_module_version": "1.2.0",
            "_view_name": "LayoutView",
            "align_content": null,
            "align_items": null,
            "align_self": null,
            "border": null,
            "bottom": null,
            "display": null,
            "flex": null,
            "flex_flow": null,
            "grid_area": null,
            "grid_auto_columns": null,
            "grid_auto_flow": null,
            "grid_auto_rows": null,
            "grid_column": null,
            "grid_gap": null,
            "grid_row": null,
            "grid_template_areas": null,
            "grid_template_columns": null,
            "grid_template_rows": null,
            "height": null,
            "justify_content": null,
            "justify_items": null,
            "left": null,
            "margin": null,
            "max_height": null,
            "max_width": null,
            "min_height": null,
            "min_width": null,
            "object_fit": null,
            "object_position": null,
            "order": null,
            "overflow": null,
            "overflow_x": null,
            "overflow_y": null,
            "padding": null,
            "right": null,
            "top": null,
            "visibility": null,
            "width": null
          }
        },
        "78e59c97e3a447ed9da3866434bbf3a0": {
          "model_module": "@jupyter-widgets/controls",
          "model_name": "DescriptionStyleModel",
          "model_module_version": "1.5.0",
          "state": {
            "_model_module": "@jupyter-widgets/controls",
            "_model_module_version": "1.5.0",
            "_model_name": "DescriptionStyleModel",
            "_view_count": null,
            "_view_module": "@jupyter-widgets/base",
            "_view_module_version": "1.2.0",
            "_view_name": "StyleView",
            "description_width": ""
          }
        },
        "eddc02bca47c463997779559b7664071": {
          "model_module": "@jupyter-widgets/controls",
          "model_name": "HBoxModel",
          "model_module_version": "1.5.0",
          "state": {
            "_dom_classes": [],
            "_model_module": "@jupyter-widgets/controls",
            "_model_module_version": "1.5.0",
            "_model_name": "HBoxModel",
            "_view_count": null,
            "_view_module": "@jupyter-widgets/controls",
            "_view_module_version": "1.5.0",
            "_view_name": "HBoxView",
            "box_style": "",
            "children": [
              "IPY_MODEL_50b92977429e4bfbb08d218e0b30f323",
              "IPY_MODEL_05cd448b1d1040e6b6cd7f8e940c9679",
              "IPY_MODEL_b288dc03f17642ff9b23c8b21f703b7b"
            ],
            "layout": "IPY_MODEL_b176c796aa2c4cb28d5ebd35458f030f"
          }
        },
        "50b92977429e4bfbb08d218e0b30f323": {
          "model_module": "@jupyter-widgets/controls",
          "model_name": "HTMLModel",
          "model_module_version": "1.5.0",
          "state": {
            "_dom_classes": [],
            "_model_module": "@jupyter-widgets/controls",
            "_model_module_version": "1.5.0",
            "_model_name": "HTMLModel",
            "_view_count": null,
            "_view_module": "@jupyter-widgets/controls",
            "_view_module_version": "1.5.0",
            "_view_name": "HTMLView",
            "description": "",
            "description_tooltip": null,
            "layout": "IPY_MODEL_e02df9b214b34cf0ab064824d46315e1",
            "placeholder": "​",
            "style": "IPY_MODEL_f1e6d7e8038d421c88f6a899835461fc",
            "value": "100%"
          }
        },
        "05cd448b1d1040e6b6cd7f8e940c9679": {
          "model_module": "@jupyter-widgets/controls",
          "model_name": "FloatProgressModel",
          "model_module_version": "1.5.0",
          "state": {
            "_dom_classes": [],
            "_model_module": "@jupyter-widgets/controls",
            "_model_module_version": "1.5.0",
            "_model_name": "FloatProgressModel",
            "_view_count": null,
            "_view_module": "@jupyter-widgets/controls",
            "_view_module_version": "1.5.0",
            "_view_name": "ProgressView",
            "bar_style": "success",
            "description": "",
            "description_tooltip": null,
            "layout": "IPY_MODEL_bf68312469c44080bdfaf03bd08d7bf4",
            "max": 6,
            "min": 0,
            "orientation": "horizontal",
            "style": "IPY_MODEL_944fd796aa264d6e939e6cf2dc229fb9",
            "value": 6
          }
        },
        "b288dc03f17642ff9b23c8b21f703b7b": {
          "model_module": "@jupyter-widgets/controls",
          "model_name": "HTMLModel",
          "model_module_version": "1.5.0",
          "state": {
            "_dom_classes": [],
            "_model_module": "@jupyter-widgets/controls",
            "_model_module_version": "1.5.0",
            "_model_name": "HTMLModel",
            "_view_count": null,
            "_view_module": "@jupyter-widgets/controls",
            "_view_module_version": "1.5.0",
            "_view_name": "HTMLView",
            "description": "",
            "description_tooltip": null,
            "layout": "IPY_MODEL_e6cf1c47ae464292bb9d88de3d9bfd09",
            "placeholder": "​",
            "style": "IPY_MODEL_259387a061d44edabc433e3b6400f01d",
            "value": " 6/6 [00:40&lt;00:00,  6.64s/it]"
          }
        },
        "b176c796aa2c4cb28d5ebd35458f030f": {
          "model_module": "@jupyter-widgets/base",
          "model_name": "LayoutModel",
          "model_module_version": "1.2.0",
          "state": {
            "_model_module": "@jupyter-widgets/base",
            "_model_module_version": "1.2.0",
            "_model_name": "LayoutModel",
            "_view_count": null,
            "_view_module": "@jupyter-widgets/base",
            "_view_module_version": "1.2.0",
            "_view_name": "LayoutView",
            "align_content": null,
            "align_items": null,
            "align_self": null,
            "border": null,
            "bottom": null,
            "display": null,
            "flex": null,
            "flex_flow": null,
            "grid_area": null,
            "grid_auto_columns": null,
            "grid_auto_flow": null,
            "grid_auto_rows": null,
            "grid_column": null,
            "grid_gap": null,
            "grid_row": null,
            "grid_template_areas": null,
            "grid_template_columns": null,
            "grid_template_rows": null,
            "height": null,
            "justify_content": null,
            "justify_items": null,
            "left": null,
            "margin": null,
            "max_height": null,
            "max_width": null,
            "min_height": null,
            "min_width": null,
            "object_fit": null,
            "object_position": null,
            "order": null,
            "overflow": null,
            "overflow_x": null,
            "overflow_y": null,
            "padding": null,
            "right": null,
            "top": null,
            "visibility": null,
            "width": null
          }
        },
        "e02df9b214b34cf0ab064824d46315e1": {
          "model_module": "@jupyter-widgets/base",
          "model_name": "LayoutModel",
          "model_module_version": "1.2.0",
          "state": {
            "_model_module": "@jupyter-widgets/base",
            "_model_module_version": "1.2.0",
            "_model_name": "LayoutModel",
            "_view_count": null,
            "_view_module": "@jupyter-widgets/base",
            "_view_module_version": "1.2.0",
            "_view_name": "LayoutView",
            "align_content": null,
            "align_items": null,
            "align_self": null,
            "border": null,
            "bottom": null,
            "display": null,
            "flex": null,
            "flex_flow": null,
            "grid_area": null,
            "grid_auto_columns": null,
            "grid_auto_flow": null,
            "grid_auto_rows": null,
            "grid_column": null,
            "grid_gap": null,
            "grid_row": null,
            "grid_template_areas": null,
            "grid_template_columns": null,
            "grid_template_rows": null,
            "height": null,
            "justify_content": null,
            "justify_items": null,
            "left": null,
            "margin": null,
            "max_height": null,
            "max_width": null,
            "min_height": null,
            "min_width": null,
            "object_fit": null,
            "object_position": null,
            "order": null,
            "overflow": null,
            "overflow_x": null,
            "overflow_y": null,
            "padding": null,
            "right": null,
            "top": null,
            "visibility": null,
            "width": null
          }
        },
        "f1e6d7e8038d421c88f6a899835461fc": {
          "model_module": "@jupyter-widgets/controls",
          "model_name": "DescriptionStyleModel",
          "model_module_version": "1.5.0",
          "state": {
            "_model_module": "@jupyter-widgets/controls",
            "_model_module_version": "1.5.0",
            "_model_name": "DescriptionStyleModel",
            "_view_count": null,
            "_view_module": "@jupyter-widgets/base",
            "_view_module_version": "1.2.0",
            "_view_name": "StyleView",
            "description_width": ""
          }
        },
        "bf68312469c44080bdfaf03bd08d7bf4": {
          "model_module": "@jupyter-widgets/base",
          "model_name": "LayoutModel",
          "model_module_version": "1.2.0",
          "state": {
            "_model_module": "@jupyter-widgets/base",
            "_model_module_version": "1.2.0",
            "_model_name": "LayoutModel",
            "_view_count": null,
            "_view_module": "@jupyter-widgets/base",
            "_view_module_version": "1.2.0",
            "_view_name": "LayoutView",
            "align_content": null,
            "align_items": null,
            "align_self": null,
            "border": null,
            "bottom": null,
            "display": null,
            "flex": null,
            "flex_flow": null,
            "grid_area": null,
            "grid_auto_columns": null,
            "grid_auto_flow": null,
            "grid_auto_rows": null,
            "grid_column": null,
            "grid_gap": null,
            "grid_row": null,
            "grid_template_areas": null,
            "grid_template_columns": null,
            "grid_template_rows": null,
            "height": null,
            "justify_content": null,
            "justify_items": null,
            "left": null,
            "margin": null,
            "max_height": null,
            "max_width": null,
            "min_height": null,
            "min_width": null,
            "object_fit": null,
            "object_position": null,
            "order": null,
            "overflow": null,
            "overflow_x": null,
            "overflow_y": null,
            "padding": null,
            "right": null,
            "top": null,
            "visibility": null,
            "width": null
          }
        },
        "944fd796aa264d6e939e6cf2dc229fb9": {
          "model_module": "@jupyter-widgets/controls",
          "model_name": "ProgressStyleModel",
          "model_module_version": "1.5.0",
          "state": {
            "_model_module": "@jupyter-widgets/controls",
            "_model_module_version": "1.5.0",
            "_model_name": "ProgressStyleModel",
            "_view_count": null,
            "_view_module": "@jupyter-widgets/base",
            "_view_module_version": "1.2.0",
            "_view_name": "StyleView",
            "bar_color": null,
            "description_width": ""
          }
        },
        "e6cf1c47ae464292bb9d88de3d9bfd09": {
          "model_module": "@jupyter-widgets/base",
          "model_name": "LayoutModel",
          "model_module_version": "1.2.0",
          "state": {
            "_model_module": "@jupyter-widgets/base",
            "_model_module_version": "1.2.0",
            "_model_name": "LayoutModel",
            "_view_count": null,
            "_view_module": "@jupyter-widgets/base",
            "_view_module_version": "1.2.0",
            "_view_name": "LayoutView",
            "align_content": null,
            "align_items": null,
            "align_self": null,
            "border": null,
            "bottom": null,
            "display": null,
            "flex": null,
            "flex_flow": null,
            "grid_area": null,
            "grid_auto_columns": null,
            "grid_auto_flow": null,
            "grid_auto_rows": null,
            "grid_column": null,
            "grid_gap": null,
            "grid_row": null,
            "grid_template_areas": null,
            "grid_template_columns": null,
            "grid_template_rows": null,
            "height": null,
            "justify_content": null,
            "justify_items": null,
            "left": null,
            "margin": null,
            "max_height": null,
            "max_width": null,
            "min_height": null,
            "min_width": null,
            "object_fit": null,
            "object_position": null,
            "order": null,
            "overflow": null,
            "overflow_x": null,
            "overflow_y": null,
            "padding": null,
            "right": null,
            "top": null,
            "visibility": null,
            "width": null
          }
        },
        "259387a061d44edabc433e3b6400f01d": {
          "model_module": "@jupyter-widgets/controls",
          "model_name": "DescriptionStyleModel",
          "model_module_version": "1.5.0",
          "state": {
            "_model_module": "@jupyter-widgets/controls",
            "_model_module_version": "1.5.0",
            "_model_name": "DescriptionStyleModel",
            "_view_count": null,
            "_view_module": "@jupyter-widgets/base",
            "_view_module_version": "1.2.0",
            "_view_name": "StyleView",
            "description_width": ""
          }
        },
        "9ea66af1f58f4415b3ca5aa18a6c9bd3": {
          "model_module": "@jupyter-widgets/controls",
          "model_name": "HBoxModel",
          "model_module_version": "1.5.0",
          "state": {
            "_dom_classes": [],
            "_model_module": "@jupyter-widgets/controls",
            "_model_module_version": "1.5.0",
            "_model_name": "HBoxModel",
            "_view_count": null,
            "_view_module": "@jupyter-widgets/controls",
            "_view_module_version": "1.5.0",
            "_view_name": "HBoxView",
            "box_style": "",
            "children": [
              "IPY_MODEL_a1a6ed5bbcd744ca96ee32753459866a",
              "IPY_MODEL_0db7f42b4090407f90f87d36e280af4c",
              "IPY_MODEL_375932e22a424160a15e9cb14e161beb"
            ],
            "layout": "IPY_MODEL_7c5918aec2444d3091c87eef1e96a598"
          }
        },
        "a1a6ed5bbcd744ca96ee32753459866a": {
          "model_module": "@jupyter-widgets/controls",
          "model_name": "HTMLModel",
          "model_module_version": "1.5.0",
          "state": {
            "_dom_classes": [],
            "_model_module": "@jupyter-widgets/controls",
            "_model_module_version": "1.5.0",
            "_model_name": "HTMLModel",
            "_view_count": null,
            "_view_module": "@jupyter-widgets/controls",
            "_view_module_version": "1.5.0",
            "_view_name": "HTMLView",
            "description": "",
            "description_tooltip": null,
            "layout": "IPY_MODEL_2abe79651abb4fa3a757a49cefdde8a5",
            "placeholder": "​",
            "style": "IPY_MODEL_ac63180f4f2e4feab08550fe71bb077b",
            "value": "100%"
          }
        },
        "0db7f42b4090407f90f87d36e280af4c": {
          "model_module": "@jupyter-widgets/controls",
          "model_name": "FloatProgressModel",
          "model_module_version": "1.5.0",
          "state": {
            "_dom_classes": [],
            "_model_module": "@jupyter-widgets/controls",
            "_model_module_version": "1.5.0",
            "_model_name": "FloatProgressModel",
            "_view_count": null,
            "_view_module": "@jupyter-widgets/controls",
            "_view_module_version": "1.5.0",
            "_view_name": "ProgressView",
            "bar_style": "success",
            "description": "",
            "description_tooltip": null,
            "layout": "IPY_MODEL_2ce08b3b6c1143c49b29533393f877f5",
            "max": 6,
            "min": 0,
            "orientation": "horizontal",
            "style": "IPY_MODEL_ce6de2b2a3474d0db477e3df4f00469b",
            "value": 6
          }
        },
        "375932e22a424160a15e9cb14e161beb": {
          "model_module": "@jupyter-widgets/controls",
          "model_name": "HTMLModel",
          "model_module_version": "1.5.0",
          "state": {
            "_dom_classes": [],
            "_model_module": "@jupyter-widgets/controls",
            "_model_module_version": "1.5.0",
            "_model_name": "HTMLModel",
            "_view_count": null,
            "_view_module": "@jupyter-widgets/controls",
            "_view_module_version": "1.5.0",
            "_view_name": "HTMLView",
            "description": "",
            "description_tooltip": null,
            "layout": "IPY_MODEL_2c436b63288c4cef95a3397f85f398bc",
            "placeholder": "​",
            "style": "IPY_MODEL_e8cb01905222482ebd73528303aae6c0",
            "value": " 6/6 [00:43&lt;00:00,  7.15s/it]"
          }
        },
        "7c5918aec2444d3091c87eef1e96a598": {
          "model_module": "@jupyter-widgets/base",
          "model_name": "LayoutModel",
          "model_module_version": "1.2.0",
          "state": {
            "_model_module": "@jupyter-widgets/base",
            "_model_module_version": "1.2.0",
            "_model_name": "LayoutModel",
            "_view_count": null,
            "_view_module": "@jupyter-widgets/base",
            "_view_module_version": "1.2.0",
            "_view_name": "LayoutView",
            "align_content": null,
            "align_items": null,
            "align_self": null,
            "border": null,
            "bottom": null,
            "display": null,
            "flex": null,
            "flex_flow": null,
            "grid_area": null,
            "grid_auto_columns": null,
            "grid_auto_flow": null,
            "grid_auto_rows": null,
            "grid_column": null,
            "grid_gap": null,
            "grid_row": null,
            "grid_template_areas": null,
            "grid_template_columns": null,
            "grid_template_rows": null,
            "height": null,
            "justify_content": null,
            "justify_items": null,
            "left": null,
            "margin": null,
            "max_height": null,
            "max_width": null,
            "min_height": null,
            "min_width": null,
            "object_fit": null,
            "object_position": null,
            "order": null,
            "overflow": null,
            "overflow_x": null,
            "overflow_y": null,
            "padding": null,
            "right": null,
            "top": null,
            "visibility": null,
            "width": null
          }
        },
        "2abe79651abb4fa3a757a49cefdde8a5": {
          "model_module": "@jupyter-widgets/base",
          "model_name": "LayoutModel",
          "model_module_version": "1.2.0",
          "state": {
            "_model_module": "@jupyter-widgets/base",
            "_model_module_version": "1.2.0",
            "_model_name": "LayoutModel",
            "_view_count": null,
            "_view_module": "@jupyter-widgets/base",
            "_view_module_version": "1.2.0",
            "_view_name": "LayoutView",
            "align_content": null,
            "align_items": null,
            "align_self": null,
            "border": null,
            "bottom": null,
            "display": null,
            "flex": null,
            "flex_flow": null,
            "grid_area": null,
            "grid_auto_columns": null,
            "grid_auto_flow": null,
            "grid_auto_rows": null,
            "grid_column": null,
            "grid_gap": null,
            "grid_row": null,
            "grid_template_areas": null,
            "grid_template_columns": null,
            "grid_template_rows": null,
            "height": null,
            "justify_content": null,
            "justify_items": null,
            "left": null,
            "margin": null,
            "max_height": null,
            "max_width": null,
            "min_height": null,
            "min_width": null,
            "object_fit": null,
            "object_position": null,
            "order": null,
            "overflow": null,
            "overflow_x": null,
            "overflow_y": null,
            "padding": null,
            "right": null,
            "top": null,
            "visibility": null,
            "width": null
          }
        },
        "ac63180f4f2e4feab08550fe71bb077b": {
          "model_module": "@jupyter-widgets/controls",
          "model_name": "DescriptionStyleModel",
          "model_module_version": "1.5.0",
          "state": {
            "_model_module": "@jupyter-widgets/controls",
            "_model_module_version": "1.5.0",
            "_model_name": "DescriptionStyleModel",
            "_view_count": null,
            "_view_module": "@jupyter-widgets/base",
            "_view_module_version": "1.2.0",
            "_view_name": "StyleView",
            "description_width": ""
          }
        },
        "2ce08b3b6c1143c49b29533393f877f5": {
          "model_module": "@jupyter-widgets/base",
          "model_name": "LayoutModel",
          "model_module_version": "1.2.0",
          "state": {
            "_model_module": "@jupyter-widgets/base",
            "_model_module_version": "1.2.0",
            "_model_name": "LayoutModel",
            "_view_count": null,
            "_view_module": "@jupyter-widgets/base",
            "_view_module_version": "1.2.0",
            "_view_name": "LayoutView",
            "align_content": null,
            "align_items": null,
            "align_self": null,
            "border": null,
            "bottom": null,
            "display": null,
            "flex": null,
            "flex_flow": null,
            "grid_area": null,
            "grid_auto_columns": null,
            "grid_auto_flow": null,
            "grid_auto_rows": null,
            "grid_column": null,
            "grid_gap": null,
            "grid_row": null,
            "grid_template_areas": null,
            "grid_template_columns": null,
            "grid_template_rows": null,
            "height": null,
            "justify_content": null,
            "justify_items": null,
            "left": null,
            "margin": null,
            "max_height": null,
            "max_width": null,
            "min_height": null,
            "min_width": null,
            "object_fit": null,
            "object_position": null,
            "order": null,
            "overflow": null,
            "overflow_x": null,
            "overflow_y": null,
            "padding": null,
            "right": null,
            "top": null,
            "visibility": null,
            "width": null
          }
        },
        "ce6de2b2a3474d0db477e3df4f00469b": {
          "model_module": "@jupyter-widgets/controls",
          "model_name": "ProgressStyleModel",
          "model_module_version": "1.5.0",
          "state": {
            "_model_module": "@jupyter-widgets/controls",
            "_model_module_version": "1.5.0",
            "_model_name": "ProgressStyleModel",
            "_view_count": null,
            "_view_module": "@jupyter-widgets/base",
            "_view_module_version": "1.2.0",
            "_view_name": "StyleView",
            "bar_color": null,
            "description_width": ""
          }
        },
        "2c436b63288c4cef95a3397f85f398bc": {
          "model_module": "@jupyter-widgets/base",
          "model_name": "LayoutModel",
          "model_module_version": "1.2.0",
          "state": {
            "_model_module": "@jupyter-widgets/base",
            "_model_module_version": "1.2.0",
            "_model_name": "LayoutModel",
            "_view_count": null,
            "_view_module": "@jupyter-widgets/base",
            "_view_module_version": "1.2.0",
            "_view_name": "LayoutView",
            "align_content": null,
            "align_items": null,
            "align_self": null,
            "border": null,
            "bottom": null,
            "display": null,
            "flex": null,
            "flex_flow": null,
            "grid_area": null,
            "grid_auto_columns": null,
            "grid_auto_flow": null,
            "grid_auto_rows": null,
            "grid_column": null,
            "grid_gap": null,
            "grid_row": null,
            "grid_template_areas": null,
            "grid_template_columns": null,
            "grid_template_rows": null,
            "height": null,
            "justify_content": null,
            "justify_items": null,
            "left": null,
            "margin": null,
            "max_height": null,
            "max_width": null,
            "min_height": null,
            "min_width": null,
            "object_fit": null,
            "object_position": null,
            "order": null,
            "overflow": null,
            "overflow_x": null,
            "overflow_y": null,
            "padding": null,
            "right": null,
            "top": null,
            "visibility": null,
            "width": null
          }
        },
        "e8cb01905222482ebd73528303aae6c0": {
          "model_module": "@jupyter-widgets/controls",
          "model_name": "DescriptionStyleModel",
          "model_module_version": "1.5.0",
          "state": {
            "_model_module": "@jupyter-widgets/controls",
            "_model_module_version": "1.5.0",
            "_model_name": "DescriptionStyleModel",
            "_view_count": null,
            "_view_module": "@jupyter-widgets/base",
            "_view_module_version": "1.2.0",
            "_view_name": "StyleView",
            "description_width": ""
          }
        },
        "a714c0d4e8c8499cbb9533ab018ef22d": {
          "model_module": "@jupyter-widgets/controls",
          "model_name": "HBoxModel",
          "model_module_version": "1.5.0",
          "state": {
            "_dom_classes": [],
            "_model_module": "@jupyter-widgets/controls",
            "_model_module_version": "1.5.0",
            "_model_name": "HBoxModel",
            "_view_count": null,
            "_view_module": "@jupyter-widgets/controls",
            "_view_module_version": "1.5.0",
            "_view_name": "HBoxView",
            "box_style": "",
            "children": [
              "IPY_MODEL_6a74e8865719408cb5646fec0669c986",
              "IPY_MODEL_a73ef79a5a1e4a94ac72e7dc2014b18d",
              "IPY_MODEL_2033a4264ae840de8617d8acdba02d27"
            ],
            "layout": "IPY_MODEL_8185fa1fcdb8438fb1c2ed5d0b23665f"
          }
        },
        "6a74e8865719408cb5646fec0669c986": {
          "model_module": "@jupyter-widgets/controls",
          "model_name": "HTMLModel",
          "model_module_version": "1.5.0",
          "state": {
            "_dom_classes": [],
            "_model_module": "@jupyter-widgets/controls",
            "_model_module_version": "1.5.0",
            "_model_name": "HTMLModel",
            "_view_count": null,
            "_view_module": "@jupyter-widgets/controls",
            "_view_module_version": "1.5.0",
            "_view_name": "HTMLView",
            "description": "",
            "description_tooltip": null,
            "layout": "IPY_MODEL_81591d4033344371b9d44fa94cbbd33c",
            "placeholder": "​",
            "style": "IPY_MODEL_d30537ff8612488c990bb38fe0d00f79",
            "value": "100%"
          }
        },
        "a73ef79a5a1e4a94ac72e7dc2014b18d": {
          "model_module": "@jupyter-widgets/controls",
          "model_name": "FloatProgressModel",
          "model_module_version": "1.5.0",
          "state": {
            "_dom_classes": [],
            "_model_module": "@jupyter-widgets/controls",
            "_model_module_version": "1.5.0",
            "_model_name": "FloatProgressModel",
            "_view_count": null,
            "_view_module": "@jupyter-widgets/controls",
            "_view_module_version": "1.5.0",
            "_view_name": "ProgressView",
            "bar_style": "success",
            "description": "",
            "description_tooltip": null,
            "layout": "IPY_MODEL_f07b52b9f0884d6891dc6f0df4b3e043",
            "max": 6,
            "min": 0,
            "orientation": "horizontal",
            "style": "IPY_MODEL_6e65e5d6575f40aeaa8b5c097ef30ac6",
            "value": 6
          }
        },
        "2033a4264ae840de8617d8acdba02d27": {
          "model_module": "@jupyter-widgets/controls",
          "model_name": "HTMLModel",
          "model_module_version": "1.5.0",
          "state": {
            "_dom_classes": [],
            "_model_module": "@jupyter-widgets/controls",
            "_model_module_version": "1.5.0",
            "_model_name": "HTMLModel",
            "_view_count": null,
            "_view_module": "@jupyter-widgets/controls",
            "_view_module_version": "1.5.0",
            "_view_name": "HTMLView",
            "description": "",
            "description_tooltip": null,
            "layout": "IPY_MODEL_b11edfec8c2e4b51b56f305434ea33fa",
            "placeholder": "​",
            "style": "IPY_MODEL_96609e2175e84297b607c2fc5c4a9702",
            "value": " 6/6 [00:41&lt;00:00,  7.01s/it]"
          }
        },
        "8185fa1fcdb8438fb1c2ed5d0b23665f": {
          "model_module": "@jupyter-widgets/base",
          "model_name": "LayoutModel",
          "model_module_version": "1.2.0",
          "state": {
            "_model_module": "@jupyter-widgets/base",
            "_model_module_version": "1.2.0",
            "_model_name": "LayoutModel",
            "_view_count": null,
            "_view_module": "@jupyter-widgets/base",
            "_view_module_version": "1.2.0",
            "_view_name": "LayoutView",
            "align_content": null,
            "align_items": null,
            "align_self": null,
            "border": null,
            "bottom": null,
            "display": null,
            "flex": null,
            "flex_flow": null,
            "grid_area": null,
            "grid_auto_columns": null,
            "grid_auto_flow": null,
            "grid_auto_rows": null,
            "grid_column": null,
            "grid_gap": null,
            "grid_row": null,
            "grid_template_areas": null,
            "grid_template_columns": null,
            "grid_template_rows": null,
            "height": null,
            "justify_content": null,
            "justify_items": null,
            "left": null,
            "margin": null,
            "max_height": null,
            "max_width": null,
            "min_height": null,
            "min_width": null,
            "object_fit": null,
            "object_position": null,
            "order": null,
            "overflow": null,
            "overflow_x": null,
            "overflow_y": null,
            "padding": null,
            "right": null,
            "top": null,
            "visibility": null,
            "width": null
          }
        },
        "81591d4033344371b9d44fa94cbbd33c": {
          "model_module": "@jupyter-widgets/base",
          "model_name": "LayoutModel",
          "model_module_version": "1.2.0",
          "state": {
            "_model_module": "@jupyter-widgets/base",
            "_model_module_version": "1.2.0",
            "_model_name": "LayoutModel",
            "_view_count": null,
            "_view_module": "@jupyter-widgets/base",
            "_view_module_version": "1.2.0",
            "_view_name": "LayoutView",
            "align_content": null,
            "align_items": null,
            "align_self": null,
            "border": null,
            "bottom": null,
            "display": null,
            "flex": null,
            "flex_flow": null,
            "grid_area": null,
            "grid_auto_columns": null,
            "grid_auto_flow": null,
            "grid_auto_rows": null,
            "grid_column": null,
            "grid_gap": null,
            "grid_row": null,
            "grid_template_areas": null,
            "grid_template_columns": null,
            "grid_template_rows": null,
            "height": null,
            "justify_content": null,
            "justify_items": null,
            "left": null,
            "margin": null,
            "max_height": null,
            "max_width": null,
            "min_height": null,
            "min_width": null,
            "object_fit": null,
            "object_position": null,
            "order": null,
            "overflow": null,
            "overflow_x": null,
            "overflow_y": null,
            "padding": null,
            "right": null,
            "top": null,
            "visibility": null,
            "width": null
          }
        },
        "d30537ff8612488c990bb38fe0d00f79": {
          "model_module": "@jupyter-widgets/controls",
          "model_name": "DescriptionStyleModel",
          "model_module_version": "1.5.0",
          "state": {
            "_model_module": "@jupyter-widgets/controls",
            "_model_module_version": "1.5.0",
            "_model_name": "DescriptionStyleModel",
            "_view_count": null,
            "_view_module": "@jupyter-widgets/base",
            "_view_module_version": "1.2.0",
            "_view_name": "StyleView",
            "description_width": ""
          }
        },
        "f07b52b9f0884d6891dc6f0df4b3e043": {
          "model_module": "@jupyter-widgets/base",
          "model_name": "LayoutModel",
          "model_module_version": "1.2.0",
          "state": {
            "_model_module": "@jupyter-widgets/base",
            "_model_module_version": "1.2.0",
            "_model_name": "LayoutModel",
            "_view_count": null,
            "_view_module": "@jupyter-widgets/base",
            "_view_module_version": "1.2.0",
            "_view_name": "LayoutView",
            "align_content": null,
            "align_items": null,
            "align_self": null,
            "border": null,
            "bottom": null,
            "display": null,
            "flex": null,
            "flex_flow": null,
            "grid_area": null,
            "grid_auto_columns": null,
            "grid_auto_flow": null,
            "grid_auto_rows": null,
            "grid_column": null,
            "grid_gap": null,
            "grid_row": null,
            "grid_template_areas": null,
            "grid_template_columns": null,
            "grid_template_rows": null,
            "height": null,
            "justify_content": null,
            "justify_items": null,
            "left": null,
            "margin": null,
            "max_height": null,
            "max_width": null,
            "min_height": null,
            "min_width": null,
            "object_fit": null,
            "object_position": null,
            "order": null,
            "overflow": null,
            "overflow_x": null,
            "overflow_y": null,
            "padding": null,
            "right": null,
            "top": null,
            "visibility": null,
            "width": null
          }
        },
        "6e65e5d6575f40aeaa8b5c097ef30ac6": {
          "model_module": "@jupyter-widgets/controls",
          "model_name": "ProgressStyleModel",
          "model_module_version": "1.5.0",
          "state": {
            "_model_module": "@jupyter-widgets/controls",
            "_model_module_version": "1.5.0",
            "_model_name": "ProgressStyleModel",
            "_view_count": null,
            "_view_module": "@jupyter-widgets/base",
            "_view_module_version": "1.2.0",
            "_view_name": "StyleView",
            "bar_color": null,
            "description_width": ""
          }
        },
        "b11edfec8c2e4b51b56f305434ea33fa": {
          "model_module": "@jupyter-widgets/base",
          "model_name": "LayoutModel",
          "model_module_version": "1.2.0",
          "state": {
            "_model_module": "@jupyter-widgets/base",
            "_model_module_version": "1.2.0",
            "_model_name": "LayoutModel",
            "_view_count": null,
            "_view_module": "@jupyter-widgets/base",
            "_view_module_version": "1.2.0",
            "_view_name": "LayoutView",
            "align_content": null,
            "align_items": null,
            "align_self": null,
            "border": null,
            "bottom": null,
            "display": null,
            "flex": null,
            "flex_flow": null,
            "grid_area": null,
            "grid_auto_columns": null,
            "grid_auto_flow": null,
            "grid_auto_rows": null,
            "grid_column": null,
            "grid_gap": null,
            "grid_row": null,
            "grid_template_areas": null,
            "grid_template_columns": null,
            "grid_template_rows": null,
            "height": null,
            "justify_content": null,
            "justify_items": null,
            "left": null,
            "margin": null,
            "max_height": null,
            "max_width": null,
            "min_height": null,
            "min_width": null,
            "object_fit": null,
            "object_position": null,
            "order": null,
            "overflow": null,
            "overflow_x": null,
            "overflow_y": null,
            "padding": null,
            "right": null,
            "top": null,
            "visibility": null,
            "width": null
          }
        },
        "96609e2175e84297b607c2fc5c4a9702": {
          "model_module": "@jupyter-widgets/controls",
          "model_name": "DescriptionStyleModel",
          "model_module_version": "1.5.0",
          "state": {
            "_model_module": "@jupyter-widgets/controls",
            "_model_module_version": "1.5.0",
            "_model_name": "DescriptionStyleModel",
            "_view_count": null,
            "_view_module": "@jupyter-widgets/base",
            "_view_module_version": "1.2.0",
            "_view_name": "StyleView",
            "description_width": ""
          }
        }
      }
    }
  },
  "nbformat": 4,
  "nbformat_minor": 0
}