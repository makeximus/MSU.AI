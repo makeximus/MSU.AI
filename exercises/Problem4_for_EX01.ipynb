{
  "cells": [
    {
      "cell_type": "markdown",
      "source": [
        " **Задание 4 (дополнительное) Пользовался информацией из статьи на Хабре https://habr.com/ru/articles/575130/.**"
      ],
      "metadata": {
        "id": "3Jr0ndHDx5id"
      }
    },
    {
      "cell_type": "markdown",
      "metadata": {
        "id": "Sm6gSUeoG6KR"
      },
      "source": [
        "# Задание 1. Загрузка данных и визуализация"
      ]
    },
    {
      "cell_type": "markdown",
      "metadata": {
        "id": "xhxBXbaTG6KY"
      },
      "source": [
        "В этом задании мы познакомимся подробнее с тем, как работать с табличными данными и визуализировать их."
      ]
    },
    {
      "cell_type": "markdown",
      "metadata": {
        "id": "g071cp4NG6KZ"
      },
      "source": [
        "Импорт необходимых библиотек:"
      ]
    },
    {
      "cell_type": "code",
      "execution_count": null,
      "metadata": {
        "id": "U0CYbkwmG6KZ"
      },
      "outputs": [],
      "source": [
        "import numpy as np\n",
        "import pandas as pd\n",
        "import seaborn as sns\n",
        "import matplotlib.pyplot as plt\n",
        "from sklearn.datasets import load_wine"
      ]
    },
    {
      "cell_type": "markdown",
      "metadata": {
        "id": "pX0TPVFeG6Kc"
      },
      "source": [
        "Загрузите [Wine Data Set](https://archive.ics.uci.edu/ml/datasets/wine)\n",
        "\n",
        "Удобный способ сделать это — использовать модуль [sklearn.datasets](https://scikit-learn.org/stable/modules/generated/sklearn.datasets.load_wine.html)."
      ]
    },
    {
      "cell_type": "code",
      "execution_count": null,
      "metadata": {
        "id": "ul2UkJ7lG6Kc"
      },
      "outputs": [],
      "source": [
        "# Download dataset\n",
        "data, labels = load_wine(return_X_y=True, as_frame=True)"
      ]
    },
    {
      "cell_type": "markdown",
      "metadata": {
        "id": "4k3_5su6G6Kd"
      },
      "source": [
        "И `data`, и `labels` — это N-мерные массивы. **Посмотрите, какие у них размеры**"
      ]
    },
    {
      "cell_type": "code",
      "execution_count": null,
      "metadata": {
        "id": "ujNan5Y9G6Ke"
      },
      "outputs": [],
      "source": [
        "# Your code here\n"
      ]
    },
    {
      "cell_type": "markdown",
      "metadata": {
        "id": "dURyVYTpG6Kf"
      },
      "source": [
        "И какие метки классов представлены."
      ]
    },
    {
      "cell_type": "code",
      "execution_count": null,
      "metadata": {
        "id": "Z6ipgIvwG6Kg"
      },
      "outputs": [],
      "source": [
        "# Your code here\n"
      ]
    },
    {
      "cell_type": "markdown",
      "metadata": {
        "id": "Pgbqh1nmG6Kh"
      },
      "source": [
        "Выведем первые 3 строки датасета."
      ]
    },
    {
      "cell_type": "code",
      "execution_count": null,
      "metadata": {
        "id": "skbGPw9aG6Kh"
      },
      "outputs": [],
      "source": [
        "data.head(3)"
      ]
    },
    {
      "cell_type": "markdown",
      "metadata": {
        "id": "s4dhcqSTG6Ki"
      },
      "source": [
        "По умолчанию Pandas выводит всего 20 столбцов и 60 строк, поэтому если ваш датафрейм больше, воспользуйтесь функцией `set_option`:\n",
        "\n",
        "```\n",
        "pd.set_option('display.max_columns', 200)\n",
        "pd.set_option('display.max_rows', 100)\n",
        "pd.set_option('display.min_rows', 100)\n",
        "pd.set_option('display.expand_frame_repr', True)\n",
        "```\n",
        "\n",
        "Текущее значение параметра можно вывести подобным образом:\n",
        "\n",
        "```\n",
        "pd.get_option(\"display.max_rows\")\n",
        "```\n",
        "\n",
        "Выведите, какие значения сейчас, и поменяйте их так, чтобы открывался весь датафрейм."
      ]
    },
    {
      "cell_type": "code",
      "execution_count": null,
      "metadata": {
        "id": "Prz5fMosG6Ki"
      },
      "outputs": [],
      "source": [
        "# Your code here"
      ]
    },
    {
      "cell_type": "code",
      "execution_count": null,
      "metadata": {
        "id": "p0ViFTcpG6Kj"
      },
      "outputs": [],
      "source": [
        "# Your code here\n"
      ]
    },
    {
      "cell_type": "markdown",
      "metadata": {
        "id": "GIBKmcWqG6Kk"
      },
      "source": [
        "Верните значения обратно к тем, что были по умолчанию."
      ]
    },
    {
      "cell_type": "code",
      "execution_count": null,
      "metadata": {
        "id": "4fcNV4XrG6Kk"
      },
      "outputs": [],
      "source": [
        "# Your code here"
      ]
    },
    {
      "cell_type": "markdown",
      "metadata": {
        "id": "v8hj_fIKG6Kl"
      },
      "source": [
        "Выведем названия столбцов:"
      ]
    },
    {
      "cell_type": "code",
      "execution_count": null,
      "metadata": {
        "id": "-VTsqbB6G6Kl"
      },
      "outputs": [],
      "source": [
        "print(data.columns)"
      ]
    },
    {
      "cell_type": "markdown",
      "metadata": {
        "id": "JLPvokdWG6Km"
      },
      "source": [
        "Чтобы посмотреть общую информацию по датафрейму и всем признакам, воспользуемся методом `info`:"
      ]
    },
    {
      "cell_type": "code",
      "execution_count": null,
      "metadata": {
        "id": "Jv1oi47UG6Km"
      },
      "outputs": [],
      "source": [
        "print(data.info())"
      ]
    },
    {
      "cell_type": "markdown",
      "metadata": {
        "id": "LbQbT7ODG6Km"
      },
      "source": [
        "В нашем случае все колонки имеют тип `float64`.\n",
        "\n",
        "* **float64**: число с плавающей точкой от $4.9*10^{-324}$ до $1.8*10^{308}$, занимает 8 байт.\n",
        "\n",
        "Кажется избыточным с учетом разброса значений в колонках. Кстати, какой он? Посмотрим на первые три колонки. Если убрать имена столбцов, то будет выведена вся статистика.\n",
        "\n",
        "[NumPy Standard Data Types](https://jakevdp.github.io/PythonDataScienceHandbook/02.01-understanding-data-types.html#NumPy-Standard-Data-Types)"
      ]
    },
    {
      "cell_type": "code",
      "execution_count": null,
      "metadata": {
        "id": "R5tuwSMfG6Kn"
      },
      "outputs": [],
      "source": [
        "data[['alcohol','malic_acid','ash']].describe()"
      ]
    },
    {
      "cell_type": "markdown",
      "metadata": {
        "id": "UblSEnGyG6Kn"
      },
      "source": [
        "Метод `describe` показывает основные статистические характеристики данных по каждому *числовому признаку*: число непропущенных значений, среднее, стандартное отклонение, диапазон, медиану, 0.25 и 0.75 квартили.\n",
        "\n",
        "**Изменить тип колонки** можно с помощью метода `astype`. Применим этот метод к признаку *alcohol* и переведём его в int16:"
      ]
    },
    {
      "cell_type": "code",
      "execution_count": null,
      "metadata": {
        "id": "_CXzDvekG6Kn"
      },
      "outputs": [],
      "source": [
        "data['alcohol'] = data['alcohol'].astype('int16')"
      ]
    },
    {
      "cell_type": "markdown",
      "metadata": {
        "id": "tQAwBuUnG6Kn"
      },
      "source": [
        "Переведите остальные признаки в подходящие типы и проверьте, что типы поменялись."
      ]
    },
    {
      "cell_type": "code",
      "execution_count": null,
      "metadata": {
        "id": "FLC_rfWQG6Ko"
      },
      "outputs": [],
      "source": [
        "# Your code here"
      ]
    },
    {
      "cell_type": "markdown",
      "metadata": {
        "id": "R9GDXABMG6Ko"
      },
      "source": [
        "**Сортировка**\n",
        "\n",
        "DataFrame можно отсортировать по значению какого-нибудь из признаков. Например, по *alcohol* (`ascending=False` для сортировки по убыванию):"
      ]
    },
    {
      "cell_type": "code",
      "execution_count": null,
      "metadata": {
        "id": "tOggnEu2G6Ko"
      },
      "outputs": [],
      "source": [
        "data.sort_values(by='alcohol', ascending=False).head()"
      ]
    },
    {
      "cell_type": "markdown",
      "metadata": {
        "id": "Oz4ms7xoG6Ko"
      },
      "source": [
        "Сортировать можно и по группе столбцов, подав список с названиями. Попробуйте."
      ]
    },
    {
      "cell_type": "code",
      "execution_count": null,
      "metadata": {
        "id": "Z0to2p08G6Ko"
      },
      "outputs": [],
      "source": [
        "# Your code here"
      ]
    },
    {
      "cell_type": "markdown",
      "metadata": {
        "id": "zvut8t4nG6Ko"
      },
      "source": [
        "**Индексация и извлечение данных**\n",
        "\n",
        "DataFrame можно индексировать по-разному. Для извлечения отдельного столбца можно использовать конструкцию вида `DataFrame['Name']`. Для логической индексации — `df[P(df['Name'])]`, где $P$ — это некоторое логическое условие, проверяемое для каждого элемента столбца *Name*.\n",
        "\n",
        "Воспользуемся этим для ответа на вопрос: какое среднее содержание магния в алкоголе с крепостью ниже $12\\%$?"
      ]
    },
    {
      "cell_type": "code",
      "execution_count": null,
      "metadata": {
        "id": "oU6pIWmaG6Kp"
      },
      "outputs": [],
      "source": [
        "data['magnesium'][data['alcohol'] <= 12].mean()"
      ]
    },
    {
      "cell_type": "markdown",
      "metadata": {
        "id": "ZR-ow1VoG6Kp"
      },
      "source": [
        "Pandas позволяет комбинировать условия через логические операции. Сформулируйте какое-нибудь составное условие."
      ]
    },
    {
      "cell_type": "code",
      "execution_count": null,
      "metadata": {
        "id": "RVwuxqzgG6Kp"
      },
      "outputs": [],
      "source": [
        "# Your code here"
      ]
    },
    {
      "cell_type": "markdown",
      "metadata": {
        "id": "ohjBStvtG6Kp"
      },
      "source": [
        "**Применение функций к ячейкам, столбцам и строкам**\n",
        "\n",
        "Применение функции **к каждому столбцу**: `apply`.\n",
        "\n",
        "\n"
      ]
    },
    {
      "cell_type": "code",
      "execution_count": null,
      "metadata": {
        "id": "sP06z0GVG6Kp"
      },
      "outputs": [],
      "source": [
        "data.apply(np.max)"
      ]
    },
    {
      "cell_type": "markdown",
      "metadata": {
        "id": "heeuAWxhG6Kq"
      },
      "source": [
        "Метод apply можно использовать и для того, чтобы применить функцию к каждой строке. Для этого нужно указать `axis=1`. Попробуйте."
      ]
    },
    {
      "cell_type": "code",
      "execution_count": null,
      "metadata": {
        "id": "07KNBTgdG6Kq"
      },
      "outputs": [],
      "source": [
        "# Your code here"
      ]
    },
    {
      "cell_type": "markdown",
      "metadata": {
        "id": "VhT5oXjWG6K9"
      },
      "source": [
        "Применение функции **к каждой ячейке** столбца: `map`.\n",
        "\n",
        "Например, метод map можно использовать для замены значений в колонке, передав ему в качестве аргумента словарь вида `{old_value: new_value}`."
      ]
    },
    {
      "cell_type": "code",
      "execution_count": null,
      "metadata": {
        "id": "lBUiLVqPG6K9"
      },
      "outputs": [],
      "source": [
        "d = {2 : 'low', 3 : 'low'}\n",
        "data['ash'] = data['ash'].map(d)\n",
        "data.head(2)"
      ]
    },
    {
      "cell_type": "markdown",
      "metadata": {
        "id": "yFCkhrIYG6K9"
      },
      "source": [
        "Попробуйте какую-нибудь свою замену. Например, вы можете подать **lambda-функцию**.\n",
        "\n",
        "[Лямбда-функции в Python](https://habr.com/ru/companies/piter/articles/674234/)"
      ]
    },
    {
      "cell_type": "code",
      "execution_count": null,
      "metadata": {
        "id": "c-ImrmPKG6K-"
      },
      "outputs": [],
      "source": [
        "# Your code here"
      ]
    },
    {
      "cell_type": "markdown",
      "metadata": {
        "id": "015oTtLdG6K-"
      },
      "source": [
        "**Группировка данных**\n",
        "\n",
        "В общем случае группировка данных в Pandas выглядит следующим образом:\n",
        "\n",
        "`df.groupby(by=grouping_columns)[columns_to_show].function()`\n",
        "\n",
        "Например, выведем статистики по трём столбцам в зависимости от значения признака alcohol."
      ]
    },
    {
      "cell_type": "code",
      "execution_count": null,
      "metadata": {
        "id": "8QM75MBKG6K-"
      },
      "outputs": [],
      "source": [
        "columns_to_show = ['malic_acid', 'total_phenols', 'proanthocyanins']\n",
        "\n",
        "data.groupby(['alcohol'])[columns_to_show].describe(percentiles=[])"
      ]
    },
    {
      "cell_type": "markdown",
      "metadata": {
        "id": "YeEPW9xAG6K_"
      },
      "source": [
        "Сделаем то же самое, но немного по-другому, передав в agg список функций:"
      ]
    },
    {
      "cell_type": "code",
      "execution_count": null,
      "metadata": {
        "id": "XP13o4EMG6K_"
      },
      "outputs": [],
      "source": [
        "data.groupby(['alcohol'])[columns_to_show].agg([np.mean, np.std, np.min, np.max])"
      ]
    },
    {
      "cell_type": "markdown",
      "metadata": {
        "id": "UxT5mAkgG6LA"
      },
      "source": [
        "Когда данных много, просто смотреть на цифры крайне неинформативно.\n",
        "\n",
        "Для визуализации данных в этом курсе мы будем использовать библиотеку `matplotlib`. **Давайте её импортируем**."
      ]
    },
    {
      "cell_type": "code",
      "execution_count": null,
      "metadata": {
        "id": "w041fMp1G6LA"
      },
      "outputs": [],
      "source": [
        "import matplotlib.pyplot as plt\n",
        "\n",
        "fig, axs = plt.subplots(figsize=(4,3))\n",
        "labels.hist()\n",
        "plt.suptitle(\"Label balance\")\n",
        "plt.show()"
      ]
    },
    {
      "cell_type": "markdown",
      "metadata": {
        "id": "pFdViCC3G6LA"
      },
      "source": [
        "Объединим данные и метки в один фрейм. Нам это потребуется для упрощения визуализации."
      ]
    },
    {
      "cell_type": "code",
      "execution_count": null,
      "metadata": {
        "id": "pTQN2GdMG6LA"
      },
      "outputs": [],
      "source": [
        "df = pd.concat([data, labels], axis=1)"
      ]
    },
    {
      "cell_type": "markdown",
      "metadata": {
        "id": "GZ-Jy8ZaG6LB"
      },
      "source": [
        "Теперь мы можем посмотреть, как меняется средняя крепость алкоголя в зависимости от значения метки в *target*. Реализация функции `plot` в `pandas` основана на библиотеке `matplotlib`.\n",
        "\n",
        "Здесь `show()` позволяет нам убрать служебные сообщения."
      ]
    },
    {
      "cell_type": "code",
      "execution_count": null,
      "metadata": {
        "id": "NxECTuhyG6LB"
      },
      "outputs": [],
      "source": [
        "df.groupby('target')['alcohol'].mean().plot(legend=True)\n",
        "plt.show()"
      ]
    },
    {
      "cell_type": "markdown",
      "metadata": {
        "id": "YPYnZU8QG6LC"
      },
      "source": [
        "C помощью параметра kind можно изменить тип графика, например, на **bar chart**. `Matplotlib` позволяет очень гибко настраивать графики. На графике можно изменить почти все, что угодно, но потребуется порыться в документации и найти нужные параметры. Например, параметр `rot` отвечает за угол наклона подписей к оси `x`"
      ]
    },
    {
      "cell_type": "code",
      "execution_count": null,
      "metadata": {
        "id": "qrLQi0C6G6LC"
      },
      "outputs": [],
      "source": [
        "df.groupby('target')['alcohol'].mean().plot(kind='bar', legend=True, rot=45)\n",
        "plt.show()"
      ]
    },
    {
      "cell_type": "markdown",
      "metadata": {
        "id": "kp2tQSj8G6LC"
      },
      "source": [
        "**Seaborn**\n",
        "\n",
        "Теперь давайте перейдем к библиотеке `seaborn`. `Seaborn` — более высокоуровневое API на базе библиотеки `matplotlib`. `Seaborn` содержит более адекватные дефолтные настройки оформления графиков. Также в библиотеке есть достаточно сложные типы визуализации, которые в `matplotlib` потребовали бы большого количество кода."
      ]
    },
    {
      "cell_type": "markdown",
      "metadata": {
        "id": "xfYUXcwzG6LD"
      },
      "source": [
        "Познакомимся с первым таким \"сложным\" типом графиков pair plot (scatter plot matrix). Эта визуализация поможет нам посмотреть на одной картинке, как связаны между собой различные признаки."
      ]
    },
    {
      "cell_type": "code",
      "execution_count": null,
      "metadata": {
        "id": "W_7Gsk8JG6LD"
      },
      "outputs": [],
      "source": [
        "import seaborn as sns\n",
        "\n",
        "data, labels = load_wine(return_X_y=True, as_frame=True)\n",
        "df = pd.concat([data, labels], axis=1)\n",
        "cols = ['alcohol', 'malic_acid', 'ash', 'target']\n",
        "sns_plot = sns.pairplot(df[cols])\n",
        "sns_plot.savefig('pairplot.png')"
      ]
    },
    {
      "cell_type": "markdown",
      "metadata": {
        "id": "YrKt6UJVG6LE"
      },
      "source": [
        "Как можно видеть, на диагонали матрицы графиков расположены гистограммы распределений признака. Остальные же графики — это обычные `scatter plots` для соответствующих пар признаков.\n",
        "\n",
        "Для сохранения графиков в файлы стоит использовать метод `savefig`.\n",
        "\n",
        "Выведите аналогичный график по иным 5 колонкам."
      ]
    },
    {
      "cell_type": "code",
      "execution_count": null,
      "metadata": {
        "id": "7lgz8QbgG6LE"
      },
      "outputs": [],
      "source": [
        "# Your code here\n"
      ]
    },
    {
      "cell_type": "markdown",
      "metadata": {
        "id": "6cWkmcUoG6LF"
      },
      "source": [
        "С помощью `seaborn` можно построить и распределение dist plot. Для примера посмотрим на распределение `color_intensity`. Обратите внимание, что так тоже можно обращаться к колонкам."
      ]
    },
    {
      "cell_type": "code",
      "execution_count": null,
      "metadata": {
        "id": "3oKOKPO_G6LF"
      },
      "outputs": [],
      "source": [
        "sns.histplot(df.color_intensity, kde=True)\n",
        "plt.show()"
      ]
    },
    {
      "cell_type": "markdown",
      "metadata": {
        "id": "1VV7Kx_NG6LF"
      },
      "source": [
        "Для того, чтобы подробнее посмотреть на взаимосвязь двух численных признаков, есть еще и `joint plot` — это гибрид `scatter plot` и `histogram`. Посмотрим на то, как связаны между собой 5 наиболее крепких напитков и `flavanoids`."
      ]
    },
    {
      "cell_type": "code",
      "execution_count": null,
      "metadata": {
        "id": "FV_kHDm-G6LG"
      },
      "outputs": [],
      "source": [
        "top_alcohol = df.alcohol.value_counts().sort_values(ascending = False).head(5).index.values\n",
        "sns.boxplot(y=\"alcohol\", x=\"flavanoids\", data=df[df.alcohol.isin(top_alcohol)], orient=\"h\")\n",
        "plt.show()"
      ]
    },
    {
      "cell_type": "markdown",
      "metadata": {
        "id": "d28OsbzJG6LG"
      },
      "source": [
        "`Box plot` состоит из коробки (поэтому он и называется `box plot`), усов и точек (иначе его называют *ящик с усами*). Коробка показывает интерквартильный размах распределения, то есть соответственно 25% (Q1) и 75% (Q3) перцентили. Черта внутри коробки обозначает медиану распределения.\n",
        "\n",
        "Усы отображают весь разброс точек кроме выбросов, то есть минимальные и максимальные значения, которые попадают в промежуток ($Q1 - 1.5*IQR$, $Q3 + 1.5*IQR$), где $IQR = Q3 - Q1$ — интерквартильный размах. Точками на графике обозначаются выбросы (outliers) — те значения, которые не вписываются в промежуток значений, заданный усами графика.\n",
        "\n",
        "[[wiki] Box plot](https://en.wikipedia.org/wiki/Box_plot)"
      ]
    },
    {
      "cell_type": "markdown",
      "metadata": {
        "id": "K1qO6NEDG6LH"
      },
      "source": [
        "**Постройте свой ящик с усами!** Для этого выберите какую-нибудь подвыборку данных, которую можно визуально анализировать."
      ]
    },
    {
      "cell_type": "code",
      "execution_count": null,
      "metadata": {
        "id": "x_NRhhhcG6LH"
      },
      "outputs": [],
      "source": [
        "# Your code here"
      ]
    },
    {
      "cell_type": "markdown",
      "metadata": {
        "id": "dFcAuL2VG6LH"
      },
      "source": [
        "Последний график, который рассмотрим в этом задании — это **heat map**. Сгруппируем значения крепости в 5 бинов (примерно такой же подход при построении гистограмм), и посмотрим на распределение численного признака (`proanthocyanins`) по двум категориальным."
      ]
    },
    {
      "cell_type": "code",
      "execution_count": null,
      "metadata": {
        "id": "NJFa28nyG6LI"
      },
      "outputs": [],
      "source": [
        "df['alcoholGroup'] = pd.cut(df['alcohol'], bins=5)"
      ]
    },
    {
      "cell_type": "code",
      "execution_count": null,
      "metadata": {
        "id": "RfwsYVnDG6LI"
      },
      "outputs": [],
      "source": [
        "platform_genre_sales = df.pivot_table(\n",
        "                        index='target',\n",
        "                        columns='alcoholGroup',\n",
        "                        values='proanthocyanins',\n",
        "                        aggfunc=sum).fillna(0).applymap(float)\n",
        "sns.heatmap(platform_genre_sales, annot=True, fmt=\".1f\", linewidths=.05)\n",
        "plt.show()"
      ]
    },
    {
      "cell_type": "markdown",
      "metadata": {
        "id": "D363J9jgG6LJ"
      },
      "source": [
        "Постройте аналогичную тепловую карту. Быть может, вы ожидаете какие-то закономерности?"
      ]
    },
    {
      "cell_type": "code",
      "execution_count": null,
      "metadata": {
        "id": "lrTDOQpvG6LJ"
      },
      "outputs": [],
      "source": [
        "# Your code here"
      ]
    },
    {
      "cell_type": "markdown",
      "metadata": {
        "id": "w0v4GgHiG6LK"
      },
      "source": [
        "В дальнейших лекциях и заданиях на основе подобных визуализаций и подсчётов вы будете производить разведочный анализ и строить гипотезы о том, какой **baseline** можно получить, выведя грубую (или не очень) связь между данными и целевой переменной."
      ]
    },
    {
      "cell_type": "markdown",
      "source": [
        "В следующем задании вы продложите анализ датасета."
      ],
      "metadata": {
        "id": "JMv3Kd_FvMZB"
      }
    },
    {
      "cell_type": "markdown",
      "metadata": {
        "id": "xx6ydPFWG6LK"
      },
      "source": [
        "## Формат результата"
      ]
    },
    {
      "cell_type": "markdown",
      "metadata": {
        "id": "46FE6nVIG6LK"
      },
      "source": [
        "Результат выполнения — таблицы и графики."
      ]
    },
    {
      "cell_type": "markdown",
      "metadata": {
        "id": "AjibPoQ5G6LL"
      },
      "source": [
        "# Задание 2. Алгоритм Nearest Neighbors"
      ]
    },
    {
      "cell_type": "markdown",
      "metadata": {
        "id": "LBLaMH4dG6LL"
      },
      "source": [
        "Хотя в лекции дан пример для изображений, реализация для табличных данных будет проще либо вообще может не отличаться от предложенной. В данном задании требуется самостоятельно реализовать алгоритм k-NN и применить его.\n",
        "\n",
        "P.S. Nearest Neighbor — это k-Nearest Neighbors при $k = 1$."
      ]
    },
    {
      "cell_type": "markdown",
      "metadata": {
        "id": "s22QTmzaG6LL"
      },
      "source": [
        "Импорт необходимых библиотек:"
      ]
    },
    {
      "cell_type": "code",
      "execution_count": null,
      "metadata": {
        "id": "8ChUEZeQG6LM"
      },
      "outputs": [],
      "source": [
        "import numpy as np\n",
        "from sklearn.datasets import load_wine\n",
        "from sklearn.model_selection import train_test_split"
      ]
    },
    {
      "cell_type": "markdown",
      "metadata": {
        "id": "m_xqWhffG6LN"
      },
      "source": [
        "Загрузим датасет:"
      ]
    },
    {
      "cell_type": "code",
      "execution_count": null,
      "metadata": {
        "id": "BtIS_Y8gG6LN"
      },
      "outputs": [],
      "source": [
        "# Download dataset\n",
        "data, labels = load_wine(return_X_y=True)"
      ]
    },
    {
      "cell_type": "markdown",
      "metadata": {
        "id": "9ULnbhnbG6LN"
      },
      "source": [
        "Разбейте ваши данные на тренировочную, валидационную и тестовую подвыборки.\n",
        "\n",
        "Вам пригодится метод `train_test_split()`. Выделите на обучение $60\\%$ данных, не забудьте про фиксирование `seed` генератора и *стратификацию* (параметры `random_state=42`, `stratify`)."
      ]
    },
    {
      "cell_type": "code",
      "execution_count": null,
      "metadata": {
        "id": "xfhbLwjlG6LO"
      },
      "outputs": [],
      "source": [
        "# Your code here\n",
        "x_train, x_tmp, y_train, y_tmp = train_test_split(data, labels, test_size=0.2, random_state=42, stratify=labels)\n",
        "x_val, x_test, y_val, y_test = train_test_split(x_tmp, y_tmp, test_size=0.2, random_state=42, stratify=y_tmp)"
      ]
    },
    {
      "cell_type": "code",
      "execution_count": null,
      "metadata": {
        "id": "6YNNI9LsG6LR",
        "colab": {
          "base_uri": "https://localhost:8080/"
        },
        "outputId": "c6493b4a-172a-401c-f93d-6e4216804e77"
      },
      "outputs": [
        {
          "output_type": "stream",
          "name": "stdout",
          "text": [
            "x_train (142, 13)\n",
            "x_test (28, 13)\n",
            "x_test (8, 13)\n"
          ]
        }
      ],
      "source": [
        "print(\"x_train\", x_train.shape)\n",
        "print(\"x_test\", x_val.shape)\n",
        "print(\"x_test\", x_test.shape)"
      ]
    },
    {
      "cell_type": "markdown",
      "metadata": {
        "id": "17mYqV--G6LS"
      },
      "source": [
        "Напишите функцию, которая считает расстояние L1 между 2-мя векторами.\n"
      ]
    },
    {
      "cell_type": "code",
      "execution_count": null,
      "metadata": {
        "id": "oomFcOFuG6LS"
      },
      "outputs": [],
      "source": [
        "def compute_L1(a, b):\n",
        "    return np.sum(np.abs(a - b)) # Your code here"
      ]
    },
    {
      "cell_type": "markdown",
      "metadata": {
        "id": "DCJYKwNEG6LS"
      },
      "source": [
        "Возьмите первую строку из валидационного набора. Посчитайте расстояние L1 от нее до всех строк тренировочного набора.\n",
        "\n",
        "В простейшем виде напишите `for loop`. Если вы знаете, что вы делаете, можете использовать *векторизацию*."
      ]
    },
    {
      "cell_type": "code",
      "source": [
        "distances = []\n",
        "for i in range(len(x_train)):\n",
        "    distances.append(compute_L1(x_val[0], x_train[i]))"
      ],
      "metadata": {
        "id": "dZFCBI5lqkqi"
      },
      "execution_count": null,
      "outputs": []
    },
    {
      "cell_type": "code",
      "execution_count": null,
      "metadata": {
        "id": "yb6fV7ZGG6LT",
        "colab": {
          "base_uri": "https://localhost:8080/"
        },
        "outputId": "33e64e7d-32ea-4995-b54a-f20a2210a6a3"
      },
      "outputs": [
        {
          "output_type": "execute_result",
          "data": {
            "text/plain": [
              "(142,)"
            ]
          },
          "metadata": {},
          "execution_count": 8
        }
      ],
      "source": [
        "# Your code here\n",
        "np.array(distances).shape"
      ]
    },
    {
      "cell_type": "markdown",
      "metadata": {
        "id": "qDxOHD9ZG6LT"
      },
      "source": [
        "Найдите индекс минимального расстояния.\n",
        "\n",
        "Используйте `np.argmin()`."
      ]
    },
    {
      "cell_type": "code",
      "execution_count": null,
      "metadata": {
        "id": "VELp08t9G6LT",
        "colab": {
          "base_uri": "https://localhost:8080/"
        },
        "outputId": "c98bf4b3-d442-417b-9eda-12eee8d6faad"
      },
      "outputs": [
        {
          "output_type": "execute_result",
          "data": {
            "text/plain": [
              "1"
            ]
          },
          "metadata": {},
          "execution_count": 9
        }
      ],
      "source": [
        "# Your code here\n",
        "indx = np.argmin(distances)\n",
        "indx\n"
      ]
    },
    {
      "cell_type": "markdown",
      "metadata": {
        "id": "DF2bKkAeG6LT"
      },
      "source": [
        "Выведите на экран свойства первого ириса в валидационном наборе и ириса, который максимально на него похож в тренировочном (по минимальному расстоянию)."
      ]
    },
    {
      "cell_type": "code",
      "execution_count": null,
      "metadata": {
        "id": "n-MwprE8G6LU",
        "colab": {
          "base_uri": "https://localhost:8080/"
        },
        "outputId": "fadba921-49c0-4b1e-9f66-6990755f152c"
      },
      "outputs": [
        {
          "output_type": "stream",
          "name": "stdout",
          "text": [
            "[1.372e+01 1.430e+00 2.500e+00 1.670e+01 1.080e+02 3.400e+00 3.670e+00\n",
            " 1.900e-01 2.040e+00 6.800e+00 8.900e-01 2.870e+00 1.285e+03]\n",
            "[1.373e+01 1.500e+00 2.700e+00 2.250e+01 1.010e+02 3.000e+00 3.250e+00\n",
            " 2.900e-01 2.380e+00 5.700e+00 1.190e+00 2.710e+00 1.285e+03]\n"
          ]
        }
      ],
      "source": [
        "# Your code here\n",
        "print(x_val[0])\n",
        "print(x_train[indx])"
      ]
    },
    {
      "cell_type": "markdown",
      "metadata": {
        "id": "GRrFEtkgG6LU"
      },
      "source": [
        "Выведите их метки"
      ]
    },
    {
      "cell_type": "code",
      "execution_count": null,
      "metadata": {
        "id": "AShMU4YPG6LU",
        "colab": {
          "base_uri": "https://localhost:8080/"
        },
        "outputId": "684191ec-c95f-4db3-bbd2-8b9e0ff8d8c3"
      },
      "outputs": [
        {
          "output_type": "stream",
          "name": "stdout",
          "text": [
            "0\n",
            "0\n"
          ]
        }
      ],
      "source": [
        "# Your code here\n",
        "print(y_val[0])\n",
        "print(y_train[indx])"
      ]
    },
    {
      "cell_type": "markdown",
      "metadata": {
        "id": "36vI-51rG6LV"
      },
      "source": [
        "Напишите функцию для рассчёта двумерного массива расстояний между двумя выборками (от каждого объекта в первой выборке до каждого объекта во второй выборке).\n",
        "\n",
        "Рекомендуем заранее создать массив расстояний и заполнить его каким-нибудь очень маленьким числом (например, `np.inf`). Так вы сразу будете отлаживать алгоритм по размерности, а ещё это не будет требовать повторных выделений памяти при росте размера массива."
      ]
    },
    {
      "cell_type": "code",
      "execution_count": null,
      "metadata": {
        "id": "98d93XTiG6LV"
      },
      "outputs": [],
      "source": [
        "def compute_distances(train, sub, distance_func):\n",
        "    # Your code here\n",
        "    distances = np.full((sub.shape[0], train.shape[0]), np.inf)\n",
        "    for i in range(sub.shape[0]):\n",
        "       for j in range(train.shape[0]):\n",
        "         distances[i,j] = distance_func(sub[i], train[j])\n",
        "    return distances"
      ]
    },
    {
      "cell_type": "code",
      "execution_count": null,
      "metadata": {
        "id": "B3hD03HOG6LV"
      },
      "outputs": [],
      "source": [
        "distances = compute_distances(x_train, x_val, compute_L1)"
      ]
    },
    {
      "cell_type": "code",
      "execution_count": null,
      "metadata": {
        "id": "PDa5Pyx3G6LW",
        "colab": {
          "base_uri": "https://localhost:8080/"
        },
        "outputId": "1813d646-a42e-4c30-8d69-0329ff50bf9c"
      },
      "outputs": [
        {
          "output_type": "execute_result",
          "data": {
            "text/plain": [
              "(28, 142)"
            ]
          },
          "metadata": {},
          "execution_count": 14
        }
      ],
      "source": [
        "distances.shape"
      ]
    },
    {
      "cell_type": "code",
      "source": [
        "distances[12]"
      ],
      "metadata": {
        "colab": {
          "base_uri": "https://localhost:8080/"
        },
        "id": "sxstIbeR1iZw",
        "outputId": "53224906-cc33-4e74-8e08-b24776e9d742"
      },
      "execution_count": null,
      "outputs": [
        {
          "output_type": "execute_result",
          "data": {
            "text/plain": [
              "array([290.43    , 692.13    , 609.44    , 739.38    ,  66.14    ,\n",
              "       166.479999, 169.64    , 141.51    , 791.81    , 460.      ,\n",
              "        61.22    , 215.39    , 195.34    , 325.11    ,  18.25    ,\n",
              "       155.4     , 291.02    , 288.68    , 251.92    , 695.35    ,\n",
              "        83.93    , 294.07    , 574.86    ,  77.06    ,  80.69    ,\n",
              "       590.44    , 573.14    , 141.43    , 255.75    , 922.47    ,\n",
              "       149.45    , 699.56    , 691.65    , 724.38    , 212.      ,\n",
              "        28.79    , 254.77    , 130.57    , 423.99    ,  89.53    ,\n",
              "       431.8     , 207.18    , 118.57    , 125.45    , 128.22    ,\n",
              "        89.51    , 461.78    , 395.58    , 231.86    , 216.88    ,\n",
              "       491.24    , 209.94    , 280.01    ,  58.52    , 111.85    ,\n",
              "       253.77    , 160.48    , 163.66    , 136.4     , 459.3     ,\n",
              "       156.22    , 132.62    , 675.73    , 392.97    , 172.2     ,\n",
              "       665.3     , 293.98    , 180.2     , 353.57    , 267.3     ,\n",
              "       149.77    ,  48.17    ,  82.76    , 449.22    , 111.89    ,\n",
              "       121.43    , 248.67    , 226.76    , 275.46    , 194.17    ,\n",
              "       609.66    , 134.92    , 263.88    ,  20.08    , 397.49    ,\n",
              "       106.64    ,  84.82    ,  97.24    , 544.89    , 674.14    ,\n",
              "        57.43    , 242.09    , 169.38    , 536.7     , 510.06    ,\n",
              "       704.52    , 154.17    , 269.764   ,  55.27    , 170.8     ,\n",
              "       115.04    , 192.22    , 393.18    , 256.13    , 473.51    ,\n",
              "        66.97    ,  50.74    , 481.      , 497.42    , 258.25    ,\n",
              "       226.12    ,  43.57    , 194.07    , 226.97    , 145.3     ,\n",
              "       157.14    ,  44.94    ,  87.69    , 112.5     , 120.66    ,\n",
              "        30.93    , 105.51    , 104.29    ,  80.36    , 268.42    ,\n",
              "       868.17    , 447.62    , 258.72    , 900.33    ,  68.09    ,\n",
              "        48.15    ,  46.91    , 159.69    , 159.79    , 225.72    ,\n",
              "       187.48    , 303.72    , 102.59    ,  70.54    , 501.7     ,\n",
              "        79.82    ,  84.96    ])"
            ]
          },
          "metadata": {},
          "execution_count": 15
        }
      ]
    },
    {
      "cell_type": "markdown",
      "metadata": {
        "id": "O6aZ95cEG6LW"
      },
      "source": [
        "Определите точность Nearest Neighbors классификации на **валидационном** наборе.\n",
        "\n",
        "Для этого найдите индекс минимального значения для каждой строки массива distances."
      ]
    },
    {
      "cell_type": "code",
      "execution_count": null,
      "metadata": {
        "id": "6swYUSwVG6LW"
      },
      "outputs": [],
      "source": [
        "# Your code here\n",
        "indx_distances = []\n",
        "for i in range(len(distances)):\n",
        "    indx_distances.append(np.argmin(distances[i]))"
      ]
    },
    {
      "cell_type": "code",
      "source": [
        "indx_distances"
      ],
      "metadata": {
        "colab": {
          "base_uri": "https://localhost:8080/"
        },
        "id": "O8T7kWbv1cGD",
        "outputId": "8ea57331-0522-4047-e7c7-6e78a837e73e"
      },
      "execution_count": null,
      "outputs": [
        {
          "output_type": "execute_result",
          "data": {
            "text/plain": [
              "[1,\n",
              " 62,\n",
              " 85,\n",
              " 98,\n",
              " 68,\n",
              " 104,\n",
              " 138,\n",
              " 78,\n",
              " 136,\n",
              " 138,\n",
              " 116,\n",
              " 127,\n",
              " 14,\n",
              " 126,\n",
              " 29,\n",
              " 120,\n",
              " 139,\n",
              " 13,\n",
              " 129,\n",
              " 29,\n",
              " 29,\n",
              " 136,\n",
              " 60,\n",
              " 112,\n",
              " 4,\n",
              " 23,\n",
              " 106,\n",
              " 20]"
            ]
          },
          "metadata": {},
          "execution_count": 17
        }
      ]
    },
    {
      "cell_type": "markdown",
      "metadata": {
        "id": "L677sSzOG6LX"
      },
      "source": [
        "Теперь создадим массив `predicted_class`"
      ]
    },
    {
      "cell_type": "code",
      "execution_count": null,
      "metadata": {
        "id": "32qX1aXeG6LX"
      },
      "outputs": [],
      "source": [
        "predicted_class = y_train[indx_distances]"
      ]
    },
    {
      "cell_type": "markdown",
      "metadata": {
        "id": "2DQwukt7G6LX"
      },
      "source": [
        "И посмотрим, где класс предсказан правильно, а где нет."
      ]
    },
    {
      "cell_type": "code",
      "execution_count": null,
      "metadata": {
        "id": "NyBcQaFlG6LY",
        "colab": {
          "base_uri": "https://localhost:8080/"
        },
        "outputId": "959948f7-845e-4130-cb28-87d1272ea154"
      },
      "outputs": [
        {
          "output_type": "execute_result",
          "data": {
            "text/plain": [
              "array([ True,  True,  True, False,  True,  True, False,  True,  True,\n",
              "       False,  True,  True, False,  True,  True,  True,  True,  True,\n",
              "       False,  True,  True,  True,  True,  True,  True, False, False,\n",
              "        True])"
            ]
          },
          "metadata": {},
          "execution_count": 19
        }
      ],
      "source": [
        "y_val == predicted_class"
      ]
    },
    {
      "cell_type": "markdown",
      "metadata": {
        "id": "w0mXjucUG6LY"
      },
      "source": [
        "**Посчитайте точность (accuracy)**\n",
        "\n",
        "В Python с булевыми значениями можно производить математические операции (`True = 1, False = 0`). Значение accuracy должно быть более $65\\%$."
      ]
    },
    {
      "cell_type": "code",
      "execution_count": null,
      "metadata": {
        "id": "tL1aXGB8G6LY",
        "colab": {
          "base_uri": "https://localhost:8080/"
        },
        "outputId": "17e51147-4347-4f68-f3d2-b6ec1d5528c3"
      },
      "outputs": [
        {
          "output_type": "stream",
          "name": "stdout",
          "text": [
            "Accuracy = 75.0%\n"
          ]
        }
      ],
      "source": [
        "accuracy_val = np.sum(y_val == predicted_class)/len(y_val == predicted_class) # Your code here\n",
        "print(f'Accuracy = {accuracy_val * 100:.1f}%')"
      ]
    },
    {
      "cell_type": "markdown",
      "metadata": {
        "id": "e3BLYHkKG6LY"
      },
      "source": [
        "**Посчитайте точность (accuracy) для валидацинного набора**"
      ]
    },
    {
      "cell_type": "code",
      "execution_count": null,
      "metadata": {
        "id": "4R0MEYyAG6LZ"
      },
      "outputs": [],
      "source": [
        "# Your code here\n",
        "distances_test = compute_distances(x_train, x_test, compute_L1)\n",
        "indx_distances_test = []\n",
        "for i in range(len(distances_test)):\n",
        "    indx_distances_test.append(np.argmin(distances_test[i]))\n",
        "predicted_class_test = y_train[indx_distances_test]"
      ]
    },
    {
      "cell_type": "code",
      "source": [
        "y_test == predicted_class_test"
      ],
      "metadata": {
        "colab": {
          "base_uri": "https://localhost:8080/"
        },
        "id": "vYfbv7Qj9yvq",
        "outputId": "0e02f00f-9dc6-4fd8-b4a4-de2152786044"
      },
      "execution_count": null,
      "outputs": [
        {
          "output_type": "execute_result",
          "data": {
            "text/plain": [
              "array([ True,  True,  True,  True,  True,  True,  True,  True])"
            ]
          },
          "metadata": {},
          "execution_count": 22
        }
      ]
    },
    {
      "cell_type": "code",
      "execution_count": null,
      "metadata": {
        "id": "bYrKnlPTG6LZ",
        "colab": {
          "base_uri": "https://localhost:8080/"
        },
        "outputId": "36c42958-05cc-4799-ff1e-fee001d4ba0d"
      },
      "outputs": [
        {
          "output_type": "stream",
          "name": "stdout",
          "text": [
            "Accuracy = 100.0%\n"
          ]
        }
      ],
      "source": [
        "accuracy_test = np.sum(y_test == predicted_class_test)/len(y_test == predicted_class_test)\n",
        "print(f\"Accuracy = {accuracy_test * 100:.1f}%\")"
      ]
    },
    {
      "cell_type": "markdown",
      "metadata": {
        "id": "yEwRQEqnG6LZ"
      },
      "source": [
        "Повторите все этапы классификации, однако в этот раз **стандартизируйте** данные перед этим. Величина accuracy должна увеличиться."
      ]
    },
    {
      "cell_type": "code",
      "execution_count": null,
      "metadata": {
        "id": "hswzl-piG6La"
      },
      "outputs": [],
      "source": [
        "# Your code here\n",
        "from sklearn.preprocessing import StandardScaler"
      ]
    },
    {
      "cell_type": "code",
      "source": [
        "#x_train, x_tmp, y_train, y_tmp = train_test_split(data, labels, test_size=0.2, random_state=42, stratify=labels)\n",
        "#x_val, x_test, y_val, y_test = train_test_split(x_tmp, y_tmp, test_size=0.2)"
      ],
      "metadata": {
        "id": "n_vP9rU--q24"
      },
      "execution_count": null,
      "outputs": []
    },
    {
      "cell_type": "code",
      "source": [
        "scaler = StandardScaler()\n",
        "scaler.fit(x_train)\n",
        "x_train_norm = scaler.transform(x_train)  # scaling data\n",
        "x_val_norm = scaler.transform(x_val)\n",
        "x_test_norm = scaler.transform(x_test)  # scaling data"
      ],
      "metadata": {
        "id": "pnNu47Zy-rPq"
      },
      "execution_count": null,
      "outputs": []
    },
    {
      "cell_type": "code",
      "execution_count": null,
      "metadata": {
        "id": "iKEguidbG6La"
      },
      "outputs": [],
      "source": [
        "distances_sc = compute_distances(x_train_norm, x_val_norm, compute_L1)  # Your code here"
      ]
    },
    {
      "cell_type": "code",
      "source": [
        "indx_distances_sc = []\n",
        "for i in range(len(distances_sc)):\n",
        "    indx_distances_sc.append(np.argmin(distances_sc[i]))\n",
        "predicted_class_sc = y_train[indx_distances_sc]\n"
      ],
      "metadata": {
        "id": "aTTLyluB_ol9"
      },
      "execution_count": null,
      "outputs": []
    },
    {
      "cell_type": "code",
      "source": [
        "indx_distances_sc = distances_sc.argmin(axis=1)"
      ],
      "metadata": {
        "id": "UhHOpdIeD1vB"
      },
      "execution_count": null,
      "outputs": []
    },
    {
      "cell_type": "code",
      "source": [
        "predicted_class_sc = y_train[indx_distances_sc]"
      ],
      "metadata": {
        "id": "L8-1vvLTD_TN"
      },
      "execution_count": null,
      "outputs": []
    },
    {
      "cell_type": "code",
      "source": [
        "y_val == predicted_class_sc"
      ],
      "metadata": {
        "colab": {
          "base_uri": "https://localhost:8080/"
        },
        "id": "WGKphQuD_vuU",
        "outputId": "9034d228-9e8c-4ce5-f4b3-59408542b0d7"
      },
      "execution_count": null,
      "outputs": [
        {
          "output_type": "execute_result",
          "data": {
            "text/plain": [
              "array([ True,  True,  True,  True,  True,  True,  True,  True,  True,\n",
              "        True,  True,  True,  True,  True,  True,  True,  True,  True,\n",
              "        True,  True,  True,  True, False,  True,  True,  True,  True,\n",
              "        True])"
            ]
          },
          "metadata": {},
          "execution_count": 30
        }
      ]
    },
    {
      "cell_type": "code",
      "execution_count": null,
      "metadata": {
        "id": "uga4DQOaG6La",
        "colab": {
          "base_uri": "https://localhost:8080/"
        },
        "outputId": "dae3556f-f295-41f9-dd85-56018fb438b7"
      },
      "outputs": [
        {
          "output_type": "stream",
          "name": "stdout",
          "text": [
            "Accuracy = 96.4%\n"
          ]
        }
      ],
      "source": [
        "accuracy_val = np.mean(y_val == predicted_class_sc)\n",
        "print(f'Accuracy = {accuracy_val * 100:.1f}%')"
      ]
    },
    {
      "cell_type": "markdown",
      "metadata": {
        "id": "_HG90dRIG6La"
      },
      "source": [
        "**Посчитайте точность (accuracy) для тестового набора**\n",
        "\n",
        "Теперь учтём, что у нас осталась **тестовая подвыборка**. Проведите необходимые операции и посчитайте accuracy на ней.  "
      ]
    },
    {
      "cell_type": "code",
      "execution_count": null,
      "metadata": {
        "id": "_JHayAXMG6La"
      },
      "outputs": [],
      "source": [
        "# Your code here\n",
        "distances_sc_test = compute_distances(x_train_norm, x_test_norm, compute_L1)"
      ]
    },
    {
      "cell_type": "code",
      "source": [
        "indx_distances_sc_test = []\n",
        "for i in range(len(distances_sc_test)):\n",
        "    indx_distances_sc_test.append(np.argmin(distances_sc_test[i]))\n",
        "predicted_class_sc_test = y_train[indx_distances_sc_test]"
      ],
      "metadata": {
        "id": "Wf8b2WCbAuuZ"
      },
      "execution_count": null,
      "outputs": []
    },
    {
      "cell_type": "code",
      "source": [
        "y_test == predicted_class_sc_test"
      ],
      "metadata": {
        "colab": {
          "base_uri": "https://localhost:8080/"
        },
        "id": "zADyARJwA1RP",
        "outputId": "6ab7f637-b1cb-4439-d020-ee129c0ab7ae"
      },
      "execution_count": null,
      "outputs": [
        {
          "output_type": "execute_result",
          "data": {
            "text/plain": [
              "array([ True,  True,  True,  True,  True,  True,  True,  True])"
            ]
          },
          "metadata": {},
          "execution_count": 34
        }
      ]
    },
    {
      "cell_type": "code",
      "execution_count": null,
      "metadata": {
        "id": "KJlEt3UgG6Lb",
        "colab": {
          "base_uri": "https://localhost:8080/"
        },
        "outputId": "ef921ffa-8f71-44c9-e122-263175484091"
      },
      "outputs": [
        {
          "output_type": "stream",
          "name": "stdout",
          "text": [
            "Accuracy = 100.0%\n"
          ]
        }
      ],
      "source": [
        "accuracy_test = np.sum(y_test == predicted_class_sc_test)/len(y_test == predicted_class_sc_test)\n",
        "print(f\"Accuracy = {accuracy_test * 100:.1f}%\")"
      ]
    },
    {
      "cell_type": "markdown",
      "metadata": {
        "id": "Y7ygcbKuG6Lb"
      },
      "source": [
        "Каков результат? Как вы думаете, почему?"
      ]
    },
    {
      "cell_type": "markdown",
      "source": [
        "**Дополнительно**\n",
        "\n",
        "Мы использовали accuracy. Как вы помните из лекции, это не самая оптимальная метрика. Попробуйте применить иные метрики."
      ],
      "metadata": {
        "id": "F3DFb0pxwx50"
      }
    },
    {
      "cell_type": "markdown",
      "metadata": {
        "id": "fDKfrzvRG6Lb"
      },
      "source": [
        "## Формат результата"
      ]
    },
    {
      "cell_type": "markdown",
      "metadata": {
        "id": "CVSd7AjaG6Lb"
      },
      "source": [
        "Получить значения метрик."
      ]
    },
    {
      "cell_type": "markdown",
      "metadata": {
        "id": "WH7XLtDPG6Lc"
      },
      "source": [
        "# Задание 3. Nearest Neighbors для картинок"
      ]
    },
    {
      "cell_type": "markdown",
      "metadata": {
        "id": "pLKdU1EOG6Lc"
      },
      "source": [
        "В этом задании вы будете применять написанный в задании 2 алгоритм k-NN для работы с картинками."
      ]
    },
    {
      "cell_type": "markdown",
      "metadata": {
        "id": "LzlwYS6-G6Lc"
      },
      "source": [
        "Импорт необходимых библиотек:"
      ]
    },
    {
      "cell_type": "code",
      "execution_count": null,
      "metadata": {
        "id": "hodDxbgtG6Lc"
      },
      "outputs": [],
      "source": [
        "import numpy as np\n",
        "import matplotlib.pyplot as plt\n",
        "from scipy.stats import mode\n",
        "from scipy import stats\n",
        "from tqdm.notebook import tqdm\n",
        "from torchvision import datasets\n",
        "from sklearn.model_selection import train_test_split"
      ]
    },
    {
      "cell_type": "markdown",
      "metadata": {
        "id": "byKuUlLWG6Lc"
      },
      "source": [
        "Загрузим датасет с помощью функций torchvision фреймворка PyTorch, с которым мы познакомимся дальше в курсе значительно ближе.\n",
        "\n",
        "Отметьте, что мы загружаем малую часть датасета для ускорения рассчётов, а также сразу проводим базовую нормировку для изображений. Далее в курсе вы познакомитесь с тем, как эффективнее работать с изображениями."
      ]
    },
    {
      "cell_type": "code",
      "execution_count": null,
      "metadata": {
        "id": "UPCCB13qG6Ld",
        "colab": {
          "base_uri": "https://localhost:8080/"
        },
        "outputId": "b1aa6118-ea37-4d99-ed5e-86f5bca863a9"
      },
      "outputs": [
        {
          "output_type": "stream",
          "name": "stdout",
          "text": [
            "Downloading https://www.cs.toronto.edu/~kriz/cifar-10-python.tar.gz to content/cifar-10-python.tar.gz\n"
          ]
        },
        {
          "output_type": "stream",
          "name": "stderr",
          "text": [
            "100%|██████████| 170498071/170498071 [00:03<00:00, 47862999.55it/s]\n"
          ]
        },
        {
          "output_type": "stream",
          "name": "stdout",
          "text": [
            "Extracting content/cifar-10-python.tar.gz to content\n"
          ]
        }
      ],
      "source": [
        "dataset = datasets.CIFAR10(\"content\", train=True, download=True)\n",
        "\n",
        "np.random.seed(42)\n",
        "data, _, labels, _ = train_test_split(\n",
        "    dataset.data / 255,  # Normalize\n",
        "    np.array(dataset.targets),\n",
        "    train_size=0.1,  # get only fraction of the dataset\n",
        "    random_state=42,\n",
        "    stratify=dataset.targets,\n",
        ")"
      ]
    },
    {
      "cell_type": "markdown",
      "metadata": {
        "id": "d82wQp-SG6Ld"
      },
      "source": [
        "Посмотрим, что это за датасет."
      ]
    },
    {
      "cell_type": "code",
      "execution_count": null,
      "metadata": {
        "id": "85LdTb51G6Ld",
        "colab": {
          "base_uri": "https://localhost:8080/"
        },
        "outputId": "8bbe917f-028d-4956-fb12-828ffe9d1df8"
      },
      "outputs": [
        {
          "output_type": "execute_result",
          "data": {
            "text/plain": [
              "(5000, 32, 32, 3)"
            ]
          },
          "metadata": {},
          "execution_count": 3
        }
      ],
      "source": [
        "data.shape"
      ]
    },
    {
      "cell_type": "code",
      "execution_count": null,
      "metadata": {
        "id": "jqOaTfiMG6Ld",
        "colab": {
          "base_uri": "https://localhost:8080/"
        },
        "outputId": "45daa731-4d4c-4973-f219-c69401206747"
      },
      "outputs": [
        {
          "output_type": "execute_result",
          "data": {
            "text/plain": [
              "array([[0.38431373, 0.28627451, 0.29411765],\n",
              "       [0.56862745, 0.49019608, 0.50980392],\n",
              "       [0.58039216, 0.51764706, 0.55686275],\n",
              "       [0.34509804, 0.29803922, 0.34509804],\n",
              "       [0.3254902 , 0.28235294, 0.32156863],\n",
              "       [0.31764706, 0.2745098 , 0.30588235],\n",
              "       [0.2745098 , 0.23137255, 0.2627451 ],\n",
              "       [0.25490196, 0.21176471, 0.24313725],\n",
              "       [0.2745098 , 0.23137255, 0.2627451 ],\n",
              "       [0.29019608, 0.24705882, 0.27843137],\n",
              "       [0.29803922, 0.25490196, 0.28627451],\n",
              "       [0.31372549, 0.27058824, 0.30196078],\n",
              "       [0.30588235, 0.2627451 , 0.29411765],\n",
              "       [0.29803922, 0.25490196, 0.28627451],\n",
              "       [0.32941176, 0.28627451, 0.31764706],\n",
              "       [0.35294118, 0.30980392, 0.34117647],\n",
              "       [0.34509804, 0.30196078, 0.33333333],\n",
              "       [0.3254902 , 0.28235294, 0.31372549],\n",
              "       [0.32941176, 0.28627451, 0.31372549],\n",
              "       [0.31372549, 0.27058824, 0.3254902 ],\n",
              "       [0.36470588, 0.32156863, 0.41568627],\n",
              "       [0.48627451, 0.43921569, 0.51764706],\n",
              "       [0.42745098, 0.37254902, 0.42352941],\n",
              "       [0.32941176, 0.27058824, 0.30196078],\n",
              "       [0.3372549 , 0.2745098 , 0.30196078],\n",
              "       [0.35294118, 0.29019608, 0.32941176],\n",
              "       [0.33333333, 0.27058824, 0.30980392],\n",
              "       [0.30588235, 0.24313725, 0.28235294],\n",
              "       [0.3254902 , 0.2627451 , 0.30196078],\n",
              "       [0.30980392, 0.24705882, 0.29019608],\n",
              "       [0.30588235, 0.24313725, 0.29411765],\n",
              "       [0.31764706, 0.25490196, 0.30588235]])"
            ]
          },
          "metadata": {},
          "execution_count": 4
        }
      ],
      "source": [
        "data[0][0]"
      ]
    },
    {
      "cell_type": "markdown",
      "metadata": {
        "id": "RLRmCqKVG6Le"
      },
      "source": [
        "CIFAR-10 — 4-хмерный массив $\\small (N, W, H, C)$, где $\\small N$ — количество картинок, $\\small W$ — ширина картинки, $\\small H$ — высота картинки, $\\small C$ — количество каналов (RGB)."
      ]
    },
    {
      "cell_type": "markdown",
      "metadata": {
        "id": "0k-FPeSQG6Le"
      },
      "source": [
        "Создайте subplots с 2-мя строками и 2-мя столбцами и отобразите 4 любых картинки из `data`.\n",
        "Используйте `plt.imshow()`."
      ]
    },
    {
      "cell_type": "code",
      "execution_count": null,
      "metadata": {
        "id": "MuN4C39uG6Le",
        "colab": {
          "base_uri": "https://localhost:8080/",
          "height": 433
        },
        "outputId": "57384d32-fd53-4f92-c86f-52c900a1beea"
      },
      "outputs": [
        {
          "output_type": "display_data",
          "data": {
            "text/plain": [
              "<Figure size 640x480 with 4 Axes>"
            ],
            "image/png": "[encoded data removed]"
          },
          "metadata": {}
        }
      ],
      "source": [
        "fig, ax = plt.subplots(2, 2)# Your code here\n",
        "\n",
        "ax[0, 0].imshow(data[0])# Your code here\n",
        "ax[0, 1].imshow(data[1])# Your code here\n",
        "ax[1, 0].imshow(data[2])# Your code here\n",
        "ax[1, 1].imshow(data[3])# Your code here\n",
        "plt.show()"
      ]
    },
    {
      "cell_type": "markdown",
      "metadata": {
        "id": "CtG3uGZfG6Le"
      },
      "source": [
        "Разбейте датасет на тренировочный, валидационный и тестовый наборы. Укажите аргументы `random_state=42`, `stratify`."
      ]
    },
    {
      "cell_type": "code",
      "execution_count": null,
      "metadata": {
        "id": "aziXVATlG6Le",
        "colab": {
          "base_uri": "https://localhost:8080/"
        },
        "outputId": "4080662d-e001-4dcd-b835-cb3423b562f4"
      },
      "outputs": [
        {
          "output_type": "stream",
          "name": "stdout",
          "text": [
            "x_train (4000, 32, 32, 3)\n",
            "x_val (800, 32, 32, 3)\n",
            "x_test (200, 32, 32, 3)\n"
          ]
        }
      ],
      "source": [
        "# Your code here\n",
        "x_train, x_tmp, y_train, y_tmp = train_test_split(data, labels, test_size=0.2, random_state=42, stratify=labels)\n",
        "x_val, x_test, y_val, y_test = train_test_split(x_tmp, y_tmp, test_size=0.2, random_state=42, stratify=y_tmp)\n",
        "print(\"x_train\", x_train.shape)\n",
        "print(\"x_val\", x_val.shape)\n",
        "print(\"x_test\", x_test.shape)"
      ]
    },
    {
      "cell_type": "markdown",
      "metadata": {
        "id": "tH2j6rCSG6Le"
      },
      "source": [
        "Возьмите первую картинку из валидационного набора и найдите ее ближайшего соседа из тренировочного. **Не используйте** в задании библиотечную реализацию k-NN."
      ]
    },
    {
      "cell_type": "code",
      "execution_count": null,
      "metadata": {
        "id": "sPHSaRtiG6Lf"
      },
      "outputs": [],
      "source": [
        "def compute_L1(a, b):\n",
        "    return np.sum(np.abs(a - b)) # Your code here"
      ]
    },
    {
      "cell_type": "code",
      "execution_count": null,
      "metadata": {
        "id": "oIxGW2w3G6Lf"
      },
      "outputs": [],
      "source": [
        "# Your code here\n",
        "distances = []\n",
        "for i in range(len(x_train)):\n",
        "    distances.append(compute_L1(x_val[0], x_train[i]))"
      ]
    },
    {
      "cell_type": "code",
      "execution_count": null,
      "metadata": {
        "id": "KgTh__-8G6Lf",
        "colab": {
          "base_uri": "https://localhost:8080/"
        },
        "outputId": "4ffd1c73-37f0-4fee-d9b7-065df9b28313"
      },
      "outputs": [
        {
          "output_type": "stream",
          "name": "stdout",
          "text": [
            "1074\n"
          ]
        }
      ],
      "source": [
        "indx = np.argmin(distances)# Your code here\n",
        "print(indx)"
      ]
    },
    {
      "cell_type": "markdown",
      "metadata": {
        "id": "KItvnyh0G6Lf"
      },
      "source": [
        "**Отобразите эти картинки на subplots с `ncols=2`**"
      ]
    },
    {
      "cell_type": "code",
      "execution_count": null,
      "metadata": {
        "id": "IBRzuqWGG6Lg",
        "colab": {
          "base_uri": "https://localhost:8080/",
          "height": 288
        },
        "outputId": "8625d879-7a5e-456b-f703-2f5fff37e801"
      },
      "outputs": [
        {
          "output_type": "display_data",
          "data": {
            "text/plain": [
              "<Figure size 640x480 with 2 Axes>"
            ],
            "image/png": "[encoded data removed]"
          },
          "metadata": {}
        }
      ],
      "source": [
        "fig, ax = plt.subplots(1, 2) # Your code here\n",
        "ax[0].imshow(x_val[0])# Your code here\n",
        "ax[1].imshow(x_train[indx])# Your code here\n",
        "plt.show()"
      ]
    },
    {
      "cell_type": "markdown",
      "metadata": {
        "id": "3Vs7JPi2G6Lg"
      },
      "source": [
        "**Посмотрите, какой класс предсказывается**"
      ]
    },
    {
      "cell_type": "code",
      "execution_count": null,
      "metadata": {
        "id": "99X0MLQeG6Lg",
        "colab": {
          "base_uri": "https://localhost:8080/"
        },
        "outputId": "a08fce68-4276-479c-80cd-bac5cda003b6"
      },
      "outputs": [
        {
          "output_type": "stream",
          "name": "stdout",
          "text": [
            "airplane\n"
          ]
        }
      ],
      "source": [
        "class_pred = y_train[indx]\n",
        "class_to_idx = dataset.class_to_idx\n",
        "\n",
        "print(list(class_to_idx.keys())[list(class_to_idx.values()).index(class_pred)])"
      ]
    },
    {
      "cell_type": "markdown",
      "metadata": {
        "id": "VLPLUxNYG6Lg"
      },
      "source": [
        "Возьмите первую картинку из тестового набора и найдите k ее ближайших соседей (k-NN) из тренировочного набора.\n",
        "\n",
        "Используйте `np.argsort()` или иной способ."
      ]
    },
    {
      "cell_type": "code",
      "execution_count": null,
      "metadata": {
        "id": "JwiFoEE-G6Lh",
        "colab": {
          "base_uri": "https://localhost:8080/"
        },
        "outputId": "47da9763-764b-4e1b-afc6-eecf3825682f"
      },
      "outputs": [
        {
          "output_type": "stream",
          "name": "stdout",
          "text": [
            "27 34 113 65 190\n"
          ]
        }
      ],
      "source": [
        "k = 5\n",
        "distances = []\n",
        "for i in range(len(x_test)):\n",
        "    distances.append(compute_L1(x_test[0], x_train[i]))\n",
        "indx = np.argsort(distances)[0:k]\n",
        "print(*indx)\n",
        " # Your code here"
      ]
    },
    {
      "cell_type": "code",
      "source": [
        "x_test[0].shape"
      ],
      "metadata": {
        "colab": {
          "base_uri": "https://localhost:8080/"
        },
        "id": "5hT2HH1MsDOJ",
        "outputId": "1aa8ba01-1ad3-40c1-f83f-8e1cd86c4a01"
      },
      "execution_count": null,
      "outputs": [
        {
          "output_type": "execute_result",
          "data": {
            "text/plain": [
              "(32, 32, 3)"
            ]
          },
          "metadata": {},
          "execution_count": 15
        }
      ]
    },
    {
      "cell_type": "markdown",
      "metadata": {
        "id": "vINrdoCGG6Lh"
      },
      "source": [
        "Отобразите ближайших соседей в виде subplots:"
      ]
    },
    {
      "cell_type": "code",
      "execution_count": null,
      "metadata": {
        "id": "rT1OynuWG6Lh",
        "colab": {
          "base_uri": "https://localhost:8080/",
          "height": 411
        },
        "outputId": "58423708-d00f-4e4c-bd5d-21f6452eb16f"
      },
      "outputs": [
        {
          "output_type": "display_data",
          "data": {
            "text/plain": [
              "<Figure size 640x480 with 6 Axes>"
            ],
            "image/png": "[encoded data removed]"
          },
          "metadata": {}
        }
      ],
      "source": [
        "fig, ax = plt.subplots(2, 3) # Your code here\n",
        "ax[0, 0].imshow(x_test[0])# Your code here\n",
        "ax[0, 1].imshow(x_test[indx[0]])# Your code here\n",
        "ax[0, 2].imshow(x_test[indx[1]])# Your code here\n",
        "ax[1, 0].imshow(x_test[indx[2]])# Your code here\n",
        "ax[1, 1].imshow(x_test[indx[3]])# Your code here\n",
        "ax[1, 2].imshow(x_test[indx[4]])# Your code here\n",
        "# Your code here\n",
        "plt.show()"
      ]
    },
    {
      "cell_type": "markdown",
      "metadata": {
        "id": "I5j_N5OkG6Li"
      },
      "source": [
        "Посчитайте k-NN для всего датасета."
      ]
    },
    {
      "cell_type": "markdown",
      "metadata": {
        "id": "Tj-htzPTG6Ll"
      },
      "source": [
        "Чем больше данных, тем дольше процесс. Реализуйте функцию для расчета расстояний. Если вы используете `for loops`, то сделайте к ним *progress bars* с помощью [tqdm](https://github.com/tqdm/tqdm).\n",
        "\n",
        "Примечание: если используете вложенные циклы, то используйте `tqdm` только на внешнем цикле. Иначе время работы существенно увеличится."
      ]
    },
    {
      "cell_type": "code",
      "execution_count": null,
      "metadata": {
        "id": "CMZb8pqcG6Lm"
      },
      "outputs": [],
      "source": [
        "def compute_distances(train, val, distance_func):\n",
        "    # Your code here\n",
        "    distances = np.full((val.shape[0], train.shape[0]), np.inf)\n",
        "    for i in tqdm(range(val.shape[0])):\n",
        "        for j in range(train.shape[0]):\n",
        "            distances[i,j] = distance_func(val[i], train[j])\n",
        "    return distances"
      ]
    },
    {
      "cell_type": "code",
      "execution_count": null,
      "metadata": {
        "id": "c1gKxog8G6Ln",
        "colab": {
          "base_uri": "https://localhost:8080/",
          "height": 49,
          "referenced_widgets": [
            "f507d1e26b9d461d933f3010c39a20d9",
            "1cff084bce664b07851fd78886c6c0bf",
            "9388be0a7c8f4b01a2967aa68b27b0d4",
            "433d59366066438aaff442d84c2b90dc",
            "dafab0a4b5df4ff5ad59d60ec4d3b968",
            "36e76c5178b249688343eafbc370a0a1",
            "e0692b568e9d4ae2a2aa10dac691beec",
            "bfbdc73337374bb68abb311c82f34bd1",
            "5242110e90cc4e96b03de1bada439b30",
            "a9953a653b594790b835a0fc758aa387",
            "48cf55df8ef34e9785d9c8e47b6e3bfe"
          ]
        },
        "outputId": "e4714690-08e7-412d-80c4-51a59f20835d"
      },
      "outputs": [
        {
          "output_type": "display_data",
          "data": {
            "text/plain": [
              "  0%|          | 0/800 [00:00<?, ?it/s]"
            ],
            "application/vnd.jupyter.widget-view+json": {
              "version_major": 2,
              "version_minor": 0,
              "model_id": "f507d1e26b9d461d933f3010c39a20d9"
            }
          },
          "metadata": {}
        }
      ],
      "source": [
        "distances = compute_distances(x_train, x_val, compute_L1)"
      ]
    },
    {
      "cell_type": "code",
      "source": [
        "len(distances)"
      ],
      "metadata": {
        "colab": {
          "base_uri": "https://localhost:8080/"
        },
        "id": "iS7rgVZ5vdBl",
        "outputId": "fb468e22-a243-41e7-d2fa-18eb46669791"
      },
      "execution_count": null,
      "outputs": [
        {
          "output_type": "execute_result",
          "data": {
            "text/plain": [
              "800"
            ]
          },
          "metadata": {},
          "execution_count": 27
        }
      ]
    },
    {
      "cell_type": "markdown",
      "metadata": {
        "id": "Ks04m7Z_G6Lo"
      },
      "source": [
        "Теперь найдите k ближайших соседей и предскажите класс.\n",
        "\n",
        "Используйте моду [scipy.stats.mode](https://docs.scipy.org/doc/scipy/reference/generated/scipy.stats.mode.html) по ближайшим найденным соседям."
      ]
    },
    {
      "cell_type": "code",
      "execution_count": null,
      "metadata": {
        "id": "oXZ2aO08G6Lo"
      },
      "outputs": [],
      "source": [
        "def get_accuracy(distances, train_labels, val_labels, k):\n",
        "    # Your code here\n",
        "    indx_distances = []\n",
        "    for i in range(len(distances)):\n",
        "      indx_dist = (np.argsort(distances[i]))[:k]\n",
        "      indx_distances.append(indx_dist)\n",
        "    predicted_class = train_labels[indx_distances]\n",
        "    predict_class = []\n",
        "    for i in predicted_class:\n",
        "      s = stats.mode(i, keepdims=True)\n",
        "      predict_class.append(s.mode[0])\n",
        "    accuracy = np.sum((val_labels == np.array(predict_class)))/len(val_labels)\n",
        "    return accuracy"
      ]
    },
    {
      "cell_type": "code",
      "execution_count": null,
      "metadata": {
        "id": "5Yh1qsqSG6Lp",
        "colab": {
          "base_uri": "https://localhost:8080/"
        },
        "outputId": "0713469f-6221-4784-c35b-3a50901f0bf9"
      },
      "outputs": [
        {
          "output_type": "stream",
          "name": "stdout",
          "text": [
            "Accuracy = 31%\n"
          ]
        }
      ],
      "source": [
        "accuracy = get_accuracy(distances, y_train, y_val, k)\n",
        "print(f\"Accuracy = {accuracy * 100:.0f}%\")"
      ]
    },
    {
      "cell_type": "markdown",
      "metadata": {
        "id": "WcWcPwqGG6Lp"
      },
      "source": [
        "**Посчитайте точность для k=1..100 и постройте график точности от k**"
      ]
    },
    {
      "cell_type": "code",
      "execution_count": null,
      "metadata": {
        "id": "YQogP3D3G6Lq",
        "colab": {
          "base_uri": "https://localhost:8080/",
          "height": 49,
          "referenced_widgets": [
            "7b15b8d576a84e15b9a770fdea81508a",
            "8f8a0db6817d44e2bf13e6cbccb044f7",
            "ff9690e1a6bc490e8184f4e1c092adbc",
            "c7ef9c7695494374bad8ab9bf16e51eb",
            "a950f113bf2b40419759dc0d4b71e9e6",
            "760d2c62544343a8b8d17ee113098ad7",
            "b2eccacf49854ef485f7bf5e67547e17",
            "d1a9613da01b478d87cb5a245a2fd581",
            "38dc0dd54b8447f896cf6e4272b7786f",
            "7b5ba185a1984792a9ec935f1d601add",
            "69b6230d67cd46d596487cefeb3aacdb"
          ]
        },
        "outputId": "c318cc65-dc87-489d-9d7f-87a22f4e76e1"
      },
      "outputs": [
        {
          "output_type": "display_data",
          "data": {
            "text/plain": [
              "  0%|          | 0/99 [00:00<?, ?it/s]"
            ],
            "application/vnd.jupyter.widget-view+json": {
              "version_major": 2,
              "version_minor": 0,
              "model_id": "7b15b8d576a84e15b9a770fdea81508a"
            }
          },
          "metadata": {}
        }
      ],
      "source": [
        "acc = []\n",
        "for k in tqdm(range(1, 100)):\n",
        "    acc.append(get_accuracy(distances, y_train, y_val, k))\n",
        "    # Your code here"
      ]
    },
    {
      "cell_type": "code",
      "source": [
        "print(f'Максимальное значение точности {max(acc)  * 100:.2f}% при k = {np.argmax(acc) + 1}')"
      ],
      "metadata": {
        "colab": {
          "base_uri": "https://localhost:8080/"
        },
        "id": "kPT5sekB5Ng4",
        "outputId": "17b8064e-1aff-4aad-9498-3b89c0c3ff5e"
      },
      "execution_count": null,
      "outputs": [
        {
          "output_type": "stream",
          "name": "stdout",
          "text": [
            "Максимальное значение точности 32.00% при k = 9\n"
          ]
        }
      ]
    },
    {
      "cell_type": "code",
      "execution_count": null,
      "metadata": {
        "id": "cBxulq6EG6Lq",
        "colab": {
          "base_uri": "https://localhost:8080/",
          "height": 472
        },
        "outputId": "030f2962-d5a7-451a-a2ae-209af2bc2027"
      },
      "outputs": [
        {
          "output_type": "display_data",
          "data": {
            "text/plain": [
              "<Figure size 640x480 with 1 Axes>"
            ],
            "image/png": "[encoded data removed]"
          },
          "metadata": {}
        }
      ],
      "source": [
        "plt.plot(acc)# Your code here\n",
        "plt.title('График точности от k')\n",
        "plt.xlabel('k')\n",
        "plt.ylabel('Accuracy')\n",
        "plt.show()"
      ]
    },
    {
      "cell_type": "markdown",
      "metadata": {
        "id": "WRUgRF5ZG6Lq"
      },
      "source": [
        "Поменяйте расстоянние L1 на L2 и сравните точность на всем датасете."
      ]
    },
    {
      "cell_type": "code",
      "execution_count": null,
      "metadata": {
        "id": "8RBbkuDlG6Lr"
      },
      "outputs": [],
      "source": [
        "def compute_L2(a, b):\n",
        "    return np.sqrt(np.sum((a - b) ** 2)) # Your code here"
      ]
    },
    {
      "cell_type": "code",
      "execution_count": null,
      "metadata": {
        "id": "rvYJTEV0G6Lr",
        "colab": {
          "base_uri": "https://localhost:8080/",
          "height": 49,
          "referenced_widgets": [
            "9cb62077b950411996deb85a7611d806",
            "e7a4e24fd97549e7aecdfd67cb31d7a2",
            "339b059504e14218bc8719f3f75c4146",
            "5e738376b7a84312a48c386322891e58",
            "8199916588c641e98cb324eab59dd168",
            "9c8aad49df0e493c82ccaea6ea41d543",
            "2dba6c218bdd4cf4b10e03479260f4e6",
            "079143186a2f4c918cec2e771e80b398",
            "a248635b5168405b941cead2f48f4265",
            "a8352f17e0b24ed0877cf3ec6d22eb50",
            "91493ead133f49908cc7d8b971e069c0"
          ]
        },
        "outputId": "99c5b41a-08ea-4e27-a048-8c4524842fd1"
      },
      "outputs": [
        {
          "output_type": "display_data",
          "data": {
            "text/plain": [
              "  0%|          | 0/800 [00:00<?, ?it/s]"
            ],
            "application/vnd.jupyter.widget-view+json": {
              "version_major": 2,
              "version_minor": 0,
              "model_id": "9cb62077b950411996deb85a7611d806"
            }
          },
          "metadata": {}
        }
      ],
      "source": [
        "distances_l2 = compute_distances(x_train, x_val, compute_L2)"
      ]
    },
    {
      "cell_type": "code",
      "execution_count": null,
      "metadata": {
        "id": "bzm4VC_BG6Lr",
        "colab": {
          "base_uri": "https://localhost:8080/",
          "height": 49,
          "referenced_widgets": [
            "25a53e70ec1046b5b9f9c285568ac0aa",
            "31417c7603ef49a9801fc2e381b2be6d",
            "f6a88342826d43c193037d931812a312",
            "ba01170c56ad4757bb242beda2d6aa92",
            "940327eac9144500bd3cf67f91a68765",
            "fff6c6c2af8b45f79796db8a44196582",
            "5733dd5e949d4906aad50f7607c5941f",
            "2fc220987b1c45a4a4e5e7413fa1d4a4",
            "cc1cc3349f994aabaedcb5ad901dd0c2",
            "89ea51d9428346f095562c28172d9388",
            "5adbc30d31e548398671ab96c601a15f"
          ]
        },
        "outputId": "93ae2809-d081-4006-e03d-9e5fc8818c33"
      },
      "outputs": [
        {
          "output_type": "display_data",
          "data": {
            "text/plain": [
              "  0%|          | 0/99 [00:00<?, ?it/s]"
            ],
            "application/vnd.jupyter.widget-view+json": {
              "version_major": 2,
              "version_minor": 0,
              "model_id": "25a53e70ec1046b5b9f9c285568ac0aa"
            }
          },
          "metadata": {}
        }
      ],
      "source": [
        "acc_l2 = []\n",
        "for k in tqdm(range(1, 100)):\n",
        "    acc_l2.append(get_accuracy(distances_l2, y_train, y_val, k))\n",
        "    # Your code here"
      ]
    },
    {
      "cell_type": "code",
      "source": [
        "print(f'Максимальное значение точности (без учета k = 1) {max(acc_l2[1:])  * 100:.2f}% при k = {acc_l2.index(max(acc_l2[1:])) + 1}')"
      ],
      "metadata": {
        "colab": {
          "base_uri": "https://localhost:8080/"
        },
        "id": "Z53Dj4NC5rdI",
        "outputId": "e80ae85d-cf37-41b0-e564-e10665dba541"
      },
      "execution_count": null,
      "outputs": [
        {
          "output_type": "stream",
          "name": "stdout",
          "text": [
            "Максимальное значение точности (без учета k = 1) 27.50% при k = 13\n"
          ]
        }
      ]
    },
    {
      "cell_type": "code",
      "execution_count": null,
      "metadata": {
        "id": "Hfp-ooMEG6Lr",
        "colab": {
          "base_uri": "https://localhost:8080/",
          "height": 472
        },
        "outputId": "0290dd0d-0237-446e-cb96-04068b275494"
      },
      "outputs": [
        {
          "output_type": "display_data",
          "data": {
            "text/plain": [
              "<Figure size 640x480 with 1 Axes>"
            ],
            "image/png": "[encoded data removed]"
          },
          "metadata": {}
        }
      ],
      "source": [
        "plt.plot(acc, label='l1')# Your code here\n",
        "plt.plot(acc_l2, label='l2')# Your code here\n",
        "plt.title('График точности от k при использовании метрик l1 и l2')\n",
        "plt.xlabel('k')\n",
        "plt.ylabel('Accuracy')\n",
        "plt.legend()\n",
        "plt.show()"
      ]
    },
    {
      "cell_type": "markdown",
      "metadata": {
        "id": "w-oktxx2G6Ls"
      },
      "source": [
        "Теперь, выбрав оптимальные параметры с помощью валидационного сета, проверьте качество на **тесте**..\n",
        "\n",
        "*Примечание*. Для минимизации повторения кода можете сделать функцию из кода выше, в которую в качестве аргументов подаются различные наборы данных."
      ]
    },
    {
      "cell_type": "code",
      "execution_count": null,
      "metadata": {
        "id": "-J8YbMpZG6Ls",
        "colab": {
          "base_uri": "https://localhost:8080/",
          "height": 116,
          "referenced_widgets": [
            "1ccb73467a334801a78506d98cdb7b7f",
            "2ae96d320596404e87118da3116ebd0d",
            "745a7f403dac43b6a4ea6aef60037af4",
            "03dfb08de221401d95d2257be98e62ce",
            "8f76c8d6d8f6488aafc79c77d11431aa",
            "06b9f5db914f40309a975b1f5a7536a5",
            "fde1553876cc45e0b5ca8a21f67d54f2",
            "ef4ced433ca34a69a8ab16cb82a97c95",
            "95fd3cd02cca463aaa120e1971e07cf4",
            "0c277929461242a18db9cc8752f94ef0",
            "3ab2bffa3513438092ed858e9a8613ad",
            "5c2d5e23130d4f22b1f202be38705a42",
            "8465276007d34e52ab349494f57c6169",
            "55aa36308b4f4c1a99ec1e3d46aa9c6c",
            "afcfc09f58d74db1844c96df625c323f",
            "51c06cbdf5ad43528295e49a15f6a5be",
            "adfe574722ab4ccb95a90a0b2aeb7e5a",
            "b445ff3e64db473385e02360e9b9330a",
            "0ad3cfe41c7e4bbfbce05e0655e54f18",
            "55c288b2559249bfa26502d3b0f87b55",
            "664ab98c128a46158abc19d536cbcfa0",
            "a0a83a97de6c4ffe94bc894862a0b42f"
          ]
        },
        "outputId": "bb46a01c-34b7-418f-9f45-047bdeb0e549"
      },
      "outputs": [
        {
          "output_type": "display_data",
          "data": {
            "text/plain": [
              "  0%|          | 0/200 [00:00<?, ?it/s]"
            ],
            "application/vnd.jupyter.widget-view+json": {
              "version_major": 2,
              "version_minor": 0,
              "model_id": "1ccb73467a334801a78506d98cdb7b7f"
            }
          },
          "metadata": {}
        },
        {
          "output_type": "stream",
          "name": "stdout",
          "text": [
            "На тестовом наборе точность 31.50% при использовании метрики L1\n"
          ]
        },
        {
          "output_type": "display_data",
          "data": {
            "text/plain": [
              "  0%|          | 0/200 [00:00<?, ?it/s]"
            ],
            "application/vnd.jupyter.widget-view+json": {
              "version_major": 2,
              "version_minor": 0,
              "model_id": "5c2d5e23130d4f22b1f202be38705a42"
            }
          },
          "metadata": {}
        },
        {
          "output_type": "stream",
          "name": "stdout",
          "text": [
            "На тестовом наборе точность 27.50% при использовании метрики L2\n"
          ]
        }
      ],
      "source": [
        "# Your code here\n",
        "distances = compute_distances(x_train, x_test, compute_L1)\n",
        "print(f'На тестовом наборе точность {get_accuracy(distances, y_train, y_test, 9)  * 100:.2f}% при использовании метрики L1')\n",
        "distances_l2 = compute_distances(x_train, x_test, compute_L2)\n",
        "print(f'На тестовом наборе точность {get_accuracy(distances_l2, y_train, y_test, 13)  * 100:.2f}% при использовании метрики L2')"
      ]
    },
    {
      "cell_type": "markdown",
      "metadata": {
        "id": "j9ICH3npG6Ls"
      },
      "source": [
        "Совпали ли результаты с валидацией? Как думаете, почему?"
      ]
    },
    {
      "cell_type": "markdown",
      "source": [
        "**Результаты совпали с валидацией, поскольку при обучении модели были подобраны оптимальные гиперпараметры (число ближайших соседей k, метрика). Совпадение результатов теста и валидации говорит о том, что модель так или иначе научилась обобщать закономерности в данных (хотя и с низкой точностью).**"
      ],
      "metadata": {
        "id": "gZsp5ZCMzHN9"
      }
    },
    {
      "cell_type": "markdown",
      "metadata": {
        "id": "8etEUTbUG6Lt"
      },
      "source": [
        "## Формат результата"
      ]
    },
    {
      "cell_type": "markdown",
      "metadata": {
        "id": "IwT6AWeXG6Lt"
      },
      "source": [
        "* График сравнения точности для L1 и L2 при различных k. Выведите на одном графике результаты для валидации и теста.\n",
        "* Число k, при котором достигается лучшая точность.\n",
        "* Точность на тесте."
      ]
    },
    {
      "cell_type": "markdown",
      "metadata": {
        "id": "BSbCtkrJG6Lt"
      },
      "source": [
        "Пример графика:\n",
        "\n",
        "<img src =\"https://edunet.kea.su/repo/EduNet-web_dependencies/dev-2.0/Exercises/EX01/result_4_task.png\" width=\"300\">"
      ]
    },
    {
      "cell_type": "markdown",
      "metadata": {
        "id": "uMiv4ukrG6Lt"
      },
      "source": [
        "# Задание 4. Реализация k-NN"
      ]
    },
    {
      "cell_type": "markdown",
      "metadata": {
        "id": "1i7L3YmIG6Lu"
      },
      "source": [
        "В этом задании мы поработаем в концепции ОПП (Объектно-Ориентированного Программирования).\n",
        "\n",
        "[ООП на Python: концепции, принципы и примеры реализации](https://proglib.io/p/python-oop)\n",
        "\n",
        "Создайте класс k-NN и реализуйте его методы."
      ]
    },
    {
      "cell_type": "markdown",
      "metadata": {
        "id": "V2GVNYMdG6Lu"
      },
      "source": [
        "Импорт необходимых библиотек:"
      ]
    },
    {
      "cell_type": "code",
      "execution_count": null,
      "metadata": {
        "id": "QbPMO5eQG6Lu"
      },
      "outputs": [],
      "source": [
        "import numpy as np\n",
        "from scipy.stats import mode\n",
        "from torchvision import datasets\n",
        "from sklearn.neighbors import KNeighborsClassifier\n",
        "from sklearn.model_selection import train_test_split\n",
        "from sklearn.metrics import accuracy_score"
      ]
    },
    {
      "cell_type": "markdown",
      "metadata": {
        "id": "PcBavtbhG6Lu"
      },
      "source": [
        "Функция, которая считает расстояние L1 между 2-мя векторами:"
      ]
    },
    {
      "cell_type": "code",
      "execution_count": null,
      "metadata": {
        "id": "MM4V38EYG6Lv"
      },
      "outputs": [],
      "source": [
        "def compute_L1(a, b):\n",
        "    return np.sum(np.abs(a - b)) # Your code here"
      ]
    },
    {
      "cell_type": "markdown",
      "metadata": {
        "id": "1aCdGn_2G6Lv"
      },
      "source": [
        "Загрузите датасет CIFAR-10 и разбейте его на тренировочный, валидационный и тестовый наборы аналогично тому, как вы сделали это в задании 3. Укажите аргументы `random_state=42`, `stratify`."
      ]
    },
    {
      "cell_type": "code",
      "execution_count": null,
      "metadata": {
        "id": "paGEQCz4G6Lv",
        "colab": {
          "base_uri": "https://localhost:8080/"
        },
        "outputId": "036dacdd-fadb-429f-ff49-0c04c2a6ad5c"
      },
      "outputs": [
        {
          "output_type": "stream",
          "name": "stdout",
          "text": [
            "Files already downloaded and verified\n"
          ]
        }
      ],
      "source": [
        "dataset = datasets.CIFAR10(\"content\", train=True, download=True)\n",
        "\n",
        "np.random.seed(42)\n",
        "data, _, labels, _ = train_test_split(\n",
        "    dataset.data / 255,  # Normalize\n",
        "    np.array(dataset.targets),\n",
        "    train_size=0.1,  # get only fraction of the dataset\n",
        "    random_state=42,\n",
        "    stratify=dataset.targets,\n",
        ")\n",
        "\n",
        "# Your code here\n",
        "x_train, x_tmp, y_train, y_tmp = train_test_split(data, labels, test_size=0.2, random_state=42, stratify=labels)\n",
        "x_val, x_test, y_val, y_test = train_test_split(x_tmp, y_tmp, test_size=0.2, random_state=42, stratify=y_tmp)"
      ]
    },
    {
      "cell_type": "markdown",
      "metadata": {
        "id": "ZrD5p-viG6Lv"
      },
      "source": [
        "Создайте класс k-NN и реализуйте его методы."
      ]
    },
    {
      "cell_type": "code",
      "execution_count": null,
      "metadata": {
        "id": "SeXXIqs3G6Lw"
      },
      "outputs": [],
      "source": [
        "class kNN:\n",
        "    def __init__(self, k, distance_func):\n",
        "        self.k = k # Your code here\n",
        "        self.distance_func = distance_func # Your code here\n",
        "\n",
        "    def fit(self, x, y):\n",
        "        self.train_data = x # Your code here\n",
        "        self.train_labels = y # Your code here\n",
        "\n",
        "    def predict(self, x):\n",
        "        distances = self.compute_distances(x)\n",
        "        indexes = np.argsort(distances, axis=1)[:, :self.k]\n",
        "        labels_of_top_classes = self.train_labels[indexes]\n",
        "        predicted_class, _ = mode(labels_of_top_classes, axis=1, keepdims=True)\n",
        "        return predicted_class.flatten()\n",
        "\n",
        "    def compute_distances(self, test):\n",
        "        # Your code here\n",
        "        distances = np.full((len(test), len(self.train_data)), np.inf)\n",
        "        for i in tqdm(range(len(test))):\n",
        "          for j in range(len(self.train_data)):\n",
        "            distances[i,j] = self.distance_func(test[i], self.train_data[j])\n",
        "        return distances"
      ]
    },
    {
      "cell_type": "code",
      "execution_count": null,
      "metadata": {
        "id": "PLNXdqQPG6Lw",
        "colab": {
          "base_uri": "https://localhost:8080/",
          "height": 49,
          "referenced_widgets": [
            "96a84577de234587b6e8de4c4457d1ed",
            "b4b6c8999cd34b37aa8a0b5321027192",
            "76351e2384724dca92574fb6cd90f8fc",
            "175861047b314b0ea513a5aeafd852c4",
            "2388554d5f9d45a7931f1afc8b2d879c",
            "98d80f89ba7c4b289433d68480fac8f8",
            "5562e20ff5b04926934f628f5f7bd81e",
            "17f65d18f0ff448a89b2aff1f3afa3d9",
            "c69567f16db8451e8d761d5eba1400bf",
            "b8e45c823d0d4456b6042612f2bea471",
            "afe8dde2b5554d89a78dcef5b19bb829"
          ]
        },
        "outputId": "88373b65-714d-45e8-c0f1-1ed288394882"
      },
      "outputs": [
        {
          "output_type": "display_data",
          "data": {
            "text/plain": [
              "  0%|          | 0/200 [00:00<?, ?it/s]"
            ],
            "application/vnd.jupyter.widget-view+json": {
              "version_major": 2,
              "version_minor": 0,
              "model_id": "96a84577de234587b6e8de4c4457d1ed"
            }
          },
          "metadata": {}
        }
      ],
      "source": [
        "kNN_classifier = kNN(k=1, distance_func=compute_L1)\n",
        "kNN_classifier.fit(x=x_train, y=y_train)\n",
        "out = kNN_classifier.predict(x_test)"
      ]
    },
    {
      "cell_type": "code",
      "execution_count": null,
      "metadata": {
        "id": "7zWCrEiQG6Lw",
        "colab": {
          "base_uri": "https://localhost:8080/"
        },
        "outputId": "0367a079-fe39-4b5c-be32-90a6113563c8"
      },
      "outputs": [
        {
          "output_type": "execute_result",
          "data": {
            "text/plain": [
              "0.295"
            ]
          },
          "metadata": {},
          "execution_count": 24
        }
      ],
      "source": [
        "np.mean(y_test == out)"
      ]
    },
    {
      "cell_type": "markdown",
      "metadata": {
        "id": "cMpzQVlFG6Lx"
      },
      "source": [
        "Сравните время работы вашей реализации и реализации из sklearn. Используйте `%%time`."
      ]
    },
    {
      "cell_type": "code",
      "execution_count": null,
      "metadata": {
        "id": "0EQlgHQtG6Lx",
        "colab": {
          "base_uri": "https://localhost:8080/",
          "height": 101,
          "referenced_widgets": [
            "323d6fdc8b81467db7bfce32079bb198",
            "b0e03df88883444998ad1f81c030940e",
            "a64a39ab37874628b3a26b07fe246f0e",
            "b728ba5fbc394d769b5f485af3681e56",
            "895c1f00a6a842e183cdd823897d6cdf",
            "9d280694d19d41e89b3f7b577d156917",
            "aa4a101dd882442cb122c59aeafe2f80",
            "84cedda30c6e4d22a133d46d462ca252",
            "b033188568e540e3819c728d8e5dd619",
            "5aec1cfde66047278e1b4d3e32f6a0fd",
            "1e763dc69a994cbd817b7a814e7b1b5e"
          ]
        },
        "outputId": "b6df155a-d44b-4ae1-db2a-7ed18eefdd54"
      },
      "outputs": [
        {
          "output_type": "display_data",
          "data": {
            "text/plain": [
              "  0%|          | 0/200 [00:00<?, ?it/s]"
            ],
            "application/vnd.jupyter.widget-view+json": {
              "version_major": 2,
              "version_minor": 0,
              "model_id": "323d6fdc8b81467db7bfce32079bb198"
            }
          },
          "metadata": {}
        },
        {
          "output_type": "stream",
          "name": "stdout",
          "text": [
            "CPU times: user 16.2 s, sys: 109 ms, total: 16.3 s\n",
            "Wall time: 16.9 s\n"
          ]
        },
        {
          "output_type": "execute_result",
          "data": {
            "text/plain": [
              "0.315"
            ]
          },
          "metadata": {},
          "execution_count": 25
        }
      ],
      "source": [
        "# Your code here\n",
        "%%time\n",
        "kNN_classifier = kNN(k=9, distance_func=compute_L1)\n",
        "kNN_classifier.fit(x=x_train, y=y_train)\n",
        "out = kNN_classifier.predict(x_test)\n",
        "np.mean(y_test == out)"
      ]
    },
    {
      "cell_type": "code",
      "source": [
        "%%time\n",
        "knn = KNeighborsClassifier(n_neighbors=9, metric=\"manhattan\")\n",
        "x_train_1 = np.reshape(x_train, (x_train.shape[0], 3072))\n",
        "knn.fit(x_train_1, y_train)\n",
        "y_pred = knn.predict(x_val.reshape(800,3072))\n",
        "accuracy = accuracy_score(y_pred, y_val)\n",
        "print(\"Accuracy:\", f\"{accuracy*100}%\")# Your code here"
      ],
      "metadata": {
        "colab": {
          "base_uri": "https://localhost:8080/"
        },
        "id": "Yh69_xDFpZHw",
        "outputId": "45b3efc1-8d1b-4599-aa77-b8a2ba234eee"
      },
      "execution_count": null,
      "outputs": [
        {
          "output_type": "stream",
          "name": "stdout",
          "text": [
            "Accuracy: 32.0%\n",
            "CPU times: user 18.6 s, sys: 67.9 ms, total: 18.6 s\n",
            "Wall time: 24.3 s\n"
          ]
        }
      ]
    },
    {
      "cell_type": "code",
      "source": [
        "%%time\n",
        "knn = KNeighborsClassifier(n_neighbors=9, metric=\"manhattan\")\n",
        "knn.fit(x_train_1, y_train)\n",
        "y_pred = knn.predict(x_test.reshape(200,3072))\n",
        "accuracy = accuracy_score(y_pred, y_test)\n",
        "print(\"Accuracy:\", f\"{accuracy*100}%\")# Your code here"
      ],
      "metadata": {
        "colab": {
          "base_uri": "https://localhost:8080/"
        },
        "id": "wp_xTkxevCn2",
        "outputId": "c085f7a2-d9c5-4383-dc6d-651e0c3a9492"
      },
      "execution_count": null,
      "outputs": [
        {
          "output_type": "stream",
          "name": "stdout",
          "text": [
            "Accuracy: 31.5%\n",
            "CPU times: user 4.01 s, sys: 7.16 ms, total: 4.02 s\n",
            "Wall time: 4.08 s\n"
          ]
        }
      ]
    },
    {
      "cell_type": "markdown",
      "source": [
        "**Sklearn работает быстрее написанной реализации: 3.86 с против 13.7 с**"
      ],
      "metadata": {
        "id": "AzaDY2Vs1J5J"
      }
    },
    {
      "cell_type": "markdown",
      "metadata": {
        "id": "OKILP2IbG6Ly"
      },
      "source": [
        "**Оптимальный k-NN. Погружение в ООП**\n",
        "\n",
        "Эта часть задания даёт дополнительные баллы и не обязательна к выполнению.\n",
        "\n",
        "Реализуйте выбор ближайших соседей эффективно. Можно сделать [KD дерево](https://scikit-learn.org/stable/modules/generated/sklearn.neighbors.KDTree.html#sklearn.neighbors.KDTree), таким образом мы приблизимся к библиотечной реализации.\n",
        "\n",
        "[[wiki] K-d tree](https://en.m.wikipedia.org/wiki/K-d_tree).\n",
        "\n",
        "И сравните по эффективности как с исходной (простой) реализацией, так и с библиотечной."
      ]
    },
    {
      "cell_type": "code",
      "source": [
        "import random\n",
        "import math\n",
        "import numpy as np\n",
        "from collections import Counter\n",
        "\n",
        "class KnnBalltreeClassifier(object):\n",
        "    '''Классификатор реализует взвешенное голосование по ближайшим соседям.\n",
        "    При подсчете расcтояния используется l2-метрика.\n",
        "    Поиск ближайшего соседа осуществляется поиском по ball-дереву.\n",
        "    Параметры\n",
        "    ----------\n",
        "    n_neighbors : int, optional\n",
        "        Число ближайших соседей, учитывающихся в голосовани\n",
        "        - 'distance' : веса обратно пропорциональны расстоянию д о классифицируемого объекта\n",
        "        -  функция, которая получает на вход массив расстояний и возвращает массив весов\n",
        "    leaf_size: int, optional\n",
        "        Максимально допустимый размер листа дерева\n",
        "    '''\n",
        "    class Node(object):\n",
        "        def __init__(self, pivot = None, points = [], radius = None): #Индекс корня - 1\n",
        "            self.pivot = pivot #Индекс левой верщины - 2*v\n",
        "            self.radius = radius #Индекс правой вершины - 2*v + 1\n",
        "            self.points = points\n",
        "        def __str__(self):\n",
        "            self.stringList = ''.join(str(symbol) for symbol in self.points)\n",
        "            return(\"pivot = \" + str(self.pivot) + \" radius = \" + str(self.radius) + \" points = \"\n",
        "                + str(self.stringList))\n",
        "\n",
        "    class Point(object):\n",
        "            def __init__(self, point, index):\n",
        "                self.point = point\n",
        "                self.index = index\n",
        "            def __str__(self):\n",
        "                return(\"Vector \" + str(self.point) + \" with index \" + str(self.index))\n",
        "\n",
        "    def __init__(self, n_neighbors=1, leaf_size=30):\n",
        "        if(n_neighbors <= 0):\n",
        "            print(\"Ошибка! Соседей не может быть меньше, чем 1\")\n",
        "            return\n",
        "        self.n_neighbors = n_neighbors\n",
        "        self.leaf_size = leaf_size\n",
        "        self.nodes = {}\n",
        "        self.kNSet = set()\n",
        "        self.points = []\n",
        "        self.classes = []\n",
        "        self.pointsOriginal = []\n",
        "\n",
        "    def GetnpArrayOfPoints(self, xStruct):\n",
        "        x = []\n",
        "        for i in range(len(xStruct)):\n",
        "            x.append(xStruct[i].point)\n",
        "        return(np.array(x))\n",
        "\n",
        "    def Distance(self, a, b):\n",
        "        if(len(a) != len(b)):\n",
        "            print(\"Размерности объектов не одинаковые!\")\n",
        "            return(\"Error\")\n",
        "        return np.linalg.norm(a-b)\n",
        "\n",
        "    def GetMaxDistance(self, point, points):\n",
        "        points = self.GetnpArrayOfPoints(points)\n",
        "        point = point.point\n",
        "        #print(points)\n",
        "\n",
        "        max = 0\n",
        "        for i in range(len(points)):\n",
        "            currentDist = self.Distance(point, points[i])\n",
        "            if(currentDist > max):\n",
        "                max = currentDist\n",
        "        return(max)\n",
        "\n",
        "    def GetMaxSpreadDimension(self, x): #Нужно передать подотрезок array[a:b]\n",
        "        x = self.GetnpArrayOfPoints(x)\n",
        "        difference = []\n",
        "        for i in range(x.shape[1]):\n",
        "            maximum = x[0][i]\n",
        "            minimum = x[0][i]\n",
        "            for j in range(x.shape[0]):\n",
        "                maximum = max(maximum, x[j][i])\n",
        "                minimum = min(minimum, x[j][i])\n",
        "            difference.append((maximum - minimum, i))\n",
        "        return(max(difference)[1])\n",
        "\n",
        "    def SortingByDimension(self, x, startPoint, endPoint, dimension): #Нужно передать начало и\n",
        "        left = x[:startPoint]\n",
        "        rigth = x[endPoint:]\n",
        "        x = np.array(sorted(x[startPoint:endPoint], key = lambda Point: Point.point[dimension]))\n",
        "        x = np.concatenate((left, x, rigth), 0)\n",
        "        return(x)\n",
        "\n",
        "    def GetCentroidIndex(self, x, dimension): #Нужно передать подотрезок array[a:b]\n",
        "        x = self.GetnpArrayOfPoints(x)\n",
        "        if(x.shape[0] == 0):\n",
        "            print(\"Ошибка! Передан нулевой массив в поиск центроида\")\n",
        "        sum = 0\n",
        "        for i in range(x.shape[0]): #Размер x не нулевой\n",
        "            sum = sum + x[i][dimension]\n",
        "        sum = sum / x.shape[0]\n",
        "        minimum = abs(sum - x[0][dimension])\n",
        "        index = 0\n",
        "        for i in range(x.shape[0]):\n",
        "            if(abs(x[i][dimension] - sum) < minimum):\n",
        "                minimum = abs(x[i][dimension] - sum)\n",
        "                index = i\n",
        "        return(index)\n",
        "\n",
        "    def ConstructTree(self, leafSize, vertexIndex, startPoint, endPoint):\n",
        "        if(endPoint - startPoint <= 0):\n",
        "            return #endPoint не включается в отрезок [ )\n",
        "\n",
        "\n",
        "        dimension = self.GetMaxSpreadDimension(self.points[startPoint:endPoint])\n",
        "        self.points = self.SortingByDimension(self.points, startPoint, endPoint, dimension)\n",
        "        centroidIndex = self.GetCentroidIndex(self.points[startPoint:endPoint], dimension) + startPoint\n",
        "\n",
        "        radius = self.GetMaxDistance(self.points[centroidIndex], self.points[startPoint:endPoint])\n",
        "        self.nodes[vertexIndex] = self.Node(self.points[centroidIndex], [], radius)\n",
        "        if(endPoint - startPoint <= leafSize):\n",
        "            for i in range(startPoint, endPoint):\n",
        "                self.nodes[vertexIndex].points.append(self.points[i])\n",
        "            return\n",
        "        else:\n",
        "            self.nodes[vertexIndex].points.append(self.points[centroidIndex])\n",
        "        self.ConstructTree(leafSize, vertexIndex * 2, startPoint, centroidIndex)\n",
        "        self.ConstructTree(leafSize, vertexIndex * 2 + 1, centroidIndex + 1, endPoint)\n",
        "\n",
        "    def searchBallSubtree(self, vertexIndex, newPoint, kN):\n",
        "        if(len(self.nodes[vertexIndex].points) > 1):\n",
        "            for point in self.nodes[vertexIndex].points:\n",
        "                distance = self.Distance(newPoint, point.point)\n",
        "                if(len(self.kNSet) >= kN and max(self.kNSet)[0] > distance):\n",
        "                    self.kNSet.remove(max(self.kNSet))\n",
        "                if(len(self.kNSet) < kN):\n",
        "                    self.kNSet.add((distance, point.index))\n",
        "            return\n",
        "        leftChild = vertexIndex * 2\n",
        "        rightChild = vertexIndex * 2 + 1\n",
        "        distance = self.Distance(newPoint, self.nodes[vertexIndex].pivot.point)\n",
        "\n",
        "        if(len(self.kNSet) >= kN and max(self.kNSet)[0] > distance):\n",
        "            self.kNSet.remove(max(self.kNSet))\n",
        "        if(len(self.kNSet) < kN):\n",
        "            self.kNSet.add((distance, self.nodes[vertexIndex].pivot.index))\n",
        "\n",
        "        if(len(self.nodes[leftChild].points) != 0):\n",
        "            distance = self.Distance(newPoint, self.nodes[leftChild].pivot.point)\n",
        "            if(len(self.kNSet) < kN or max(self.kNSet)[0] > distance - self.nodes[leftChild].radius):\n",
        "                self.searchBallSubtree(leftChild, newPoint, kN)\n",
        "\n",
        "        if(len(self.nodes[rightChild].points) != 0):\n",
        "            distance = self.Distance(newPoint, self.nodes[rightChild].pivot.point)\n",
        "            if(len(self.kNSet) < kN or max(self.kNSet)[0] > distance - self.nodes[rightChild].radius):\n",
        "                self.searchBallSubtree(rightChild, newPoint, kN)\n",
        "\n",
        "\n",
        "    def fit(self, x, y):\n",
        "        if (len(x) != len(y)):\n",
        "            print(\"Ошибка - не у всех точек определены классы\")\n",
        "            return(\"fit Error\")\n",
        "        self.points = []\n",
        "        self.classes = []\n",
        "        self.pointsOriginal = x\n",
        "        for i in range(len(x)):\n",
        "            self.points.append(self.Point(x[i], i))\n",
        "        self.classes = y\n",
        "\n",
        "        self.ConstructTree(self.leaf_size, 1, 0, len(self.points))\n",
        "        return self\n",
        "\n",
        "    def predict(self, x):\n",
        "        predictions = []\n",
        "        for i in range(len(x)):\n",
        "            self.kNSet.clear()\n",
        "            self.searchBallSubtree(1, x[i], self.n_neighbors)\n",
        "            results = []\n",
        "            for index in self.kNSet: #kNSet хранит пару (дистанция, индекс)\n",
        "                results.append(self.classes[index[1]])\n",
        "            resultClass = Counter(results).most_common()[0][0]\n",
        "            predictions.append(resultClass)\n",
        "        return np.array(predictions)\n",
        "\n",
        "    def predict_proba(self, X):\n",
        "        classesCount = np.unique(self.classes)\n",
        "        results = []\n",
        "        for point in X:\n",
        "            neighborsClasses = self.get_kneighbors_classes(point)\n",
        "            result = []\n",
        "            for clas in classesCount:\n",
        "                count = 0\n",
        "                for neighborClass in neighborsClasses:\n",
        "                    if(clas == neighborClass):\n",
        "                        count += 1\n",
        "                result.append(count/self.n_neighbors * 100)\n",
        "            results.append(result)\n",
        "        return(np.array(results))\n",
        "\n",
        "\n",
        "\n",
        "    def get_kneighbors_classes(self, x):\n",
        "        self.kNSet.clear()\n",
        "        self.searchBallSubtree(1, x, self.n_neighbors)\n",
        "        result = []\n",
        "        for index in self.kNSet:\n",
        "            result.append(self.classes[index[1]])\n",
        "        return np.array(result)\n",
        "\n",
        "    def kneighbors(self, x, n_neighbors):\n",
        "        results = []\n",
        "        for i in range(len(x)):\n",
        "            self.kNSet.clear()\n",
        "            self.searchBallSubtree(1, x[i], n_neighbors)\n",
        "            result = []\n",
        "\n",
        "            for index in self.kNSet:\n",
        "                result.append(self.pointsOriginal[index[1]])\n",
        "            results.append(result)\n",
        "        return np.array(np.array(results))"
      ],
      "metadata": {
        "id": "Bh1JlDiCE8iB"
      },
      "execution_count": null,
      "outputs": []
    },
    {
      "cell_type": "code",
      "source": [
        "from torchvision import datasets\n",
        "from sklearn.model_selection import train_test_split\n",
        "\n",
        "dataset = datasets.CIFAR10(\"content\", train=True, download=True)\n",
        "\n",
        "np.random.seed(42)\n",
        "data, _, labels, _ = train_test_split(\n",
        "    dataset.data / 255,  # Normalize\n",
        "    np.array(dataset.targets),\n",
        "    train_size=0.1,  # get only fraction of the dataset\n",
        "    random_state=42,\n",
        "    stratify=dataset.targets,\n",
        ")"
      ],
      "metadata": {
        "id": "wd7TQK7lWDTH",
        "colab": {
          "base_uri": "https://localhost:8080/"
        },
        "outputId": "9fd07e96-812f-42dd-c43f-df56926cb9e7"
      },
      "execution_count": null,
      "outputs": [
        {
          "output_type": "stream",
          "name": "stdout",
          "text": [
            "Files already downloaded and verified\n"
          ]
        }
      ]
    },
    {
      "cell_type": "code",
      "source": [
        "from sklearn.model_selection import train_test_split\n",
        "\n",
        "x_train, x_tmp, y_train, y_tmp = train_test_split(data, labels, test_size=0.2, random_state=42, stratify=labels)\n",
        "x_val, x_test, y_val, y_test = train_test_split(x_tmp, y_tmp, test_size=0.2, random_state=42, stratify=y_tmp)\n",
        "\n",
        "print(\"x_train\", x_train.shape)\n",
        "print(\"x_val\", x_val.shape)\n",
        "print(\"x_test\", x_test.shape)"
      ],
      "metadata": {
        "id": "gp-InghXWHG2",
        "colab": {
          "base_uri": "https://localhost:8080/"
        },
        "outputId": "b9db6e5e-a506-4077-cb44-5d0fcc732f36"
      },
      "execution_count": null,
      "outputs": [
        {
          "output_type": "stream",
          "name": "stdout",
          "text": [
            "x_train (4000, 32, 32, 3)\n",
            "x_val (800, 32, 32, 3)\n",
            "x_test (200, 32, 32, 3)\n"
          ]
        }
      ]
    },
    {
      "cell_type": "code",
      "source": [
        "%%time\n",
        "knnBalltree = KnnBalltreeClassifier(n_neighbors=9, leaf_size=30)\n",
        "x_train_1 = np.reshape(x_train, (x_train.shape[0],3072))\n",
        "x_val_1 = np.reshape(x_val, (x_val.shape[0],3072))\n",
        "knnBalltree.fit(x_train_1, y_train)\n",
        "y_pred = knnBalltree.predict(x_val.reshape(800,3072))\n",
        "accuracy = accuracy_score(y_pred, y_val)\n",
        "print(\"Accuracy:\", f\"{accuracy*100}%\")# Your code here"
      ],
      "metadata": {
        "colab": {
          "base_uri": "https://localhost:8080/"
        },
        "outputId": "c7e6b17d-1b0c-4392-971d-9fec07954cdb",
        "id": "SFDwKysECDtT"
      },
      "execution_count": null,
      "outputs": [
        {
          "output_type": "stream",
          "name": "stdout",
          "text": [
            "Accuracy: 27.875%\n",
            "CPU times: user 2min 39s, sys: 468 ms, total: 2min 39s\n",
            "Wall time: 2min 42s\n"
          ]
        }
      ]
    },
    {
      "cell_type": "markdown",
      "source": [
        "**Работает ощутимо медленнее и дает меньшую accuracy..**"
      ],
      "metadata": {
        "id": "yU51jvb9G8xy"
      }
    },
    {
      "cell_type": "markdown",
      "metadata": {
        "id": "lavCGz0tG6Lz"
      },
      "source": [
        "## Формат результата"
      ]
    },
    {
      "cell_type": "markdown",
      "metadata": {
        "id": "0SJtsEnrG6Lz"
      },
      "source": [
        "Демонстрация времени работы вашей реализации и реализации из sklearn (с помощью %%time)"
      ]
    }
  ],
  "metadata": {
    "colab": {
      "provenance": [],
      "toc_visible": true
    },
    "language_info": {
      "name": "python"
    },
    "kernelspec": {
      "name": "python3",
      "display_name": "Python 3"
    },
    "widgets": {
      "application/vnd.jupyter.widget-state+json": {
        "f507d1e26b9d461d933f3010c39a20d9": {
          "model_module": "@jupyter-widgets/controls",
          "model_name": "HBoxModel",
          "model_module_version": "1.5.0",
          "state": {
            "_dom_classes": [],
            "_model_module": "@jupyter-widgets/controls",
            "_model_module_version": "1.5.0",
            "_model_name": "HBoxModel",
            "_view_count": null,
            "_view_module": "@jupyter-widgets/controls",
            "_view_module_version": "1.5.0",
            "_view_name": "HBoxView",
            "box_style": "",
            "children": [
              "IPY_MODEL_1cff084bce664b07851fd78886c6c0bf",
              "IPY_MODEL_9388be0a7c8f4b01a2967aa68b27b0d4",
              "IPY_MODEL_433d59366066438aaff442d84c2b90dc"
            ],
            "layout": "IPY_MODEL_dafab0a4b5df4ff5ad59d60ec4d3b968"
          }
        },
        "1cff084bce664b07851fd78886c6c0bf": {
          "model_module": "@jupyter-widgets/controls",
          "model_name": "HTMLModel",
          "model_module_version": "1.5.0",
          "state": {
            "_dom_classes": [],
            "_model_module": "@jupyter-widgets/controls",
            "_model_module_version": "1.5.0",
            "_model_name": "HTMLModel",
            "_view_count": null,
            "_view_module": "@jupyter-widgets/controls",
            "_view_module_version": "1.5.0",
            "_view_name": "HTMLView",
            "description": "",
            "description_tooltip": null,
            "layout": "IPY_MODEL_36e76c5178b249688343eafbc370a0a1",
            "placeholder": "​",
            "style": "IPY_MODEL_e0692b568e9d4ae2a2aa10dac691beec",
            "value": "100%"
          }
        },
        "9388be0a7c8f4b01a2967aa68b27b0d4": {
          "model_module": "@jupyter-widgets/controls",
          "model_name": "FloatProgressModel",
          "model_module_version": "1.5.0",
          "state": {
            "_dom_classes": [],
            "_model_module": "@jupyter-widgets/controls",
            "_model_module_version": "1.5.0",
            "_model_name": "FloatProgressModel",
            "_view_count": null,
            "_view_module": "@jupyter-widgets/controls",
            "_view_module_version": "1.5.0",
            "_view_name": "ProgressView",
            "bar_style": "success",
            "description": "",
            "description_tooltip": null,
            "layout": "IPY_MODEL_bfbdc73337374bb68abb311c82f34bd1",
            "max": 800,
            "min": 0,
            "orientation": "horizontal",
            "style": "IPY_MODEL_5242110e90cc4e96b03de1bada439b30",
            "value": 800
          }
        },
        "433d59366066438aaff442d84c2b90dc": {
          "model_module": "@jupyter-widgets/controls",
          "model_name": "HTMLModel",
          "model_module_version": "1.5.0",
          "state": {
            "_dom_classes": [],
            "_model_module": "@jupyter-widgets/controls",
            "_model_module_version": "1.5.0",
            "_model_name": "HTMLModel",
            "_view_count": null,
            "_view_module": "@jupyter-widgets/controls",
            "_view_module_version": "1.5.0",
            "_view_name": "HTMLView",
            "description": "",
            "description_tooltip": null,
            "layout": "IPY_MODEL_a9953a653b594790b835a0fc758aa387",
            "placeholder": "​",
            "style": "IPY_MODEL_48cf55df8ef34e9785d9c8e47b6e3bfe",
            "value": " 800/800 [01:02&lt;00:00, 14.90it/s]"
          }
        },
        "dafab0a4b5df4ff5ad59d60ec4d3b968": {
          "model_module": "@jupyter-widgets/base",
          "model_name": "LayoutModel",
          "model_module_version": "1.2.0",
          "state": {
            "_model_module": "@jupyter-widgets/base",
            "_model_module_version": "1.2.0",
            "_model_name": "LayoutModel",
            "_view_count": null,
            "_view_module": "@jupyter-widgets/base",
            "_view_module_version": "1.2.0",
            "_view_name": "LayoutView",
            "align_content": null,
            "align_items": null,
            "align_self": null,
            "border": null,
            "bottom": null,
            "display": null,
            "flex": null,
            "flex_flow": null,
            "grid_area": null,
            "grid_auto_columns": null,
            "grid_auto_flow": null,
            "grid_auto_rows": null,
            "grid_column": null,
            "grid_gap": null,
            "grid_row": null,
            "grid_template_areas": null,
            "grid_template_columns": null,
            "grid_template_rows": null,
            "height": null,
            "justify_content": null,
            "justify_items": null,
            "left": null,
            "margin": null,
            "max_height": null,
            "max_width": null,
            "min_height": null,
            "min_width": null,
            "object_fit": null,
            "object_position": null,
            "order": null,
            "overflow": null,
            "overflow_x": null,
            "overflow_y": null,
            "padding": null,
            "right": null,
            "top": null,
            "visibility": null,
            "width": null
          }
        },
        "36e76c5178b249688343eafbc370a0a1": {
          "model_module": "@jupyter-widgets/base",
          "model_name": "LayoutModel",
          "model_module_version": "1.2.0",
          "state": {
            "_model_module": "@jupyter-widgets/base",
            "_model_module_version": "1.2.0",
            "_model_name": "LayoutModel",
            "_view_count": null,
            "_view_module": "@jupyter-widgets/base",
            "_view_module_version": "1.2.0",
            "_view_name": "LayoutView",
            "align_content": null,
            "align_items": null,
            "align_self": null,
            "border": null,
            "bottom": null,
            "display": null,
            "flex": null,
            "flex_flow": null,
            "grid_area": null,
            "grid_auto_columns": null,
            "grid_auto_flow": null,
            "grid_auto_rows": null,
            "grid_column": null,
            "grid_gap": null,
            "grid_row": null,
            "grid_template_areas": null,
            "grid_template_columns": null,
            "grid_template_rows": null,
            "height": null,
            "justify_content": null,
            "justify_items": null,
            "left": null,
            "margin": null,
            "max_height": null,
            "max_width": null,
            "min_height": null,
            "min_width": null,
            "object_fit": null,
            "object_position": null,
            "order": null,
            "overflow": null,
            "overflow_x": null,
            "overflow_y": null,
            "padding": null,
            "right": null,
            "top": null,
            "visibility": null,
            "width": null
          }
        },
        "e0692b568e9d4ae2a2aa10dac691beec": {
          "model_module": "@jupyter-widgets/controls",
          "model_name": "DescriptionStyleModel",
          "model_module_version": "1.5.0",
          "state": {
            "_model_module": "@jupyter-widgets/controls",
            "_model_module_version": "1.5.0",
            "_model_name": "DescriptionStyleModel",
            "_view_count": null,
            "_view_module": "@jupyter-widgets/base",
            "_view_module_version": "1.2.0",
            "_view_name": "StyleView",
            "description_width": ""
          }
        },
        "bfbdc73337374bb68abb311c82f34bd1": {
          "model_module": "@jupyter-widgets/base",
          "model_name": "LayoutModel",
          "model_module_version": "1.2.0",
          "state": {
            "_model_module": "@jupyter-widgets/base",
            "_model_module_version": "1.2.0",
            "_model_name": "LayoutModel",
            "_view_count": null,
            "_view_module": "@jupyter-widgets/base",
            "_view_module_version": "1.2.0",
            "_view_name": "LayoutView",
            "align_content": null,
            "align_items": null,
            "align_self": null,
            "border": null,
            "bottom": null,
            "display": null,
            "flex": null,
            "flex_flow": null,
            "grid_area": null,
            "grid_auto_columns": null,
            "grid_auto_flow": null,
            "grid_auto_rows": null,
            "grid_column": null,
            "grid_gap": null,
            "grid_row": null,
            "grid_template_areas": null,
            "grid_template_columns": null,
            "grid_template_rows": null,
            "height": null,
            "justify_content": null,
            "justify_items": null,
            "left": null,
            "margin": null,
            "max_height": null,
            "max_width": null,
            "min_height": null,
            "min_width": null,
            "object_fit": null,
            "object_position": null,
            "order": null,
            "overflow": null,
            "overflow_x": null,
            "overflow_y": null,
            "padding": null,
            "right": null,
            "top": null,
            "visibility": null,
            "width": null
          }
        },
        "5242110e90cc4e96b03de1bada439b30": {
          "model_module": "@jupyter-widgets/controls",
          "model_name": "ProgressStyleModel",
          "model_module_version": "1.5.0",
          "state": {
            "_model_module": "@jupyter-widgets/controls",
            "_model_module_version": "1.5.0",
            "_model_name": "ProgressStyleModel",
            "_view_count": null,
            "_view_module": "@jupyter-widgets/base",
            "_view_module_version": "1.2.0",
            "_view_name": "StyleView",
            "bar_color": null,
            "description_width": ""
          }
        },
        "a9953a653b594790b835a0fc758aa387": {
          "model_module": "@jupyter-widgets/base",
          "model_name": "LayoutModel",
          "model_module_version": "1.2.0",
          "state": {
            "_model_module": "@jupyter-widgets/base",
            "_model_module_version": "1.2.0",
            "_model_name": "LayoutModel",
            "_view_count": null,
            "_view_module": "@jupyter-widgets/base",
            "_view_module_version": "1.2.0",
            "_view_name": "LayoutView",
            "align_content": null,
            "align_items": null,
            "align_self": null,
            "border": null,
            "bottom": null,
            "display": null,
            "flex": null,
            "flex_flow": null,
            "grid_area": null,
            "grid_auto_columns": null,
            "grid_auto_flow": null,
            "grid_auto_rows": null,
            "grid_column": null,
            "grid_gap": null,
            "grid_row": null,
            "grid_template_areas": null,
            "grid_template_columns": null,
            "grid_template_rows": null,
            "height": null,
            "justify_content": null,
            "justify_items": null,
            "left": null,
            "margin": null,
            "max_height": null,
            "max_width": null,
            "min_height": null,
            "min_width": null,
            "object_fit": null,
            "object_position": null,
            "order": null,
            "overflow": null,
            "overflow_x": null,
            "overflow_y": null,
            "padding": null,
            "right": null,
            "top": null,
            "visibility": null,
            "width": null
          }
        },
        "48cf55df8ef34e9785d9c8e47b6e3bfe": {
          "model_module": "@jupyter-widgets/controls",
          "model_name": "DescriptionStyleModel",
          "model_module_version": "1.5.0",
          "state": {
            "_model_module": "@jupyter-widgets/controls",
            "_model_module_version": "1.5.0",
            "_model_name": "DescriptionStyleModel",
            "_view_count": null,
            "_view_module": "@jupyter-widgets/base",
            "_view_module_version": "1.2.0",
            "_view_name": "StyleView",
            "description_width": ""
          }
        },
        "7b15b8d576a84e15b9a770fdea81508a": {
          "model_module": "@jupyter-widgets/controls",
          "model_name": "HBoxModel",
          "model_module_version": "1.5.0",
          "state": {
            "_dom_classes": [],
            "_model_module": "@jupyter-widgets/controls",
            "_model_module_version": "1.5.0",
            "_model_name": "HBoxModel",
            "_view_count": null,
            "_view_module": "@jupyter-widgets/controls",
            "_view_module_version": "1.5.0",
            "_view_name": "HBoxView",
            "box_style": "",
            "children": [
              "IPY_MODEL_8f8a0db6817d44e2bf13e6cbccb044f7",
              "IPY_MODEL_ff9690e1a6bc490e8184f4e1c092adbc",
              "IPY_MODEL_c7ef9c7695494374bad8ab9bf16e51eb"
            ],
            "layout": "IPY_MODEL_a950f113bf2b40419759dc0d4b71e9e6"
          }
        },
        "8f8a0db6817d44e2bf13e6cbccb044f7": {
          "model_module": "@jupyter-widgets/controls",
          "model_name": "HTMLModel",
          "model_module_version": "1.5.0",
          "state": {
            "_dom_classes": [],
            "_model_module": "@jupyter-widgets/controls",
            "_model_module_version": "1.5.0",
            "_model_name": "HTMLModel",
            "_view_count": null,
            "_view_module": "@jupyter-widgets/controls",
            "_view_module_version": "1.5.0",
            "_view_name": "HTMLView",
            "description": "",
            "description_tooltip": null,
            "layout": "IPY_MODEL_760d2c62544343a8b8d17ee113098ad7",
            "placeholder": "​",
            "style": "IPY_MODEL_b2eccacf49854ef485f7bf5e67547e17",
            "value": "100%"
          }
        },
        "ff9690e1a6bc490e8184f4e1c092adbc": {
          "model_module": "@jupyter-widgets/controls",
          "model_name": "FloatProgressModel",
          "model_module_version": "1.5.0",
          "state": {
            "_dom_classes": [],
            "_model_module": "@jupyter-widgets/controls",
            "_model_module_version": "1.5.0",
            "_model_name": "FloatProgressModel",
            "_view_count": null,
            "_view_module": "@jupyter-widgets/controls",
            "_view_module_version": "1.5.0",
            "_view_name": "ProgressView",
            "bar_style": "success",
            "description": "",
            "description_tooltip": null,
            "layout": "IPY_MODEL_d1a9613da01b478d87cb5a245a2fd581",
            "max": 99,
            "min": 0,
            "orientation": "horizontal",
            "style": "IPY_MODEL_38dc0dd54b8447f896cf6e4272b7786f",
            "value": 99
          }
        },
        "c7ef9c7695494374bad8ab9bf16e51eb": {
          "model_module": "@jupyter-widgets/controls",
          "model_name": "HTMLModel",
          "model_module_version": "1.5.0",
          "state": {
            "_dom_classes": [],
            "_model_module": "@jupyter-widgets/controls",
            "_model_module_version": "1.5.0",
            "_model_name": "HTMLModel",
            "_view_count": null,
            "_view_module": "@jupyter-widgets/controls",
            "_view_module_version": "1.5.0",
            "_view_name": "HTMLView",
            "description": "",
            "description_tooltip": null,
            "layout": "IPY_MODEL_7b5ba185a1984792a9ec935f1d601add",
            "placeholder": "​",
            "style": "IPY_MODEL_69b6230d67cd46d596487cefeb3aacdb",
            "value": " 99/99 [01:06&lt;00:00,  1.85it/s]"
          }
        },
        "a950f113bf2b40419759dc0d4b71e9e6": {
          "model_module": "@jupyter-widgets/base",
          "model_name": "LayoutModel",
          "model_module_version": "1.2.0",
          "state": {
            "_model_module": "@jupyter-widgets/base",
            "_model_module_version": "1.2.0",
            "_model_name": "LayoutModel",
            "_view_count": null,
            "_view_module": "@jupyter-widgets/base",
            "_view_module_version": "1.2.0",
            "_view_name": "LayoutView",
            "align_content": null,
            "align_items": null,
            "align_self": null,
            "border": null,
            "bottom": null,
            "display": null,
            "flex": null,
            "flex_flow": null,
            "grid_area": null,
            "grid_auto_columns": null,
            "grid_auto_flow": null,
            "grid_auto_rows": null,
            "grid_column": null,
            "grid_gap": null,
            "grid_row": null,
            "grid_template_areas": null,
            "grid_template_columns": null,
            "grid_template_rows": null,
            "height": null,
            "justify_content": null,
            "justify_items": null,
            "left": null,
            "margin": null,
            "max_height": null,
            "max_width": null,
            "min_height": null,
            "min_width": null,
            "object_fit": null,
            "object_position": null,
            "order": null,
            "overflow": null,
            "overflow_x": null,
            "overflow_y": null,
            "padding": null,
            "right": null,
            "top": null,
            "visibility": null,
            "width": null
          }
        },
        "760d2c62544343a8b8d17ee113098ad7": {
          "model_module": "@jupyter-widgets/base",
          "model_name": "LayoutModel",
          "model_module_version": "1.2.0",
          "state": {
            "_model_module": "@jupyter-widgets/base",
            "_model_module_version": "1.2.0",
            "_model_name": "LayoutModel",
            "_view_count": null,
            "_view_module": "@jupyter-widgets/base",
            "_view_module_version": "1.2.0",
            "_view_name": "LayoutView",
            "align_content": null,
            "align_items": null,
            "align_self": null,
            "border": null,
            "bottom": null,
            "display": null,
            "flex": null,
            "flex_flow": null,
            "grid_area": null,
            "grid_auto_columns": null,
            "grid_auto_flow": null,
            "grid_auto_rows": null,
            "grid_column": null,
            "grid_gap": null,
            "grid_row": null,
            "grid_template_areas": null,
            "grid_template_columns": null,
            "grid_template_rows": null,
            "height": null,
            "justify_content": null,
            "justify_items": null,
            "left": null,
            "margin": null,
            "max_height": null,
            "max_width": null,
            "min_height": null,
            "min_width": null,
            "object_fit": null,
            "object_position": null,
            "order": null,
            "overflow": null,
            "overflow_x": null,
            "overflow_y": null,
            "padding": null,
            "right": null,
            "top": null,
            "visibility": null,
            "width": null
          }
        },
        "b2eccacf49854ef485f7bf5e67547e17": {
          "model_module": "@jupyter-widgets/controls",
          "model_name": "DescriptionStyleModel",
          "model_module_version": "1.5.0",
          "state": {
            "_model_module": "@jupyter-widgets/controls",
            "_model_module_version": "1.5.0",
            "_model_name": "DescriptionStyleModel",
            "_view_count": null,
            "_view_module": "@jupyter-widgets/base",
            "_view_module_version": "1.2.0",
            "_view_name": "StyleView",
            "description_width": ""
          }
        },
        "d1a9613da01b478d87cb5a245a2fd581": {
          "model_module": "@jupyter-widgets/base",
          "model_name": "LayoutModel",
          "model_module_version": "1.2.0",
          "state": {
            "_model_module": "@jupyter-widgets/base",
            "_model_module_version": "1.2.0",
            "_model_name": "LayoutModel",
            "_view_count": null,
            "_view_module": "@jupyter-widgets/base",
            "_view_module_version": "1.2.0",
            "_view_name": "LayoutView",
            "align_content": null,
            "align_items": null,
            "align_self": null,
            "border": null,
            "bottom": null,
            "display": null,
            "flex": null,
            "flex_flow": null,
            "grid_area": null,
            "grid_auto_columns": null,
            "grid_auto_flow": null,
            "grid_auto_rows": null,
            "grid_column": null,
            "grid_gap": null,
            "grid_row": null,
            "grid_template_areas": null,
            "grid_template_columns": null,
            "grid_template_rows": null,
            "height": null,
            "justify_content": null,
            "justify_items": null,
            "left": null,
            "margin": null,
            "max_height": null,
            "max_width": null,
            "min_height": null,
            "min_width": null,
            "object_fit": null,
            "object_position": null,
            "order": null,
            "overflow": null,
            "overflow_x": null,
            "overflow_y": null,
            "padding": null,
            "right": null,
            "top": null,
            "visibility": null,
            "width": null
          }
        },
        "38dc0dd54b8447f896cf6e4272b7786f": {
          "model_module": "@jupyter-widgets/controls",
          "model_name": "ProgressStyleModel",
          "model_module_version": "1.5.0",
          "state": {
            "_model_module": "@jupyter-widgets/controls",
            "_model_module_version": "1.5.0",
            "_model_name": "ProgressStyleModel",
            "_view_count": null,
            "_view_module": "@jupyter-widgets/base",
            "_view_module_version": "1.2.0",
            "_view_name": "StyleView",
            "bar_color": null,
            "description_width": ""
          }
        },
        "7b5ba185a1984792a9ec935f1d601add": {
          "model_module": "@jupyter-widgets/base",
          "model_name": "LayoutModel",
          "model_module_version": "1.2.0",
          "state": {
            "_model_module": "@jupyter-widgets/base",
            "_model_module_version": "1.2.0",
            "_model_name": "LayoutModel",
            "_view_count": null,
            "_view_module": "@jupyter-widgets/base",
            "_view_module_version": "1.2.0",
            "_view_name": "LayoutView",
            "align_content": null,
            "align_items": null,
            "align_self": null,
            "border": null,
            "bottom": null,
            "display": null,
            "flex": null,
            "flex_flow": null,
            "grid_area": null,
            "grid_auto_columns": null,
            "grid_auto_flow": null,
            "grid_auto_rows": null,
            "grid_column": null,
            "grid_gap": null,
            "grid_row": null,
            "grid_template_areas": null,
            "grid_template_columns": null,
            "grid_template_rows": null,
            "height": null,
            "justify_content": null,
            "justify_items": null,
            "left": null,
            "margin": null,
            "max_height": null,
            "max_width": null,
            "min_height": null,
            "min_width": null,
            "object_fit": null,
            "object_position": null,
            "order": null,
            "overflow": null,
            "overflow_x": null,
            "overflow_y": null,
            "padding": null,
            "right": null,
            "top": null,
            "visibility": null,
            "width": null
          }
        },
        "69b6230d67cd46d596487cefeb3aacdb": {
          "model_module": "@jupyter-widgets/controls",
          "model_name": "DescriptionStyleModel",
          "model_module_version": "1.5.0",
          "state": {
            "_model_module": "@jupyter-widgets/controls",
            "_model_module_version": "1.5.0",
            "_model_name": "DescriptionStyleModel",
            "_view_count": null,
            "_view_module": "@jupyter-widgets/base",
            "_view_module_version": "1.2.0",
            "_view_name": "StyleView",
            "description_width": ""
          }
        },
        "9cb62077b950411996deb85a7611d806": {
          "model_module": "@jupyter-widgets/controls",
          "model_name": "HBoxModel",
          "model_module_version": "1.5.0",
          "state": {
            "_dom_classes": [],
            "_model_module": "@jupyter-widgets/controls",
            "_model_module_version": "1.5.0",
            "_model_name": "HBoxModel",
            "_view_count": null,
            "_view_module": "@jupyter-widgets/controls",
            "_view_module_version": "1.5.0",
            "_view_name": "HBoxView",
            "box_style": "",
            "children": [
              "IPY_MODEL_e7a4e24fd97549e7aecdfd67cb31d7a2",
              "IPY_MODEL_339b059504e14218bc8719f3f75c4146",
              "IPY_MODEL_5e738376b7a84312a48c386322891e58"
            ],
            "layout": "IPY_MODEL_8199916588c641e98cb324eab59dd168"
          }
        },
        "e7a4e24fd97549e7aecdfd67cb31d7a2": {
          "model_module": "@jupyter-widgets/controls",
          "model_name": "HTMLModel",
          "model_module_version": "1.5.0",
          "state": {
            "_dom_classes": [],
            "_model_module": "@jupyter-widgets/controls",
            "_model_module_version": "1.5.0",
            "_model_name": "HTMLModel",
            "_view_count": null,
            "_view_module": "@jupyter-widgets/controls",
            "_view_module_version": "1.5.0",
            "_view_name": "HTMLView",
            "description": "",
            "description_tooltip": null,
            "layout": "IPY_MODEL_9c8aad49df0e493c82ccaea6ea41d543",
            "placeholder": "​",
            "style": "IPY_MODEL_2dba6c218bdd4cf4b10e03479260f4e6",
            "value": "100%"
          }
        },
        "339b059504e14218bc8719f3f75c4146": {
          "model_module": "@jupyter-widgets/controls",
          "model_name": "FloatProgressModel",
          "model_module_version": "1.5.0",
          "state": {
            "_dom_classes": [],
            "_model_module": "@jupyter-widgets/controls",
            "_model_module_version": "1.5.0",
            "_model_name": "FloatProgressModel",
            "_view_count": null,
            "_view_module": "@jupyter-widgets/controls",
            "_view_module_version": "1.5.0",
            "_view_name": "ProgressView",
            "bar_style": "success",
            "description": "",
            "description_tooltip": null,
            "layout": "IPY_MODEL_079143186a2f4c918cec2e771e80b398",
            "max": 800,
            "min": 0,
            "orientation": "horizontal",
            "style": "IPY_MODEL_a248635b5168405b941cead2f48f4265",
            "value": 800
          }
        },
        "5e738376b7a84312a48c386322891e58": {
          "model_module": "@jupyter-widgets/controls",
          "model_name": "HTMLModel",
          "model_module_version": "1.5.0",
          "state": {
            "_dom_classes": [],
            "_model_module": "@jupyter-widgets/controls",
            "_model_module_version": "1.5.0",
            "_model_name": "HTMLModel",
            "_view_count": null,
            "_view_module": "@jupyter-widgets/controls",
            "_view_module_version": "1.5.0",
            "_view_name": "HTMLView",
            "description": "",
            "description_tooltip": null,
            "layout": "IPY_MODEL_a8352f17e0b24ed0877cf3ec6d22eb50",
            "placeholder": "​",
            "style": "IPY_MODEL_91493ead133f49908cc7d8b971e069c0",
            "value": " 800/800 [00:59&lt;00:00, 14.47it/s]"
          }
        },
        "8199916588c641e98cb324eab59dd168": {
          "model_module": "@jupyter-widgets/base",
          "model_name": "LayoutModel",
          "model_module_version": "1.2.0",
          "state": {
            "_model_module": "@jupyter-widgets/base",
            "_model_module_version": "1.2.0",
            "_model_name": "LayoutModel",
            "_view_count": null,
            "_view_module": "@jupyter-widgets/base",
            "_view_module_version": "1.2.0",
            "_view_name": "LayoutView",
            "align_content": null,
            "align_items": null,
            "align_self": null,
            "border": null,
            "bottom": null,
            "display": null,
            "flex": null,
            "flex_flow": null,
            "grid_area": null,
            "grid_auto_columns": null,
            "grid_auto_flow": null,
            "grid_auto_rows": null,
            "grid_column": null,
            "grid_gap": null,
            "grid_row": null,
            "grid_template_areas": null,
            "grid_template_columns": null,
            "grid_template_rows": null,
            "height": null,
            "justify_content": null,
            "justify_items": null,
            "left": null,
            "margin": null,
            "max_height": null,
            "max_width": null,
            "min_height": null,
            "min_width": null,
            "object_fit": null,
            "object_position": null,
            "order": null,
            "overflow": null,
            "overflow_x": null,
            "overflow_y": null,
            "padding": null,
            "right": null,
            "top": null,
            "visibility": null,
            "width": null
          }
        },
        "9c8aad49df0e493c82ccaea6ea41d543": {
          "model_module": "@jupyter-widgets/base",
          "model_name": "LayoutModel",
          "model_module_version": "1.2.0",
          "state": {
            "_model_module": "@jupyter-widgets/base",
            "_model_module_version": "1.2.0",
            "_model_name": "LayoutModel",
            "_view_count": null,
            "_view_module": "@jupyter-widgets/base",
            "_view_module_version": "1.2.0",
            "_view_name": "LayoutView",
            "align_content": null,
            "align_items": null,
            "align_self": null,
            "border": null,
            "bottom": null,
            "display": null,
            "flex": null,
            "flex_flow": null,
            "grid_area": null,
            "grid_auto_columns": null,
            "grid_auto_flow": null,
            "grid_auto_rows": null,
            "grid_column": null,
            "grid_gap": null,
            "grid_row": null,
            "grid_template_areas": null,
            "grid_template_columns": null,
            "grid_template_rows": null,
            "height": null,
            "justify_content": null,
            "justify_items": null,
            "left": null,
            "margin": null,
            "max_height": null,
            "max_width": null,
            "min_height": null,
            "min_width": null,
            "object_fit": null,
            "object_position": null,
            "order": null,
            "overflow": null,
            "overflow_x": null,
            "overflow_y": null,
            "padding": null,
            "right": null,
            "top": null,
            "visibility": null,
            "width": null
          }
        },
        "2dba6c218bdd4cf4b10e03479260f4e6": {
          "model_module": "@jupyter-widgets/controls",
          "model_name": "DescriptionStyleModel",
          "model_module_version": "1.5.0",
          "state": {
            "_model_module": "@jupyter-widgets/controls",
            "_model_module_version": "1.5.0",
            "_model_name": "DescriptionStyleModel",
            "_view_count": null,
            "_view_module": "@jupyter-widgets/base",
            "_view_module_version": "1.2.0",
            "_view_name": "StyleView",
            "description_width": ""
          }
        },
        "079143186a2f4c918cec2e771e80b398": {
          "model_module": "@jupyter-widgets/base",
          "model_name": "LayoutModel",
          "model_module_version": "1.2.0",
          "state": {
            "_model_module": "@jupyter-widgets/base",
            "_model_module_version": "1.2.0",
            "_model_name": "LayoutModel",
            "_view_count": null,
            "_view_module": "@jupyter-widgets/base",
            "_view_module_version": "1.2.0",
            "_view_name": "LayoutView",
            "align_content": null,
            "align_items": null,
            "align_self": null,
            "border": null,
            "bottom": null,
            "display": null,
            "flex": null,
            "flex_flow": null,
            "grid_area": null,
            "grid_auto_columns": null,
            "grid_auto_flow": null,
            "grid_auto_rows": null,
            "grid_column": null,
            "grid_gap": null,
            "grid_row": null,
            "grid_template_areas": null,
            "grid_template_columns": null,
            "grid_template_rows": null,
            "height": null,
            "justify_content": null,
            "justify_items": null,
            "left": null,
            "margin": null,
            "max_height": null,
            "max_width": null,
            "min_height": null,
            "min_width": null,
            "object_fit": null,
            "object_position": null,
            "order": null,
            "overflow": null,
            "overflow_x": null,
            "overflow_y": null,
            "padding": null,
            "right": null,
            "top": null,
            "visibility": null,
            "width": null
          }
        },
        "a248635b5168405b941cead2f48f4265": {
          "model_module": "@jupyter-widgets/controls",
          "model_name": "ProgressStyleModel",
          "model_module_version": "1.5.0",
          "state": {
            "_model_module": "@jupyter-widgets/controls",
            "_model_module_version": "1.5.0",
            "_model_name": "ProgressStyleModel",
            "_view_count": null,
            "_view_module": "@jupyter-widgets/base",
            "_view_module_version": "1.2.0",
            "_view_name": "StyleView",
            "bar_color": null,
            "description_width": ""
          }
        },
        "a8352f17e0b24ed0877cf3ec6d22eb50": {
          "model_module": "@jupyter-widgets/base",
          "model_name": "LayoutModel",
          "model_module_version": "1.2.0",
          "state": {
            "_model_module": "@jupyter-widgets/base",
            "_model_module_version": "1.2.0",
            "_model_name": "LayoutModel",
            "_view_count": null,
            "_view_module": "@jupyter-widgets/base",
            "_view_module_version": "1.2.0",
            "_view_name": "LayoutView",
            "align_content": null,
            "align_items": null,
            "align_self": null,
            "border": null,
            "bottom": null,
            "display": null,
            "flex": null,
            "flex_flow": null,
            "grid_area": null,
            "grid_auto_columns": null,
            "grid_auto_flow": null,
            "grid_auto_rows": null,
            "grid_column": null,
            "grid_gap": null,
            "grid_row": null,
            "grid_template_areas": null,
            "grid_template_columns": null,
            "grid_template_rows": null,
            "height": null,
            "justify_content": null,
            "justify_items": null,
            "left": null,
            "margin": null,
            "max_height": null,
            "max_width": null,
            "min_height": null,
            "min_width": null,
            "object_fit": null,
            "object_position": null,
            "order": null,
            "overflow": null,
            "overflow_x": null,
            "overflow_y": null,
            "padding": null,
            "right": null,
            "top": null,
            "visibility": null,
            "width": null
          }
        },
        "91493ead133f49908cc7d8b971e069c0": {
          "model_module": "@jupyter-widgets/controls",
          "model_name": "DescriptionStyleModel",
          "model_module_version": "1.5.0",
          "state": {
            "_model_module": "@jupyter-widgets/controls",
            "_model_module_version": "1.5.0",
            "_model_name": "DescriptionStyleModel",
            "_view_count": null,
            "_view_module": "@jupyter-widgets/base",
            "_view_module_version": "1.2.0",
            "_view_name": "StyleView",
            "description_width": ""
          }
        },
        "25a53e70ec1046b5b9f9c285568ac0aa": {
          "model_module": "@jupyter-widgets/controls",
          "model_name": "HBoxModel",
          "model_module_version": "1.5.0",
          "state": {
            "_dom_classes": [],
            "_model_module": "@jupyter-widgets/controls",
            "_model_module_version": "1.5.0",
            "_model_name": "HBoxModel",
            "_view_count": null,
            "_view_module": "@jupyter-widgets/controls",
            "_view_module_version": "1.5.0",
            "_view_name": "HBoxView",
            "box_style": "",
            "children": [
              "IPY_MODEL_31417c7603ef49a9801fc2e381b2be6d",
              "IPY_MODEL_f6a88342826d43c193037d931812a312",
              "IPY_MODEL_ba01170c56ad4757bb242beda2d6aa92"
            ],
            "layout": "IPY_MODEL_940327eac9144500bd3cf67f91a68765"
          }
        },
        "31417c7603ef49a9801fc2e381b2be6d": {
          "model_module": "@jupyter-widgets/controls",
          "model_name": "HTMLModel",
          "model_module_version": "1.5.0",
          "state": {
            "_dom_classes": [],
            "_model_module": "@jupyter-widgets/controls",
            "_model_module_version": "1.5.0",
            "_model_name": "HTMLModel",
            "_view_count": null,
            "_view_module": "@jupyter-widgets/controls",
            "_view_module_version": "1.5.0",
            "_view_name": "HTMLView",
            "description": "",
            "description_tooltip": null,
            "layout": "IPY_MODEL_fff6c6c2af8b45f79796db8a44196582",
            "placeholder": "​",
            "style": "IPY_MODEL_5733dd5e949d4906aad50f7607c5941f",
            "value": "100%"
          }
        },
        "f6a88342826d43c193037d931812a312": {
          "model_module": "@jupyter-widgets/controls",
          "model_name": "FloatProgressModel",
          "model_module_version": "1.5.0",
          "state": {
            "_dom_classes": [],
            "_model_module": "@jupyter-widgets/controls",
            "_model_module_version": "1.5.0",
            "_model_name": "FloatProgressModel",
            "_view_count": null,
            "_view_module": "@jupyter-widgets/controls",
            "_view_module_version": "1.5.0",
            "_view_name": "ProgressView",
            "bar_style": "success",
            "description": "",
            "description_tooltip": null,
            "layout": "IPY_MODEL_2fc220987b1c45a4a4e5e7413fa1d4a4",
            "max": 99,
            "min": 0,
            "orientation": "horizontal",
            "style": "IPY_MODEL_cc1cc3349f994aabaedcb5ad901dd0c2",
            "value": 99
          }
        },
        "ba01170c56ad4757bb242beda2d6aa92": {
          "model_module": "@jupyter-widgets/controls",
          "model_name": "HTMLModel",
          "model_module_version": "1.5.0",
          "state": {
            "_dom_classes": [],
            "_model_module": "@jupyter-widgets/controls",
            "_model_module_version": "1.5.0",
            "_model_name": "HTMLModel",
            "_view_count": null,
            "_view_module": "@jupyter-widgets/controls",
            "_view_module_version": "1.5.0",
            "_view_name": "HTMLView",
            "description": "",
            "description_tooltip": null,
            "layout": "IPY_MODEL_89ea51d9428346f095562c28172d9388",
            "placeholder": "​",
            "style": "IPY_MODEL_5adbc30d31e548398671ab96c601a15f",
            "value": " 99/99 [00:58&lt;00:00,  1.83it/s]"
          }
        },
        "940327eac9144500bd3cf67f91a68765": {
          "model_module": "@jupyter-widgets/base",
          "model_name": "LayoutModel",
          "model_module_version": "1.2.0",
          "state": {
            "_model_module": "@jupyter-widgets/base",
            "_model_module_version": "1.2.0",
            "_model_name": "LayoutModel",
            "_view_count": null,
            "_view_module": "@jupyter-widgets/base",
            "_view_module_version": "1.2.0",
            "_view_name": "LayoutView",
            "align_content": null,
            "align_items": null,
            "align_self": null,
            "border": null,
            "bottom": null,
            "display": null,
            "flex": null,
            "flex_flow": null,
            "grid_area": null,
            "grid_auto_columns": null,
            "grid_auto_flow": null,
            "grid_auto_rows": null,
            "grid_column": null,
            "grid_gap": null,
            "grid_row": null,
            "grid_template_areas": null,
            "grid_template_columns": null,
            "grid_template_rows": null,
            "height": null,
            "justify_content": null,
            "justify_items": null,
            "left": null,
            "margin": null,
            "max_height": null,
            "max_width": null,
            "min_height": null,
            "min_width": null,
            "object_fit": null,
            "object_position": null,
            "order": null,
            "overflow": null,
            "overflow_x": null,
            "overflow_y": null,
            "padding": null,
            "right": null,
            "top": null,
            "visibility": null,
            "width": null
          }
        },
        "fff6c6c2af8b45f79796db8a44196582": {
          "model_module": "@jupyter-widgets/base",
          "model_name": "LayoutModel",
          "model_module_version": "1.2.0",
          "state": {
            "_model_module": "@jupyter-widgets/base",
            "_model_module_version": "1.2.0",
            "_model_name": "LayoutModel",
            "_view_count": null,
            "_view_module": "@jupyter-widgets/base",
            "_view_module_version": "1.2.0",
            "_view_name": "LayoutView",
            "align_content": null,
            "align_items": null,
            "align_self": null,
            "border": null,
            "bottom": null,
            "display": null,
            "flex": null,
            "flex_flow": null,
            "grid_area": null,
            "grid_auto_columns": null,
            "grid_auto_flow": null,
            "grid_auto_rows": null,
            "grid_column": null,
            "grid_gap": null,
            "grid_row": null,
            "grid_template_areas": null,
            "grid_template_columns": null,
            "grid_template_rows": null,
            "height": null,
            "justify_content": null,
            "justify_items": null,
            "left": null,
            "margin": null,
            "max_height": null,
            "max_width": null,
            "min_height": null,
            "min_width": null,
            "object_fit": null,
            "object_position": null,
            "order": null,
            "overflow": null,
            "overflow_x": null,
            "overflow_y": null,
            "padding": null,
            "right": null,
            "top": null,
            "visibility": null,
            "width": null
          }
        },
        "5733dd5e949d4906aad50f7607c5941f": {
          "model_module": "@jupyter-widgets/controls",
          "model_name": "DescriptionStyleModel",
          "model_module_version": "1.5.0",
          "state": {
            "_model_module": "@jupyter-widgets/controls",
            "_model_module_version": "1.5.0",
            "_model_name": "DescriptionStyleModel",
            "_view_count": null,
            "_view_module": "@jupyter-widgets/base",
            "_view_module_version": "1.2.0",
            "_view_name": "StyleView",
            "description_width": ""
          }
        },
        "2fc220987b1c45a4a4e5e7413fa1d4a4": {
          "model_module": "@jupyter-widgets/base",
          "model_name": "LayoutModel",
          "model_module_version": "1.2.0",
          "state": {
            "_model_module": "@jupyter-widgets/base",
            "_model_module_version": "1.2.0",
            "_model_name": "LayoutModel",
            "_view_count": null,
            "_view_module": "@jupyter-widgets/base",
            "_view_module_version": "1.2.0",
            "_view_name": "LayoutView",
            "align_content": null,
            "align_items": null,
            "align_self": null,
            "border": null,
            "bottom": null,
            "display": null,
            "flex": null,
            "flex_flow": null,
            "grid_area": null,
            "grid_auto_columns": null,
            "grid_auto_flow": null,
            "grid_auto_rows": null,
            "grid_column": null,
            "grid_gap": null,
            "grid_row": null,
            "grid_template_areas": null,
            "grid_template_columns": null,
            "grid_template_rows": null,
            "height": null,
            "justify_content": null,
            "justify_items": null,
            "left": null,
            "margin": null,
            "max_height": null,
            "max_width": null,
            "min_height": null,
            "min_width": null,
            "object_fit": null,
            "object_position": null,
            "order": null,
            "overflow": null,
            "overflow_x": null,
            "overflow_y": null,
            "padding": null,
            "right": null,
            "top": null,
            "visibility": null,
            "width": null
          }
        },
        "cc1cc3349f994aabaedcb5ad901dd0c2": {
          "model_module": "@jupyter-widgets/controls",
          "model_name": "ProgressStyleModel",
          "model_module_version": "1.5.0",
          "state": {
            "_model_module": "@jupyter-widgets/controls",
            "_model_module_version": "1.5.0",
            "_model_name": "ProgressStyleModel",
            "_view_count": null,
            "_view_module": "@jupyter-widgets/base",
            "_view_module_version": "1.2.0",
            "_view_name": "StyleView",
            "bar_color": null,
            "description_width": ""
          }
        },
        "89ea51d9428346f095562c28172d9388": {
          "model_module": "@jupyter-widgets/base",
          "model_name": "LayoutModel",
          "model_module_version": "1.2.0",
          "state": {
            "_model_module": "@jupyter-widgets/base",
            "_model_module_version": "1.2.0",
            "_model_name": "LayoutModel",
            "_view_count": null,
            "_view_module": "@jupyter-widgets/base",
            "_view_module_version": "1.2.0",
            "_view_name": "LayoutView",
            "align_content": null,
            "align_items": null,
            "align_self": null,
            "border": null,
            "bottom": null,
            "display": null,
            "flex": null,
            "flex_flow": null,
            "grid_area": null,
            "grid_auto_columns": null,
            "grid_auto_flow": null,
            "grid_auto_rows": null,
            "grid_column": null,
            "grid_gap": null,
            "grid_row": null,
            "grid_template_areas": null,
            "grid_template_columns": null,
            "grid_template_rows": null,
            "height": null,
            "justify_content": null,
            "justify_items": null,
            "left": null,
            "margin": null,
            "max_height": null,
            "max_width": null,
            "min_height": null,
            "min_width": null,
            "object_fit": null,
            "object_position": null,
            "order": null,
            "overflow": null,
            "overflow_x": null,
            "overflow_y": null,
            "padding": null,
            "right": null,
            "top": null,
            "visibility": null,
            "width": null
          }
        },
        "5adbc30d31e548398671ab96c601a15f": {
          "model_module": "@jupyter-widgets/controls",
          "model_name": "DescriptionStyleModel",
          "model_module_version": "1.5.0",
          "state": {
            "_model_module": "@jupyter-widgets/controls",
            "_model_module_version": "1.5.0",
            "_model_name": "DescriptionStyleModel",
            "_view_count": null,
            "_view_module": "@jupyter-widgets/base",
            "_view_module_version": "1.2.0",
            "_view_name": "StyleView",
            "description_width": ""
          }
        },
        "1ccb73467a334801a78506d98cdb7b7f": {
          "model_module": "@jupyter-widgets/controls",
          "model_name": "HBoxModel",
          "model_module_version": "1.5.0",
          "state": {
            "_dom_classes": [],
            "_model_module": "@jupyter-widgets/controls",
            "_model_module_version": "1.5.0",
            "_model_name": "HBoxModel",
            "_view_count": null,
            "_view_module": "@jupyter-widgets/controls",
            "_view_module_version": "1.5.0",
            "_view_name": "HBoxView",
            "box_style": "",
            "children": [
              "IPY_MODEL_2ae96d320596404e87118da3116ebd0d",
              "IPY_MODEL_745a7f403dac43b6a4ea6aef60037af4",
              "IPY_MODEL_03dfb08de221401d95d2257be98e62ce"
            ],
            "layout": "IPY_MODEL_8f76c8d6d8f6488aafc79c77d11431aa"
          }
        },
        "2ae96d320596404e87118da3116ebd0d": {
          "model_module": "@jupyter-widgets/controls",
          "model_name": "HTMLModel",
          "model_module_version": "1.5.0",
          "state": {
            "_dom_classes": [],
            "_model_module": "@jupyter-widgets/controls",
            "_model_module_version": "1.5.0",
            "_model_name": "HTMLModel",
            "_view_count": null,
            "_view_module": "@jupyter-widgets/controls",
            "_view_module_version": "1.5.0",
            "_view_name": "HTMLView",
            "description": "",
            "description_tooltip": null,
            "layout": "IPY_MODEL_06b9f5db914f40309a975b1f5a7536a5",
            "placeholder": "​",
            "style": "IPY_MODEL_fde1553876cc45e0b5ca8a21f67d54f2",
            "value": "100%"
          }
        },
        "745a7f403dac43b6a4ea6aef60037af4": {
          "model_module": "@jupyter-widgets/controls",
          "model_name": "FloatProgressModel",
          "model_module_version": "1.5.0",
          "state": {
            "_dom_classes": [],
            "_model_module": "@jupyter-widgets/controls",
            "_model_module_version": "1.5.0",
            "_model_name": "FloatProgressModel",
            "_view_count": null,
            "_view_module": "@jupyter-widgets/controls",
            "_view_module_version": "1.5.0",
            "_view_name": "ProgressView",
            "bar_style": "success",
            "description": "",
            "description_tooltip": null,
            "layout": "IPY_MODEL_ef4ced433ca34a69a8ab16cb82a97c95",
            "max": 200,
            "min": 0,
            "orientation": "horizontal",
            "style": "IPY_MODEL_95fd3cd02cca463aaa120e1971e07cf4",
            "value": 200
          }
        },
        "03dfb08de221401d95d2257be98e62ce": {
          "model_module": "@jupyter-widgets/controls",
          "model_name": "HTMLModel",
          "model_module_version": "1.5.0",
          "state": {
            "_dom_classes": [],
            "_model_module": "@jupyter-widgets/controls",
            "_model_module_version": "1.5.0",
            "_model_name": "HTMLModel",
            "_view_count": null,
            "_view_module": "@jupyter-widgets/controls",
            "_view_module_version": "1.5.0",
            "_view_name": "HTMLView",
            "description": "",
            "description_tooltip": null,
            "layout": "IPY_MODEL_0c277929461242a18db9cc8752f94ef0",
            "placeholder": "​",
            "style": "IPY_MODEL_3ab2bffa3513438092ed858e9a8613ad",
            "value": " 200/200 [00:16&lt;00:00, 12.92it/s]"
          }
        },
        "8f76c8d6d8f6488aafc79c77d11431aa": {
          "model_module": "@jupyter-widgets/base",
          "model_name": "LayoutModel",
          "model_module_version": "1.2.0",
          "state": {
            "_model_module": "@jupyter-widgets/base",
            "_model_module_version": "1.2.0",
            "_model_name": "LayoutModel",
            "_view_count": null,
            "_view_module": "@jupyter-widgets/base",
            "_view_module_version": "1.2.0",
            "_view_name": "LayoutView",
            "align_content": null,
            "align_items": null,
            "align_self": null,
            "border": null,
            "bottom": null,
            "display": null,
            "flex": null,
            "flex_flow": null,
            "grid_area": null,
            "grid_auto_columns": null,
            "grid_auto_flow": null,
            "grid_auto_rows": null,
            "grid_column": null,
            "grid_gap": null,
            "grid_row": null,
            "grid_template_areas": null,
            "grid_template_columns": null,
            "grid_template_rows": null,
            "height": null,
            "justify_content": null,
            "justify_items": null,
            "left": null,
            "margin": null,
            "max_height": null,
            "max_width": null,
            "min_height": null,
            "min_width": null,
            "object_fit": null,
            "object_position": null,
            "order": null,
            "overflow": null,
            "overflow_x": null,
            "overflow_y": null,
            "padding": null,
            "right": null,
            "top": null,
            "visibility": null,
            "width": null
          }
        },
        "06b9f5db914f40309a975b1f5a7536a5": {
          "model_module": "@jupyter-widgets/base",
          "model_name": "LayoutModel",
          "model_module_version": "1.2.0",
          "state": {
            "_model_module": "@jupyter-widgets/base",
            "_model_module_version": "1.2.0",
            "_model_name": "LayoutModel",
            "_view_count": null,
            "_view_module": "@jupyter-widgets/base",
            "_view_module_version": "1.2.0",
            "_view_name": "LayoutView",
            "align_content": null,
            "align_items": null,
            "align_self": null,
            "border": null,
            "bottom": null,
            "display": null,
            "flex": null,
            "flex_flow": null,
            "grid_area": null,
            "grid_auto_columns": null,
            "grid_auto_flow": null,
            "grid_auto_rows": null,
            "grid_column": null,
            "grid_gap": null,
            "grid_row": null,
            "grid_template_areas": null,
            "grid_template_columns": null,
            "grid_template_rows": null,
            "height": null,
            "justify_content": null,
            "justify_items": null,
            "left": null,
            "margin": null,
            "max_height": null,
            "max_width": null,
            "min_height": null,
            "min_width": null,
            "object_fit": null,
            "object_position": null,
            "order": null,
            "overflow": null,
            "overflow_x": null,
            "overflow_y": null,
            "padding": null,
            "right": null,
            "top": null,
            "visibility": null,
            "width": null
          }
        },
        "fde1553876cc45e0b5ca8a21f67d54f2": {
          "model_module": "@jupyter-widgets/controls",
          "model_name": "DescriptionStyleModel",
          "model_module_version": "1.5.0",
          "state": {
            "_model_module": "@jupyter-widgets/controls",
            "_model_module_version": "1.5.0",
            "_model_name": "DescriptionStyleModel",
            "_view_count": null,
            "_view_module": "@jupyter-widgets/base",
            "_view_module_version": "1.2.0",
            "_view_name": "StyleView",
            "description_width": ""
          }
        },
        "ef4ced433ca34a69a8ab16cb82a97c95": {
          "model_module": "@jupyter-widgets/base",
          "model_name": "LayoutModel",
          "model_module_version": "1.2.0",
          "state": {
            "_model_module": "@jupyter-widgets/base",
            "_model_module_version": "1.2.0",
            "_model_name": "LayoutModel",
            "_view_count": null,
            "_view_module": "@jupyter-widgets/base",
            "_view_module_version": "1.2.0",
            "_view_name": "LayoutView",
            "align_content": null,
            "align_items": null,
            "align_self": null,
            "border": null,
            "bottom": null,
            "display": null,
            "flex": null,
            "flex_flow": null,
            "grid_area": null,
            "grid_auto_columns": null,
            "grid_auto_flow": null,
            "grid_auto_rows": null,
            "grid_column": null,
            "grid_gap": null,
            "grid_row": null,
            "grid_template_areas": null,
            "grid_template_columns": null,
            "grid_template_rows": null,
            "height": null,
            "justify_content": null,
            "justify_items": null,
            "left": null,
            "margin": null,
            "max_height": null,
            "max_width": null,
            "min_height": null,
            "min_width": null,
            "object_fit": null,
            "object_position": null,
            "order": null,
            "overflow": null,
            "overflow_x": null,
            "overflow_y": null,
            "padding": null,
            "right": null,
            "top": null,
            "visibility": null,
            "width": null
          }
        },
        "95fd3cd02cca463aaa120e1971e07cf4": {
          "model_module": "@jupyter-widgets/controls",
          "model_name": "ProgressStyleModel",
          "model_module_version": "1.5.0",
          "state": {
            "_model_module": "@jupyter-widgets/controls",
            "_model_module_version": "1.5.0",
            "_model_name": "ProgressStyleModel",
            "_view_count": null,
            "_view_module": "@jupyter-widgets/base",
            "_view_module_version": "1.2.0",
            "_view_name": "StyleView",
            "bar_color": null,
            "description_width": ""
          }
        },
        "0c277929461242a18db9cc8752f94ef0": {
          "model_module": "@jupyter-widgets/base",
          "model_name": "LayoutModel",
          "model_module_version": "1.2.0",
          "state": {
            "_model_module": "@jupyter-widgets/base",
            "_model_module_version": "1.2.0",
            "_model_name": "LayoutModel",
            "_view_count": null,
            "_view_module": "@jupyter-widgets/base",
            "_view_module_version": "1.2.0",
            "_view_name": "LayoutView",
            "align_content": null,
            "align_items": null,
            "align_self": null,
            "border": null,
            "bottom": null,
            "display": null,
            "flex": null,
            "flex_flow": null,
            "grid_area": null,
            "grid_auto_columns": null,
            "grid_auto_flow": null,
            "grid_auto_rows": null,
            "grid_column": null,
            "grid_gap": null,
            "grid_row": null,
            "grid_template_areas": null,
            "grid_template_columns": null,
            "grid_template_rows": null,
            "height": null,
            "justify_content": null,
            "justify_items": null,
            "left": null,
            "margin": null,
            "max_height": null,
            "max_width": null,
            "min_height": null,
            "min_width": null,
            "object_fit": null,
            "object_position": null,
            "order": null,
            "overflow": null,
            "overflow_x": null,
            "overflow_y": null,
            "padding": null,
            "right": null,
            "top": null,
            "visibility": null,
            "width": null
          }
        },
        "3ab2bffa3513438092ed858e9a8613ad": {
          "model_module": "@jupyter-widgets/controls",
          "model_name": "DescriptionStyleModel",
          "model_module_version": "1.5.0",
          "state": {
            "_model_module": "@jupyter-widgets/controls",
            "_model_module_version": "1.5.0",
            "_model_name": "DescriptionStyleModel",
            "_view_count": null,
            "_view_module": "@jupyter-widgets/base",
            "_view_module_version": "1.2.0",
            "_view_name": "StyleView",
            "description_width": ""
          }
        },
        "5c2d5e23130d4f22b1f202be38705a42": {
          "model_module": "@jupyter-widgets/controls",
          "model_name": "HBoxModel",
          "model_module_version": "1.5.0",
          "state": {
            "_dom_classes": [],
            "_model_module": "@jupyter-widgets/controls",
            "_model_module_version": "1.5.0",
            "_model_name": "HBoxModel",
            "_view_count": null,
            "_view_module": "@jupyter-widgets/controls",
            "_view_module_version": "1.5.0",
            "_view_name": "HBoxView",
            "box_style": "",
            "children": [
              "IPY_MODEL_8465276007d34e52ab349494f57c6169",
              "IPY_MODEL_55aa36308b4f4c1a99ec1e3d46aa9c6c",
              "IPY_MODEL_afcfc09f58d74db1844c96df625c323f"
            ],
            "layout": "IPY_MODEL_51c06cbdf5ad43528295e49a15f6a5be"
          }
        },
        "8465276007d34e52ab349494f57c6169": {
          "model_module": "@jupyter-widgets/controls",
          "model_name": "HTMLModel",
          "model_module_version": "1.5.0",
          "state": {
            "_dom_classes": [],
            "_model_module": "@jupyter-widgets/controls",
            "_model_module_version": "1.5.0",
            "_model_name": "HTMLModel",
            "_view_count": null,
            "_view_module": "@jupyter-widgets/controls",
            "_view_module_version": "1.5.0",
            "_view_name": "HTMLView",
            "description": "",
            "description_tooltip": null,
            "layout": "IPY_MODEL_adfe574722ab4ccb95a90a0b2aeb7e5a",
            "placeholder": "​",
            "style": "IPY_MODEL_b445ff3e64db473385e02360e9b9330a",
            "value": "100%"
          }
        },
        "55aa36308b4f4c1a99ec1e3d46aa9c6c": {
          "model_module": "@jupyter-widgets/controls",
          "model_name": "FloatProgressModel",
          "model_module_version": "1.5.0",
          "state": {
            "_dom_classes": [],
            "_model_module": "@jupyter-widgets/controls",
            "_model_module_version": "1.5.0",
            "_model_name": "FloatProgressModel",
            "_view_count": null,
            "_view_module": "@jupyter-widgets/controls",
            "_view_module_version": "1.5.0",
            "_view_name": "ProgressView",
            "bar_style": "success",
            "description": "",
            "description_tooltip": null,
            "layout": "IPY_MODEL_0ad3cfe41c7e4bbfbce05e0655e54f18",
            "max": 200,
            "min": 0,
            "orientation": "horizontal",
            "style": "IPY_MODEL_55c288b2559249bfa26502d3b0f87b55",
            "value": 200
          }
        },
        "afcfc09f58d74db1844c96df625c323f": {
          "model_module": "@jupyter-widgets/controls",
          "model_name": "HTMLModel",
          "model_module_version": "1.5.0",
          "state": {
            "_dom_classes": [],
            "_model_module": "@jupyter-widgets/controls",
            "_model_module_version": "1.5.0",
            "_model_name": "HTMLModel",
            "_view_count": null,
            "_view_module": "@jupyter-widgets/controls",
            "_view_module_version": "1.5.0",
            "_view_name": "HTMLView",
            "description": "",
            "description_tooltip": null,
            "layout": "IPY_MODEL_664ab98c128a46158abc19d536cbcfa0",
            "placeholder": "​",
            "style": "IPY_MODEL_a0a83a97de6c4ffe94bc894862a0b42f",
            "value": " 200/200 [00:15&lt;00:00, 13.88it/s]"
          }
        },
        "51c06cbdf5ad43528295e49a15f6a5be": {
          "model_module": "@jupyter-widgets/base",
          "model_name": "LayoutModel",
          "model_module_version": "1.2.0",
          "state": {
            "_model_module": "@jupyter-widgets/base",
            "_model_module_version": "1.2.0",
            "_model_name": "LayoutModel",
            "_view_count": null,
            "_view_module": "@jupyter-widgets/base",
            "_view_module_version": "1.2.0",
            "_view_name": "LayoutView",
            "align_content": null,
            "align_items": null,
            "align_self": null,
            "border": null,
            "bottom": null,
            "display": null,
            "flex": null,
            "flex_flow": null,
            "grid_area": null,
            "grid_auto_columns": null,
            "grid_auto_flow": null,
            "grid_auto_rows": null,
            "grid_column": null,
            "grid_gap": null,
            "grid_row": null,
            "grid_template_areas": null,
            "grid_template_columns": null,
            "grid_template_rows": null,
            "height": null,
            "justify_content": null,
            "justify_items": null,
            "left": null,
            "margin": null,
            "max_height": null,
            "max_width": null,
            "min_height": null,
            "min_width": null,
            "object_fit": null,
            "object_position": null,
            "order": null,
            "overflow": null,
            "overflow_x": null,
            "overflow_y": null,
            "padding": null,
            "right": null,
            "top": null,
            "visibility": null,
            "width": null
          }
        },
        "adfe574722ab4ccb95a90a0b2aeb7e5a": {
          "model_module": "@jupyter-widgets/base",
          "model_name": "LayoutModel",
          "model_module_version": "1.2.0",
          "state": {
            "_model_module": "@jupyter-widgets/base",
            "_model_module_version": "1.2.0",
            "_model_name": "LayoutModel",
            "_view_count": null,
            "_view_module": "@jupyter-widgets/base",
            "_view_module_version": "1.2.0",
            "_view_name": "LayoutView",
            "align_content": null,
            "align_items": null,
            "align_self": null,
            "border": null,
            "bottom": null,
            "display": null,
            "flex": null,
            "flex_flow": null,
            "grid_area": null,
            "grid_auto_columns": null,
            "grid_auto_flow": null,
            "grid_auto_rows": null,
            "grid_column": null,
            "grid_gap": null,
            "grid_row": null,
            "grid_template_areas": null,
            "grid_template_columns": null,
            "grid_template_rows": null,
            "height": null,
            "justify_content": null,
            "justify_items": null,
            "left": null,
            "margin": null,
            "max_height": null,
            "max_width": null,
            "min_height": null,
            "min_width": null,
            "object_fit": null,
            "object_position": null,
            "order": null,
            "overflow": null,
            "overflow_x": null,
            "overflow_y": null,
            "padding": null,
            "right": null,
            "top": null,
            "visibility": null,
            "width": null
          }
        },
        "b445ff3e64db473385e02360e9b9330a": {
          "model_module": "@jupyter-widgets/controls",
          "model_name": "DescriptionStyleModel",
          "model_module_version": "1.5.0",
          "state": {
            "_model_module": "@jupyter-widgets/controls",
            "_model_module_version": "1.5.0",
            "_model_name": "DescriptionStyleModel",
            "_view_count": null,
            "_view_module": "@jupyter-widgets/base",
            "_view_module_version": "1.2.0",
            "_view_name": "StyleView",
            "description_width": ""
          }
        },
        "0ad3cfe41c7e4bbfbce05e0655e54f18": {
          "model_module": "@jupyter-widgets/base",
          "model_name": "LayoutModel",
          "model_module_version": "1.2.0",
          "state": {
            "_model_module": "@jupyter-widgets/base",
            "_model_module_version": "1.2.0",
            "_model_name": "LayoutModel",
            "_view_count": null,
            "_view_module": "@jupyter-widgets/base",
            "_view_module_version": "1.2.0",
            "_view_name": "LayoutView",
            "align_content": null,
            "align_items": null,
            "align_self": null,
            "border": null,
            "bottom": null,
            "display": null,
            "flex": null,
            "flex_flow": null,
            "grid_area": null,
            "grid_auto_columns": null,
            "grid_auto_flow": null,
            "grid_auto_rows": null,
            "grid_column": null,
            "grid_gap": null,
            "grid_row": null,
            "grid_template_areas": null,
            "grid_template_columns": null,
            "grid_template_rows": null,
            "height": null,
            "justify_content": null,
            "justify_items": null,
            "left": null,
            "margin": null,
            "max_height": null,
            "max_width": null,
            "min_height": null,
            "min_width": null,
            "object_fit": null,
            "object_position": null,
            "order": null,
            "overflow": null,
            "overflow_x": null,
            "overflow_y": null,
            "padding": null,
            "right": null,
            "top": null,
            "visibility": null,
            "width": null
          }
        },
        "55c288b2559249bfa26502d3b0f87b55": {
          "model_module": "@jupyter-widgets/controls",
          "model_name": "ProgressStyleModel",
          "model_module_version": "1.5.0",
          "state": {
            "_model_module": "@jupyter-widgets/controls",
            "_model_module_version": "1.5.0",
            "_model_name": "ProgressStyleModel",
            "_view_count": null,
            "_view_module": "@jupyter-widgets/base",
            "_view_module_version": "1.2.0",
            "_view_name": "StyleView",
            "bar_color": null,
            "description_width": ""
          }
        },
        "664ab98c128a46158abc19d536cbcfa0": {
          "model_module": "@jupyter-widgets/base",
          "model_name": "LayoutModel",
          "model_module_version": "1.2.0",
          "state": {
            "_model_module": "@jupyter-widgets/base",
            "_model_module_version": "1.2.0",
            "_model_name": "LayoutModel",
            "_view_count": null,
            "_view_module": "@jupyter-widgets/base",
            "_view_module_version": "1.2.0",
            "_view_name": "LayoutView",
            "align_content": null,
            "align_items": null,
            "align_self": null,
            "border": null,
            "bottom": null,
            "display": null,
            "flex": null,
            "flex_flow": null,
            "grid_area": null,
            "grid_auto_columns": null,
            "grid_auto_flow": null,
            "grid_auto_rows": null,
            "grid_column": null,
            "grid_gap": null,
            "grid_row": null,
            "grid_template_areas": null,
            "grid_template_columns": null,
            "grid_template_rows": null,
            "height": null,
            "justify_content": null,
            "justify_items": null,
            "left": null,
            "margin": null,
            "max_height": null,
            "max_width": null,
            "min_height": null,
            "min_width": null,
            "object_fit": null,
            "object_position": null,
            "order": null,
            "overflow": null,
            "overflow_x": null,
            "overflow_y": null,
            "padding": null,
            "right": null,
            "top": null,
            "visibility": null,
            "width": null
          }
        },
        "a0a83a97de6c4ffe94bc894862a0b42f": {
          "model_module": "@jupyter-widgets/controls",
          "model_name": "DescriptionStyleModel",
          "model_module_version": "1.5.0",
          "state": {
            "_model_module": "@jupyter-widgets/controls",
            "_model_module_version": "1.5.0",
            "_model_name": "DescriptionStyleModel",
            "_view_count": null,
            "_view_module": "@jupyter-widgets/base",
            "_view_module_version": "1.2.0",
            "_view_name": "StyleView",
            "description_width": ""
          }
        },
        "96a84577de234587b6e8de4c4457d1ed": {
          "model_module": "@jupyter-widgets/controls",
          "model_name": "HBoxModel",
          "model_module_version": "1.5.0",
          "state": {
            "_dom_classes": [],
            "_model_module": "@jupyter-widgets/controls",
            "_model_module_version": "1.5.0",
            "_model_name": "HBoxModel",
            "_view_count": null,
            "_view_module": "@jupyter-widgets/controls",
            "_view_module_version": "1.5.0",
            "_view_name": "HBoxView",
            "box_style": "",
            "children": [
              "IPY_MODEL_b4b6c8999cd34b37aa8a0b5321027192",
              "IPY_MODEL_76351e2384724dca92574fb6cd90f8fc",
              "IPY_MODEL_175861047b314b0ea513a5aeafd852c4"
            ],
            "layout": "IPY_MODEL_2388554d5f9d45a7931f1afc8b2d879c"
          }
        },
        "b4b6c8999cd34b37aa8a0b5321027192": {
          "model_module": "@jupyter-widgets/controls",
          "model_name": "HTMLModel",
          "model_module_version": "1.5.0",
          "state": {
            "_dom_classes": [],
            "_model_module": "@jupyter-widgets/controls",
            "_model_module_version": "1.5.0",
            "_model_name": "HTMLModel",
            "_view_count": null,
            "_view_module": "@jupyter-widgets/controls",
            "_view_module_version": "1.5.0",
            "_view_name": "HTMLView",
            "description": "",
            "description_tooltip": null,
            "layout": "IPY_MODEL_98d80f89ba7c4b289433d68480fac8f8",
            "placeholder": "​",
            "style": "IPY_MODEL_5562e20ff5b04926934f628f5f7bd81e",
            "value": "100%"
          }
        },
        "76351e2384724dca92574fb6cd90f8fc": {
          "model_module": "@jupyter-widgets/controls",
          "model_name": "FloatProgressModel",
          "model_module_version": "1.5.0",
          "state": {
            "_dom_classes": [],
            "_model_module": "@jupyter-widgets/controls",
            "_model_module_version": "1.5.0",
            "_model_name": "FloatProgressModel",
            "_view_count": null,
            "_view_module": "@jupyter-widgets/controls",
            "_view_module_version": "1.5.0",
            "_view_name": "ProgressView",
            "bar_style": "success",
            "description": "",
            "description_tooltip": null,
            "layout": "IPY_MODEL_17f65d18f0ff448a89b2aff1f3afa3d9",
            "max": 200,
            "min": 0,
            "orientation": "horizontal",
            "style": "IPY_MODEL_c69567f16db8451e8d761d5eba1400bf",
            "value": 200
          }
        },
        "175861047b314b0ea513a5aeafd852c4": {
          "model_module": "@jupyter-widgets/controls",
          "model_name": "HTMLModel",
          "model_module_version": "1.5.0",
          "state": {
            "_dom_classes": [],
            "_model_module": "@jupyter-widgets/controls",
            "_model_module_version": "1.5.0",
            "_model_name": "HTMLModel",
            "_view_count": null,
            "_view_module": "@jupyter-widgets/controls",
            "_view_module_version": "1.5.0",
            "_view_name": "HTMLView",
            "description": "",
            "description_tooltip": null,
            "layout": "IPY_MODEL_b8e45c823d0d4456b6042612f2bea471",
            "placeholder": "​",
            "style": "IPY_MODEL_afe8dde2b5554d89a78dcef5b19bb829",
            "value": " 200/200 [00:17&lt;00:00,  7.04it/s]"
          }
        },
        "2388554d5f9d45a7931f1afc8b2d879c": {
          "model_module": "@jupyter-widgets/base",
          "model_name": "LayoutModel",
          "model_module_version": "1.2.0",
          "state": {
            "_model_module": "@jupyter-widgets/base",
            "_model_module_version": "1.2.0",
            "_model_name": "LayoutModel",
            "_view_count": null,
            "_view_module": "@jupyter-widgets/base",
            "_view_module_version": "1.2.0",
            "_view_name": "LayoutView",
            "align_content": null,
            "align_items": null,
            "align_self": null,
            "border": null,
            "bottom": null,
            "display": null,
            "flex": null,
            "flex_flow": null,
            "grid_area": null,
            "grid_auto_columns": null,
            "grid_auto_flow": null,
            "grid_auto_rows": null,
            "grid_column": null,
            "grid_gap": null,
            "grid_row": null,
            "grid_template_areas": null,
            "grid_template_columns": null,
            "grid_template_rows": null,
            "height": null,
            "justify_content": null,
            "justify_items": null,
            "left": null,
            "margin": null,
            "max_height": null,
            "max_width": null,
            "min_height": null,
            "min_width": null,
            "object_fit": null,
            "object_position": null,
            "order": null,
            "overflow": null,
            "overflow_x": null,
            "overflow_y": null,
            "padding": null,
            "right": null,
            "top": null,
            "visibility": null,
            "width": null
          }
        },
        "98d80f89ba7c4b289433d68480fac8f8": {
          "model_module": "@jupyter-widgets/base",
          "model_name": "LayoutModel",
          "model_module_version": "1.2.0",
          "state": {
            "_model_module": "@jupyter-widgets/base",
            "_model_module_version": "1.2.0",
            "_model_name": "LayoutModel",
            "_view_count": null,
            "_view_module": "@jupyter-widgets/base",
            "_view_module_version": "1.2.0",
            "_view_name": "LayoutView",
            "align_content": null,
            "align_items": null,
            "align_self": null,
            "border": null,
            "bottom": null,
            "display": null,
            "flex": null,
            "flex_flow": null,
            "grid_area": null,
            "grid_auto_columns": null,
            "grid_auto_flow": null,
            "grid_auto_rows": null,
            "grid_column": null,
            "grid_gap": null,
            "grid_row": null,
            "grid_template_areas": null,
            "grid_template_columns": null,
            "grid_template_rows": null,
            "height": null,
            "justify_content": null,
            "justify_items": null,
            "left": null,
            "margin": null,
            "max_height": null,
            "max_width": null,
            "min_height": null,
            "min_width": null,
            "object_fit": null,
            "object_position": null,
            "order": null,
            "overflow": null,
            "overflow_x": null,
            "overflow_y": null,
            "padding": null,
            "right": null,
            "top": null,
            "visibility": null,
            "width": null
          }
        },
        "5562e20ff5b04926934f628f5f7bd81e": {
          "model_module": "@jupyter-widgets/controls",
          "model_name": "DescriptionStyleModel",
          "model_module_version": "1.5.0",
          "state": {
            "_model_module": "@jupyter-widgets/controls",
            "_model_module_version": "1.5.0",
            "_model_name": "DescriptionStyleModel",
            "_view_count": null,
            "_view_module": "@jupyter-widgets/base",
            "_view_module_version": "1.2.0",
            "_view_name": "StyleView",
            "description_width": ""
          }
        },
        "17f65d18f0ff448a89b2aff1f3afa3d9": {
          "model_module": "@jupyter-widgets/base",
          "model_name": "LayoutModel",
          "model_module_version": "1.2.0",
          "state": {
            "_model_module": "@jupyter-widgets/base",
            "_model_module_version": "1.2.0",
            "_model_name": "LayoutModel",
            "_view_count": null,
            "_view_module": "@jupyter-widgets/base",
            "_view_module_version": "1.2.0",
            "_view_name": "LayoutView",
            "align_content": null,
            "align_items": null,
            "align_self": null,
            "border": null,
            "bottom": null,
            "display": null,
            "flex": null,
            "flex_flow": null,
            "grid_area": null,
            "grid_auto_columns": null,
            "grid_auto_flow": null,
            "grid_auto_rows": null,
            "grid_column": null,
            "grid_gap": null,
            "grid_row": null,
            "grid_template_areas": null,
            "grid_template_columns": null,
            "grid_template_rows": null,
            "height": null,
            "justify_content": null,
            "justify_items": null,
            "left": null,
            "margin": null,
            "max_height": null,
            "max_width": null,
            "min_height": null,
            "min_width": null,
            "object_fit": null,
            "object_position": null,
            "order": null,
            "overflow": null,
            "overflow_x": null,
            "overflow_y": null,
            "padding": null,
            "right": null,
            "top": null,
            "visibility": null,
            "width": null
          }
        },
        "c69567f16db8451e8d761d5eba1400bf": {
          "model_module": "@jupyter-widgets/controls",
          "model_name": "ProgressStyleModel",
          "model_module_version": "1.5.0",
          "state": {
            "_model_module": "@jupyter-widgets/controls",
            "_model_module_version": "1.5.0",
            "_model_name": "ProgressStyleModel",
            "_view_count": null,
            "_view_module": "@jupyter-widgets/base",
            "_view_module_version": "1.2.0",
            "_view_name": "StyleView",
            "bar_color": null,
            "description_width": ""
          }
        },
        "b8e45c823d0d4456b6042612f2bea471": {
          "model_module": "@jupyter-widgets/base",
          "model_name": "LayoutModel",
          "model_module_version": "1.2.0",
          "state": {
            "_model_module": "@jupyter-widgets/base",
            "_model_module_version": "1.2.0",
            "_model_name": "LayoutModel",
            "_view_count": null,
            "_view_module": "@jupyter-widgets/base",
            "_view_module_version": "1.2.0",
            "_view_name": "LayoutView",
            "align_content": null,
            "align_items": null,
            "align_self": null,
            "border": null,
            "bottom": null,
            "display": null,
            "flex": null,
            "flex_flow": null,
            "grid_area": null,
            "grid_auto_columns": null,
            "grid_auto_flow": null,
            "grid_auto_rows": null,
            "grid_column": null,
            "grid_gap": null,
            "grid_row": null,
            "grid_template_areas": null,
            "grid_template_columns": null,
            "grid_template_rows": null,
            "height": null,
            "justify_content": null,
            "justify_items": null,
            "left": null,
            "margin": null,
            "max_height": null,
            "max_width": null,
            "min_height": null,
            "min_width": null,
            "object_fit": null,
            "object_position": null,
            "order": null,
            "overflow": null,
            "overflow_x": null,
            "overflow_y": null,
            "padding": null,
            "right": null,
            "top": null,
            "visibility": null,
            "width": null
          }
        },
        "afe8dde2b5554d89a78dcef5b19bb829": {
          "model_module": "@jupyter-widgets/controls",
          "model_name": "DescriptionStyleModel",
          "model_module_version": "1.5.0",
          "state": {
            "_model_module": "@jupyter-widgets/controls",
            "_model_module_version": "1.5.0",
            "_model_name": "DescriptionStyleModel",
            "_view_count": null,
            "_view_module": "@jupyter-widgets/base",
            "_view_module_version": "1.2.0",
            "_view_name": "StyleView",
            "description_width": ""
          }
        },
        "323d6fdc8b81467db7bfce32079bb198": {
          "model_module": "@jupyter-widgets/controls",
          "model_name": "HBoxModel",
          "model_module_version": "1.5.0",
          "state": {
            "_dom_classes": [],
            "_model_module": "@jupyter-widgets/controls",
            "_model_module_version": "1.5.0",
            "_model_name": "HBoxModel",
            "_view_count": null,
            "_view_module": "@jupyter-widgets/controls",
            "_view_module_version": "1.5.0",
            "_view_name": "HBoxView",
            "box_style": "",
            "children": [
              "IPY_MODEL_b0e03df88883444998ad1f81c030940e",
              "IPY_MODEL_a64a39ab37874628b3a26b07fe246f0e",
              "IPY_MODEL_b728ba5fbc394d769b5f485af3681e56"
            ],
            "layout": "IPY_MODEL_895c1f00a6a842e183cdd823897d6cdf"
          }
        },
        "b0e03df88883444998ad1f81c030940e": {
          "model_module": "@jupyter-widgets/controls",
          "model_name": "HTMLModel",
          "model_module_version": "1.5.0",
          "state": {
            "_dom_classes": [],
            "_model_module": "@jupyter-widgets/controls",
            "_model_module_version": "1.5.0",
            "_model_name": "HTMLModel",
            "_view_count": null,
            "_view_module": "@jupyter-widgets/controls",
            "_view_module_version": "1.5.0",
            "_view_name": "HTMLView",
            "description": "",
            "description_tooltip": null,
            "layout": "IPY_MODEL_9d280694d19d41e89b3f7b577d156917",
            "placeholder": "​",
            "style": "IPY_MODEL_aa4a101dd882442cb122c59aeafe2f80",
            "value": "100%"
          }
        },
        "a64a39ab37874628b3a26b07fe246f0e": {
          "model_module": "@jupyter-widgets/controls",
          "model_name": "FloatProgressModel",
          "model_module_version": "1.5.0",
          "state": {
            "_dom_classes": [],
            "_model_module": "@jupyter-widgets/controls",
            "_model_module_version": "1.5.0",
            "_model_name": "FloatProgressModel",
            "_view_count": null,
            "_view_module": "@jupyter-widgets/controls",
            "_view_module_version": "1.5.0",
            "_view_name": "ProgressView",
            "bar_style": "success",
            "description": "",
            "description_tooltip": null,
            "layout": "IPY_MODEL_84cedda30c6e4d22a133d46d462ca252",
            "max": 200,
            "min": 0,
            "orientation": "horizontal",
            "style": "IPY_MODEL_b033188568e540e3819c728d8e5dd619",
            "value": 200
          }
        },
        "b728ba5fbc394d769b5f485af3681e56": {
          "model_module": "@jupyter-widgets/controls",
          "model_name": "HTMLModel",
          "model_module_version": "1.5.0",
          "state": {
            "_dom_classes": [],
            "_model_module": "@jupyter-widgets/controls",
            "_model_module_version": "1.5.0",
            "_model_name": "HTMLModel",
            "_view_count": null,
            "_view_module": "@jupyter-widgets/controls",
            "_view_module_version": "1.5.0",
            "_view_name": "HTMLView",
            "description": "",
            "description_tooltip": null,
            "layout": "IPY_MODEL_5aec1cfde66047278e1b4d3e32f6a0fd",
            "placeholder": "​",
            "style": "IPY_MODEL_1e763dc69a994cbd817b7a814e7b1b5e",
            "value": " 200/200 [00:16&lt;00:00,  8.78it/s]"
          }
        },
        "895c1f00a6a842e183cdd823897d6cdf": {
          "model_module": "@jupyter-widgets/base",
          "model_name": "LayoutModel",
          "model_module_version": "1.2.0",
          "state": {
            "_model_module": "@jupyter-widgets/base",
            "_model_module_version": "1.2.0",
            "_model_name": "LayoutModel",
            "_view_count": null,
            "_view_module": "@jupyter-widgets/base",
            "_view_module_version": "1.2.0",
            "_view_name": "LayoutView",
            "align_content": null,
            "align_items": null,
            "align_self": null,
            "border": null,
            "bottom": null,
            "display": null,
            "flex": null,
            "flex_flow": null,
            "grid_area": null,
            "grid_auto_columns": null,
            "grid_auto_flow": null,
            "grid_auto_rows": null,
            "grid_column": null,
            "grid_gap": null,
            "grid_row": null,
            "grid_template_areas": null,
            "grid_template_columns": null,
            "grid_template_rows": null,
            "height": null,
            "justify_content": null,
            "justify_items": null,
            "left": null,
            "margin": null,
            "max_height": null,
            "max_width": null,
            "min_height": null,
            "min_width": null,
            "object_fit": null,
            "object_position": null,
            "order": null,
            "overflow": null,
            "overflow_x": null,
            "overflow_y": null,
            "padding": null,
            "right": null,
            "top": null,
            "visibility": null,
            "width": null
          }
        },
        "9d280694d19d41e89b3f7b577d156917": {
          "model_module": "@jupyter-widgets/base",
          "model_name": "LayoutModel",
          "model_module_version": "1.2.0",
          "state": {
            "_model_module": "@jupyter-widgets/base",
            "_model_module_version": "1.2.0",
            "_model_name": "LayoutModel",
            "_view_count": null,
            "_view_module": "@jupyter-widgets/base",
            "_view_module_version": "1.2.0",
            "_view_name": "LayoutView",
            "align_content": null,
            "align_items": null,
            "align_self": null,
            "border": null,
            "bottom": null,
            "display": null,
            "flex": null,
            "flex_flow": null,
            "grid_area": null,
            "grid_auto_columns": null,
            "grid_auto_flow": null,
            "grid_auto_rows": null,
            "grid_column": null,
            "grid_gap": null,
            "grid_row": null,
            "grid_template_areas": null,
            "grid_template_columns": null,
            "grid_template_rows": null,
            "height": null,
            "justify_content": null,
            "justify_items": null,
            "left": null,
            "margin": null,
            "max_height": null,
            "max_width": null,
            "min_height": null,
            "min_width": null,
            "object_fit": null,
            "object_position": null,
            "order": null,
            "overflow": null,
            "overflow_x": null,
            "overflow_y": null,
            "padding": null,
            "right": null,
            "top": null,
            "visibility": null,
            "width": null
          }
        },
        "aa4a101dd882442cb122c59aeafe2f80": {
          "model_module": "@jupyter-widgets/controls",
          "model_name": "DescriptionStyleModel",
          "model_module_version": "1.5.0",
          "state": {
            "_model_module": "@jupyter-widgets/controls",
            "_model_module_version": "1.5.0",
            "_model_name": "DescriptionStyleModel",
            "_view_count": null,
            "_view_module": "@jupyter-widgets/base",
            "_view_module_version": "1.2.0",
            "_view_name": "StyleView",
            "description_width": ""
          }
        },
        "84cedda30c6e4d22a133d46d462ca252": {
          "model_module": "@jupyter-widgets/base",
          "model_name": "LayoutModel",
          "model_module_version": "1.2.0",
          "state": {
            "_model_module": "@jupyter-widgets/base",
            "_model_module_version": "1.2.0",
            "_model_name": "LayoutModel",
            "_view_count": null,
            "_view_module": "@jupyter-widgets/base",
            "_view_module_version": "1.2.0",
            "_view_name": "LayoutView",
            "align_content": null,
            "align_items": null,
            "align_self": null,
            "border": null,
            "bottom": null,
            "display": null,
            "flex": null,
            "flex_flow": null,
            "grid_area": null,
            "grid_auto_columns": null,
            "grid_auto_flow": null,
            "grid_auto_rows": null,
            "grid_column": null,
            "grid_gap": null,
            "grid_row": null,
            "grid_template_areas": null,
            "grid_template_columns": null,
            "grid_template_rows": null,
            "height": null,
            "justify_content": null,
            "justify_items": null,
            "left": null,
            "margin": null,
            "max_height": null,
            "max_width": null,
            "min_height": null,
            "min_width": null,
            "object_fit": null,
            "object_position": null,
            "order": null,
            "overflow": null,
            "overflow_x": null,
            "overflow_y": null,
            "padding": null,
            "right": null,
            "top": null,
            "visibility": null,
            "width": null
          }
        },
        "b033188568e540e3819c728d8e5dd619": {
          "model_module": "@jupyter-widgets/controls",
          "model_name": "ProgressStyleModel",
          "model_module_version": "1.5.0",
          "state": {
            "_model_module": "@jupyter-widgets/controls",
            "_model_module_version": "1.5.0",
            "_model_name": "ProgressStyleModel",
            "_view_count": null,
            "_view_module": "@jupyter-widgets/base",
            "_view_module_version": "1.2.0",
            "_view_name": "StyleView",
            "bar_color": null,
            "description_width": ""
          }
        },
        "5aec1cfde66047278e1b4d3e32f6a0fd": {
          "model_module": "@jupyter-widgets/base",
          "model_name": "LayoutModel",
          "model_module_version": "1.2.0",
          "state": {
            "_model_module": "@jupyter-widgets/base",
            "_model_module_version": "1.2.0",
            "_model_name": "LayoutModel",
            "_view_count": null,
            "_view_module": "@jupyter-widgets/base",
            "_view_module_version": "1.2.0",
            "_view_name": "LayoutView",
            "align_content": null,
            "align_items": null,
            "align_self": null,
            "border": null,
            "bottom": null,
            "display": null,
            "flex": null,
            "flex_flow": null,
            "grid_area": null,
            "grid_auto_columns": null,
            "grid_auto_flow": null,
            "grid_auto_rows": null,
            "grid_column": null,
            "grid_gap": null,
            "grid_row": null,
            "grid_template_areas": null,
            "grid_template_columns": null,
            "grid_template_rows": null,
            "height": null,
            "justify_content": null,
            "justify_items": null,
            "left": null,
            "margin": null,
            "max_height": null,
            "max_width": null,
            "min_height": null,
            "min_width": null,
            "object_fit": null,
            "object_position": null,
            "order": null,
            "overflow": null,
            "overflow_x": null,
            "overflow_y": null,
            "padding": null,
            "right": null,
            "top": null,
            "visibility": null,
            "width": null
          }
        },
        "1e763dc69a994cbd817b7a814e7b1b5e": {
          "model_module": "@jupyter-widgets/controls",
          "model_name": "DescriptionStyleModel",
          "model_module_version": "1.5.0",
          "state": {
            "_model_module": "@jupyter-widgets/controls",
            "_model_module_version": "1.5.0",
            "_model_name": "DescriptionStyleModel",
            "_view_count": null,
            "_view_module": "@jupyter-widgets/base",
            "_view_module_version": "1.2.0",
            "_view_name": "StyleView",
            "description_width": ""
          }
        }
      }
    }
  },
  "nbformat": 4,
  "nbformat_minor": 0
}