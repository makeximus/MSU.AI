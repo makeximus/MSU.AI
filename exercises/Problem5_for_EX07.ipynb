{
  "nbformat": 4,
  "nbformat_minor": 0,
  "metadata": {
    "colab": {
      "provenance": [],
      "gpuType": "T4"
    },
    "kernelspec": {
      "name": "python3",
      "display_name": "Python 3"
    },
    "language_info": {
      "name": "python"
    },
    "accelerator": "GPU",
    "widgets": {
      "application/vnd.jupyter.widget-state+json": {
        "1e626eb2a7a14b58b0d9d90572daf809": {
          "model_module": "@jupyter-widgets/controls",
          "model_name": "HBoxModel",
          "model_module_version": "1.5.0",
          "state": {
            "_dom_classes": [],
            "_model_module": "@jupyter-widgets/controls",
            "_model_module_version": "1.5.0",
            "_model_name": "HBoxModel",
            "_view_count": null,
            "_view_module": "@jupyter-widgets/controls",
            "_view_module_version": "1.5.0",
            "_view_name": "HBoxView",
            "box_style": "",
            "children": [
              "IPY_MODEL_b868a5e366184dfcb41c234b17e9b6f5",
              "IPY_MODEL_9d33254edbcc446687261ecc6f5a1957",
              "IPY_MODEL_1597904391f24e1ca2591888f488bbb2"
            ],
            "layout": "IPY_MODEL_b1fb2e4bb144453b887a5b5dbc47810f"
          }
        },
        "b868a5e366184dfcb41c234b17e9b6f5": {
          "model_module": "@jupyter-widgets/controls",
          "model_name": "HTMLModel",
          "model_module_version": "1.5.0",
          "state": {
            "_dom_classes": [],
            "_model_module": "@jupyter-widgets/controls",
            "_model_module_version": "1.5.0",
            "_model_name": "HTMLModel",
            "_view_count": null,
            "_view_module": "@jupyter-widgets/controls",
            "_view_module_version": "1.5.0",
            "_view_name": "HTMLView",
            "description": "",
            "description_tooltip": null,
            "layout": "IPY_MODEL_460b198dbb0d4153a82f812fd9edc521",
            "placeholder": "​",
            "style": "IPY_MODEL_83a366d012d745e49ae38415f6082458",
            "value": "100%"
          }
        },
        "9d33254edbcc446687261ecc6f5a1957": {
          "model_module": "@jupyter-widgets/controls",
          "model_name": "FloatProgressModel",
          "model_module_version": "1.5.0",
          "state": {
            "_dom_classes": [],
            "_model_module": "@jupyter-widgets/controls",
            "_model_module_version": "1.5.0",
            "_model_name": "FloatProgressModel",
            "_view_count": null,
            "_view_module": "@jupyter-widgets/controls",
            "_view_module_version": "1.5.0",
            "_view_name": "ProgressView",
            "bar_style": "success",
            "description": "",
            "description_tooltip": null,
            "layout": "IPY_MODEL_98d8c80f031d48409763d48345e8b95d",
            "max": 20,
            "min": 0,
            "orientation": "horizontal",
            "style": "IPY_MODEL_17e4d2a652b747a0bf3553cb5716f9df",
            "value": 20
          }
        },
        "1597904391f24e1ca2591888f488bbb2": {
          "model_module": "@jupyter-widgets/controls",
          "model_name": "HTMLModel",
          "model_module_version": "1.5.0",
          "state": {
            "_dom_classes": [],
            "_model_module": "@jupyter-widgets/controls",
            "_model_module_version": "1.5.0",
            "_model_name": "HTMLModel",
            "_view_count": null,
            "_view_module": "@jupyter-widgets/controls",
            "_view_module_version": "1.5.0",
            "_view_name": "HTMLView",
            "description": "",
            "description_tooltip": null,
            "layout": "IPY_MODEL_8e833304f6b4473bac420f31f045ed81",
            "placeholder": "​",
            "style": "IPY_MODEL_521a49a33fd04d30887237b7908c44b7",
            "value": " 20/20 [06:47&lt;00:00, 20.14s/it]"
          }
        },
        "b1fb2e4bb144453b887a5b5dbc47810f": {
          "model_module": "@jupyter-widgets/base",
          "model_name": "LayoutModel",
          "model_module_version": "1.2.0",
          "state": {
            "_model_module": "@jupyter-widgets/base",
            "_model_module_version": "1.2.0",
            "_model_name": "LayoutModel",
            "_view_count": null,
            "_view_module": "@jupyter-widgets/base",
            "_view_module_version": "1.2.0",
            "_view_name": "LayoutView",
            "align_content": null,
            "align_items": null,
            "align_self": null,
            "border": null,
            "bottom": null,
            "display": null,
            "flex": null,
            "flex_flow": null,
            "grid_area": null,
            "grid_auto_columns": null,
            "grid_auto_flow": null,
            "grid_auto_rows": null,
            "grid_column": null,
            "grid_gap": null,
            "grid_row": null,
            "grid_template_areas": null,
            "grid_template_columns": null,
            "grid_template_rows": null,
            "height": null,
            "justify_content": null,
            "justify_items": null,
            "left": null,
            "margin": null,
            "max_height": null,
            "max_width": null,
            "min_height": null,
            "min_width": null,
            "object_fit": null,
            "object_position": null,
            "order": null,
            "overflow": null,
            "overflow_x": null,
            "overflow_y": null,
            "padding": null,
            "right": null,
            "top": null,
            "visibility": null,
            "width": null
          }
        },
        "460b198dbb0d4153a82f812fd9edc521": {
          "model_module": "@jupyter-widgets/base",
          "model_name": "LayoutModel",
          "model_module_version": "1.2.0",
          "state": {
            "_model_module": "@jupyter-widgets/base",
            "_model_module_version": "1.2.0",
            "_model_name": "LayoutModel",
            "_view_count": null,
            "_view_module": "@jupyter-widgets/base",
            "_view_module_version": "1.2.0",
            "_view_name": "LayoutView",
            "align_content": null,
            "align_items": null,
            "align_self": null,
            "border": null,
            "bottom": null,
            "display": null,
            "flex": null,
            "flex_flow": null,
            "grid_area": null,
            "grid_auto_columns": null,
            "grid_auto_flow": null,
            "grid_auto_rows": null,
            "grid_column": null,
            "grid_gap": null,
            "grid_row": null,
            "grid_template_areas": null,
            "grid_template_columns": null,
            "grid_template_rows": null,
            "height": null,
            "justify_content": null,
            "justify_items": null,
            "left": null,
            "margin": null,
            "max_height": null,
            "max_width": null,
            "min_height": null,
            "min_width": null,
            "object_fit": null,
            "object_position": null,
            "order": null,
            "overflow": null,
            "overflow_x": null,
            "overflow_y": null,
            "padding": null,
            "right": null,
            "top": null,
            "visibility": null,
            "width": null
          }
        },
        "83a366d012d745e49ae38415f6082458": {
          "model_module": "@jupyter-widgets/controls",
          "model_name": "DescriptionStyleModel",
          "model_module_version": "1.5.0",
          "state": {
            "_model_module": "@jupyter-widgets/controls",
            "_model_module_version": "1.5.0",
            "_model_name": "DescriptionStyleModel",
            "_view_count": null,
            "_view_module": "@jupyter-widgets/base",
            "_view_module_version": "1.2.0",
            "_view_name": "StyleView",
            "description_width": ""
          }
        },
        "98d8c80f031d48409763d48345e8b95d": {
          "model_module": "@jupyter-widgets/base",
          "model_name": "LayoutModel",
          "model_module_version": "1.2.0",
          "state": {
            "_model_module": "@jupyter-widgets/base",
            "_model_module_version": "1.2.0",
            "_model_name": "LayoutModel",
            "_view_count": null,
            "_view_module": "@jupyter-widgets/base",
            "_view_module_version": "1.2.0",
            "_view_name": "LayoutView",
            "align_content": null,
            "align_items": null,
            "align_self": null,
            "border": null,
            "bottom": null,
            "display": null,
            "flex": null,
            "flex_flow": null,
            "grid_area": null,
            "grid_auto_columns": null,
            "grid_auto_flow": null,
            "grid_auto_rows": null,
            "grid_column": null,
            "grid_gap": null,
            "grid_row": null,
            "grid_template_areas": null,
            "grid_template_columns": null,
            "grid_template_rows": null,
            "height": null,
            "justify_content": null,
            "justify_items": null,
            "left": null,
            "margin": null,
            "max_height": null,
            "max_width": null,
            "min_height": null,
            "min_width": null,
            "object_fit": null,
            "object_position": null,
            "order": null,
            "overflow": null,
            "overflow_x": null,
            "overflow_y": null,
            "padding": null,
            "right": null,
            "top": null,
            "visibility": null,
            "width": null
          }
        },
        "17e4d2a652b747a0bf3553cb5716f9df": {
          "model_module": "@jupyter-widgets/controls",
          "model_name": "ProgressStyleModel",
          "model_module_version": "1.5.0",
          "state": {
            "_model_module": "@jupyter-widgets/controls",
            "_model_module_version": "1.5.0",
            "_model_name": "ProgressStyleModel",
            "_view_count": null,
            "_view_module": "@jupyter-widgets/base",
            "_view_module_version": "1.2.0",
            "_view_name": "StyleView",
            "bar_color": null,
            "description_width": ""
          }
        },
        "8e833304f6b4473bac420f31f045ed81": {
          "model_module": "@jupyter-widgets/base",
          "model_name": "LayoutModel",
          "model_module_version": "1.2.0",
          "state": {
            "_model_module": "@jupyter-widgets/base",
            "_model_module_version": "1.2.0",
            "_model_name": "LayoutModel",
            "_view_count": null,
            "_view_module": "@jupyter-widgets/base",
            "_view_module_version": "1.2.0",
            "_view_name": "LayoutView",
            "align_content": null,
            "align_items": null,
            "align_self": null,
            "border": null,
            "bottom": null,
            "display": null,
            "flex": null,
            "flex_flow": null,
            "grid_area": null,
            "grid_auto_columns": null,
            "grid_auto_flow": null,
            "grid_auto_rows": null,
            "grid_column": null,
            "grid_gap": null,
            "grid_row": null,
            "grid_template_areas": null,
            "grid_template_columns": null,
            "grid_template_rows": null,
            "height": null,
            "justify_content": null,
            "justify_items": null,
            "left": null,
            "margin": null,
            "max_height": null,
            "max_width": null,
            "min_height": null,
            "min_width": null,
            "object_fit": null,
            "object_position": null,
            "order": null,
            "overflow": null,
            "overflow_x": null,
            "overflow_y": null,
            "padding": null,
            "right": null,
            "top": null,
            "visibility": null,
            "width": null
          }
        },
        "521a49a33fd04d30887237b7908c44b7": {
          "model_module": "@jupyter-widgets/controls",
          "model_name": "DescriptionStyleModel",
          "model_module_version": "1.5.0",
          "state": {
            "_model_module": "@jupyter-widgets/controls",
            "_model_module_version": "1.5.0",
            "_model_name": "DescriptionStyleModel",
            "_view_count": null,
            "_view_module": "@jupyter-widgets/base",
            "_view_module_version": "1.2.0",
            "_view_name": "StyleView",
            "description_width": ""
          }
        }
      }
    }
  },
  "cells": [
    {
      "cell_type": "code",
      "execution_count": 1,
      "metadata": {
        "id": "IzvoJeBlc55Z"
      },
      "outputs": [],
      "source": [
        "import random\n",
        "import torch\n",
        "import numpy as np\n",
        "import torch.nn as nn\n",
        "import torch.optim as optim\n",
        "device = torch.device(\"cuda\" if torch.cuda.is_available() else \"cpu\")\n",
        "\n",
        "def set_random_seed(seed):\n",
        "    torch.manual_seed(seed)\n",
        "    torch.cuda.manual_seed(seed)\n",
        "    np.random.seed(seed)\n",
        "    random.seed(seed)\n",
        "\n",
        "\n",
        "set_random_seed(42)"
      ]
    },
    {
      "cell_type": "markdown",
      "metadata": {
        "jp-MarkdownHeadingCollapsed": true,
        "id": "uAXy3sULc55d"
      },
      "source": [
        "# Задание 5. Глубокая сеть"
      ]
    },
    {
      "cell_type": "markdown",
      "metadata": {
        "id": "4OV0Qii2c55d"
      },
      "source": [
        "Опишите сверточную архитектуру для классификации CIFAR10. Доведите в ней число общее число слоев минимум до 9  (под слоем понимается `nn.Conv2d` или `nn.Linear`). Используйте правильную инициализацию весов, [BatchNorm](https://pytorch.org/docs/stable/generated/torch.nn.BatchNorm2d.html?highlight=batchnorm#torch.nn.BatchNorm2d) между слоями и другие техники улучшения сходимости обсуждавшиеся в лекции.\n",
        "\n",
        "* Обучитете модель на датасете CIFAR10.\n",
        "* Отладку рекомендуем проводить на фрагменте датасета.\n",
        "* Оцените точность классификации на полном датасете.\n",
        "* Сравните точность с результатами полученными на прошлом занятии.\n",
        "\n",
        "Совет: не делайте больше 2-3 линейных слоев."
      ]
    },
    {
      "cell_type": "markdown",
      "metadata": {
        "id": "vk7n4srTc55d"
      },
      "source": [
        "Загрузим CIFAR10"
      ]
    },
    {
      "cell_type": "code",
      "execution_count": 2,
      "metadata": {
        "id": "IHuKXbzFc55h",
        "colab": {
          "base_uri": "https://localhost:8080/"
        },
        "outputId": "57c50756-525c-4ce6-d809-38374d9936b3"
      },
      "outputs": [
        {
          "output_type": "stream",
          "name": "stdout",
          "text": [
            "Downloading https://www.cs.toronto.edu/~kriz/cifar-10-python.tar.gz to CIFAR10/cifar-10-python.tar.gz\n"
          ]
        },
        {
          "output_type": "stream",
          "name": "stderr",
          "text": [
            "100%|██████████| 170498071/170498071 [00:01<00:00, 86307991.13it/s]\n"
          ]
        },
        {
          "output_type": "stream",
          "name": "stdout",
          "text": [
            "Extracting CIFAR10/cifar-10-python.tar.gz to CIFAR10\n",
            "Files already downloaded and verified\n"
          ]
        }
      ],
      "source": [
        "import torchvision\n",
        "from torch.utils.data import DataLoader\n",
        "from torchvision.datasets import CIFAR10\n",
        "\n",
        "transform = torchvision.transforms.Compose(\n",
        "    [\n",
        "        torchvision.transforms.ToTensor(),\n",
        "        torchvision.transforms.Normalize(\n",
        "            [0.4914, 0.4822, 0.4465], [0.2470, 0.2434, 0.2615]\n",
        "        ),\n",
        "    ]\n",
        ")\n",
        "\n",
        "cifar = CIFAR10(root=\"CIFAR10\", train=True, download=True, transform=transform)\n",
        "cifat_test = CIFAR10(root=\"CIFAR10\", train=False, download=True, transform=transform)\n",
        "\n",
        "(\n",
        "    train_set_cifar,\n",
        "    val_set_cifar\n",
        ") = torch.utils.data.random_split(cifar, [45000, 5000])\n",
        "\n",
        "batch_size = 64\n",
        "\n",
        "train_loader = DataLoader(\n",
        "    train_set_cifar, batch_size=batch_size, shuffle=True, num_workers=2\n",
        ")\n",
        "val_loader = DataLoader(\n",
        "    val_set_cifar, batch_size=batch_size, shuffle=False, num_workers=2\n",
        ")\n",
        "test_loader = DataLoader(\n",
        "    cifat_test, batch_size=batch_size, shuffle=False, num_workers=2\n",
        ")"
      ]
    },
    {
      "cell_type": "code",
      "execution_count": 29,
      "metadata": {
        "id": "Tnnw6Lvg9dWP"
      },
      "outputs": [],
      "source": [
        "class CifarCNN(nn.Module):\n",
        "    def __init__(self):\n",
        "        super().__init__()\n",
        "        #self.flatten = nn.Flatten()\n",
        "        self.layers_stack = nn.Sequential(\n",
        "            nn.Conv2d(\n",
        "            in_channels=3, out_channels=6, kernel_size=5, padding=1\n",
        "            ),\n",
        "            nn.BatchNorm2d(6),\n",
        "            nn.ReLU(),\n",
        "            nn.Conv2d(\n",
        "            in_channels=6, out_channels=16, kernel_size=5, padding=1\n",
        "            ),\n",
        "            nn.BatchNorm2d(16),\n",
        "            nn.ReLU(),\n",
        "            nn.MaxPool2d(kernel_size=2, stride=2),\n",
        "            nn.ReLU(),\n",
        "            nn.Conv2d(\n",
        "            in_channels=16, out_channels=32, kernel_size=5, padding=1\n",
        "            ),\n",
        "            nn.BatchNorm2d(32),\n",
        "            nn.ReLU(),\n",
        "            nn.Conv2d(\n",
        "            in_channels=32, out_channels=64, kernel_size=5, padding=1\n",
        "            ),\n",
        "            nn.BatchNorm2d(64),\n",
        "            nn.ReLU(),\n",
        "            nn.MaxPool2d(kernel_size=2, stride=2),\n",
        "            nn.ReLU(),\n",
        "            nn.Conv2d(\n",
        "            in_channels=64, out_channels=128, kernel_size=5, padding=1\n",
        "            ),\n",
        "            nn.BatchNorm2d(128),\n",
        "            nn.Dropout(p=0.3),\n",
        "            nn.ReLU(),\n",
        "            nn.Conv2d(\n",
        "            in_channels=128, out_channels=256, kernel_size=3, padding=1\n",
        "            ),\n",
        "            nn.Dropout(p=0.3),\n",
        "            nn.ReLU(),\n",
        "            nn.MaxPool2d(kernel_size=2, stride=2),\n",
        "            nn.ReLU(),\n",
        "            nn.Flatten(),\n",
        "            nn.Linear(256, 64),\n",
        "            nn.Dropout(p=0.3),\n",
        "            nn.ReLU(),\n",
        "            nn.Linear(64, 32),\n",
        "            nn.BatchNorm1d(32),\n",
        "            nn.ReLU(),\n",
        "            nn.Linear(32, 10),\n",
        "            )\n",
        "\n",
        "    def forward(self, x):\n",
        "        # Your code here\n",
        "        scores = self.layers_stack(x)\n",
        "        return scores"
      ]
    },
    {
      "cell_type": "code",
      "execution_count": 19,
      "metadata": {
        "id": "mkWqi3ZJ_dy9"
      },
      "outputs": [],
      "source": [
        "from IPython.display import clear_output\n",
        "from collections import defaultdict\n",
        "import matplotlib.pyplot as plt\n",
        "import numpy as np\n",
        "\n",
        "\n",
        "class ProgressPlotter:\n",
        "    \"\"\"\n",
        "    Groups contain a list of variables to output, like [\"loss\", \"accuracy\"]\n",
        "    If group is None all variables will be plotted\n",
        "\n",
        "    Title is expariment_id like \"Relu_Adam_lr003\"\n",
        "    All new collected data binded to current title\n",
        "    \"\"\"\n",
        "\n",
        "    def __init__(self, title=\"default\", groups=None) -> None:\n",
        "        self._history_dict = defaultdict(dict)\n",
        "        self.set_title(title)\n",
        "        self.groups = self.get_groups(groups)\n",
        "\n",
        "    def get_groups(self, groups):\n",
        "        if groups is not None:\n",
        "            return self._history_dict.keys()\n",
        "        if type(groups) is str:\n",
        "            groups = [groups]\n",
        "        return groups\n",
        "\n",
        "    def set_title(self, title):\n",
        "        for g in self._history_dict.keys():\n",
        "            self._history_dict[g][title] = []  # reset data\n",
        "        self.title = title\n",
        "\n",
        "    # group e.g. \"loss_val\" tag e.g. \"experiment_1\"\n",
        "    def add_scalar(self, group: str, value, tag=None) -> None:\n",
        "        tag = self.title if tag is None else tag\n",
        "\n",
        "        if not tag in self._history_dict[group]:\n",
        "            self._history_dict[group][tag] = []\n",
        "        self._history_dict[group][tag].append(value)\n",
        "\n",
        "    def add_row(self, group: str, value, tag=None) -> None:\n",
        "        tag = self.title if tag is None else tag\n",
        "        self._history_dict[group][tag] = value\n",
        "\n",
        "    def display_keys(self, ax, data):\n",
        "        history_len = 0\n",
        "        ax.grid()\n",
        "        for key in data:\n",
        "            ax.plot(data[key], label=key)\n",
        "            history_len = max(history_len, len(data[key]))\n",
        "            if len(data) > 1:\n",
        "                ax.legend(loc=\"upper right\")\n",
        "            if history_len < 50:\n",
        "                ax.set_xlabel(\"step\")\n",
        "                ax.set_xticks(np.arange(history_len))\n",
        "                ax.set_xticklabels(np.arange(history_len))\n",
        "\n",
        "    def display(self, groups=None):\n",
        "        clear_output()\n",
        "        if groups is None:\n",
        "            groups = self.groups\n",
        "        n_groups = len(groups)\n",
        "        fig, ax = plt.subplots(1, n_groups, figsize=(48 // n_groups, 3))\n",
        "        if n_groups == 1:\n",
        "            ax = [ax]\n",
        "        for i, g in enumerate(groups):\n",
        "            ax[i].set_ylabel(g)\n",
        "            self.display_keys(ax[i], self.history_dict[g])\n",
        "        fig.tight_layout()\n",
        "        plt.show()\n",
        "\n",
        "    @property\n",
        "    def history_dict(self):\n",
        "        return dict(self._history_dict)"
      ]
    },
    {
      "cell_type": "code",
      "execution_count": 4,
      "metadata": {
        "id": "M_mtHb6cil30"
      },
      "outputs": [],
      "source": [
        "# compute on cpu or gpu\n",
        "device = torch.device(\"cuda\" if torch.cuda.is_available() else \"cpu\")\n",
        "\n",
        "import torch\n",
        "\n",
        "def get_correct_count(pred, labels):\n",
        "  _, predicted = torch.max(pred.data, 1)\n",
        "  return (predicted.cpu() == labels.cpu()).sum().item()\n",
        "\n",
        "@torch.inference_mode()\n",
        "def calculate_accuracy(model, data_loader, criterion, device):\n",
        "    correct, total = 0, 0\n",
        "    loss = 0\n",
        "    for batch in data_loader:\n",
        "        imgs, labels = batch\n",
        "        pred = model(imgs.to(device))\n",
        "        loss += criterion(pred, labels.to(device))\n",
        "        correct += get_correct_count(pred, labels.to(device))\n",
        "        total += labels.size(0)\n",
        "\n",
        "    return correct / total , loss.item() / len(data_loader)\n",
        "\n",
        "def train_epoch(model, optimizer, criterion, train_loader):\n",
        "    loss_history = []\n",
        "    for batch in train_loader:\n",
        "        optimizer.zero_grad()\n",
        "        x_train, y_train = batch  # parse data\n",
        "        x_train, y_train = x_train.to(device), y_train.to(device)  # compute on gpu\n",
        "        y_pred = model(x_train)  # get predictions\n",
        "        loss = criterion(y_pred, y_train)  # compute loss\n",
        "        loss_history.append(loss.cpu().detach().item())  # write loss to log\n",
        "        loss.backward()\n",
        "        optimizer.step()\n",
        "    return loss_history"
      ]
    },
    {
      "cell_type": "code",
      "execution_count": 5,
      "metadata": {
        "id": "tEYwyIiFil31"
      },
      "outputs": [],
      "source": [
        "def validate(model, criterion, val_loader):\n",
        "    cumloss = 0\n",
        "    loss_history = []\n",
        "    with torch.no_grad():\n",
        "        for batch in val_loader:\n",
        "            x_train, y_train = batch  # parse data\n",
        "            x_train, y_train = x_train.to(device), y_train.to(device)  # compute on gpu\n",
        "            y_pred = model(x_train)  # get predictions\n",
        "            loss = criterion(y_pred, y_train)  # compute loss\n",
        "            loss_history.append(loss.cpu().detach().item())  # write loss to log\n",
        "            cumloss += loss\n",
        "    return cumloss / len(val_loader), loss_history  # mean loss and history"
      ]
    },
    {
      "cell_type": "code",
      "source": [
        "from tqdm.notebook import tqdm\n",
        "\n",
        "\n",
        "def train_model(model, optimizer, model_name=None, num_epochs=20):\n",
        "    criterion = nn.CrossEntropyLoss().to(device)\n",
        "\n",
        "    train_history = {}\n",
        "    train_history[\"model_name\"] = model_name\n",
        "    train_history[\"epoсhs\"] = num_epochs\n",
        "    train_history[\"loss_on_train\"] = []\n",
        "    train_history[\"loss_on_test\"] = []\n",
        "    train_history[\"accuracy\"] = []\n",
        "\n",
        "    for epoch in tqdm(range(num_epochs)):\n",
        "        loss_on_train = train_epoch(model, optimizer, criterion, train_loader)\n",
        "        _, loss_on_test = validate(model, criterion, test_loader)\n",
        "        train_history[\"loss_on_train\"].extend(loss_on_train)\n",
        "        train_history[\"loss_on_test\"].extend(loss_on_test)\n",
        "        accuracy, loss_val = calculate_accuracy(model, val_loader, criterion, device)\n",
        "        train_history[\"accuracy\"].append(accuracy)\n",
        "    return train_history"
      ],
      "metadata": {
        "id": "oYiYllbMmWvL"
      },
      "execution_count": 6,
      "outputs": []
    },
    {
      "cell_type": "code",
      "source": [
        "model_cifar = CifarCNN().to(device)\n",
        "def init_weights_kaiming(m):\n",
        "  if type(m) == nn.Conv2d or type(m) == nn.Linear:\n",
        "    torch.nn.init.kaiming_normal_(m.weight, nonlinearity='relu')\n",
        "model_cifar.apply(init_weights_kaiming)\n",
        "optimizer = optim.Adam(model_cifar.parameters(), lr=1e-3)\n",
        "Adam_model_cifar = train_model(model_cifar, optimizer, model_name=\"Adam_model_cifar\")"
      ],
      "metadata": {
        "id": "gBYbkMFa0TGM",
        "colab": {
          "base_uri": "https://localhost:8080/",
          "height": 49,
          "referenced_widgets": [
            "1e626eb2a7a14b58b0d9d90572daf809",
            "b868a5e366184dfcb41c234b17e9b6f5",
            "9d33254edbcc446687261ecc6f5a1957",
            "1597904391f24e1ca2591888f488bbb2",
            "b1fb2e4bb144453b887a5b5dbc47810f",
            "460b198dbb0d4153a82f812fd9edc521",
            "83a366d012d745e49ae38415f6082458",
            "98d8c80f031d48409763d48345e8b95d",
            "17e4d2a652b747a0bf3553cb5716f9df",
            "8e833304f6b4473bac420f31f045ed81",
            "521a49a33fd04d30887237b7908c44b7"
          ]
        },
        "outputId": "02357cf1-0e51-4ca9-d4fc-5d1575adf3b4"
      },
      "execution_count": 35,
      "outputs": [
        {
          "output_type": "display_data",
          "data": {
            "text/plain": [
              "  0%|          | 0/20 [00:00<?, ?it/s]"
            ],
            "application/vnd.jupyter.widget-view+json": {
              "version_major": 2,
              "version_minor": 0,
              "model_id": "1e626eb2a7a14b58b0d9d90572daf809"
            }
          },
          "metadata": {}
        }
      ]
    },
    {
      "cell_type": "code",
      "source": [
        "pplotter = ProgressPlotter()\n",
        "pplotter.set_title('SGD_momentum')\n",
        "for i in range(len(Adam_model_cifar['loss_on_train'])):\n",
        "    pplotter.add_scalar('loss/train', Adam_model_cifar['loss_on_train'][i])\n",
        "for i in range(len(Adam_model_cifar['accuracy'])):\n",
        "    pplotter.add_scalar('accuracy', Adam_model_cifar['accuracy'][i])\n",
        "pplotter.display(['loss/train', 'accuracy'])"
      ],
      "metadata": {
        "colab": {
          "base_uri": "https://localhost:8080/",
          "height": 182
        },
        "id": "TQ9j7-dWa7kK",
        "outputId": "99e560ad-8e98-4d75-eb78-8ee80dc549a6"
      },
      "execution_count": 40,
      "outputs": [
        {
          "output_type": "display_data",
          "data": {
            "text/plain": [
              "<Figure size 2400x300 with 2 Axes>"
            ],
            "image/png": "[encoded data removed]"
          },
          "metadata": {}
        }
      ]
    },
    {
      "cell_type": "code",
      "source": [
        "print('Accuracy, loss for test')\n",
        "calculate_accuracy(model_cifar, test_loader, nn.CrossEntropyLoss().to(device), device)"
      ],
      "metadata": {
        "colab": {
          "base_uri": "https://localhost:8080/"
        },
        "outputId": "8e5c07c5-1e5e-471c-a82a-5ca133287fbf",
        "id": "nLCeEv_QbjzW"
      },
      "execution_count": 42,
      "outputs": [
        {
          "output_type": "stream",
          "name": "stdout",
          "text": [
            "Accuracy, loss for test\n"
          ]
        },
        {
          "output_type": "execute_result",
          "data": {
            "text/plain": [
              "(0.7518, 0.9016608948920183)"
            ]
          },
          "metadata": {},
          "execution_count": 42
        }
      ]
    },
    {
      "cell_type": "markdown",
      "metadata": {
        "id": "7xhxT8_ec55h"
      },
      "source": [
        "## Формат результата\n",
        "\n",
        "* Графики loss и accuracy при обучении\n",
        "\n",
        "\n",
        "<img src =\"https://edunet.kea.su/repo/EduNet-web_dependencies/Exercises/EX07/result_1_task_5_ex07_v1.png\" width=\"1200\" >\n",
        "\n",
        "* Занчение accuracy на тесте должно составить не менее 0.72\n",
        "\n",
        "\n"
      ]
    },
    {
      "cell_type": "markdown",
      "source": [
        "**Вывод: добавление большего количества слоев, использование инициализации весов и dropout повышает качество модели. Правда, большое число сверточных слоев, как я понял, утяжеляет модель по памяти, и пришлось понавтыкать побольше слоев пулинга.**"
      ],
      "metadata": {
        "id": "7kQJreOKrU8D"
      }
    },
    {
      "cell_type": "code",
      "source": [],
      "metadata": {
        "id": "bsBoqf72rUC4"
      },
      "execution_count": null,
      "outputs": []
    }
  ]
}